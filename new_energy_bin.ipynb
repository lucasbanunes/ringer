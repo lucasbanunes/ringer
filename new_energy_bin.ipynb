{
 "cells": [
  {
   "cell_type": "code",
   "execution_count": 1,
   "metadata": {},
   "outputs": [],
   "source": [
    "import os\n",
    "from itertools import product\n",
    "import numpy as np"
   ]
  },
  {
   "cell_type": "code",
   "execution_count": 2,
   "metadata": {},
   "outputs": [],
   "source": [
    "old_ets = np.array([4])\n",
    "old_etas = np.array([0])\n",
    "et_key = 'L2Calo_et'\n",
    "eta_key = 'L2Calo_eta'\n",
    "dataset = 'data17_13TeV.AllPeriods.sgn.probes_lhmedium_EGAM1.bkg.VProbes_EGAM7.GRL_v97'\n",
    "#homepath = os.path.expanduser('~')\n",
    "homepath = 'E:\\\\data'\n",
    "datapath = os.path.join(homepath, dataset)\n",
    "filepath = os.path.join(datapath, dataset + '_et{et}_eta{eta}.npz')"
   ]
  },
  {
   "cell_type": "code",
   "execution_count": 3,
   "metadata": {},
   "outputs": [],
   "source": [
    "new_etbins = np.array([15, 20, 30, 40, 50, 100, 1e6])   #Gev\n",
    "new_etabins = np.array([0., 0.8, 1.37, 1.54, 2.37, 2.5])\n",
    "new_ets = np.arange(len(new_etbins)+1)\n",
    "new_dataset = 'new_bin_' + dataset\n",
    "new_datapath = os.path.join(homepath, new_dataset)\n",
    "new_filepath = os.path.join(new_datapath, new_dataset + '_et{et}_eta{eta}.npz')\n",
    "if not os.path.exists(new_datapath):\n",
    "    os.makedirs(new_datapath)"
   ]
  },
  {
   "cell_type": "code",
   "execution_count": 4,
   "metadata": {},
   "outputs": [
    {
     "name": "stdout",
     "output_type": "stream",
     "text": [
      "Reading et 4 eta 0\n",
      "Dumping et 4 eta 0 with 100000.0 Mev\n",
      "Dumping et 5 eta 0 with 100.0 Mev\n"
     ]
    }
   ],
   "source": [
    "for old_et, old_eta in product(old_ets, old_etas):\n",
    "    print(f'Reading et {old_et} eta {old_eta}')\n",
    "    data = dict(np.load(filepath.format(et=old_et, eta=old_eta)))\n",
    "    et_data_idx = np.where(data['features'] == et_key)[0][0]\n",
    "    eta_data_idx = np.where(data['features'] == eta_key)[0][0]\n",
    "\n",
    "    if old_et == 4:\n",
    "        for new_et, new_eta in product(np.array([4,5]), np.array([old_eta])):\n",
    "            if new_et == 4:\n",
    "                limit = new_etbins[new_et+1] * 1000     #Mev\n",
    "                selector = data['data'][:, et_data_idx] < limit\n",
    "            else:\n",
    "                limit = new_etbins[new_et] * 1000       #Mev\n",
    "                selector = data['data'][:, et_data_idx] >= limit\n",
    "            new_data = {\n",
    "                'features': data['features'],\n",
    "                'etBins': new_etbins,\n",
    "                'etaBins': new_etabins,\n",
    "                'etBinIdx': new_et,\n",
    "                'etaBinIdx': new_eta,\n",
    "                'data': data['data'][selector].copy(),\n",
    "                'target': data['target'][selector].copy()\n",
    "            }\n",
    "            print(f'Dumping et {new_et} eta {new_eta} with {limit} Mev')\n",
    "            np.savez(new_filepath.format(et=new_et, eta=new_eta), **new_data)\n",
    "    else:\n",
    "        print(f'Dumping et {old_et} eta {old_eta}')\n",
    "        new_data['etBins'] = new_etbins\n",
    "        np.savez(new_filepath.format(et=old_et, eta=old_eta))\n",
    "\n"
   ]
  },
  {
   "cell_type": "code",
   "execution_count": 5,
   "metadata": {},
   "outputs": [
    {
     "data": {
      "text/plain": [
       "dict_keys(['features', 'etBins', 'etaBins', 'etBinIdx', 'etaBinIdx', 'data', 'target'])"
      ]
     },
     "execution_count": 5,
     "metadata": {},
     "output_type": "execute_result"
    }
   ],
   "source": [
    "data.keys()"
   ]
  },
  {
   "cell_type": "code",
   "execution_count": 6,
   "metadata": {},
   "outputs": [
    {
     "data": {
      "text/plain": [
       "array([1.5e+01, 2.0e+01, 3.0e+01, 4.0e+01, 5.0e+01, 1.0e+06])"
      ]
     },
     "execution_count": 6,
     "metadata": {},
     "output_type": "execute_result"
    }
   ],
   "source": [
    "data['etBins']"
   ]
  }
 ],
 "metadata": {
  "kernelspec": {
   "display_name": "Python 3.6.13 ('ringer')",
   "language": "python",
   "name": "python3"
  },
  "language_info": {
   "codemirror_mode": {
    "name": "ipython",
    "version": 3
   },
   "file_extension": ".py",
   "mimetype": "text/x-python",
   "name": "python",
   "nbconvert_exporter": "python",
   "pygments_lexer": "ipython3",
   "version": "3.6.13"
  },
  "orig_nbformat": 4,
  "vscode": {
   "interpreter": {
    "hash": "4d5186b66615012f52b8137f305adb6c597d338e9831bd35459f67b9a609d039"
   }
  }
 },
 "nbformat": 4,
 "nbformat_minor": 2
}
