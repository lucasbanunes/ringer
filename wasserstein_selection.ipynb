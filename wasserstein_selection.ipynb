{
 "cells": [
  {
   "cell_type": "code",
   "execution_count": 1,
   "id": "3fe62378",
   "metadata": {},
   "outputs": [],
   "source": [
    "import os\n",
    "import numpy as np\n",
    "import pandas as pd\n",
    "from itertools import combinations"
   ]
  },
  {
   "cell_type": "code",
   "execution_count": 2,
   "id": "e5107002",
   "metadata": {},
   "outputs": [],
   "source": [
    "ratios = {\n",
    "    'ratio1': lambda x: (x['boosted_jet']-x['boosted_el'])/x['boosted_el'],\n",
    "    'ratio2': lambda x: (x['boosted_jet']-x['boosted_el'])/x['el_jet'],\n",
    "    'ratio3': lambda x: x['boosted_jet']-x['boosted_el']\n",
    "}"
   ]
  },
  {
   "cell_type": "code",
   "execution_count": 3,
   "id": "bd36083e",
   "metadata": {},
   "outputs": [
    {
     "data": {
      "text/html": [
       "<div>\n",
       "<style scoped>\n",
       "    .dataframe tbody tr th:only-of-type {\n",
       "        vertical-align: middle;\n",
       "    }\n",
       "\n",
       "    .dataframe tbody tr th {\n",
       "        vertical-align: top;\n",
       "    }\n",
       "\n",
       "    .dataframe thead th {\n",
       "        text-align: right;\n",
       "    }\n",
       "</style>\n",
       "<table border=\"1\" class=\"dataframe\">\n",
       "  <thead>\n",
       "    <tr style=\"text-align: right;\">\n",
       "      <th></th>\n",
       "      <th>name</th>\n",
       "      <th>boosted_el</th>\n",
       "      <th>boosted_jet</th>\n",
       "      <th>el_jet</th>\n",
       "      <th>description</th>\n",
       "      <th>ratio1</th>\n",
       "      <th>ratio2</th>\n",
       "      <th>ratio3</th>\n",
       "    </tr>\n",
       "  </thead>\n",
       "  <tbody>\n",
       "    <tr>\n",
       "      <th>0</th>\n",
       "      <td>reta</td>\n",
       "      <td>0.009634</td>\n",
       "      <td>0.112340</td>\n",
       "      <td>0.106335</td>\n",
       "      <td>fold_0</td>\n",
       "      <td>10.661268</td>\n",
       "      <td>0.965875</td>\n",
       "      <td>0.102706</td>\n",
       "    </tr>\n",
       "    <tr>\n",
       "      <th>1</th>\n",
       "      <td>eratio</td>\n",
       "      <td>0.030893</td>\n",
       "      <td>0.570198</td>\n",
       "      <td>0.540972</td>\n",
       "      <td>fold_0</td>\n",
       "      <td>17.457198</td>\n",
       "      <td>0.996918</td>\n",
       "      <td>0.539305</td>\n",
       "    </tr>\n",
       "    <tr>\n",
       "      <th>2</th>\n",
       "      <td>f1</td>\n",
       "      <td>0.168429</td>\n",
       "      <td>0.037788</td>\n",
       "      <td>0.131495</td>\n",
       "      <td>fold_0</td>\n",
       "      <td>-0.775644</td>\n",
       "      <td>-0.993509</td>\n",
       "      <td>-0.130641</td>\n",
       "    </tr>\n",
       "    <tr>\n",
       "      <th>3</th>\n",
       "      <td>f3</td>\n",
       "      <td>0.005357</td>\n",
       "      <td>0.007369</td>\n",
       "      <td>0.012707</td>\n",
       "      <td>fold_0</td>\n",
       "      <td>0.375631</td>\n",
       "      <td>0.158364</td>\n",
       "      <td>0.002012</td>\n",
       "    </tr>\n",
       "    <tr>\n",
       "      <th>4</th>\n",
       "      <td>wstot</td>\n",
       "      <td>0.168632</td>\n",
       "      <td>2.870422</td>\n",
       "      <td>2.806875</td>\n",
       "      <td>fold_0</td>\n",
       "      <td>16.021842</td>\n",
       "      <td>0.962562</td>\n",
       "      <td>2.701790</td>\n",
       "    </tr>\n",
       "    <tr>\n",
       "      <th>5</th>\n",
       "      <td>weta2</td>\n",
       "      <td>0.000888</td>\n",
       "      <td>0.004230</td>\n",
       "      <td>0.003354</td>\n",
       "      <td>fold_0</td>\n",
       "      <td>3.766014</td>\n",
       "      <td>0.996634</td>\n",
       "      <td>0.003343</td>\n",
       "    </tr>\n",
       "    <tr>\n",
       "      <th>6</th>\n",
       "      <td>rhad</td>\n",
       "      <td>0.007246</td>\n",
       "      <td>0.432240</td>\n",
       "      <td>0.436460</td>\n",
       "      <td>fold_0</td>\n",
       "      <td>58.650032</td>\n",
       "      <td>0.973728</td>\n",
       "      <td>0.424993</td>\n",
       "    </tr>\n",
       "    <tr>\n",
       "      <th>7</th>\n",
       "      <td>rhad1</td>\n",
       "      <td>0.005028</td>\n",
       "      <td>0.230405</td>\n",
       "      <td>0.233835</td>\n",
       "      <td>fold_0</td>\n",
       "      <td>44.828784</td>\n",
       "      <td>0.963830</td>\n",
       "      <td>0.225377</td>\n",
       "    </tr>\n",
       "    <tr>\n",
       "      <th>8</th>\n",
       "      <td>rphi</td>\n",
       "      <td>0.014843</td>\n",
       "      <td>0.118906</td>\n",
       "      <td>0.107186</td>\n",
       "      <td>fold_0</td>\n",
       "      <td>7.011002</td>\n",
       "      <td>0.970867</td>\n",
       "      <td>0.104063</td>\n",
       "    </tr>\n",
       "    <tr>\n",
       "      <th>9</th>\n",
       "      <td>reta</td>\n",
       "      <td>0.009672</td>\n",
       "      <td>0.112294</td>\n",
       "      <td>0.106135</td>\n",
       "      <td>fold_1</td>\n",
       "      <td>10.609704</td>\n",
       "      <td>0.966893</td>\n",
       "      <td>0.102622</td>\n",
       "    </tr>\n",
       "  </tbody>\n",
       "</table>\n",
       "</div>"
      ],
      "text/plain": [
       "     name  boosted_el  boosted_jet    el_jet description     ratio1    ratio2  \\\n",
       "0    reta    0.009634     0.112340  0.106335      fold_0  10.661268  0.965875   \n",
       "1  eratio    0.030893     0.570198  0.540972      fold_0  17.457198  0.996918   \n",
       "2      f1    0.168429     0.037788  0.131495      fold_0  -0.775644 -0.993509   \n",
       "3      f3    0.005357     0.007369  0.012707      fold_0   0.375631  0.158364   \n",
       "4   wstot    0.168632     2.870422  2.806875      fold_0  16.021842  0.962562   \n",
       "5   weta2    0.000888     0.004230  0.003354      fold_0   3.766014  0.996634   \n",
       "6    rhad    0.007246     0.432240  0.436460      fold_0  58.650032  0.973728   \n",
       "7   rhad1    0.005028     0.230405  0.233835      fold_0  44.828784  0.963830   \n",
       "8    rphi    0.014843     0.118906  0.107186      fold_0   7.011002  0.970867   \n",
       "9    reta    0.009672     0.112294  0.106135      fold_1  10.609704  0.966893   \n",
       "\n",
       "     ratio3  \n",
       "0  0.102706  \n",
       "1  0.539305  \n",
       "2 -0.130641  \n",
       "3  0.002012  \n",
       "4  2.701790  \n",
       "5  0.003343  \n",
       "6  0.424993  \n",
       "7  0.225377  \n",
       "8  0.104063  \n",
       "9  0.102622  "
      ]
     },
     "execution_count": 3,
     "metadata": {},
     "output_type": "execute_result"
    }
   ],
   "source": [
    "wass_distances = pd.read_csv(os.path.join('..', '..', 'data', 'wass_distances.csv'), index_col=0)\n",
    "for name, func in ratios.items():\n",
    "    wass_distances[name] = wass_distances.apply(func, axis=1)\n",
    "wass_distances.head(10)"
   ]
  },
  {
   "cell_type": "code",
   "execution_count": 4,
   "id": "3da76edd",
   "metadata": {},
   "outputs": [
    {
     "data": {
      "text/html": [
       "<div>\n",
       "<style scoped>\n",
       "    .dataframe tbody tr th:only-of-type {\n",
       "        vertical-align: middle;\n",
       "    }\n",
       "\n",
       "    .dataframe tbody tr th {\n",
       "        vertical-align: top;\n",
       "    }\n",
       "\n",
       "    .dataframe thead th {\n",
       "        text-align: right;\n",
       "    }\n",
       "</style>\n",
       "<table border=\"1\" class=\"dataframe\">\n",
       "  <thead>\n",
       "    <tr style=\"text-align: right;\">\n",
       "      <th></th>\n",
       "      <th>order</th>\n",
       "      <th>values</th>\n",
       "    </tr>\n",
       "    <tr>\n",
       "      <th>description</th>\n",
       "      <th></th>\n",
       "      <th></th>\n",
       "    </tr>\n",
       "  </thead>\n",
       "  <tbody>\n",
       "    <tr>\n",
       "      <th>complete</th>\n",
       "      <td>[eratio, weta2, rhad, rphi, reta, rhad1, wstot...</td>\n",
       "      <td>[0.998441230854057, 0.997375408176468, 0.97394...</td>\n",
       "    </tr>\n",
       "    <tr>\n",
       "      <th>fold_0</th>\n",
       "      <td>[eratio, weta2, rhad, rphi, reta, rhad1, wstot...</td>\n",
       "      <td>[0.9969180831973063, 0.9966337317018531, 0.973...</td>\n",
       "    </tr>\n",
       "    <tr>\n",
       "      <th>fold_1</th>\n",
       "      <td>[eratio, weta2, rhad, rphi, reta, wstot, rhad1...</td>\n",
       "      <td>[0.9986839399103837, 0.9982627673618552, 0.974...</td>\n",
       "    </tr>\n",
       "    <tr>\n",
       "      <th>fold_2</th>\n",
       "      <td>[eratio, weta2, rhad, rphi, rhad1, reta, wstot...</td>\n",
       "      <td>[0.9990351944112922, 0.9982445610820844, 0.977...</td>\n",
       "    </tr>\n",
       "    <tr>\n",
       "      <th>fold_3</th>\n",
       "      <td>[eratio, weta2, rhad, rhad1, rphi, reta, wstot...</td>\n",
       "      <td>[0.9995209596886648, 0.9979037609989745, 0.978...</td>\n",
       "    </tr>\n",
       "    <tr>\n",
       "      <th>fold_4</th>\n",
       "      <td>[eratio, weta2, rhad, rphi, reta, rhad1, wstot...</td>\n",
       "      <td>[0.9972712119801533, 0.9956431382840439, 0.971...</td>\n",
       "    </tr>\n",
       "  </tbody>\n",
       "</table>\n",
       "</div>"
      ],
      "text/plain": [
       "                                                         order  \\\n",
       "description                                                      \n",
       "complete     [eratio, weta2, rhad, rphi, reta, rhad1, wstot...   \n",
       "fold_0       [eratio, weta2, rhad, rphi, reta, rhad1, wstot...   \n",
       "fold_1       [eratio, weta2, rhad, rphi, reta, wstot, rhad1...   \n",
       "fold_2       [eratio, weta2, rhad, rphi, rhad1, reta, wstot...   \n",
       "fold_3       [eratio, weta2, rhad, rhad1, rphi, reta, wstot...   \n",
       "fold_4       [eratio, weta2, rhad, rphi, reta, rhad1, wstot...   \n",
       "\n",
       "                                                        values  \n",
       "description                                                     \n",
       "complete     [0.998441230854057, 0.997375408176468, 0.97394...  \n",
       "fold_0       [0.9969180831973063, 0.9966337317018531, 0.973...  \n",
       "fold_1       [0.9986839399103837, 0.9982627673618552, 0.974...  \n",
       "fold_2       [0.9990351944112922, 0.9982445610820844, 0.977...  \n",
       "fold_3       [0.9995209596886648, 0.9979037609989745, 0.978...  \n",
       "fold_4       [0.9972712119801533, 0.9956431382840439, 0.971...  "
      ]
     },
     "execution_count": 4,
     "metadata": {},
     "output_type": "execute_result"
    }
   ],
   "source": [
    "def get_order(df: pd.DataFrame, sort_col: str) -> pd.Series:\n",
    "    df = df.sort_values(sort_col, ascending=False)\n",
    "    ordered_ss = df['name'].values\n",
    "    values = df[sort_col].values\n",
    "    row = pd.Series(\n",
    "        [ordered_ss, values],\n",
    "        index=['order', 'values']\n",
    "    )\n",
    "    return row\n",
    "orders = {\n",
    "    name: wass_distances.groupby('description').apply(get_order, sort_col=name) # type: ignore\n",
    "    for name in ratios.keys()\n",
    "}\n",
    "orders['ratio2']"
   ]
  },
  {
   "cell_type": "code",
   "execution_count": 12,
   "id": "38458f42",
   "metadata": {},
   "outputs": [
    {
     "data": {
      "text/plain": [
       "{'ratio1': [('complete', 'fold_3'),\n",
       "  ('fold_0', 'fold_3'),\n",
       "  ('fold_1', 'fold_3'),\n",
       "  ('fold_2', 'fold_3'),\n",
       "  ('fold_3', 'fold_4')],\n",
       " 'ratio2': [('complete', 'fold_1'),\n",
       "  ('complete', 'fold_2'),\n",
       "  ('complete', 'fold_3'),\n",
       "  ('fold_0', 'fold_1'),\n",
       "  ('fold_0', 'fold_2'),\n",
       "  ('fold_0', 'fold_3'),\n",
       "  ('fold_1', 'fold_2'),\n",
       "  ('fold_1', 'fold_3'),\n",
       "  ('fold_1', 'fold_4'),\n",
       "  ('fold_2', 'fold_3'),\n",
       "  ('fold_2', 'fold_4'),\n",
       "  ('fold_3', 'fold_4')],\n",
       " 'ratio3': []}"
      ]
     },
     "execution_count": 12,
     "metadata": {},
     "output_type": "execute_result"
    }
   ],
   "source": [
    "def get_order_differences(df: pd.DataFrame):\n",
    "    differences = list()\n",
    "    for left, right in combinations(df.index, 2):\n",
    "        is_equal = (df.loc[left, 'order'] ==\\\n",
    "            df.loc[right, 'order']).all()   # type: ignore\n",
    "        if not is_equal:\n",
    "            differences.append((left, right))\n",
    "    return differences\n",
    "\n",
    "order_differences = {\n",
    "    ratio_name: get_order_differences(ratio_order)\n",
    "    for ratio_name, ratio_order in orders.items()\n",
    "}\n",
    "order_differences"
   ]
  },
  {
   "cell_type": "code",
   "execution_count": 14,
   "id": "75f93050",
   "metadata": {},
   "outputs": [
    {
     "name": "stdout",
     "output_type": "stream",
     "text": [
      "['rhad' 'rhad1' 'eratio' 'wstot' 'reta' 'rphi' 'weta2' 'f3' 'f1']\n",
      "['rhad1' 'rhad' 'eratio' 'wstot' 'reta' 'rphi' 'weta2' 'f3' 'f1']\n",
      "[False False  True  True  True  True  True  True  True]\n"
     ]
    }
   ],
   "source": [
    "print(orders['ratio1'].loc['complete', 'order'])\n",
    "print(orders['ratio1'].loc['fold_3', 'order'])\n",
    "print(orders['ratio1'].loc['complete', 'order'] == orders['ratio1'].loc['fold_3', 'order'])"
   ]
  },
  {
   "cell_type": "code",
   "execution_count": 15,
   "id": "e792568a",
   "metadata": {},
   "outputs": [
    {
     "name": "stdout",
     "output_type": "stream",
     "text": [
      "['eratio' 'weta2' 'rhad' 'rphi' 'reta' 'rhad1' 'wstot' 'f3' 'f1']\n",
      "['eratio' 'weta2' 'rhad' 'rphi' 'reta' 'wstot' 'rhad1' 'f3' 'f1']\n",
      "[ True  True  True  True  True False False  True  True]\n"
     ]
    }
   ],
   "source": [
    "ratio = 'ratio2'\n",
    "fold = 'fold_1'\n",
    "print(orders[ratio].loc['complete', 'order'])\n",
    "print(orders[ratio].loc[fold, 'order'])\n",
    "print(orders[ratio].loc['complete', 'order'] == orders[ratio].loc[fold, 'order'])"
   ]
  },
  {
   "cell_type": "code",
   "execution_count": 16,
   "id": "11e859f4",
   "metadata": {},
   "outputs": [
    {
     "name": "stdout",
     "output_type": "stream",
     "text": [
      "['eratio' 'weta2' 'rhad' 'rphi' 'reta' 'rhad1' 'wstot' 'f3' 'f1']\n",
      "['eratio' 'weta2' 'rhad' 'rphi' 'rhad1' 'reta' 'wstot' 'f3' 'f1']\n",
      "[ True  True  True  True False False  True  True  True]\n"
     ]
    }
   ],
   "source": [
    "ratio = 'ratio2'\n",
    "fold = 'fold_2'\n",
    "print(orders[ratio].loc['complete', 'order'])\n",
    "print(orders[ratio].loc[fold, 'order'])\n",
    "print(orders[ratio].loc['complete', 'order'] == orders[ratio].loc[fold, 'order'])"
   ]
  },
  {
   "cell_type": "code",
   "execution_count": 17,
   "id": "51d4c360",
   "metadata": {},
   "outputs": [
    {
     "name": "stdout",
     "output_type": "stream",
     "text": [
      "['eratio' 'weta2' 'rhad' 'rphi' 'reta' 'rhad1' 'wstot' 'f3' 'f1']\n",
      "['eratio' 'weta2' 'rhad' 'rhad1' 'rphi' 'reta' 'wstot' 'f3' 'f1']\n",
      "[ True  True  True False False False  True  True  True]\n"
     ]
    }
   ],
   "source": [
    "ratio = 'ratio2'\n",
    "fold = 'fold_3'\n",
    "print(orders[ratio].loc['complete', 'order'])\n",
    "print(orders[ratio].loc[fold, 'order'])\n",
    "print(orders[ratio].loc['complete', 'order'] == orders[ratio].loc[fold, 'order'])"
   ]
  }
 ],
 "metadata": {
  "kernelspec": {
   "display_name": "Python 3.8.14 64-bit",
   "language": "python",
   "name": "python3"
  },
  "language_info": {
   "codemirror_mode": {
    "name": "ipython",
    "version": 3
   },
   "file_extension": ".py",
   "mimetype": "text/x-python",
   "name": "python",
   "nbconvert_exporter": "python",
   "pygments_lexer": "ipython3",
   "version": "3.8.14"
  },
  "vscode": {
   "interpreter": {
    "hash": "949777d72b0d2535278d3dc13498b2535136f6dfe0678499012e853ee9abcab1"
   }
  }
 },
 "nbformat": 4,
 "nbformat_minor": 5
}
