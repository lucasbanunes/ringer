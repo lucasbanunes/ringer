{
 "cells": [
  {
   "cell_type": "code",
   "execution_count": 5,
   "metadata": {},
   "outputs": [],
   "source": [
    "import os\n",
    "import numpy as np\n",
    "import pandas as pd\n",
    "from sklearn.model_selection import StratifiedKFold\n",
    "from packages.data import LocalDataLoader"
   ]
  },
  {
   "cell_type": "code",
   "execution_count": 2,
   "metadata": {},
   "outputs": [
    {
     "data": {
      "text/html": [
       "<div>\n",
       "<style scoped>\n",
       "    .dataframe tbody tr th:only-of-type {\n",
       "        vertical-align: middle;\n",
       "    }\n",
       "\n",
       "    .dataframe tbody tr th {\n",
       "        vertical-align: top;\n",
       "    }\n",
       "\n",
       "    .dataframe thead th {\n",
       "        text-align: right;\n",
       "    }\n",
       "</style>\n",
       "<table border=\"1\" class=\"dataframe\">\n",
       "  <thead>\n",
       "    <tr style=\"text-align: right;\">\n",
       "      <th></th>\n",
       "      <th>old_id</th>\n",
       "      <th>id</th>\n",
       "      <th>ifold</th>\n",
       "    </tr>\n",
       "  </thead>\n",
       "  <tbody>\n",
       "    <tr>\n",
       "      <th>0</th>\n",
       "      <td>0</td>\n",
       "      <td>0.0</td>\n",
       "      <td>0.0</td>\n",
       "    </tr>\n",
       "    <tr>\n",
       "      <th>1</th>\n",
       "      <td>1</td>\n",
       "      <td>0.0</td>\n",
       "      <td>0.0</td>\n",
       "    </tr>\n",
       "    <tr>\n",
       "      <th>2</th>\n",
       "      <td>2</td>\n",
       "      <td>0.0</td>\n",
       "      <td>0.0</td>\n",
       "    </tr>\n",
       "    <tr>\n",
       "      <th>3</th>\n",
       "      <td>3</td>\n",
       "      <td>0.0</td>\n",
       "      <td>0.0</td>\n",
       "    </tr>\n",
       "    <tr>\n",
       "      <th>4</th>\n",
       "      <td>4</td>\n",
       "      <td>0.0</td>\n",
       "      <td>0.0</td>\n",
       "    </tr>\n",
       "    <tr>\n",
       "      <th>...</th>\n",
       "      <td>...</td>\n",
       "      <td>...</td>\n",
       "      <td>...</td>\n",
       "    </tr>\n",
       "    <tr>\n",
       "      <th>39863774</th>\n",
       "      <td>39863774</td>\n",
       "      <td>0.0</td>\n",
       "      <td>0.0</td>\n",
       "    </tr>\n",
       "    <tr>\n",
       "      <th>39863775</th>\n",
       "      <td>39863775</td>\n",
       "      <td>0.0</td>\n",
       "      <td>0.0</td>\n",
       "    </tr>\n",
       "    <tr>\n",
       "      <th>39863776</th>\n",
       "      <td>39863776</td>\n",
       "      <td>0.0</td>\n",
       "      <td>0.0</td>\n",
       "    </tr>\n",
       "    <tr>\n",
       "      <th>39863777</th>\n",
       "      <td>39863777</td>\n",
       "      <td>0.0</td>\n",
       "      <td>0.0</td>\n",
       "    </tr>\n",
       "    <tr>\n",
       "      <th>39863778</th>\n",
       "      <td>39863778</td>\n",
       "      <td>0.0</td>\n",
       "      <td>0.0</td>\n",
       "    </tr>\n",
       "  </tbody>\n",
       "</table>\n",
       "<p>39863779 rows × 3 columns</p>\n",
       "</div>"
      ],
      "text/plain": [
       "            old_id   id  ifold\n",
       "0                0  0.0    0.0\n",
       "1                1  0.0    0.0\n",
       "2                2  0.0    0.0\n",
       "3                3  0.0    0.0\n",
       "4                4  0.0    0.0\n",
       "...            ...  ...    ...\n",
       "39863774  39863774  0.0    0.0\n",
       "39863775  39863775  0.0    0.0\n",
       "39863776  39863776  0.0    0.0\n",
       "39863777  39863777  0.0    0.0\n",
       "39863778  39863778  0.0    0.0\n",
       "\n",
       "[39863779 rows x 3 columns]"
      ]
     },
     "execution_count": 2,
     "metadata": {},
     "output_type": "execute_result"
    }
   ],
   "source": [
    "dataset_path = os.path.join(\n",
    "    os.sep, 'workspace','CERN','data',\n",
    "    'data17_13TeV.AllPeriods.sgn.probes_lhmedium_EGAM1.bkg.VProbes_EGAM7.GRL_v97'\n",
    ")\n",
    "data_loader = LocalDataLoader(dataset_path)\n",
    "data_df = data_loader.load_data_df(columns=['id'])\n",
    "data_df = data_df.rename({'id':'old_id'}, axis='columns')\n",
    "data_df['id'] = 0.0\n",
    "data_df['ifold'] = 0.0\n",
    "data_df"
   ]
  },
  {
   "cell_type": "code",
   "execution_count": 7,
   "metadata": {},
   "outputs": [
    {
     "name": "stdout",
     "output_type": "stream",
     "text": [
      "Adding fold 0.0\n",
      "Adding fold 1.0\n",
      "Adding fold 2.0\n",
      "Adding fold 3.0\n",
      "Adding fold 4.0\n",
      "Adding fold 5.0\n",
      "Adding fold 6.0\n",
      "Adding fold 7.0\n",
      "Adding fold 8.0\n",
      "Adding fold 9.0\n"
     ]
    }
   ],
   "source": [
    "n_samples = len(data_df)\n",
    "n_folds = 10\n",
    "cv = StratifiedKFold(n_splits=n_folds, random_state=512, shuffle=True)\n",
    "ifold = 0.0\n",
    "for train_idx, val_idx in cv.split(data_df.values[:,0], data_df.values[:,1]):\n",
    "    print(f'Adding fold {ifold}')\n",
    "    data_df.loc[val_idx, 'ifold'] = ifold\n",
    "    new_ids = np.arange(ifold, n_samples, n_folds)\n",
    "    data_df.loc[val_idx, 'id'] = new_ids\n",
    "    ifold += 1"
   ]
  },
  {
   "cell_type": "code",
   "execution_count": 13,
   "metadata": {},
   "outputs": [
    {
     "data": {
      "text/plain": [
       "True"
      ]
     },
     "execution_count": 13,
     "metadata": {},
     "output_type": "execute_result"
    }
   ],
   "source": [
    "(data_df['id']%n_folds == data_df['ifold']).all()"
   ]
  }
 ],
 "metadata": {
  "kernelspec": {
   "display_name": "Python 2.7.18 64-bit",
   "language": "python",
   "name": "python3"
  },
  "language_info": {
   "codemirror_mode": {
    "name": "ipython",
    "version": 3
   },
   "file_extension": ".py",
   "mimetype": "text/x-python",
   "name": "python",
   "nbconvert_exporter": "python",
   "pygments_lexer": "ipython3",
   "version": "3.8.10"
  },
  "orig_nbformat": 4,
  "vscode": {
   "interpreter": {
    "hash": "767d51c1340bd893661ea55ea3124f6de3c7a262a8b4abca0554b478b1e2ff90"
   }
  }
 },
 "nbformat": 4,
 "nbformat_minor": 2
}
