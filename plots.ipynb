{
 "cells": [
  {
   "cell_type": "code",
   "execution_count": 1,
   "id": "ba6b3e87-b6b8-4c53-bc00-14ba491e94be",
   "metadata": {},
   "outputs": [
    {
     "name": "stdout",
     "output_type": "stream",
     "text": [
      "Welcome to JupyROOT 6.16/00\n",
      "Using all sub packages with ROOT dependence\n"
     ]
    }
   ],
   "source": [
    "import os\n",
    "import glob\n",
    "import json\n",
    "from itertools import product\n",
    "import numpy as np\n",
    "import pandas as pd\n",
    "import matplotlib as mpl\n",
    "import matplotlib.pyplot as plt\n",
    "import mplhep as hep\n",
    "plt.style.use(hep.style.ROOT)\n",
    "plt.rc('legend',fontsize='large')\n",
    "plt.rc('axes',labelsize='x-large')\n",
    "plt.rc('text',usetex='true')\n",
    "plt.rc('xtick', labelsize='large')\n",
    "import seaborn as sns\n",
    "import joblib\n",
    "from packages.constants import HOME_PATH, STEP_PREFIX\n",
    "from packages.utils import get_electron_label, get_jet_label\n",
    "import packages.plotting as plotting\n",
    "%matplotlib inline"
   ]
  },
  {
   "cell_type": "code",
   "execution_count": 2,
   "id": "d6095a8f-f9b5-49b9-828b-7ebfaa33b573",
   "metadata": {},
   "outputs": [],
   "source": [
    "SHOWER_SHAPES = {\n",
    "    'reta': {\n",
    "        'label': '$R_{eta}$',\n",
    "        'range': (0,1),\n",
    "        'electron_range': (0.82, 1),\n",
    "        'jet_range': (0.6,1),\n",
    "        'step': 'L2Calo'\n",
    "    },\n",
    "    'eratio': {\n",
    "        'label': '$E_{ratio}$',\n",
    "        'range': (0,1),\n",
    "        'electron_range': (0.9, 1),\n",
    "        'jet_range': (0,1),\n",
    "        'step': 'L2Calo'\n",
    "    },\n",
    "    'f1': {\n",
    "        'label': '$f_1$',\n",
    "        'range': (0,1),\n",
    "        'electron_range': None,\n",
    "        'jet_range': None,\n",
    "        'step': 'L2Calo'\n",
    "    },\n",
    "    'ehad1': {\n",
    "        'label': '$E_{had1}$',\n",
    "        'range': None,\n",
    "        'electron_range': None,\n",
    "        'jet_range': None,\n",
    "        'step': 'L2Calo'\n",
    "    },\n",
    "    'f3': {\n",
    "        'label': '$f_3$',\n",
    "        'range': (0,1),\n",
    "        'electron_range': None,\n",
    "        'jet_range': None,\n",
    "        'step': 'L2Calo'\n",
    "    },\n",
    "    'weta2': {\n",
    "        'label': '$\\omega_{\\eta 2}$',\n",
    "        'range': None,\n",
    "        'electron_range': None,\n",
    "        'jet_range': None,\n",
    "        'step': 'L2Calo'\n",
    "    },\n",
    "    'wstot': {\n",
    "        'label': '$\\omega_{stot}$',\n",
    "        'range': None,\n",
    "        'electron_range': None,\n",
    "        'jet_range': None,\n",
    "        'step': 'L2Calo'\n",
    "    },\n",
    "    'e2tsts1': {\n",
    "        'label': 'no label',\n",
    "        'range': None,\n",
    "        'electron_range': None,\n",
    "        'jet_range': None,\n",
    "        'step': 'L2Calo'\n",
    "    }\n",
    "}\n",
    "HIST_DF_COLS = ['bin_start', 'bin_end', 'hist']"
   ]
  },
  {
   "cell_type": "code",
   "execution_count": 3,
   "id": "6e3e76d9-17c2-42da-93bb-14ec91a1201f",
   "metadata": {},
   "outputs": [],
   "source": [
    "def subsample_hist_df(hist_df, subsample):\n",
    "    subsampled_hist_df = hist_df.reset_index()\n",
    "    subsampled_hist_df['group'] = subsampled_hist_df['index'] // subsample\n",
    "    agg_dict = dict(hist='sum', bin_start='min', bin_end='max')\n",
    "    subsampled_hist_df = subsampled_hist_df.groupby('group') \\\n",
    "        .agg(agg_dict).dropna().reset_index(drop=True)\n",
    "    # Renormalizing\n",
    "    area = get_hist_area(subsampled_hist_df)\n",
    "    subsampled_hist_df['hist'] = subsampled_hist_df['hist']/area\n",
    "    return subsampled_hist_df"
   ]
  },
  {
   "cell_type": "code",
   "execution_count": 4,
   "id": "d265952c-5d4b-4cd6-b012-4b709b6f88ec",
   "metadata": {},
   "outputs": [],
   "source": [
    "def get_hist_area(hist_df):\n",
    "    return (hist_df['hist'] * (hist_df['bin_end'] - hist_df['bin_start'])).sum()"
   ]
  },
  {
   "cell_type": "markdown",
   "id": "3d851098-4161-4f40-a199-2c38554ed9fb",
   "metadata": {
    "tags": []
   },
   "source": [
    "## Distribution plots"
   ]
  },
  {
   "cell_type": "markdown",
   "id": "354cc84d-db85-4749-a43c-a63a43c0329e",
   "metadata": {
    "tags": []
   },
   "source": [
    "### Loading data"
   ]
  },
  {
   "cell_type": "code",
   "execution_count": 5,
   "id": "c33fb271-a4bf-4ab9-9807-c6049c4fa553",
   "metadata": {},
   "outputs": [
    {
     "data": {
      "text/plain": [
       "['trig_L2_cl_reta',\n",
       " 'trig_L2_cl_eratio',\n",
       " 'trig_L2_cl_f1',\n",
       " 'trig_L2_cl_ehad1',\n",
       " 'trig_L2_cl_f3',\n",
       " 'trig_L2_cl_weta2',\n",
       " 'trig_L2_cl_wstot',\n",
       " 'trig_L2_cl_e2tsts1']"
      ]
     },
     "execution_count": 5,
     "metadata": {},
     "output_type": "execute_result"
    }
   ],
   "source": [
    "plot_cols = list()\n",
    "step='L2Calo'\n",
    "datapath = os.path.join(HOME_PATH, 'data')\n",
    "collision_path = os.path.join(datapath, 'ided_data17_13TeV.AllPeriods.sgn.probes_lhvloose_EGAM1.bkg.vprobes_vlhvloose_EGAM7.GRL_v97.25bins.parquet', \n",
    "                              'ided_data17_13TeV.AllPeriods.sgn.probes_lhvloose_EGAM1.bkg.vprobes_vlhvloose_EGAM7.GRL_v97.25bins.parquet_et4_eta4.parquet')\n",
    "boosted_path = os.path.join(datapath, 'ided_mc16_13TeV.302236_309995_341330.sgn.boosted_probes.WZ_llqq_plus_radion_ZZ_llqq_plus_ggH3000.merge.25bins.v2.parquet')\n",
    "\n",
    "shower_shapes = [STEP_PREFIX[step] + ss for ss in SHOWER_SHAPES.keys()]\n",
    "shower_shapes"
   ]
  },
  {
   "cell_type": "code",
   "execution_count": 6,
   "id": "91027a43-6c99-4902-a127-7cae07f2bc5f",
   "metadata": {},
   "outputs": [
    {
     "data": {
      "text/html": [
       "<div>\n",
       "<style scoped>\n",
       "    .dataframe tbody tr th:only-of-type {\n",
       "        vertical-align: middle;\n",
       "    }\n",
       "\n",
       "    .dataframe tbody tr th {\n",
       "        vertical-align: top;\n",
       "    }\n",
       "\n",
       "    .dataframe thead th {\n",
       "        text-align: right;\n",
       "    }\n",
       "</style>\n",
       "<table border=\"1\" class=\"dataframe\">\n",
       "  <thead>\n",
       "    <tr style=\"text-align: right;\">\n",
       "      <th></th>\n",
       "      <th>trig_L2_cl_reta</th>\n",
       "      <th>trig_L2_cl_eratio</th>\n",
       "      <th>trig_L2_cl_f1</th>\n",
       "      <th>trig_L2_cl_ehad1</th>\n",
       "      <th>trig_L2_cl_f3</th>\n",
       "      <th>trig_L2_cl_weta2</th>\n",
       "      <th>trig_L2_cl_wstot</th>\n",
       "      <th>trig_L2_cl_e2tsts1</th>\n",
       "    </tr>\n",
       "  </thead>\n",
       "  <tbody>\n",
       "    <tr>\n",
       "      <th>0</th>\n",
       "      <td>0.925877</td>\n",
       "      <td>0.982229</td>\n",
       "      <td>0.286768</td>\n",
       "      <td>1626.380493</td>\n",
       "      <td>0.004404</td>\n",
       "      <td>0.010177</td>\n",
       "      <td>1.134755</td>\n",
       "      <td>24.469589</td>\n",
       "    </tr>\n",
       "    <tr>\n",
       "      <th>1</th>\n",
       "      <td>0.988089</td>\n",
       "      <td>0.816197</td>\n",
       "      <td>0.085186</td>\n",
       "      <td>-184.739105</td>\n",
       "      <td>0.008879</td>\n",
       "      <td>0.009084</td>\n",
       "      <td>1.250962</td>\n",
       "      <td>59.001091</td>\n",
       "    </tr>\n",
       "    <tr>\n",
       "      <th>2</th>\n",
       "      <td>0.935216</td>\n",
       "      <td>0.890477</td>\n",
       "      <td>0.466089</td>\n",
       "      <td>-161.464890</td>\n",
       "      <td>-0.000920</td>\n",
       "      <td>0.011774</td>\n",
       "      <td>2.881309</td>\n",
       "      <td>198.510132</td>\n",
       "    </tr>\n",
       "    <tr>\n",
       "      <th>3</th>\n",
       "      <td>0.962935</td>\n",
       "      <td>0.948033</td>\n",
       "      <td>0.320025</td>\n",
       "      <td>-130.190170</td>\n",
       "      <td>0.001840</td>\n",
       "      <td>0.009567</td>\n",
       "      <td>1.323367</td>\n",
       "      <td>67.998497</td>\n",
       "    </tr>\n",
       "    <tr>\n",
       "      <th>4</th>\n",
       "      <td>0.670090</td>\n",
       "      <td>0.138930</td>\n",
       "      <td>0.270767</td>\n",
       "      <td>5028.686035</td>\n",
       "      <td>0.011920</td>\n",
       "      <td>0.017711</td>\n",
       "      <td>6.128632</td>\n",
       "      <td>846.002319</td>\n",
       "    </tr>\n",
       "  </tbody>\n",
       "</table>\n",
       "</div>"
      ],
      "text/plain": [
       "   trig_L2_cl_reta  trig_L2_cl_eratio  trig_L2_cl_f1  trig_L2_cl_ehad1  \\\n",
       "0         0.925877           0.982229       0.286768       1626.380493   \n",
       "1         0.988089           0.816197       0.085186       -184.739105   \n",
       "2         0.935216           0.890477       0.466089       -161.464890   \n",
       "3         0.962935           0.948033       0.320025       -130.190170   \n",
       "4         0.670090           0.138930       0.270767       5028.686035   \n",
       "\n",
       "   trig_L2_cl_f3  trig_L2_cl_weta2  trig_L2_cl_wstot  trig_L2_cl_e2tsts1  \n",
       "0       0.004404          0.010177          1.134755           24.469589  \n",
       "1       0.008879          0.009084          1.250962           59.001091  \n",
       "2      -0.000920          0.011774          2.881309          198.510132  \n",
       "3       0.001840          0.009567          1.323367           67.998497  \n",
       "4       0.011920          0.017711          6.128632          846.002319  "
      ]
     },
     "execution_count": 6,
     "metadata": {},
     "output_type": "execute_result"
    }
   ],
   "source": [
    "boosted_data = pd.read_parquet(boosted_path, columns=shower_shapes)\n",
    "boosted_data.head()"
   ]
  },
  {
   "cell_type": "code",
   "execution_count": 7,
   "id": "cf4a1ea2-5a90-4701-85c0-a56e2b2ef589",
   "metadata": {},
   "outputs": [
    {
     "name": "stdout",
     "output_type": "stream",
     "text": [
      "(198565, 11)\n",
      "There are 93785 jets\n",
      "There are 89782 electrons\n"
     ]
    },
    {
     "data": {
      "text/html": [
       "<div>\n",
       "<style scoped>\n",
       "    .dataframe tbody tr th:only-of-type {\n",
       "        vertical-align: middle;\n",
       "    }\n",
       "\n",
       "    .dataframe tbody tr th {\n",
       "        vertical-align: top;\n",
       "    }\n",
       "\n",
       "    .dataframe thead th {\n",
       "        text-align: right;\n",
       "    }\n",
       "</style>\n",
       "<table border=\"1\" class=\"dataframe\">\n",
       "  <thead>\n",
       "    <tr style=\"text-align: right;\">\n",
       "      <th></th>\n",
       "      <th>trig_L2_cl_reta</th>\n",
       "      <th>trig_L2_cl_eratio</th>\n",
       "      <th>trig_L2_cl_f1</th>\n",
       "      <th>trig_L2_cl_ehad1</th>\n",
       "      <th>trig_L2_cl_f3</th>\n",
       "      <th>trig_L2_cl_weta2</th>\n",
       "      <th>trig_L2_cl_wstot</th>\n",
       "      <th>trig_L2_cl_e2tsts1</th>\n",
       "      <th>jet</th>\n",
       "      <th>electron</th>\n",
       "    </tr>\n",
       "  </thead>\n",
       "  <tbody>\n",
       "    <tr>\n",
       "      <th>0</th>\n",
       "      <td>0.965098</td>\n",
       "      <td>98.999992</td>\n",
       "      <td>0.173870</td>\n",
       "      <td>289.812286</td>\n",
       "      <td>0.018926</td>\n",
       "      <td>0.015195</td>\n",
       "      <td>-9999.0000</td>\n",
       "      <td>-999.000000</td>\n",
       "      <td>False</td>\n",
       "      <td>True</td>\n",
       "    </tr>\n",
       "    <tr>\n",
       "      <th>1</th>\n",
       "      <td>0.919317</td>\n",
       "      <td>0.978109</td>\n",
       "      <td>0.259116</td>\n",
       "      <td>-1271.184082</td>\n",
       "      <td>0.012403</td>\n",
       "      <td>0.012845</td>\n",
       "      <td>1.5839</td>\n",
       "      <td>421.378906</td>\n",
       "      <td>False</td>\n",
       "      <td>True</td>\n",
       "    </tr>\n",
       "    <tr>\n",
       "      <th>2</th>\n",
       "      <td>0.929197</td>\n",
       "      <td>98.999992</td>\n",
       "      <td>0.150610</td>\n",
       "      <td>1686.973389</td>\n",
       "      <td>0.014153</td>\n",
       "      <td>0.015155</td>\n",
       "      <td>-9999.0000</td>\n",
       "      <td>-999.000000</td>\n",
       "      <td>False</td>\n",
       "      <td>False</td>\n",
       "    </tr>\n",
       "    <tr>\n",
       "      <th>3</th>\n",
       "      <td>0.978093</td>\n",
       "      <td>98.999992</td>\n",
       "      <td>0.081285</td>\n",
       "      <td>321.787781</td>\n",
       "      <td>0.024593</td>\n",
       "      <td>0.013731</td>\n",
       "      <td>-9999.0000</td>\n",
       "      <td>-999.000000</td>\n",
       "      <td>False</td>\n",
       "      <td>True</td>\n",
       "    </tr>\n",
       "    <tr>\n",
       "      <th>4</th>\n",
       "      <td>0.977637</td>\n",
       "      <td>98.999992</td>\n",
       "      <td>0.078947</td>\n",
       "      <td>-1975.292847</td>\n",
       "      <td>0.027291</td>\n",
       "      <td>0.016033</td>\n",
       "      <td>-9999.0000</td>\n",
       "      <td>-999.000000</td>\n",
       "      <td>False</td>\n",
       "      <td>True</td>\n",
       "    </tr>\n",
       "  </tbody>\n",
       "</table>\n",
       "</div>"
      ],
      "text/plain": [
       "   trig_L2_cl_reta  trig_L2_cl_eratio  trig_L2_cl_f1  trig_L2_cl_ehad1  \\\n",
       "0         0.965098          98.999992       0.173870        289.812286   \n",
       "1         0.919317           0.978109       0.259116      -1271.184082   \n",
       "2         0.929197          98.999992       0.150610       1686.973389   \n",
       "3         0.978093          98.999992       0.081285        321.787781   \n",
       "4         0.977637          98.999992       0.078947      -1975.292847   \n",
       "\n",
       "   trig_L2_cl_f3  trig_L2_cl_weta2  trig_L2_cl_wstot  trig_L2_cl_e2tsts1  \\\n",
       "0       0.018926          0.015195        -9999.0000         -999.000000   \n",
       "1       0.012403          0.012845            1.5839          421.378906   \n",
       "2       0.014153          0.015155        -9999.0000         -999.000000   \n",
       "3       0.024593          0.013731        -9999.0000         -999.000000   \n",
       "4       0.027291          0.016033        -9999.0000         -999.000000   \n",
       "\n",
       "     jet  electron  \n",
       "0  False      True  \n",
       "1  False      True  \n",
       "2  False     False  \n",
       "3  False      True  \n",
       "4  False      True  "
      ]
     },
     "execution_count": 7,
     "metadata": {},
     "output_type": "execute_result"
    }
   ],
   "source": [
    "add_cols = ['target', 'el_lhmedium', 'el_lhvloose']\n",
    "collision_data = pd.read_parquet(collision_path, columns=shower_shapes + add_cols)\n",
    "print(collision_data.shape)\n",
    "jet_label = get_jet_label(collision_data, 'el_lhvloose')\n",
    "collision_data['jet'] = jet_label\n",
    "print(f'There are {jet_label.sum()} jets')\n",
    "electron_label = get_electron_label(collision_data, 'el_lhmedium')\n",
    "collision_data['electron'] = electron_label\n",
    "print(f'There are {electron_label.sum()} electrons')\n",
    "collision_data.drop(add_cols, axis=1, inplace=True)\n",
    "collision_data.head()"
   ]
  },
  {
   "cell_type": "markdown",
   "id": "9f224df4-7f77-4fe8-805b-294a2db1a823",
   "metadata": {
    "tags": []
   },
   "source": [
    "### $E_{ratio}$"
   ]
  },
  {
   "cell_type": "code",
   "execution_count": 8,
   "id": "ac474f7a-c95d-4aa9-987f-1c997cd4e826",
   "metadata": {},
   "outputs": [],
   "source": [
    "hists = dict()\n",
    "plot_ss = 'eratio'\n",
    "ss_info = SHOWER_SHAPES[plot_ss]\n",
    "ss_col = STEP_PREFIX[ss_info['step']] + plot_ss\n",
    "\n",
    "boosted_in_range = boosted_data[ss_col].between(*ss_info['range'])\n",
    "boosted_bins = np.linspace(*ss_info['range'], num=1000)\n",
    "boosted_hist, _ = np.histogram(boosted_data.loc[boosted_in_range, ss_col], bins=boosted_bins, density=True)\n",
    "hists['MC16 Boosted el'] = pd.DataFrame(np.column_stack([boosted_bins[:-1], boosted_bins[1:], boosted_hist]),\n",
    "                                        columns=HIST_DF_COLS)\n",
    "\n",
    "collision_in_range = collision_data[ss_col].between(*ss_info['range'])\n",
    "el_bins = boosted_bins\n",
    "el_hist, _ = np.histogram(collision_data.loc[collision_data['electron'] & collision_in_range, ss_col], bins=el_bins, density=True)\n",
    "hists['Data17 Zee el'] = pd.DataFrame(np.column_stack([el_bins[:-1], el_bins[1:], el_hist]),\n",
    "                                        columns=HIST_DF_COLS)\n",
    "\n",
    "jet_bins = el_bins\n",
    "jet_hist, _ = np.histogram(collision_data.loc[collision_data['jet'] & collision_in_range, ss_col], bins=jet_bins, density=True)\n",
    "hists['Data17 Zee jet'] = pd.DataFrame(np.column_stack([jet_bins[:-1], jet_bins[1:], jet_hist]),\n",
    "                                        columns=HIST_DF_COLS)"
   ]
  },
  {
   "cell_type": "code",
   "execution_count": 9,
   "id": "adc31cf0-edbe-40ae-861f-8dade792e2c8",
   "metadata": {},
   "outputs": [
    {
     "data": {
      "text/plain": [
       "Text(0.5, 1.0, '$E_{ratio}$ distribution')"
      ]
     },
     "execution_count": 9,
     "metadata": {},
     "output_type": "execute_result"
    },
    {
     "data": {
      "image/png": "[encoded data removed]",
      "text/plain": [
       "<Figure size 1080x720 with 2 Axes>"
      ]
     },
     "metadata": {
      "needs_background": "light"
     },
     "output_type": "display_data"
    }
   ],
   "source": [
    "sub_ax_pos = [0.17, 0.3, 0.5, 0.45]\n",
    "fig, ax = plt.subplots(1,1, figsize=(15,10))\n",
    "zoomed_ax = fig.add_axes(sub_ax_pos)\n",
    "subsampled_hists = dict()\n",
    "for hist_name, hist_df in hists.items():\n",
    "    ax.bar(hist_df['bin_start'], hist_df['hist'], align='edge', width=(hist_df['bin_end'] - hist_df['bin_start']), label=hist_name, alpha=0.4, bottom=0)\n",
    "    subsampled_hist_df = subsample_hist_df(hist_df,10)\n",
    "    subsampled_hists[hist_name] = subsampled_hist_df\n",
    "    zoomed_ax.bar(subsampled_hist_df['bin_start'], subsampled_hist_df['hist'], align='edge', width=(subsampled_hist_df['bin_end'] - subsampled_hist_df['bin_start']), alpha=0.4, bottom=0)\n",
    "\n",
    "ax.set_xlim(ss_info['electron_range'])\n",
    "ax.set_ylabel('Density')\n",
    "ax.set_xlabel(ss_info['label'])\n",
    "ax.legend(title='Data source')\n",
    "zoomed_ax.set_ylim(0,3)\n",
    "ax.set_title(f'{ss_info[\"label\"]} distribution', fontsize='xx-large')"
   ]
  },
  {
   "cell_type": "markdown",
   "id": "4f68f493-b716-486e-a9da-2549b839b6da",
   "metadata": {
    "tags": []
   },
   "source": [
    "### $R_{\\eta}$"
   ]
  },
  {
   "cell_type": "code",
   "execution_count": 10,
   "id": "2e7d64fc-c0db-4baa-ad7d-39ab0874c1f6",
   "metadata": {},
   "outputs": [],
   "source": [
    "hists = dict()\n",
    "plot_ss = 'reta'\n",
    "ss_info = SHOWER_SHAPES[plot_ss]\n",
    "ss_col = STEP_PREFIX[ss_info['step']] + plot_ss\n",
    "\n",
    "boosted_in_range = boosted_data[ss_col].between(*ss_info['range'])\n",
    "boosted_bins = np.linspace(*ss_info['range'], num=1000)\n",
    "boosted_hist, _ = np.histogram(boosted_data.loc[boosted_in_range, ss_col], bins=boosted_bins, density=True)\n",
    "hists['MC16 Boosted el'] = pd.DataFrame(np.column_stack([boosted_bins[:-1], boosted_bins[1:], boosted_hist]),\n",
    "                                        columns=HIST_DF_COLS)\n",
    "\n",
    "collision_in_range = collision_data[ss_col].between(*ss_info['range'])\n",
    "el_bins = boosted_bins\n",
    "el_hist, _ = np.histogram(collision_data.loc[collision_data['electron'] & collision_in_range, ss_col], bins=el_bins, density=True)\n",
    "hists['Data17 Zee el'] = pd.DataFrame(np.column_stack([el_bins[:-1], el_bins[1:], el_hist]),\n",
    "                                        columns=HIST_DF_COLS)\n",
    "\n",
    "jet_bins = el_bins\n",
    "jet_hist, _ = np.histogram(collision_data.loc[collision_data['jet'] & collision_in_range, ss_col], bins=jet_bins, density=True)\n",
    "hists['Data17 Zee jet'] = pd.DataFrame(np.column_stack([jet_bins[:-1], jet_bins[1:], jet_hist]),\n",
    "                                        columns=HIST_DF_COLS)"
   ]
  },
  {
   "cell_type": "code",
   "execution_count": 11,
   "id": "42180529-6653-479c-a2f2-3646c32d1ea3",
   "metadata": {},
   "outputs": [
    {
     "data": {
      "text/plain": [
       "Text(0.5, 1.0, '$R_{eta}$ distribution')"
      ]
     },
     "execution_count": 11,
     "metadata": {},
     "output_type": "execute_result"
    },
    {
     "data": {
      "image/png": "[encoded data removed]",
      "text/plain": [
       "<Figure size 1080x720 with 2 Axes>"
      ]
     },
     "metadata": {
      "needs_background": "light"
     },
     "output_type": "display_data"
    }
   ],
   "source": [
    "sub_ax_pos = [0.15, 0.3, 0.5, 0.45]\n",
    "fig, ax = plt.subplots(1,1, figsize=(15,10))\n",
    "zoomed_ax = fig.add_axes(sub_ax_pos)\n",
    "subsampled_hists = dict()\n",
    "for hist_name, hist_df in hists.items():\n",
    "    ax.bar(hist_df['bin_start'], hist_df['hist'], align='edge', width=(hist_df['bin_end'] - hist_df['bin_start']), label=hist_name, alpha=0.4, bottom=0)\n",
    "    zoomed_ax.bar(hist_df['bin_start'], hist_df['hist'], align='edge', width=(hist_df['bin_end'] - hist_df['bin_start']), label=hist_name, alpha=0.4, bottom=0)\n",
    "\n",
    "ax.set_xlim(ss_info['jet_range'])\n",
    "zoomed_ax.set_xlim(ss_info['electron_range'])\n",
    "ax.set_ylabel('Density')\n",
    "ax.set_xlabel(ss_info['label'])\n",
    "ax.legend(title='Data source')\n",
    "ax.set_title(f'{ss_info[\"label\"]} distribution', fontsize='xx-large')"
   ]
  },
  {
   "cell_type": "markdown",
   "id": "d0e13fb0-3f50-4407-93a2-f4df1c0216f1",
   "metadata": {
    "tags": []
   },
   "source": [
    "### $E_{had1}$"
   ]
  },
  {
   "cell_type": "code",
   "execution_count": 12,
   "id": "26cdc908-d165-4d69-b322-050787b660b9",
   "metadata": {},
   "outputs": [],
   "source": [
    "hists = dict()\n",
    "plot_ss = 'ehad1'\n",
    "ss_info = SHOWER_SHAPES[plot_ss]\n",
    "ss_col = STEP_PREFIX[ss_info['step']] + plot_ss\n",
    "\n",
    "# boosted_in_range = boosted_data[ss_col].between(*ss_info['range'])\n",
    "# boosted_bins = np.linspace(*ss_info['range'], num=1000)\n",
    "# boosted_hist, _ = np.histogram(boosted_data.loc[boosted_in_range, ss_col], bins=boosted_bins, density=True)\n",
    "boosted_hist, boosted_bins = np.histogram(boosted_data.loc[:, ss_col], bins=8000, density=True)\n",
    "hists['MC16 Boosted el'] = pd.DataFrame(np.column_stack([boosted_bins[:-1], boosted_bins[1:], boosted_hist]),\n",
    "                                        columns=HIST_DF_COLS)\n",
    "\n",
    "# collision_in_range = collision_data[ss_col].between(*ss_info['range'])\n",
    "# el_bins = boosted_bins\n",
    "el_hist, el_bins = np.histogram(collision_data.loc[collision_data['electron'], ss_col], bins=1000, density=True)\n",
    "hists['Data17 Zee el'] = pd.DataFrame(np.column_stack([el_bins[:-1], el_bins[1:], el_hist]),\n",
    "                                        columns=HIST_DF_COLS)\n",
    "\n",
    "# jet_bins = el_bins\n",
    "jet_hist, jet_bins = np.histogram(collision_data.loc[collision_data['jet'], ss_col], bins=1000, density=True)\n",
    "hists['Data17 Zee jet'] = pd.DataFrame(np.column_stack([jet_bins[:-1], jet_bins[1:], jet_hist]),\n",
    "                                        columns=HIST_DF_COLS)"
   ]
  },
  {
   "cell_type": "code",
   "execution_count": 13,
   "id": "3f3085d6-71c2-4f15-9b87-fba9dcc0fdb2",
   "metadata": {},
   "outputs": [
    {
     "data": {
      "text/plain": [
       "Text(0.5, 1.0, '$E_{had1}$ distribution')"
      ]
     },
     "execution_count": 13,
     "metadata": {},
     "output_type": "execute_result"
    },
    {
     "data": {
      "image/png": "[encoded data removed]",
      "text/plain": [
       "<Figure size 1080x720 with 2 Axes>"
      ]
     },
     "metadata": {
      "needs_background": "light"
     },
     "output_type": "display_data"
    }
   ],
   "source": [
    "sub_ax_pos = [0.3, 0.3, 0.5, 0.45]\n",
    "fig, ax = plt.subplots(1,1, figsize=(15,10))\n",
    "zoomed_ax = fig.add_axes(sub_ax_pos)\n",
    "subsampled_hists = dict()\n",
    "for hist_name, hist_df in hists.items():\n",
    "    ax.bar(hist_df['bin_start'], hist_df['hist'], align='edge', width=(hist_df['bin_end'] - hist_df['bin_start']), label=hist_name, alpha=0.4, bottom=0)\n",
    "    zoomed_ax.bar(hist_df['bin_start'], hist_df['hist'], align='edge', width=(hist_df['bin_end'] - hist_df['bin_start']), label=hist_name, alpha=0.4, bottom=0)\n",
    "ax.set_xlim(-1e4, 0.4e6)\n",
    "ax.set_ylim(0, 5e-5)\n",
    "zoomed_ax.set_xlim(-1e4, 1e4)\n",
    "# ax.set_xlim(ss_info['jet_range'])\n",
    "# zoomed_ax.set_xlim(ss_info['electron_range'])\n",
    "ax.set_ylabel('Density')\n",
    "ax.set_xlabel(ss_info['label'])\n",
    "ax.legend(title='Data source')\n",
    "ax.set_title(f'{ss_info[\"label\"]} distribution', fontsize='xx-large')"
   ]
  },
  {
   "cell_type": "markdown",
   "id": "ed16a627-858e-4887-bcac-f7dfe98fe454",
   "metadata": {
    "tags": []
   },
   "source": [
    "### $f_1$"
   ]
  },
  {
   "cell_type": "code",
   "execution_count": 14,
   "id": "f96cb1d0-45b8-44d8-9631-b73b136229c6",
   "metadata": {},
   "outputs": [],
   "source": [
    "hists = dict()\n",
    "plot_ss = 'f1'\n",
    "ss_info = SHOWER_SHAPES[plot_ss]\n",
    "ss_col = STEP_PREFIX[ss_info['step']] + plot_ss\n",
    "\n",
    "boosted_in_range = boosted_data[ss_col].between(*ss_info['range'])\n",
    "boosted_bins = np.linspace(*ss_info['range'], num=1000)\n",
    "boosted_hist, _ = np.histogram(boosted_data.loc[boosted_in_range, ss_col], bins=boosted_bins, density=True)\n",
    "boosted_hist, boosted_bins = np.histogram(boosted_data.loc[:, ss_col], bins=1000, density=True)\n",
    "hists['MC16 Boosted el'] = pd.DataFrame(np.column_stack([boosted_bins[:-1], boosted_bins[1:], boosted_hist]),\n",
    "                                        columns=HIST_DF_COLS)\n",
    "\n",
    "collision_in_range = collision_data[ss_col].between(*ss_info['range'])\n",
    "el_bins = boosted_bins\n",
    "el_hist, el_bins = np.histogram(collision_data.loc[collision_data['electron'], ss_col], bins=el_bins, density=True)\n",
    "hists['Data17 Zee el'] = pd.DataFrame(np.column_stack([el_bins[:-1], el_bins[1:], el_hist]),\n",
    "                                        columns=HIST_DF_COLS)\n",
    "\n",
    "jet_bins = el_bins\n",
    "jet_hist, jet_bins = np.histogram(collision_data.loc[collision_data['jet'], ss_col], bins=jet_bins, density=True)\n",
    "hists['Data17 Zee jet'] = pd.DataFrame(np.column_stack([jet_bins[:-1], jet_bins[1:], jet_hist]),\n",
    "                                        columns=HIST_DF_COLS)"
   ]
  },
  {
   "cell_type": "code",
   "execution_count": 15,
   "id": "29372bf2-7674-48a5-b0ca-6f9715e002a4",
   "metadata": {},
   "outputs": [
    {
     "data": {
      "text/plain": [
       "Text(0.5, 1.0, '$f_1$ distribution')"
      ]
     },
     "execution_count": 15,
     "metadata": {},
     "output_type": "execute_result"
    },
    {
     "data": {
      "image/png": "[encoded data removed]",
      "text/plain": [
       "<Figure size 1080x720 with 1 Axes>"
      ]
     },
     "metadata": {
      "needs_background": "light"
     },
     "output_type": "display_data"
    }
   ],
   "source": [
    "# sub_ax_pos = [0.3, 0.3, 0.5, 0.45]\n",
    "fig, ax = plt.subplots(1,1, figsize=(15,10))\n",
    "# zoomed_ax = fig.add_axes(sub_ax_pos)\n",
    "subsampled_hists = dict()\n",
    "for hist_name, hist_df in hists.items():\n",
    "    subsampled_hist_df = subsample_hist_df(hist_df,10)\n",
    "    subsampled_hists[hist_name] = subsampled_hist_df\n",
    "    ax.bar(subsampled_hist_df['bin_start'], subsampled_hist_df['hist'], align='edge', width=(subsampled_hist_df['bin_end'] - subsampled_hist_df['bin_start']), label=hist_name, alpha=0.4, bottom=0)\n",
    "    # ax.bar(hist_df['bin_start'], hist_df['hist'], align='edge', width=(hist_df['bin_end'] - hist_df['bin_start']), label=hist_name, alpha=0.4, bottom=0)\n",
    "    # zoomed_ax.bar(subsampled_hist_df['bin_start'], subsampled_hist_df['hist'], align='edge', width=(subsampled_hist_df['bin_end'] - subsampled_hist_df['bin_start']), alpha=0.4, bottom=0)\n",
    "    #zoomed_ax.bar(hist_df['bin_start'], hist_df['hist'], align='edge', width=(hist_df['bin_end'] - hist_df['bin_start']), label=hist_name, alpha=0.4, bottom=0)\n",
    "# ax.set_xlim(-0.01, 0.2)\n",
    "# ax.set_ylim(0, 5e-5)\n",
    "# # ax.set_xlim(ss_info['jet_range'])\n",
    "# zoomed_ax.set_xlim(-0.01,0.075)\n",
    "ax.set_ylabel('Density')\n",
    "ax.set_xlabel(ss_info['label'])\n",
    "ax.legend(title='Data source')\n",
    "ax.set_title(f'{ss_info[\"label\"]} distribution', fontsize='xx-large')"
   ]
  },
  {
   "cell_type": "markdown",
   "id": "b7949d8a-b244-4fae-b879-20011f43d800",
   "metadata": {
    "tags": []
   },
   "source": [
    "### $f_3$"
   ]
  },
  {
   "cell_type": "code",
   "execution_count": 16,
   "id": "f0567eab-1283-441d-97f3-1f8eeb8ba900",
   "metadata": {},
   "outputs": [],
   "source": [
    "hists = dict()\n",
    "plot_ss = 'f3'\n",
    "ss_info = SHOWER_SHAPES[plot_ss]\n",
    "ss_col = STEP_PREFIX[ss_info['step']] + plot_ss\n",
    "\n",
    "boosted_in_range = boosted_data[ss_col].between(*ss_info['range'])\n",
    "boosted_bins = np.linspace(*ss_info['range'], num=1000)\n",
    "boosted_hist, _ = np.histogram(boosted_data.loc[boosted_in_range, ss_col], bins=boosted_bins, density=True)\n",
    "boosted_hist, boosted_bins = np.histogram(boosted_data.loc[:, ss_col], bins=1000, density=True)\n",
    "hists['MC16 Boosted el'] = pd.DataFrame(np.column_stack([boosted_bins[:-1], boosted_bins[1:], boosted_hist]),\n",
    "                                        columns=HIST_DF_COLS)\n",
    "\n",
    "collision_in_range = collision_data[ss_col].between(*ss_info['range'])\n",
    "el_bins = boosted_bins\n",
    "el_hist, el_bins = np.histogram(collision_data.loc[collision_data['electron'], ss_col], bins=el_bins, density=True)\n",
    "hists['Data17 Zee el'] = pd.DataFrame(np.column_stack([el_bins[:-1], el_bins[1:], el_hist]),\n",
    "                                        columns=HIST_DF_COLS)\n",
    "\n",
    "jet_bins = el_bins\n",
    "jet_hist, jet_bins = np.histogram(collision_data.loc[collision_data['jet'], ss_col], bins=jet_bins, density=True)\n",
    "hists['Data17 Zee jet'] = pd.DataFrame(np.column_stack([jet_bins[:-1], jet_bins[1:], jet_hist]),\n",
    "                                        columns=HIST_DF_COLS)"
   ]
  },
  {
   "cell_type": "code",
   "execution_count": 17,
   "id": "14e5de14-3642-44a6-a2c0-8357b8c2b252",
   "metadata": {},
   "outputs": [
    {
     "data": {
      "text/plain": [
       "Text(0.5, 1.0, '$f_3$ distribution')"
      ]
     },
     "execution_count": 17,
     "metadata": {},
     "output_type": "execute_result"
    },
    {
     "data": {
      "image/png": "[encoded data removed]",
      "text/plain": [
       "<Figure size 1080x720 with 2 Axes>"
      ]
     },
     "metadata": {
      "needs_background": "light"
     },
     "output_type": "display_data"
    }
   ],
   "source": [
    "sub_ax_pos = [0.3, 0.3, 0.5, 0.45]\n",
    "fig, ax = plt.subplots(1,1, figsize=(15,10))\n",
    "zoomed_ax = fig.add_axes(sub_ax_pos)\n",
    "subsampled_hists = dict()\n",
    "for hist_name, hist_df in hists.items():\n",
    "    # subsampled_hist_df = subsample_hist_df(hist_df,10)\n",
    "    # subsampled_hists[hist_name] = subsampled_hist_df\n",
    "    # ax.bar(subsampled_hist_df['bin_start'], subsampled_hist_df['hist'], align='edge', width=(subsampled_hist_df['bin_end'] - subsampled_hist_df['bin_start']), label=hist_name, alpha=0.4, bottom=0)\n",
    "    ax.bar(hist_df['bin_start'], hist_df['hist'], align='edge', width=(hist_df['bin_end'] - hist_df['bin_start']), label=hist_name, alpha=0.4, bottom=0)\n",
    "    #zoomed_ax.bar(subsampled_hist_df['bin_start'], subsampled_hist_df['hist'], align='edge', width=(subsampled_hist_df['bin_end'] - subsampled_hist_df['bin_start']), alpha=0.4, bottom=0)\n",
    "    zoomed_ax.bar(hist_df['bin_start'], hist_df['hist'], align='edge', width=(hist_df['bin_end'] - hist_df['bin_start']), label=hist_name, alpha=0.4, bottom=0)\n",
    "ax.set_xlim(-0.01, 0.2)\n",
    "# ax.set_ylim(0, 5e-5)\n",
    "# # ax.set_xlim(ss_info['jet_range'])\n",
    "zoomed_ax.set_xlim(-0.001,0.04)\n",
    "ax.set_ylabel('Density')\n",
    "ax.set_xlabel(ss_info['label'])\n",
    "ax.legend(title='Data source')\n",
    "ax.set_title(f'{ss_info[\"label\"]} distribution', fontsize='xx-large')"
   ]
  },
  {
   "cell_type": "markdown",
   "id": "9e47fef9-bda2-4b15-848f-edee0a2336b7",
   "metadata": {
    "tags": []
   },
   "source": [
    "### $\\omega_{\\eta 2}$"
   ]
  },
  {
   "cell_type": "code",
   "execution_count": 18,
   "id": "538d0887-318c-4c1f-9d87-0458cc1e56ea",
   "metadata": {},
   "outputs": [],
   "source": [
    "hists = dict()\n",
    "plot_ss = 'weta2'\n",
    "ss_info = SHOWER_SHAPES[plot_ss]\n",
    "ss_col = STEP_PREFIX[ss_info['step']] + plot_ss\n",
    "\n",
    "# boosted_in_range = boosted_data[ss_col].between(*ss_info['range'])\n",
    "# boosted_bins =  np.linspace(0.007, 0.0071, num=10)\n",
    "boosted_bins = np.linspace(0, 0.02, num=1000)\n",
    "# boosted_hist, _ = np.histogram(boosted_data.loc[boosted_in_range, ss_col], bins=boosted_bins, density=True)\n",
    "boosted_hist, boosted_bins = np.histogram(boosted_data.loc[:, ss_col], bins=boosted_bins, density=True)\n",
    "hists['MC16 Boosted el'] = pd.DataFrame(np.column_stack([boosted_bins[:-1], boosted_bins[1:], boosted_hist]),\n",
    "                                        columns=HIST_DF_COLS)\n",
    "\n",
    "# collision_in_range = collision_data[ss_col].between(*ss_info['range'])\n",
    "el_bins = np.linspace(0, 0.02, num=1000)\n",
    "el_hist, el_bins = np.histogram(collision_data.loc[collision_data['electron'], ss_col], bins=el_bins, density=True)\n",
    "hists['Data17 Zee el'] = pd.DataFrame(np.column_stack([el_bins[:-1], el_bins[1:], el_hist]),\n",
    "                                        columns=HIST_DF_COLS)\n",
    "\n",
    "jet_bins = np.linspace(0, 0.06, num=1000)\n",
    "jet_hist, jet_bins = np.histogram(collision_data.loc[collision_data['jet'], ss_col], bins=jet_bins, density=True)\n",
    "hists['Data17 Zee jet'] = pd.DataFrame(np.column_stack([jet_bins[:-1], jet_bins[1:], jet_hist]),\n",
    "                                        columns=HIST_DF_COLS)"
   ]
  },
  {
   "cell_type": "code",
   "execution_count": 19,
   "id": "d02bb535-37bc-47ac-93e8-fe3380880b59",
   "metadata": {},
   "outputs": [
    {
     "data": {
      "text/plain": [
       "Text(0.5, 1.0, '$\\\\omega_{\\\\eta 2}$ distribution')"
      ]
     },
     "execution_count": 19,
     "metadata": {},
     "output_type": "execute_result"
    },
    {
     "data": {
      "image/png": "[encoded data removed]",
      "text/plain": [
       "<Figure size 1080x720 with 1 Axes>"
      ]
     },
     "metadata": {
      "needs_background": "light"
     },
     "output_type": "display_data"
    }
   ],
   "source": [
    "# sub_ax_pos = [0.3, 0.3, 0.5, 0.45]\n",
    "fig, ax = plt.subplots(1,1, figsize=(15,10))\n",
    "# zoomed_ax = fig.add_axes(sub_ax_pos)\n",
    "subsampled_hists = dict()\n",
    "for hist_name, hist_df in hists.items():\n",
    "    ax.bar(hist_df['bin_start'], hist_df['hist'], align='edge', width=(hist_df['bin_end'] - hist_df['bin_start']), label=hist_name, alpha=0.4, bottom=0)\n",
    "#     zoomed_ax.bar(hist_df['bin_start'], hist_df['hist'], align='edge', width=(hist_df['bin_end'] - hist_df['bin_start']), label=hist_name, alpha=0.4, bottom=0)\n",
    "# ax.set_xlim(-1e4, 0.4e6)\n",
    "# ax.set_ylim(0, 5e-5)\n",
    "# zoomed_ax.set_xlim(-1e4, 1e4)\n",
    "# ax.set_xlim(ss_info['jet_range'])\n",
    "# zoomed_ax.set_xlim(ss_info['electron_range'])\n",
    "ax.set_xlim(5e-3,0.03)\n",
    "ax.set_ylabel('Density')\n",
    "ax.set_xlabel(ss_info['label'])\n",
    "ax.legend(title='Data source')\n",
    "ax.set_title(f'{ss_info[\"label\"]} distribution', fontsize='xx-large')"
   ]
  },
  {
   "cell_type": "markdown",
   "id": "278f417c-ab11-4add-bef2-79cbfab06999",
   "metadata": {
    "tags": []
   },
   "source": [
    "### $w_{stot}$\n",
    "\n",
    "Esse shower shape é uma raiz, portanto, deve possuir apenas valores positivos. Nos datasets existem amostras com valores negativos que acredito terem surgido de algum erro no processo de aquisição. Considerou-se apenas os valores positivos para cálculo "
   ]
  },
  {
   "cell_type": "code",
   "execution_count": 20,
   "id": "02fdf9d4-6f76-4368-8174-b1b067be9c45",
   "metadata": {},
   "outputs": [],
   "source": [
    "hists = dict()\n",
    "plot_ss = 'wstot'\n",
    "ss_info = SHOWER_SHAPES[plot_ss]\n",
    "ss_col = STEP_PREFIX[ss_info['step']] + plot_ss\n",
    "\n",
    "# boosted_in_range = boosted_data[ss_col].between(*ss_info['range'])\n",
    "# boosted_bins =  np.linspace(0.007, 0.0071, num=10)\n",
    "boosted_bins = 500\n",
    "boosted_valid = boosted_data[ss_col] >= 0\n",
    "# boosted_hist, _ = np.histogram(boosted_data.loc[boosted_in_range, ss_col], bins=boosted_bins, density=True)\n",
    "boosted_hist, boosted_bins = np.histogram(boosted_data.loc[boosted_valid, ss_col], bins=boosted_bins, density=True)\n",
    "hists['MC16 Boosted el'] = pd.DataFrame(np.column_stack([boosted_bins[:-1], boosted_bins[1:], boosted_hist]),\n",
    "                                        columns=HIST_DF_COLS)\n",
    "\n",
    "# collision_in_range = collision_data[ss_col].between(*ss_info['range'])\n",
    "el_bins = 100\n",
    "collision_valid = collision_data[ss_col] >= 0\n",
    "el_hist, el_bins = np.histogram(collision_data.loc[collision_data['electron'] & collision_valid, ss_col], bins=el_bins, density=True)\n",
    "hists['Data17 Zee el'] = pd.DataFrame(np.column_stack([el_bins[:-1], el_bins[1:], el_hist]),\n",
    "                                        columns=HIST_DF_COLS)\n",
    "\n",
    "jet_bins = 100\n",
    "jet_hist, jet_bins = np.histogram(collision_data.loc[collision_data['jet'] & collision_valid, ss_col], bins=jet_bins, density=True)\n",
    "hists['Data17 Zee jet'] = pd.DataFrame(np.column_stack([jet_bins[:-1], jet_bins[1:], jet_hist]),\n",
    "                                        columns=HIST_DF_COLS)"
   ]
  },
  {
   "cell_type": "code",
   "execution_count": 21,
   "id": "c53a3ef3-b92e-43b4-ad18-ffe1dcc90fad",
   "metadata": {},
   "outputs": [
    {
     "data": {
      "text/plain": [
       "Text(0.5, 1.0, '$\\\\omega_{stot}$ distribution')"
      ]
     },
     "execution_count": 21,
     "metadata": {},
     "output_type": "execute_result"
    },
    {
     "data": {
      "image/png": "[encoded data removed]",
      "text/plain": [
       "<Figure size 1080x720 with 2 Axes>"
      ]
     },
     "metadata": {
      "needs_background": "light"
     },
     "output_type": "display_data"
    }
   ],
   "source": [
    "sub_ax_pos = [0.42, 0.3, 0.4, 0.4]\n",
    "fig, ax = plt.subplots(1,1, figsize=(15,10))\n",
    "zoomed_ax = fig.add_axes(sub_ax_pos)\n",
    "subsampled_hists = dict()\n",
    "for hist_name, hist_df in hists.items():\n",
    "    ax.bar(hist_df['bin_start'], hist_df['hist'], align='edge', width=(hist_df['bin_end'] - hist_df['bin_start']), label=hist_name, alpha=0.4, bottom=0)\n",
    "    zoomed_ax.bar(hist_df['bin_start'], hist_df['hist'], align='edge', width=(hist_df['bin_end'] - hist_df['bin_start']), label=hist_name, alpha=0.4, bottom=0)\n",
    "# ax.set_xlim(-1e4, 0.4e6)\n",
    "# ax.set_ylim(0, 5e-5)\n",
    "zoomed_ax.set_xlim(0.8,3)\n",
    "# ax.set_xlim(ss_info['jet_range'])\n",
    "# zoomed_ax.set_xlim(ss_info['electron_range'])\n",
    "ax.set_xlim(0,7.5)\n",
    "ax.set_ylabel('Density')\n",
    "ax.set_xlabel(ss_info['label'])\n",
    "ax.legend(title='Data source')\n",
    "ax.set_title(f'{ss_info[\"label\"]} distribution', fontsize='xx-large')"
   ]
  },
  {
   "cell_type": "markdown",
   "id": "19631cea-ba26-4770-8ea7-f529e8715d05",
   "metadata": {
    "tags": []
   },
   "source": [
    "### Não sei o nome ainda\n",
    "Para esse shower shape existe um pico de valores negativos para o bin de (-1000.000000,-993.993994) o restante dos valores são todos positivos. Essa caracter;ística e o fato que o nome da coluna começa com \"e\" me leva a entender que a grandeza representa alguma forma de energia e os valores em negativo são devido a algum erro na aquisiçào da medida."
   ]
  },
  {
   "cell_type": "code",
   "execution_count": 22,
   "id": "d1d81983-1fd2-4884-be58-0368ce567d6a",
   "metadata": {},
   "outputs": [],
   "source": [
    "hists = dict()\n",
    "plot_ss = 'e2tsts1'\n",
    "ss_info = SHOWER_SHAPES[plot_ss]\n",
    "ss_col = STEP_PREFIX[ss_info['step']] + plot_ss\n",
    "\n",
    "# boosted_in_range = boosted_data[ss_col].between(*ss_info['range'])\n",
    "# boosted_bins =  np.linspace(0.007, 0.0071, num=10)\n",
    "boosted_bins = np.linspace(0, 5000, num=1000)\n",
    "boosted_valid = boosted_data[ss_col] >= 0\n",
    "# boosted_hist, _ = np.histogram(boosted_data.loc[boosted_in_range, ss_col], bins=boosted_bins, density=True)\n",
    "boosted_hist, boosted_bins = np.histogram(boosted_data.loc[:, ss_col], bins=boosted_bins, density=True)\n",
    "hists['MC16 Boosted el'] = pd.DataFrame(np.column_stack([boosted_bins[:-1], boosted_bins[1:], boosted_hist]),\n",
    "                                        columns=HIST_DF_COLS)\n",
    "\n",
    "# collision_in_range = collision_data[ss_col].between(*ss_info['range'])\n",
    "el_bins = boosted_bins\n",
    "collision_valid = collision_data[ss_col] >= 0\n",
    "el_hist, el_bins = np.histogram(collision_data.loc[collision_data['electron'], ss_col], bins=el_bins, density=True)\n",
    "hists['Data17 Zee el'] = pd.DataFrame(np.column_stack([el_bins[:-1], el_bins[1:], el_hist]),\n",
    "                                        columns=HIST_DF_COLS)\n",
    "\n",
    "jet_bins = np.linspace(0, 20000, num=1000)\n",
    "jet_hist, jet_bins = np.histogram(collision_data.loc[collision_data['jet'], ss_col], bins=jet_bins, density=True)\n",
    "hists['Data17 Zee jet'] = pd.DataFrame(np.column_stack([jet_bins[:-1], jet_bins[1:], jet_hist]),\n",
    "                                        columns=HIST_DF_COLS)"
   ]
  },
  {
   "cell_type": "code",
   "execution_count": 23,
   "id": "5f409a83-18a5-4a88-b1e9-ea73f66c16ab",
   "metadata": {},
   "outputs": [
    {
     "data": {
      "text/plain": [
       "Text(0.5, 1.0, 'no label distribution')"
      ]
     },
     "execution_count": 23,
     "metadata": {},
     "output_type": "execute_result"
    },
    {
     "data": {
      "image/png": "[encoded data removed]",
      "text/plain": [
       "<Figure size 1080x720 with 2 Axes>"
      ]
     },
     "metadata": {
      "needs_background": "light"
     },
     "output_type": "display_data"
    }
   ],
   "source": [
    "sub_ax_pos = [0.3, 0.3, 0.5, 0.45]\n",
    "fig, ax = plt.subplots(1,1, figsize=(15,10))\n",
    "zoomed_ax = fig.add_axes(sub_ax_pos)\n",
    "subsampled_hists = dict()\n",
    "for hist_name, hist_df in hists.items():\n",
    "    ax.bar(hist_df['bin_start'], hist_df['hist'], align='edge', width=(hist_df['bin_end'] - hist_df['bin_start']), label=hist_name, alpha=0.4, bottom=0)\n",
    "    zoomed_ax.bar(hist_df['bin_start'], hist_df['hist'], align='edge', width=(hist_df['bin_end'] - hist_df['bin_start']), label=hist_name, alpha=0.4, bottom=0)\n",
    "# ax.set_ylim(0, 5e-5)\n",
    "# zoomed_ax.set_xlim(ss_info['electron_range'])\n",
    "zoomed_ax.set_xlim(-25, 1e3)\n",
    "ax.set_xlim(-0.5e3, 20e3)\n",
    "ax.set_ylabel('Density')\n",
    "ax.set_xlabel(ss_info['label'])\n",
    "ax.legend(title='Data source')\n",
    "ax.set_title(f'{ss_info[\"label\"]} distribution', fontsize='xx-large')"
   ]
  },
  {
   "cell_type": "code",
   "execution_count": 24,
   "id": "7d514056-9a95-403e-bbbd-8d1f9aa9fdb1",
   "metadata": {},
   "outputs": [],
   "source": [
    "plt.close('all')"
   ]
  }
 ],
 "metadata": {
  "kernelspec": {
   "display_name": "Python 3",
   "language": "python",
   "name": "python3"
  },
  "language_info": {
   "codemirror_mode": {
    "name": "ipython",
    "version": 3
   },
   "file_extension": ".py",
   "mimetype": "text/x-python",
   "name": "python",
   "nbconvert_exporter": "python",
   "pygments_lexer": "ipython3",
   "version": "3.6.9"
  }
 },
 "nbformat": 4,
 "nbformat_minor": 5
}
