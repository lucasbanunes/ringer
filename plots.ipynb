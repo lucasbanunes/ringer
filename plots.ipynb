{
 "cells": [
  {
   "cell_type": "code",
   "execution_count": 1,
   "id": "ba6b3e87-b6b8-4c53-bc00-14ba491e94be",
   "metadata": {},
   "outputs": [
    {
     "name": "stdout",
     "output_type": "stream",
     "text": [
      "Welcome to JupyROOT 6.16/00\n",
      "Using all sub packages with ROOT dependence\n"
     ]
    }
   ],
   "source": [
    "import os\n",
    "import glob\n",
    "import json\n",
    "from itertools import product\n",
    "import numpy as np\n",
    "import pandas as pd\n",
    "import matplotlib as mpl\n",
    "import matplotlib.pyplot as plt\n",
    "import mplhep as hep\n",
    "plt.style.use(hep.style.ROOT)\n",
    "plt.rc('legend',fontsize='large')\n",
    "plt.rc('axes',labelsize='x-large')\n",
    "plt.rc('text',usetex='true')\n",
    "import seaborn as sns\n",
    "import joblib\n",
    "from packages.constants import HOME_PATH, SHOWER_SHAPES, STEP_PREFIX\n",
    "from packages.utils import get_electron_label, get_jet_label\n",
    "import packages.plotting as plotting\n",
    "%matplotlib inline"
   ]
  },
  {
   "cell_type": "markdown",
   "id": "3d851098-4161-4f40-a199-2c38554ed9fb",
   "metadata": {
    "tags": []
   },
   "source": [
    "## Distribution plots"
   ]
  },
  {
   "cell_type": "code",
   "execution_count": 2,
   "id": "c33fb271-a4bf-4ab9-9807-c6049c4fa553",
   "metadata": {},
   "outputs": [
    {
     "data": {
      "text/plain": [
       "['trig_L2_cl_reta', 'trig_L2_cl_eratio']"
      ]
     },
     "execution_count": 2,
     "metadata": {},
     "output_type": "execute_result"
    }
   ],
   "source": [
    "plot_cols = ['Boosted MC16 el', 'Data17 Zee el', 'Data17 Zee jet']\n",
    "plot_ss = 'et'\n",
    "step = 'L2Calo'\n",
    "plot_ss = 'eratio'\n",
    "ss_info = SHOWER_SHAPES[plot_ss]\n",
    "ss_col = STEP_PREFIX[step] + plot_ss\n",
    "stat = 'density'\n",
    "datapath = os.path.join(HOME_PATH, 'data')\n",
    "collision_path = os.path.join(datapath, 'ided_data17_13TeV.AllPeriods.sgn.probes_lhvloose_EGAM1.bkg.vprobes_vlhvloose_EGAM7.GRL_v97.25bins.parquet', \n",
    "                              'ided_data17_13TeV.AllPeriods.sgn.probes_lhvloose_EGAM1.bkg.vprobes_vlhvloose_EGAM7.GRL_v97.25bins.parquet_et4_eta4.parquet')\n",
    "boosted_path = os.path.join(datapath, 'ided_mc16_13TeV.302236_309995_341330.sgn.boosted_probes.WZ_llqq_plus_radion_ZZ_llqq_plus_ggH3000.merge.25bins.v2.parquet')\n",
    "\n",
    "shower_shapes = [STEP_PREFIX[step] + ss for ss in SHOWER_SHAPES.keys()]\n",
    "shower_shapes"
   ]
  },
  {
   "cell_type": "code",
   "execution_count": 3,
   "id": "91027a43-6c99-4902-a127-7cae07f2bc5f",
   "metadata": {},
   "outputs": [
    {
     "data": {
      "text/html": [
       "<div>\n",
       "<style scoped>\n",
       "    .dataframe tbody tr th:only-of-type {\n",
       "        vertical-align: middle;\n",
       "    }\n",
       "\n",
       "    .dataframe tbody tr th {\n",
       "        vertical-align: top;\n",
       "    }\n",
       "\n",
       "    .dataframe thead th {\n",
       "        text-align: right;\n",
       "    }\n",
       "</style>\n",
       "<table border=\"1\" class=\"dataframe\">\n",
       "  <thead>\n",
       "    <tr style=\"text-align: right;\">\n",
       "      <th></th>\n",
       "      <th>trig_L2_cl_reta</th>\n",
       "      <th>trig_L2_cl_eratio</th>\n",
       "      <th>source</th>\n",
       "    </tr>\n",
       "  </thead>\n",
       "  <tbody>\n",
       "    <tr>\n",
       "      <th>0</th>\n",
       "      <td>0.925877</td>\n",
       "      <td>0.982229</td>\n",
       "      <td>Boosted MC16 el</td>\n",
       "    </tr>\n",
       "    <tr>\n",
       "      <th>1</th>\n",
       "      <td>0.988089</td>\n",
       "      <td>0.816197</td>\n",
       "      <td>Boosted MC16 el</td>\n",
       "    </tr>\n",
       "    <tr>\n",
       "      <th>2</th>\n",
       "      <td>0.935216</td>\n",
       "      <td>0.890477</td>\n",
       "      <td>Boosted MC16 el</td>\n",
       "    </tr>\n",
       "    <tr>\n",
       "      <th>3</th>\n",
       "      <td>0.962935</td>\n",
       "      <td>0.948033</td>\n",
       "      <td>Boosted MC16 el</td>\n",
       "    </tr>\n",
       "    <tr>\n",
       "      <th>4</th>\n",
       "      <td>0.670090</td>\n",
       "      <td>0.138930</td>\n",
       "      <td>Boosted MC16 el</td>\n",
       "    </tr>\n",
       "  </tbody>\n",
       "</table>\n",
       "</div>"
      ],
      "text/plain": [
       "   trig_L2_cl_reta  trig_L2_cl_eratio           source\n",
       "0         0.925877           0.982229  Boosted MC16 el\n",
       "1         0.988089           0.816197  Boosted MC16 el\n",
       "2         0.935216           0.890477  Boosted MC16 el\n",
       "3         0.962935           0.948033  Boosted MC16 el\n",
       "4         0.670090           0.138930  Boosted MC16 el"
      ]
     },
     "execution_count": 3,
     "metadata": {},
     "output_type": "execute_result"
    }
   ],
   "source": [
    "boosted_data = pd.read_parquet(boosted_path, columns=shower_shapes)\n",
    "boosted_data.loc[:, 'source'] = 'Boosted MC16 el'\n",
    "boosted_data.head()"
   ]
  },
  {
   "cell_type": "code",
   "execution_count": 4,
   "id": "cf4a1ea2-5a90-4701-85c0-a56e2b2ef589",
   "metadata": {},
   "outputs": [
    {
     "name": "stdout",
     "output_type": "stream",
     "text": [
      "(198565, 5)\n",
      "There are 93785 jets\n",
      "There are 89782 electrons\n"
     ]
    },
    {
     "data": {
      "text/plain": [
       "(183567, 5)"
      ]
     },
     "execution_count": 4,
     "metadata": {},
     "output_type": "execute_result"
    }
   ],
   "source": [
    "add_cols = ['target', 'el_lhmedium', 'el_lhvloose']\n",
    "collision_data = pd.read_parquet(collision_path, columns=shower_shapes + add_cols)\n",
    "print(collision_data.shape)\n",
    "jet_label = get_jet_label(collision_data, 'el_lhvloose')\n",
    "collision_data['jet'] = jet_label\n",
    "print(f'There are {jet_label.sum()} jets')\n",
    "electron_label = get_electron_label(collision_data, 'el_lhmedium')\n",
    "collision_data['electron'] = electron_label\n",
    "print(f'There are {electron_label.sum()} electrons')\n",
    "collision_data.loc[electron_label, 'source'] = 'Data17 Zee el'\n",
    "collision_data.loc[jet_label, 'source'] = 'Data17 Zee jet'\n",
    "collision_data = collision_data.loc[~collision_data['source'].isnull()]\n",
    "collision_data.drop(add_cols, axis=1, inplace=True)\n",
    "collision_data.shape"
   ]
  },
  {
   "cell_type": "markdown",
   "id": "9f224df4-7f77-4fe8-805b-294a2db1a823",
   "metadata": {
    "tags": []
   },
   "source": [
    "### $E_{ratio}$"
   ]
  },
  {
   "cell_type": "code",
   "execution_count": 5,
   "id": "990fe58d-2c74-44c3-8d6a-f436e8e1cfae",
   "metadata": {},
   "outputs": [
    {
     "data": {
      "text/html": [
       "<div>\n",
       "<style scoped>\n",
       "    .dataframe tbody tr th:only-of-type {\n",
       "        vertical-align: middle;\n",
       "    }\n",
       "\n",
       "    .dataframe tbody tr th {\n",
       "        vertical-align: top;\n",
       "    }\n",
       "\n",
       "    .dataframe thead th {\n",
       "        text-align: right;\n",
       "    }\n",
       "</style>\n",
       "<table border=\"1\" class=\"dataframe\">\n",
       "  <thead>\n",
       "    <tr style=\"text-align: right;\">\n",
       "      <th></th>\n",
       "      <th>bin_start</th>\n",
       "      <th>bin_end</th>\n",
       "      <th>Boosted MC16 el</th>\n",
       "      <th>Data17 Zee el</th>\n",
       "      <th>Data17 Zee jet</th>\n",
       "    </tr>\n",
       "  </thead>\n",
       "  <tbody>\n",
       "    <tr>\n",
       "      <th>989</th>\n",
       "      <td>0.989990</td>\n",
       "      <td>0.990991</td>\n",
       "      <td>49.972284</td>\n",
       "      <td>41.796445</td>\n",
       "      <td>2.078330</td>\n",
       "    </tr>\n",
       "    <tr>\n",
       "      <th>990</th>\n",
       "      <td>0.990991</td>\n",
       "      <td>0.991992</td>\n",
       "      <td>53.537754</td>\n",
       "      <td>45.405810</td>\n",
       "      <td>2.271663</td>\n",
       "    </tr>\n",
       "    <tr>\n",
       "      <th>991</th>\n",
       "      <td>0.991992</td>\n",
       "      <td>0.992993</td>\n",
       "      <td>60.069805</td>\n",
       "      <td>38.764578</td>\n",
       "      <td>1.304998</td>\n",
       "    </tr>\n",
       "    <tr>\n",
       "      <th>992</th>\n",
       "      <td>0.992993</td>\n",
       "      <td>0.993994</td>\n",
       "      <td>63.245302</td>\n",
       "      <td>40.208324</td>\n",
       "      <td>1.111665</td>\n",
       "    </tr>\n",
       "    <tr>\n",
       "      <th>993</th>\n",
       "      <td>0.993994</td>\n",
       "      <td>0.994995</td>\n",
       "      <td>68.565651</td>\n",
       "      <td>31.618036</td>\n",
       "      <td>1.111665</td>\n",
       "    </tr>\n",
       "    <tr>\n",
       "      <th>994</th>\n",
       "      <td>0.994995</td>\n",
       "      <td>0.995996</td>\n",
       "      <td>73.217474</td>\n",
       "      <td>25.626490</td>\n",
       "      <td>0.290000</td>\n",
       "    </tr>\n",
       "    <tr>\n",
       "      <th>995</th>\n",
       "      <td>0.995996</td>\n",
       "      <td>0.996997</td>\n",
       "      <td>66.462581</td>\n",
       "      <td>18.768697</td>\n",
       "      <td>0.531666</td>\n",
       "    </tr>\n",
       "    <tr>\n",
       "      <th>996</th>\n",
       "      <td>0.996997</td>\n",
       "      <td>0.997998</td>\n",
       "      <td>47.326037</td>\n",
       "      <td>14.293085</td>\n",
       "      <td>0.145000</td>\n",
       "    </tr>\n",
       "    <tr>\n",
       "      <th>997</th>\n",
       "      <td>0.997998</td>\n",
       "      <td>0.998999</td>\n",
       "      <td>18.718715</td>\n",
       "      <td>9.889660</td>\n",
       "      <td>0.096667</td>\n",
       "    </tr>\n",
       "    <tr>\n",
       "      <th>998</th>\n",
       "      <td>0.998999</td>\n",
       "      <td>1.000000</td>\n",
       "      <td>3.217279</td>\n",
       "      <td>6.135920</td>\n",
       "      <td>0.000000</td>\n",
       "    </tr>\n",
       "  </tbody>\n",
       "</table>\n",
       "</div>"
      ],
      "text/plain": [
       "     bin_start   bin_end  Boosted MC16 el  Data17 Zee el  Data17 Zee jet\n",
       "989   0.989990  0.990991        49.972284      41.796445        2.078330\n",
       "990   0.990991  0.991992        53.537754      45.405810        2.271663\n",
       "991   0.991992  0.992993        60.069805      38.764578        1.304998\n",
       "992   0.992993  0.993994        63.245302      40.208324        1.111665\n",
       "993   0.993994  0.994995        68.565651      31.618036        1.111665\n",
       "994   0.994995  0.995996        73.217474      25.626490        0.290000\n",
       "995   0.995996  0.996997        66.462581      18.768697        0.531666\n",
       "996   0.996997  0.997998        47.326037      14.293085        0.145000\n",
       "997   0.997998  0.998999        18.718715       9.889660        0.096667\n",
       "998   0.998999  1.000000         3.217279       6.135920        0.000000"
      ]
     },
     "execution_count": 5,
     "metadata": {},
     "output_type": "execute_result"
    }
   ],
   "source": [
    "num_bins = 1000\n",
    "bar_width = (ss_info['range'][1] - ss_info['range'][0])/num_bins\n",
    "bins = np.linspace(*ss_info['range'], num=num_bins)\n",
    "bin_start = bins[:-1]\n",
    "bin_end = bins[1:]\n",
    "in_range = collision_data[ss_col].between(*ss_info['range'])\n",
    "binned_boosted, _ = np.histogram(boosted_data.loc[boosted_data[ss_col].between(*ss_info['range']), ss_col], bins=bins, density=True)\n",
    "binned_electron, _ = np.histogram(collision_data.loc[collision_data['electron'] & in_range, ss_col], bins=bins, density=True)\n",
    "binned_jets, _ = np.histogram(collision_data.loc[collision_data['jet'] & in_range, ss_col], bins=bins, density=True)\n",
    "binned_data = np.column_stack([bin_start, bin_end, binned_boosted, binned_electron, binned_jets])\n",
    "binned_data = pd.DataFrame(binned_data, columns=['bin_start', 'bin_end', 'Boosted MC16 el', 'Data17 Zee el', 'Data17 Zee jet'])\n",
    "binned_data.tail(10)"
   ]
  },
  {
   "cell_type": "code",
   "execution_count": 6,
   "id": "adc31cf0-edbe-40ae-861f-8dade792e2c8",
   "metadata": {},
   "outputs": [
    {
     "data": {
      "text/plain": [
       "<matplotlib.axes._axes.Axes at 0x7f7bed176e10>"
      ]
     },
     "execution_count": 6,
     "metadata": {},
     "output_type": "execute_result"
    },
    {
     "data": {
      "image/png": "[encoded data removed]",
      "text/plain": [
       "<Figure size 1080x720 with 2 Axes>"
      ]
     },
     "metadata": {
      "needs_background": "light"
     },
     "output_type": "display_data"
    }
   ],
   "source": [
    "plot_ss = 'eratio'\n",
    "ss_info = SHOWER_SHAPES[plot_ss]\n",
    "fig, ax = plt.subplots(1,1, figsize=(15,10))\n",
    "ax = plotting.hist1d_from_bins_df(binned_data, cols=plot_cols, ax=ax, ylabel='Density', xlim=ss_info['electron_range'], xlabel=ss_info['label'], legend='Data source')\n",
    "zoomed_ax = fig.add_axes([0.15, 0.3, 0.5, 0.45])\n",
    "subsampled_binned = plotting.subsample_bins_df(binned_data, 10)\n",
    "plotting.hist1d_from_bins_df(subsampled_binned, cols=plot_cols, ax=zoomed_ax, legend=False, ylim=(0, 3))"
   ]
  },
  {
   "cell_type": "code",
   "execution_count": 7,
   "id": "6447c3da-907b-43ba-8adc-a39aa2687465",
   "metadata": {},
   "outputs": [
    {
     "name": "stdout",
     "output_type": "stream",
     "text": [
      "Boosted MC16 el 1.0\n",
      "Data17 Zee el 0.9999999999999999\n",
      "Data17 Zee jet 1.0\n"
     ]
    }
   ],
   "source": [
    "for col in plot_cols:\n",
    "    print(col, (binned_data[col] * (binned_data['bin_end'] - binned_data['bin_start'])).sum())"
   ]
  },
  {
   "cell_type": "code",
   "execution_count": 8,
   "id": "ccf472f3-eac6-4e02-84f7-a4dd3c5fcb70",
   "metadata": {},
   "outputs": [
    {
     "name": "stdout",
     "output_type": "stream",
     "text": [
      "Boosted MC16 el 1.0\n",
      "Data17 Zee el 1.0000000000000002\n",
      "Data17 Zee jet 1.0\n"
     ]
    }
   ],
   "source": [
    "for col in plot_cols:\n",
    "    print(col, (subsampled_binned[col] * (subsampled_binned['bin_end'] - subsampled_binned['bin_start'])).sum())"
   ]
  },
  {
   "cell_type": "markdown",
   "id": "c193082b-3293-4af8-8e4c-7499257e79ce",
   "metadata": {},
   "source": [
    "## Eff plots"
   ]
  }
 ],
 "metadata": {
  "kernelspec": {
   "display_name": "Python 3",
   "language": "python",
   "name": "python3"
  },
  "language_info": {
   "codemirror_mode": {
    "name": "ipython",
    "version": 3
   },
   "file_extension": ".py",
   "mimetype": "text/x-python",
   "name": "python",
   "nbconvert_exporter": "python",
   "pygments_lexer": "ipython3",
   "version": "3.6.9"
  }
 },
 "nbformat": 4,
 "nbformat_minor": 5
}
