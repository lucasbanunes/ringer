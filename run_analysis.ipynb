{
 "cells": [
  {
   "cell_type": "code",
   "execution_count": 1,
   "metadata": {},
   "outputs": [
    {
     "name": "stdout",
     "output_type": "stream",
     "text": [
      "Welcome to JupyROOT 6.16/00\n",
      "Using all sub packages with ROOT dependence\n"
     ]
    }
   ],
   "source": [
    "from kepler.pandas.menu       import ElectronSequence as Chain\n",
    "from kepler.pandas.readers    import load, load_in_loop\n",
    "from kepler.pandas.decorators import RingerDecorator\n",
    "from collections import defaultdict\n",
    "from typing import List\n",
    "\n",
    "import kepler\n",
    "from itertools import product\n",
    "import rootplotlib as rpl\n",
    "import mplhep as hep\n",
    "import root_numpy\n",
    "import ROOT\n",
    "ROOT.gStyle.SetOptStat(0);\n",
    "import array\n",
    "\n",
    "import numpy as np\n",
    "import pandas as pd\n",
    "import collections\n",
    "import glob\n",
    "import os\n",
    "from pprint import pprint\n",
    "from copy import deepcopy\n",
    "import gc\n",
    "import logging\n",
    "from datetime import datetime\n",
    "\n",
    "\n",
    "import matplotlib.pyplot as plt\n",
    "from matplotlib import gridspec\n",
    "%matplotlib inline\n",
    "\n",
    "import mplhep as hep\n",
    "\n",
    "import warnings\n",
    "warnings.filterwarnings('ignore')\n",
    "plt.style.use(hep.style.ROOT)\n",
    "\n",
    "from packages.generators import ring_percentages, RingGenerator\n",
    "from packages.plotting import make_plot_fig"
   ]
  },
  {
   "cell_type": "code",
   "execution_count": 2,
   "metadata": {},
   "outputs": [],
   "source": [
    "drop_cols = drop_columns = [\n",
    "                    'RunNumber', \n",
    "                    'trig_L2_cl_e2tsts1',\n",
    "                    'trig_L2_el_hastrack',\n",
    "                    'trig_L2_el_eta',\n",
    "                    'trig_L2_el_phi',\n",
    "                    'trig_L2_el_caloEta',\n",
    "                    'trig_L2_el_trkClusDeta',\n",
    "                    'trig_L2_el_trkClusDphi',\n",
    "                    'trig_L2_el_etOverPt',\n",
    "                    'trig_EF_cl_hascluster',\n",
    "                    'trig_EF_cl_eta',\n",
    "                    'trig_EF_cl_etaBE2',\n",
    "                    'trig_EF_cl_phi',     \n",
    "                    'trig_EF_el_hascand',\n",
    "                    'trig_EF_el_eta',\n",
    "                    'trig_EF_el_etaBE2',\n",
    "                    'trig_EF_el_phi',\n",
    "                    'trig_EF_el_rhad1',\n",
    "                    'trig_EF_el_rhad',\n",
    "                    'trig_EF_el_f3',\n",
    "                    'trig_EF_el_weta2',\n",
    "                    'trig_EF_el_rphi',\n",
    "                    'trig_EF_el_reta',\n",
    "                    'trig_EF_el_wtots1',\n",
    "                    'trig_EF_el_eratio',\n",
    "                    'trig_EF_el_f1',\n",
    "                    'trig_EF_el_hastrack',\n",
    "                    'trig_EF_el_deltaEta1',\n",
    "                    'trig_EF_el_deltaPhi2',\n",
    "                    'trig_EF_el_deltaPhi2Rescaled',\n",
    "                    'el_etaBE2',\n",
    "                    'el_numberOfBLayerHits',\n",
    "                    'el_numberOfPixelHits',\n",
    "                    'el_numberOfTRTHits',\n",
    "                    'el_trans_TRT_PID',\n",
    "                    'el_deltaPhi2',\n",
    "                    'el_TaP_Mass',\n",
    "                ]\n",
    "\n",
    "base_chain_names = [\n",
    "     'e24_lhtight_nod0_{strategy}_ivarloose',\n",
    "     'e26_lhtight_nod0_{strategy}_ivarloose',\n",
    "     'e60_lhmedium_nod0_{strategy}_L1EM24VHI',\n",
    "     'e140_lhloose_nod0_{strategy}'\n",
    "]\n",
    "\n",
    "trigger_steps = ['L2Calo', 'L2', 'EFCalo', 'HLT']\n",
    "\n",
    "# boosted_chains = [\n",
    "#     \"HLT_e24_lhtight_nod0_{strategy}_v20_ivarloose\",\n",
    "#     \"HLT_e26_lhtight_nod0_{strategy}_ivarloose\",,\n",
    "#     \"HLT_e60_lhmedium_nod0_{strategy}_L1EM24VHI\",\n",
    "#     \"HLT_e140_lhloose_nod0_{strategy}\"\n",
    "# ]\n",
    "\n",
    "l1seeds_per_energy = {\n",
    "    24: 'L1_EM22VHI',\n",
    "    26: 'L1_EM22VHI',\n",
    "    60: 'L1_EM24VHI',\n",
    "    140: 'L1_EM24VHI'\n",
    "}\n",
    "\n",
    "conf_names = [\n",
    "    'ElectronRingerLooseTriggerConfig.conf',\n",
    "    'ElectronRingerMediumTriggerConfig.conf',\n",
    "    'ElectronRingerTightTriggerConfig.conf',\n",
    "    'ElectronRingerVeryLooseTriggerConfig.conf'\n",
    "]\n",
    "\n",
    "criteria = ['tight', 'medium', 'loose', 'vloose']\n",
    "\n",
    "# plot_vars = ['et', 'eta', 'pt', 'mu']"
   ]
  },
  {
   "cell_type": "code",
   "execution_count": 3,
   "metadata": {},
   "outputs": [],
   "source": [
    "def get_logger():\n",
    "    logger = logging.getLogger('analysis_logger')\n",
    "    logger.setLevel(logging.INFO)\n",
    "    now = datetime.today().strftime('%Y_%m_%d_%H_%M_%S')\n",
    "    log_filename = f'run_analysis_{now}'\n",
    "    #file_handler = logging.FileHandler(log_filename, mode='w')\n",
    "    formatter = logging.Formatter('%(asctime)s - %(message)s')\n",
    "    #file_handler.setFormatter(formatter)\n",
    "    #logger.addHandler(file_handler)\n",
    "    stream_handler = logging.StreamHandler()\n",
    "    stream_handler.setFormatter(formatter)\n",
    "    logger.addHandler(stream_handler)\n",
    "    return logger\n",
    "\n",
    "analysis_logger = get_logger()"
   ]
  },
  {
   "cell_type": "code",
   "execution_count": 4,
   "metadata": {},
   "outputs": [],
   "source": [
    "modelpaths = [\n",
    "    'tunings/TrigL2_20180125_v8',\n",
    "    'tunings/TrigL2_20210907_v12 (v8.1-2)',\n",
    "    'tunings/TrigL2_20220704_v20',\n",
    "    'tunings/TrigL2_20220802_v20.1'\n",
    "]"
   ]
  },
  {
   "cell_type": "code",
   "execution_count": 5,
   "metadata": {},
   "outputs": [
    {
     "name": "stderr",
     "output_type": "stream",
     "text": [
      "2022-08-16 18:00:02,458 - Building decorators\n",
      "2022-08-16 18:00:02,462 - Building decorator for tunings/TrigL2_20180125_v8/ElectronRingerLooseTriggerConfig.conf. Version: v8\n",
      "2022-08-16 18:00:02,750 - Building decorator for tunings/TrigL2_20180125_v8/ElectronRingerMediumTriggerConfig.conf. Version: v8\n",
      "2022-08-16 18:00:02,998 - Building decorator for tunings/TrigL2_20180125_v8/ElectronRingerTightTriggerConfig.conf. Version: v8\n",
      "2022-08-16 18:00:03,245 - Building decorator for tunings/TrigL2_20180125_v8/ElectronRingerVeryLooseTriggerConfig.conf. Version: v8\n",
      "2022-08-16 18:00:03,493 - Building decorator for tunings/TrigL2_20210907_v12 (v8.1-2)/ElectronRingerLooseTriggerConfig.conf. Version: v12\n",
      "2022-08-16 18:00:03,737 - Building decorator for tunings/TrigL2_20210907_v12 (v8.1-2)/ElectronRingerMediumTriggerConfig.conf. Version: v12\n",
      "2022-08-16 18:00:03,979 - Building decorator for tunings/TrigL2_20210907_v12 (v8.1-2)/ElectronRingerTightTriggerConfig.conf. Version: v12\n",
      "2022-08-16 18:00:04,277 - Building decorator for tunings/TrigL2_20210907_v12 (v8.1-2)/ElectronRingerVeryLooseTriggerConfig.conf. Version: v12\n",
      "2022-08-16 18:00:04,519 - Building decorator for tunings/TrigL2_20220704_v20/ElectronRingerLooseTriggerConfig.conf. Version: v20\n",
      "2022-08-16 18:00:05,040 - Building decorator for tunings/TrigL2_20220704_v20/ElectronRingerMediumTriggerConfig.conf. Version: v20\n",
      "2022-08-16 18:00:05,560 - Building decorator for tunings/TrigL2_20220704_v20/ElectronRingerTightTriggerConfig.conf. Version: v20\n",
      "2022-08-16 18:00:06,080 - Building decorator for tunings/TrigL2_20220704_v20/ElectronRingerVeryLooseTriggerConfig.conf. Version: v20\n",
      "2022-08-16 18:00:06,667 - Building decorator for tunings/TrigL2_20220802_v20.1/ElectronRingerLooseTriggerConfig.conf. Version: v20.1\n",
      "2022-08-16 18:00:08,120 - Building decorator for tunings/TrigL2_20220802_v20.1/ElectronRingerMediumTriggerConfig.conf. Version: v20.1\n",
      "2022-08-16 18:00:09,017 - Building decorator for tunings/TrigL2_20220802_v20.1/ElectronRingerTightTriggerConfig.conf. Version: v20.1\n",
      "2022-08-16 18:00:10,206 - Building decorator for tunings/TrigL2_20220802_v20.1/ElectronRingerVeryLooseTriggerConfig.conf. Version: v20.1\n"
     ]
    },
    {
     "name": "stdout",
     "output_type": "stream",
     "text": [
      "2022-08-16 18:00:02,462 | Py.RingerDecorator                      INFO Reading... tunings/TrigL2_20180125_v8/ElectronRingerLooseTriggerConfig.conf\n",
      "2022-08-16 18:00:02,751 | Py.RingerDecorator                      INFO Reading... tunings/TrigL2_20180125_v8/ElectronRingerMediumTriggerConfig.conf\n",
      "2022-08-16 18:00:02,998 | Py.RingerDecorator                      INFO Reading... tunings/TrigL2_20180125_v8/ElectronRingerTightTriggerConfig.conf\n",
      "2022-08-16 18:00:03,246 | Py.RingerDecorator                      INFO Reading... tunings/TrigL2_20180125_v8/ElectronRingerVeryLooseTriggerConfig.conf\n",
      "2022-08-16 18:00:03,494 | Py.RingerDecorator                      INFO Reading... tunings/TrigL2_20210907_v12 (v8.1-2)/ElectronRingerLooseTriggerConfig.conf\n",
      "2022-08-16 18:00:03,737 | Py.RingerDecorator                      INFO Reading... tunings/TrigL2_20210907_v12 (v8.1-2)/ElectronRingerMediumTriggerConfig.conf\n",
      "2022-08-16 18:00:03,979 | Py.RingerDecorator                      INFO Reading... tunings/TrigL2_20210907_v12 (v8.1-2)/ElectronRingerTightTriggerConfig.conf\n",
      "2022-08-16 18:00:04,277 | Py.RingerDecorator                      INFO Reading... tunings/TrigL2_20210907_v12 (v8.1-2)/ElectronRingerVeryLooseTriggerConfig.conf\n",
      "2022-08-16 18:00:04,519 | Py.RingerDecorator                      INFO Reading... tunings/TrigL2_20220704_v20/ElectronRingerLooseTriggerConfig.conf\n",
      "2022-08-16 18:00:05,041 | Py.RingerDecorator                      INFO Reading... tunings/TrigL2_20220704_v20/ElectronRingerMediumTriggerConfig.conf\n",
      "2022-08-16 18:00:05,561 | Py.RingerDecorator                      INFO Reading... tunings/TrigL2_20220704_v20/ElectronRingerTightTriggerConfig.conf\n",
      "2022-08-16 18:00:06,081 | Py.RingerDecorator                      INFO Reading... tunings/TrigL2_20220704_v20/ElectronRingerVeryLooseTriggerConfig.conf\n",
      "2022-08-16 18:00:06,668 | Py.RingerDecorator                      INFO Reading... tunings/TrigL2_20220802_v20.1/ElectronRingerLooseTriggerConfig.conf\n",
      "2022-08-16 18:00:08,121 | Py.RingerDecorator                      INFO Reading... tunings/TrigL2_20220802_v20.1/ElectronRingerMediumTriggerConfig.conf\n",
      "2022-08-16 18:00:09,017 | Py.RingerDecorator                      INFO Reading... tunings/TrigL2_20220802_v20.1/ElectronRingerTightTriggerConfig.conf\n",
      "2022-08-16 18:00:10,207 | Py.RingerDecorator                      INFO Reading... tunings/TrigL2_20220802_v20.1/ElectronRingerVeryLooseTriggerConfig.conf\n"
     ]
    },
    {
     "name": "stderr",
     "output_type": "stream",
     "text": [
      "2022-08-16 18:00:02.469518: I tensorflow/stream_executor/platform/default/dso_loader.cc:48] Successfully opened dynamic library libcuda.so.1\n",
      "2022-08-16 18:00:02.469538: E tensorflow/stream_executor/cuda/cuda_driver.cc:314] failed call to cuInit: UNKNOWN ERROR (-1)\n",
      "2022-08-16 18:00:02.469549: I tensorflow/stream_executor/cuda/cuda_diagnostics.cc:169] retrieving CUDA diagnostic information for host: caloba23\n",
      "2022-08-16 18:00:02.469553: I tensorflow/stream_executor/cuda/cuda_diagnostics.cc:176] hostname: caloba23\n",
      "2022-08-16 18:00:02.469606: I tensorflow/stream_executor/cuda/cuda_diagnostics.cc:200] libcuda reported version is: Not found: was unable to find libcuda.so DSO loaded into this program\n",
      "2022-08-16 18:00:02.469630: I tensorflow/stream_executor/cuda/cuda_diagnostics.cc:204] kernel reported version is: 470.74.0\n",
      "2022-08-16 18:00:02.469753: I tensorflow/core/platform/cpu_feature_guard.cc:142] This TensorFlow binary is optimized with oneAPI Deep Neural Network Library (oneDNN)to use the following CPU instructions in performance-critical operations:  AVX2 FMA\n",
      "To enable them in other operations, rebuild TensorFlow with the appropriate compiler flags.\n",
      "2022-08-16 18:00:02.493009: I tensorflow/core/platform/profile_utils/cpu_utils.cc:104] CPU Frequency: 2899885000 Hz\n",
      "2022-08-16 18:00:02.493922: I tensorflow/compiler/xla/service/service.cc:168] XLA service 0x76a6b40 initialized for platform Host (this does not guarantee that XLA will be used). Devices:\n",
      "2022-08-16 18:00:02.493950: I tensorflow/compiler/xla/service/service.cc:176]   StreamExecutor device (0): Host, Default Version\n"
     ]
    }
   ],
   "source": [
    "analysis_logger.info('Building decorators')\n",
    "decorators = list()\n",
    "trigger_strategies = list()\n",
    "for modelpath, conf_criterion in product(modelpaths, zip(conf_names, criteria)):\n",
    "    conf_name, criterion = conf_criterion\n",
    "    confpath = os.path.join(modelpath, conf_name)\n",
    "    env = ROOT.TEnv(confpath)\n",
    "    ringer_version = env.GetValue(\"__version__\", '')\n",
    "    ringer_name = f'ringer_{ringer_version}'\n",
    "    analysis_logger.info(f'Building decorator for {confpath}. Version: {ringer_version}')\n",
    "    decorator = RingerDecorator(f'{ringer_name}_{criterion}', confpath, RingGenerator(ring_percentages[ringer_version]))\n",
    "    decorators.append(decorator)\n",
    "    if not ringer_name in trigger_strategies:\n",
    "        trigger_strategies.append(ringer_name)"
   ]
  },
  {
   "cell_type": "code",
   "execution_count": 6,
   "metadata": {},
   "outputs": [],
   "source": [
    "chain_names = base_chain_names.copy()"
   ]
  },
  {
   "cell_type": "code",
   "execution_count": 7,
   "metadata": {},
   "outputs": [
    {
     "name": "stderr",
     "output_type": "stream",
     "text": [
      "2022-08-16 18:00:11,135 - Building chains\n",
      "2022-08-16 18:00:11,136 - Building chain: HLT_e24_lhtight_nod0_ringer_v8_ivarloose\n",
      "2022-08-16 18:00:11,136 - Building chain: HLT_e24_lhtight_nod0_ringer_v12_ivarloose\n",
      "2022-08-16 18:00:11,137 - Building chain: HLT_e24_lhtight_nod0_ringer_v20_ivarloose\n",
      "2022-08-16 18:00:11,137 - Building chain: HLT_e24_lhtight_nod0_ringer_v20.1_ivarloose\n",
      "2022-08-16 18:00:11,137 - Building chain: HLT_e26_lhtight_nod0_ringer_v8_ivarloose\n",
      "2022-08-16 18:00:11,138 - Building chain: HLT_e26_lhtight_nod0_ringer_v12_ivarloose\n",
      "2022-08-16 18:00:11,138 - Building chain: HLT_e26_lhtight_nod0_ringer_v20_ivarloose\n",
      "2022-08-16 18:00:11,138 - Building chain: HLT_e26_lhtight_nod0_ringer_v20.1_ivarloose\n",
      "2022-08-16 18:00:11,139 - Building chain: HLT_e60_lhmedium_nod0_ringer_v8_L1EM24VHI\n",
      "2022-08-16 18:00:11,139 - Building chain: HLT_e60_lhmedium_nod0_ringer_v12_L1EM24VHI\n",
      "2022-08-16 18:00:11,139 - Building chain: HLT_e60_lhmedium_nod0_ringer_v20_L1EM24VHI\n",
      "2022-08-16 18:00:11,140 - Building chain: HLT_e60_lhmedium_nod0_ringer_v20.1_L1EM24VHI\n",
      "2022-08-16 18:00:11,140 - Building chain: HLT_e140_lhloose_nod0_ringer_v8\n",
      "2022-08-16 18:00:11,141 - Building chain: HLT_e140_lhloose_nod0_ringer_v12\n",
      "2022-08-16 18:00:11,141 - Building chain: HLT_e140_lhloose_nod0_ringer_v20\n",
      "2022-08-16 18:00:11,141 - Building chain: HLT_e140_lhloose_nod0_ringer_v20.1\n"
     ]
    },
    {
     "name": "stdout",
     "output_type": "stream",
     "text": [
      "OrderedDict([('L1Seed', 'L1_EM22VHI'),\n",
      "             ('L2Calo', (21000.0, 'ringer_v8_tight')),\n",
      "             ('L2', 'trig_L2_el_cut_pt20to50'),\n",
      "             ('EFCalo', 24000.0),\n",
      "             ('HLT', (24000.0, 'trig_EF_el_lhtight_ivarloose'))])\n",
      "OrderedDict([('L1Seed', 'L1_EM22VHI'),\n",
      "             ('L2Calo', (21000.0, 'ringer_v12_tight')),\n",
      "             ('L2', 'trig_L2_el_cut_pt20to50'),\n",
      "             ('EFCalo', 24000.0),\n",
      "             ('HLT', (24000.0, 'trig_EF_el_lhtight_ivarloose'))])\n",
      "OrderedDict([('L1Seed', 'L1_EM22VHI'),\n",
      "             ('L2Calo', (21000.0, 'ringer_v20_tight')),\n",
      "             ('L2', 'trig_L2_el_cut_pt20to50'),\n",
      "             ('EFCalo', 24000.0),\n",
      "             ('HLT', (24000.0, 'trig_EF_el_lhtight_ivarloose'))])\n",
      "OrderedDict([('L1Seed', 'L1_EM22VHI'),\n",
      "             ('L2Calo', (21000.0, 'ringer_v20.1_tight')),\n",
      "             ('L2', 'trig_L2_el_cut_pt20to50'),\n",
      "             ('EFCalo', 24000.0),\n",
      "             ('HLT', (24000.0, 'trig_EF_el_lhtight_ivarloose'))])\n",
      "OrderedDict([('L1Seed', 'L1_EM22VHI'),\n",
      "             ('L2Calo', (23000.0, 'ringer_v8_tight')),\n",
      "             ('L2', 'trig_L2_el_cut_pt20to50'),\n",
      "             ('EFCalo', 26000.0),\n",
      "             ('HLT', (26000.0, 'trig_EF_el_lhtight_ivarloose'))])\n",
      "OrderedDict([('L1Seed', 'L1_EM22VHI'),\n",
      "             ('L2Calo', (23000.0, 'ringer_v12_tight')),\n",
      "             ('L2', 'trig_L2_el_cut_pt20to50'),\n",
      "             ('EFCalo', 26000.0),\n",
      "             ('HLT', (26000.0, 'trig_EF_el_lhtight_ivarloose'))])\n",
      "OrderedDict([('L1Seed', 'L1_EM22VHI'),\n",
      "             ('L2Calo', (23000.0, 'ringer_v20_tight')),\n",
      "             ('L2', 'trig_L2_el_cut_pt20to50'),\n",
      "             ('EFCalo', 26000.0),\n",
      "             ('HLT', (26000.0, 'trig_EF_el_lhtight_ivarloose'))])\n",
      "OrderedDict([('L1Seed', 'L1_EM22VHI'),\n",
      "             ('L2Calo', (23000.0, 'ringer_v20.1_tight')),\n",
      "             ('L2', 'trig_L2_el_cut_pt20to50'),\n",
      "             ('EFCalo', 26000.0),\n",
      "             ('HLT', (26000.0, 'trig_EF_el_lhtight_ivarloose'))])\n",
      "OrderedDict([('L1Seed', 'L1_EM24VHI'),\n",
      "             ('L2Calo', (57000.0, 'ringer_v8_medium')),\n",
      "             ('L2', 'trig_L2_el_cut_pt50toInf'),\n",
      "             ('EFCalo', 60000.0),\n",
      "             ('HLT', (60000.0, 'trig_EF_el_lhmedium'))])\n",
      "OrderedDict([('L1Seed', 'L1_EM24VHI'),\n",
      "             ('L2Calo', (57000.0, 'ringer_v12_medium')),\n",
      "             ('L2', 'trig_L2_el_cut_pt50toInf'),\n",
      "             ('EFCalo', 60000.0),\n",
      "             ('HLT', (60000.0, 'trig_EF_el_lhmedium'))])\n",
      "OrderedDict([('L1Seed', 'L1_EM24VHI'),\n",
      "             ('L2Calo', (57000.0, 'ringer_v20_medium')),\n",
      "             ('L2', 'trig_L2_el_cut_pt50toInf'),\n",
      "             ('EFCalo', 60000.0),\n",
      "             ('HLT', (60000.0, 'trig_EF_el_lhmedium'))])\n",
      "OrderedDict([('L1Seed', 'L1_EM24VHI'),\n",
      "             ('L2Calo', (57000.0, 'ringer_v20.1_medium')),\n",
      "             ('L2', 'trig_L2_el_cut_pt50toInf'),\n",
      "             ('EFCalo', 60000.0),\n",
      "             ('HLT', (60000.0, 'trig_EF_el_lhmedium'))])\n",
      "OrderedDict([('L1Seed', 'L1_EM24VHI'),\n",
      "             ('L2Calo', (137000.0, 'ringer_v8_loose')),\n",
      "             ('L2', 'trig_L2_el_cut_pt50toInf'),\n",
      "             ('EFCalo', 140000.0),\n",
      "             ('HLT', (140000.0, 'trig_EF_el_lhloose'))])\n",
      "OrderedDict([('L1Seed', 'L1_EM24VHI'),\n",
      "             ('L2Calo', (137000.0, 'ringer_v12_loose')),\n",
      "             ('L2', 'trig_L2_el_cut_pt50toInf'),\n",
      "             ('EFCalo', 140000.0),\n",
      "             ('HLT', (140000.0, 'trig_EF_el_lhloose'))])\n",
      "OrderedDict([('L1Seed', 'L1_EM24VHI'),\n",
      "             ('L2Calo', (137000.0, 'ringer_v20_loose')),\n",
      "             ('L2', 'trig_L2_el_cut_pt50toInf'),\n",
      "             ('EFCalo', 140000.0),\n",
      "             ('HLT', (140000.0, 'trig_EF_el_lhloose'))])\n",
      "OrderedDict([('L1Seed', 'L1_EM24VHI'),\n",
      "             ('L2Calo', (137000.0, 'ringer_v20.1_loose')),\n",
      "             ('L2', 'trig_L2_el_cut_pt50toInf'),\n",
      "             ('EFCalo', 140000.0),\n",
      "             ('HLT', (140000.0, 'trig_EF_el_lhloose'))])\n"
     ]
    }
   ],
   "source": [
    "analysis_logger.info('Building chains')\n",
    "chains = list()\n",
    "step_chain_names = list()\n",
    "for chain_name, strategy in product(chain_names, trigger_strategies):\n",
    "    spliited_chain_name = chain_name.split('_')\n",
    "    criterion = spliited_chain_name[1].replace('lh', '')\n",
    "    step_chain_name = f'HLT_{chain_name.format(strategy=strategy)}'\n",
    "    step_chain_names.append(step_chain_name)\n",
    "    energy = int(spliited_chain_name[0][1:])\n",
    "    l1seed = l1seeds_per_energy[energy]\n",
    "    l2calo_column = f'{strategy}_{criterion}'\n",
    "    analysis_logger.info(f'Building chain: {step_chain_name}')\n",
    "    chain = Chain(step_chain_name, L1Seed=l1seed, l2calo_column=l2calo_column)\n",
    "    chains.append(chain)"
   ]
  },
  {
   "cell_type": "code",
   "execution_count": 8,
   "metadata": {},
   "outputs": [],
   "source": [
    "datasetpath = '/home/lbarranunes/data/data17_13TeV.AllPeriods.sgn.probes_lhvloose_EGAM1.bkg.vprobes_vlhvloose_EGAM7.GRL_v97.25bins'\n",
    "dev = True"
   ]
  },
  {
   "cell_type": "code",
   "execution_count": 9,
   "metadata": {},
   "outputs": [
    {
     "name": "stderr",
     "output_type": "stream",
     "text": [
      "2022-08-16 18:00:11,152 - Loading the data\n",
      "Reading files...:   0%|          | 0/1 [00:00<?, ?it/s]"
     ]
    },
    {
     "name": "stdout",
     "output_type": "stream",
     "text": [
      "L1_EM22VHI ringer_v8_tight trig_L2_el_cut_pt20to50 trig_EF_el_lhtight_ivarloose\n",
      "L1_EM22VHI ringer_v12_tight trig_L2_el_cut_pt20to50 trig_EF_el_lhtight_ivarloose\n",
      "L1_EM22VHI ringer_v20_tight trig_L2_el_cut_pt20to50 trig_EF_el_lhtight_ivarloose\n",
      "L1_EM22VHI ringer_v20.1_tight trig_L2_el_cut_pt20to50 trig_EF_el_lhtight_ivarloose\n",
      "L1_EM22VHI ringer_v8_tight trig_L2_el_cut_pt20to50 trig_EF_el_lhtight_ivarloose\n",
      "L1_EM22VHI ringer_v12_tight trig_L2_el_cut_pt20to50 trig_EF_el_lhtight_ivarloose\n",
      "L1_EM22VHI ringer_v20_tight trig_L2_el_cut_pt20to50 trig_EF_el_lhtight_ivarloose\n",
      "L1_EM22VHI ringer_v20.1_tight trig_L2_el_cut_pt20to50 trig_EF_el_lhtight_ivarloose\n",
      "L1_EM24VHI ringer_v8_medium trig_L2_el_cut_pt50toInf trig_EF_el_lhmedium\n",
      "L1_EM24VHI ringer_v12_medium trig_L2_el_cut_pt50toInf trig_EF_el_lhmedium\n",
      "L1_EM24VHI ringer_v20_medium trig_L2_el_cut_pt50toInf trig_EF_el_lhmedium\n",
      "L1_EM24VHI ringer_v20.1_medium trig_L2_el_cut_pt50toInf trig_EF_el_lhmedium\n",
      "L1_EM24VHI ringer_v8_loose trig_L2_el_cut_pt50toInf trig_EF_el_lhloose\n",
      "L1_EM24VHI ringer_v12_loose trig_L2_el_cut_pt50toInf trig_EF_el_lhloose\n",
      "L1_EM24VHI ringer_v20_loose trig_L2_el_cut_pt50toInf trig_EF_el_lhloose\n",
      "L1_EM24VHI ringer_v20.1_loose trig_L2_el_cut_pt50toInf trig_EF_el_lhloose\n"
     ]
    },
    {
     "name": "stderr",
     "output_type": "stream",
     "text": [
      "Reading files...: 100%|██████████| 1/1 [03:52<00:00, 232.98s/it]\n"
     ]
    }
   ],
   "source": [
    "analysis_logger.info('Loading the data')\n",
    "filename_end = '*et4_eta0.npz' if dev else '*.npz'\n",
    "datafiles = glob.glob(os.path.join(datasetpath, filename_end))  \n",
    "data = load_in_loop(datafiles, drop_columns=drop_cols, decorators=decorators, chains=chains)"
   ]
  },
  {
   "cell_type": "code",
   "execution_count": 10,
   "metadata": {},
   "outputs": [
    {
     "data": {
      "text/plain": [
       "Index(['avgmu', 'trig_L2_cl_et', 'trig_L2_cl_eta', 'trig_L2_cl_phi',\n",
       "       'trig_L2_cl_reta', 'trig_L2_cl_ehad1', 'trig_L2_cl_eratio',\n",
       "       'trig_L2_cl_f1', 'trig_L2_cl_f3', 'trig_L2_cl_weta2',\n",
       "       ...\n",
       "       'L1Calo_e140_lhloose_nod0_ringer_v20',\n",
       "       'L2Calo_e140_lhloose_nod0_ringer_v20',\n",
       "       'L2_e140_lhloose_nod0_ringer_v20',\n",
       "       'EFCalo_e140_lhloose_nod0_ringer_v20',\n",
       "       'HLT_e140_lhloose_nod0_ringer_v20',\n",
       "       'L1Calo_e140_lhloose_nod0_ringer_v20.1',\n",
       "       'L2Calo_e140_lhloose_nod0_ringer_v20.1',\n",
       "       'L2_e140_lhloose_nod0_ringer_v20.1',\n",
       "       'EFCalo_e140_lhloose_nod0_ringer_v20.1',\n",
       "       'HLT_e140_lhloose_nod0_ringer_v20.1'],\n",
       "      dtype='object', length=291)"
      ]
     },
     "execution_count": 10,
     "metadata": {},
     "output_type": "execute_result"
    }
   ],
   "source": [
    "data.columns"
   ]
  },
  {
   "cell_type": "code",
   "execution_count": 11,
   "metadata": {},
   "outputs": [],
   "source": [
    "plot_vars = ['et']\n",
    "output_dir = 'analysis_out'"
   ]
  },
  {
   "cell_type": "code",
   "execution_count": 12,
   "metadata": {
    "tags": []
   },
   "outputs": [
    {
     "name": "stderr",
     "output_type": "stream",
     "text": [
      "2022-08-16 18:04:06,600 - Making plots\n",
      "2022-08-16 18:04:06,600 - Plotting value:fr, step: L2Calo, chain_name: e24_lhtight_nod0_{strategy}_ivarloose, var: et\n",
      "2022-08-16 18:04:13,626 - Plotting value:fr, step: L2Calo, chain_name: e26_lhtight_nod0_{strategy}_ivarloose, var: et\n",
      "2022-08-16 18:04:19,080 - Plotting value:fr, step: L2Calo, chain_name: e60_lhmedium_nod0_{strategy}_L1EM24VHI, var: et\n",
      "2022-08-16 18:04:24,246 - Plotting value:fr, step: L2Calo, chain_name: e140_lhloose_nod0_{strategy}, var: et\n",
      "2022-08-16 18:04:28,440 - Plotting value:fr, step: L2, chain_name: e24_lhtight_nod0_{strategy}_ivarloose, var: et\n",
      "2022-08-16 18:04:33,886 - Plotting value:fr, step: L2, chain_name: e26_lhtight_nod0_{strategy}_ivarloose, var: et\n",
      "2022-08-16 18:04:39,339 - Plotting value:fr, step: L2, chain_name: e60_lhmedium_nod0_{strategy}_L1EM24VHI, var: et\n",
      "2022-08-16 18:04:44,489 - Plotting value:fr, step: L2, chain_name: e140_lhloose_nod0_{strategy}, var: et\n",
      "2022-08-16 18:04:48,762 - Plotting value:fr, step: EFCalo, chain_name: e24_lhtight_nod0_{strategy}_ivarloose, var: et\n",
      "2022-08-16 18:04:54,137 - Plotting value:fr, step: EFCalo, chain_name: e26_lhtight_nod0_{strategy}_ivarloose, var: et\n",
      "2022-08-16 18:04:59,579 - Plotting value:fr, step: EFCalo, chain_name: e60_lhmedium_nod0_{strategy}_L1EM24VHI, var: et\n",
      "2022-08-16 18:05:04,898 - Plotting value:fr, step: EFCalo, chain_name: e140_lhloose_nod0_{strategy}, var: et\n",
      "2022-08-16 18:05:09,100 - Plotting value:fr, step: HLT, chain_name: e24_lhtight_nod0_{strategy}_ivarloose, var: et\n",
      "2022-08-16 18:05:14,444 - Plotting value:fr, step: HLT, chain_name: e26_lhtight_nod0_{strategy}_ivarloose, var: et\n",
      "2022-08-16 18:05:19,639 - Plotting value:fr, step: HLT, chain_name: e60_lhmedium_nod0_{strategy}_L1EM24VHI, var: et\n",
      "2022-08-16 18:05:24,705 - Plotting value:fr, step: HLT, chain_name: e140_lhloose_nod0_{strategy}, var: et\n",
      "2022-08-16 18:05:28,745 - Plotting value:pd, step: L2Calo, chain_name: e24_lhtight_nod0_{strategy}_ivarloose, var: et\n",
      "2022-08-16 18:05:33,087 - Plotting value:pd, step: L2Calo, chain_name: e26_lhtight_nod0_{strategy}_ivarloose, var: et\n",
      "2022-08-16 18:05:37,556 - Plotting value:pd, step: L2Calo, chain_name: e60_lhmedium_nod0_{strategy}_L1EM24VHI, var: et\n",
      "2022-08-16 18:05:40,106 - Plotting value:pd, step: L2Calo, chain_name: e140_lhloose_nod0_{strategy}, var: et\n",
      "2022-08-16 18:05:40,374 - Plotting value:pd, step: L2, chain_name: e24_lhtight_nod0_{strategy}_ivarloose, var: et\n",
      "2022-08-16 18:05:44,709 - Plotting value:pd, step: L2, chain_name: e26_lhtight_nod0_{strategy}_ivarloose, var: et\n",
      "2022-08-16 18:05:49,090 - Plotting value:pd, step: L2, chain_name: e60_lhmedium_nod0_{strategy}_L1EM24VHI, var: et\n",
      "2022-08-16 18:05:51,641 - Plotting value:pd, step: L2, chain_name: e140_lhloose_nod0_{strategy}, var: et\n",
      "2022-08-16 18:05:51,908 - Plotting value:pd, step: EFCalo, chain_name: e24_lhtight_nod0_{strategy}_ivarloose, var: et\n",
      "2022-08-16 18:05:56,285 - Plotting value:pd, step: EFCalo, chain_name: e26_lhtight_nod0_{strategy}_ivarloose, var: et\n",
      "2022-08-16 18:06:00,619 - Plotting value:pd, step: EFCalo, chain_name: e60_lhmedium_nod0_{strategy}_L1EM24VHI, var: et\n",
      "2022-08-16 18:06:02,948 - Plotting value:pd, step: EFCalo, chain_name: e140_lhloose_nod0_{strategy}, var: et\n",
      "2022-08-16 18:06:03,214 - Plotting value:pd, step: HLT, chain_name: e24_lhtight_nod0_{strategy}_ivarloose, var: et\n",
      "2022-08-16 18:06:07,473 - Plotting value:pd, step: HLT, chain_name: e26_lhtight_nod0_{strategy}_ivarloose, var: et\n",
      "2022-08-16 18:06:11,774 - Plotting value:pd, step: HLT, chain_name: e60_lhmedium_nod0_{strategy}_L1EM24VHI, var: et\n",
      "2022-08-16 18:06:14,077 - Plotting value:pd, step: HLT, chain_name: e140_lhloose_nod0_{strategy}, var: et\n",
      "Info in <TCanvas::Print>: pdf file analysis_out/fr/et/fr_et_L2Calo_e24_lhtight_root.pdf has been created\n",
      "Info in <TCanvas::Print>: png file analysis_out/fr/et/fr_et_L2Calo_e24_lhtight_root.png has been created\n",
      "Warning in <TCanvas::Constructor>: Deleting canvas with same name: canvas\n",
      "Info in <TCanvas::Print>: pdf file analysis_out/fr/et/fr_et_L2Calo_e26_lhtight_root.pdf has been created\n",
      "Info in <TCanvas::Print>: png file analysis_out/fr/et/fr_et_L2Calo_e26_lhtight_root.png has been created\n",
      "Warning in <TCanvas::Constructor>: Deleting canvas with same name: canvas\n",
      "Info in <TCanvas::Print>: pdf file analysis_out/fr/et/fr_et_L2Calo_e60_lhmedium_root.pdf has been created\n",
      "Info in <TCanvas::Print>: png file analysis_out/fr/et/fr_et_L2Calo_e60_lhmedium_root.png has been created\n",
      "Warning in <TCanvas::Constructor>: Deleting canvas with same name: canvas\n",
      "Info in <TCanvas::Print>: pdf file analysis_out/fr/et/fr_et_L2Calo_e140_lhloose_root.pdf has been created\n",
      "Info in <TCanvas::Print>: png file analysis_out/fr/et/fr_et_L2Calo_e140_lhloose_root.png has been created\n",
      "Warning in <TCanvas::Constructor>: Deleting canvas with same name: canvas\n",
      "Info in <TCanvas::Print>: pdf file analysis_out/fr/et/fr_et_L2_e24_lhtight_root.pdf has been created\n",
      "Info in <TCanvas::Print>: png file analysis_out/fr/et/fr_et_L2_e24_lhtight_root.png has been created\n",
      "Warning in <TCanvas::Constructor>: Deleting canvas with same name: canvas\n",
      "Info in <TCanvas::Print>: pdf file analysis_out/fr/et/fr_et_L2_e26_lhtight_root.pdf has been created\n",
      "Info in <TCanvas::Print>: png file analysis_out/fr/et/fr_et_L2_e26_lhtight_root.png has been created\n",
      "Warning in <TCanvas::Constructor>: Deleting canvas with same name: canvas\n",
      "Info in <TCanvas::Print>: pdf file analysis_out/fr/et/fr_et_L2_e60_lhmedium_root.pdf has been created\n",
      "Info in <TCanvas::Print>: png file analysis_out/fr/et/fr_et_L2_e60_lhmedium_root.png has been created\n",
      "Warning in <TCanvas::Constructor>: Deleting canvas with same name: canvas\n",
      "Info in <TCanvas::Print>: pdf file analysis_out/fr/et/fr_et_L2_e140_lhloose_root.pdf has been created\n",
      "Info in <TCanvas::Print>: png file analysis_out/fr/et/fr_et_L2_e140_lhloose_root.png has been created\n",
      "Warning in <TCanvas::Constructor>: Deleting canvas with same name: canvas\n",
      "Info in <TCanvas::Print>: pdf file analysis_out/fr/et/fr_et_EFCalo_e24_lhtight_root.pdf has been created\n",
      "Info in <TCanvas::Print>: png file analysis_out/fr/et/fr_et_EFCalo_e24_lhtight_root.png has been created\n",
      "Warning in <TCanvas::Constructor>: Deleting canvas with same name: canvas\n",
      "Info in <TCanvas::Print>: pdf file analysis_out/fr/et/fr_et_EFCalo_e26_lhtight_root.pdf has been created\n",
      "Info in <TCanvas::Print>: png file analysis_out/fr/et/fr_et_EFCalo_e26_lhtight_root.png has been created\n",
      "Warning in <TCanvas::Constructor>: Deleting canvas with same name: canvas\n",
      "Info in <TCanvas::Print>: pdf file analysis_out/fr/et/fr_et_EFCalo_e60_lhmedium_root.pdf has been created\n",
      "Info in <TCanvas::Print>: png file analysis_out/fr/et/fr_et_EFCalo_e60_lhmedium_root.png has been created\n",
      "Warning in <TCanvas::Constructor>: Deleting canvas with same name: canvas\n",
      "Info in <TCanvas::Print>: pdf file analysis_out/fr/et/fr_et_EFCalo_e140_lhloose_root.pdf has been created\n",
      "Info in <TCanvas::Print>: png file analysis_out/fr/et/fr_et_EFCalo_e140_lhloose_root.png has been created\n",
      "Warning in <TCanvas::Constructor>: Deleting canvas with same name: canvas\n",
      "Info in <TCanvas::Print>: pdf file analysis_out/fr/et/fr_et_HLT_e24_lhtight_root.pdf has been created\n",
      "Info in <TCanvas::Print>: png file analysis_out/fr/et/fr_et_HLT_e24_lhtight_root.png has been created\n",
      "Warning in <TCanvas::Constructor>: Deleting canvas with same name: canvas\n",
      "Info in <TCanvas::Print>: pdf file analysis_out/fr/et/fr_et_HLT_e26_lhtight_root.pdf has been created\n",
      "Info in <TCanvas::Print>: png file analysis_out/fr/et/fr_et_HLT_e26_lhtight_root.png has been created\n",
      "Warning in <TCanvas::Constructor>: Deleting canvas with same name: canvas\n",
      "Info in <TCanvas::Print>: pdf file analysis_out/fr/et/fr_et_HLT_e60_lhmedium_root.pdf has been created\n",
      "Info in <TCanvas::Print>: png file analysis_out/fr/et/fr_et_HLT_e60_lhmedium_root.png has been created\n",
      "Warning in <TCanvas::Constructor>: Deleting canvas with same name: canvas\n",
      "Info in <TCanvas::Print>: pdf file analysis_out/fr/et/fr_et_HLT_e140_lhloose_root.pdf has been created\n",
      "Info in <TCanvas::Print>: png file analysis_out/fr/et/fr_et_HLT_e140_lhloose_root.png has been created\n",
      "Warning in <TCanvas::Constructor>: Deleting canvas with same name: canvas\n",
      "Info in <TCanvas::Print>: pdf file analysis_out/pd/et/pd_et_L2Calo_e24_lhtight_root.pdf has been created\n",
      "Info in <TCanvas::Print>: png file analysis_out/pd/et/pd_et_L2Calo_e24_lhtight_root.png has been created\n",
      "Warning in <TCanvas::Constructor>: Deleting canvas with same name: canvas\n",
      "Info in <TCanvas::Print>: pdf file analysis_out/pd/et/pd_et_L2Calo_e26_lhtight_root.pdf has been created\n",
      "Info in <TCanvas::Print>: png file analysis_out/pd/et/pd_et_L2Calo_e26_lhtight_root.png has been created\n",
      "Warning in <TCanvas::Constructor>: Deleting canvas with same name: canvas\n",
      "Info in <TCanvas::Print>: pdf file analysis_out/pd/et/pd_et_L2Calo_e60_lhmedium_root.pdf has been created\n",
      "Info in <TCanvas::Print>: png file analysis_out/pd/et/pd_et_L2Calo_e60_lhmedium_root.png has been created\n",
      "Warning in <TCanvas::Constructor>: Deleting canvas with same name: canvas\n",
      "Info in <TCanvas::Print>: pdf file analysis_out/pd/et/pd_et_L2Calo_e140_lhloose_root.pdf has been created\n",
      "Info in <TCanvas::Print>: png file analysis_out/pd/et/pd_et_L2Calo_e140_lhloose_root.png has been created\n",
      "Warning in <TCanvas::Constructor>: Deleting canvas with same name: canvas\n",
      "Info in <TCanvas::Print>: pdf file analysis_out/pd/et/pd_et_L2_e24_lhtight_root.pdf has been created\n",
      "Info in <TCanvas::Print>: png file analysis_out/pd/et/pd_et_L2_e24_lhtight_root.png has been created\n",
      "Warning in <TCanvas::Constructor>: Deleting canvas with same name: canvas\n",
      "Info in <TCanvas::Print>: pdf file analysis_out/pd/et/pd_et_L2_e26_lhtight_root.pdf has been created\n",
      "Info in <TCanvas::Print>: png file analysis_out/pd/et/pd_et_L2_e26_lhtight_root.png has been created\n",
      "Warning in <TCanvas::Constructor>: Deleting canvas with same name: canvas\n",
      "Info in <TCanvas::Print>: pdf file analysis_out/pd/et/pd_et_L2_e60_lhmedium_root.pdf has been created\n",
      "Info in <TCanvas::Print>: png file analysis_out/pd/et/pd_et_L2_e60_lhmedium_root.png has been created\n",
      "Warning in <TCanvas::Constructor>: Deleting canvas with same name: canvas\n",
      "Info in <TCanvas::Print>: pdf file analysis_out/pd/et/pd_et_L2_e140_lhloose_root.pdf has been created\n",
      "Info in <TCanvas::Print>: png file analysis_out/pd/et/pd_et_L2_e140_lhloose_root.png has been created\n",
      "Warning in <TCanvas::Constructor>: Deleting canvas with same name: canvas\n",
      "Info in <TCanvas::Print>: pdf file analysis_out/pd/et/pd_et_EFCalo_e24_lhtight_root.pdf has been created\n",
      "Info in <TCanvas::Print>: png file analysis_out/pd/et/pd_et_EFCalo_e24_lhtight_root.png has been created\n",
      "Warning in <TCanvas::Constructor>: Deleting canvas with same name: canvas\n",
      "Info in <TCanvas::Print>: pdf file analysis_out/pd/et/pd_et_EFCalo_e26_lhtight_root.pdf has been created\n",
      "Info in <TCanvas::Print>: png file analysis_out/pd/et/pd_et_EFCalo_e26_lhtight_root.png has been created\n",
      "Warning in <TCanvas::Constructor>: Deleting canvas with same name: canvas\n",
      "Info in <TCanvas::Print>: pdf file analysis_out/pd/et/pd_et_EFCalo_e60_lhmedium_root.pdf has been created\n",
      "Info in <TCanvas::Print>: png file analysis_out/pd/et/pd_et_EFCalo_e60_lhmedium_root.png has been created\n",
      "Warning in <TCanvas::Constructor>: Deleting canvas with same name: canvas\n",
      "Info in <TCanvas::Print>: pdf file analysis_out/pd/et/pd_et_EFCalo_e140_lhloose_root.pdf has been created\n",
      "Info in <TCanvas::Print>: png file analysis_out/pd/et/pd_et_EFCalo_e140_lhloose_root.png has been created\n",
      "Warning in <TCanvas::Constructor>: Deleting canvas with same name: canvas\n",
      "Info in <TCanvas::Print>: pdf file analysis_out/pd/et/pd_et_HLT_e24_lhtight_root.pdf has been created\n",
      "Info in <TCanvas::Print>: png file analysis_out/pd/et/pd_et_HLT_e24_lhtight_root.png has been created\n",
      "Warning in <TCanvas::Constructor>: Deleting canvas with same name: canvas\n",
      "Info in <TCanvas::Print>: pdf file analysis_out/pd/et/pd_et_HLT_e26_lhtight_root.pdf has been created\n",
      "Info in <TCanvas::Print>: png file analysis_out/pd/et/pd_et_HLT_e26_lhtight_root.png has been created\n",
      "Warning in <TCanvas::Constructor>: Deleting canvas with same name: canvas\n",
      "Info in <TCanvas::Print>: pdf file analysis_out/pd/et/pd_et_HLT_e60_lhmedium_root.pdf has been created\n",
      "Info in <TCanvas::Print>: png file analysis_out/pd/et/pd_et_HLT_e60_lhmedium_root.png has been created\n",
      "Warning in <TCanvas::Constructor>: Deleting canvas with same name: canvas\n",
      "Info in <TCanvas::Print>: pdf file analysis_out/pd/et/pd_et_HLT_e140_lhloose_root.pdf has been created\n",
      "Info in <TCanvas::Print>: png file analysis_out/pd/et/pd_et_HLT_e140_lhloose_root.png has been created\n"
     ]
    }
   ],
   "source": [
    "analysis_logger.info('Making plots')\n",
    "figs = dict()\n",
    "labels = dict()\n",
    "for fake, step, chain_name, var in product([True, False], trigger_steps, chain_names, plot_vars):\n",
    "    value_name = 'fr' if fake else 'pd'\n",
    "    plot_dir = os.path.join(output_dir, value_name, var)\n",
    "    analysis_logger.info(f'Plotting value:{value_name}, step: {step}, chain_name: {chain_name}, var: {var}')\n",
    "    plot_name, fig, label = make_plot_fig(data, step, chain_name, trigger_strategies, plot_dir , var, fake)\n",
    "    figs[plot_name] = fig\n",
    "    labels[plot_name] = label"
   ]
  },
  {
   "cell_type": "code",
   "execution_count": 13,
   "metadata": {},
   "outputs": [
    {
     "name": "stderr",
     "output_type": "stream",
     "text": [
      "2022-08-16 18:06:14,347 - Finished\n"
     ]
    }
   ],
   "source": [
    "analysis_logger.info('Finished')"
   ]
  },
  {
   "cell_type": "code",
   "execution_count": 14,
   "metadata": {},
   "outputs": [
    {
     "data": {
      "text/plain": [
       "['RingerV8 - F_{R} (L2Calo): 0.62 %',\n",
       " 'RingerV12 - F_{R} (L2Calo): 1.66 %',\n",
       " 'RingerV20 - F_{R} (L2Calo): 0.38 %',\n",
       " 'RingerV20.1 - F_{R} (L2Calo): 3.07 %']"
      ]
     },
     "execution_count": 14,
     "metadata": {},
     "output_type": "execute_result"
    }
   ],
   "source": [
    "labels['analysis_out/fr/et/fr_et_L2Calo_e24_lhtight_root']"
   ]
  },
  {
   "cell_type": "code",
   "execution_count": 15,
   "metadata": {},
   "outputs": [
    {
     "name": "stderr",
     "output_type": "stream",
     "text": [
      "2022-08-16 18:06:14,369 - Plotting value:pd, step: L2Calo, chain_name: e24_lhtight_nod0_{strategy}_ivarloose, var: et\n",
      "Warning in <TCanvas::Constructor>: Deleting canvas with same name: canvas\n",
      "Info in <TCanvas::Print>: pdf file analysis_out/pd_et_L2Calo_e24_lhtight_root.pdf has been created\n",
      "Info in <TCanvas::Print>: png file analysis_out/pd_et_L2Calo_e24_lhtight_root.png has been created\n"
     ]
    }
   ],
   "source": [
    "from packages.plotting import var2plot_func, COLORS, MARKERS, add_legend\n",
    "fake=False\n",
    "step = trigger_steps[0]\n",
    "chain_name = chain_names[0]\n",
    "var = plot_vars[0]\n",
    "value_name = 'fr' if fake else 'pd'\n",
    "plot_dir = os.path.join(output_dir, value_name, var)\n",
    "analysis_logger.info(f'Plotting value:{value_name}, step: {step}, chain_name: {chain_name}, var: {var}')\n",
    "if not os.path.exists(output_dir):\n",
    "    os.makedirs(output_dir)\n",
    "    \n",
    "try: \n",
    "    plot_func = var2plot_func[var]\n",
    "except KeyError:\n",
    "    raise ValueError(f'There is no plot funcion for the variable {var}')\n",
    "\n",
    "trigger = f'{step}_{chain_name}'\n",
    "n_strats = len(trigger_strategies)\n",
    "root_plots = [plot_func(data, trigger.format(strategy=strat), chain_step=step, l2suffix=strat, fake=fake)\n",
    "    for strat in trigger_strategies]\n",
    "root_plots = np.array(root_plots)\n",
    "\n",
    "labels = list()\n",
    "for i, trigger_strat in enumerate(trigger_strategies):\n",
    "    if trigger_strat == 'noringer':\n",
    "        label_name = 'NoRinger'\n",
    "    else:\n",
    "        label_name = ''.join([word.capitalize() for word in trigger_strat.split('_')])\n",
    "    labels.append('%s - F_{R} (%s): %1.2f %%' %(label_name, step, root_plots[i, 1]*100))\n",
    "\n",
    "fig = rpl.create_canvas('my_canvas', canw=1400, canh=1000)\n",
    "fig = rpl.plot_profiles(root_plots[:,0], 'E_{T} [GeV]', COLORS[:n_strats], MARKERS[:n_strats])\n",
    "rpl.format_canvas_axes(YTitleOffset = 0.95)\n",
    "x=0.50\n",
    "y=0.15\n",
    "rpl.add_legend(labels, x, y, x+0.98, y+0.20, textsize=12, option='p' )\n",
    "#add_legend(0.55,0.15, labels)\n",
    "rpl.add_text( 0.55, 0.35, '%s_%s_%s_nod0' %(step, chain_name.split('_')[0], chain_name.split('_')[1]), textsize=0.04)\n",
    "rpl.fix_yaxis_ranges( ignore_zeros=True, ignore_errors=True , yminf=-0.5, ymaxf=1.1)\n",
    "val_name = 'fr' if fake else 'pd'\n",
    "plot_name = os.path.join(output_dir, f'{val_name}_{var}_{step}_{chain_name.split(\"_\")[0]}_{chain_name.split(\"_\")[1]}_root')\n",
    "fig.savefig(plot_name + '.pdf')\n",
    "fig.savefig(plot_name + '.png')"
   ]
  },
  {
   "cell_type": "code",
   "execution_count": 16,
   "metadata": {},
   "outputs": [
    {
     "data": {
      "image/png": "[encoded data removed]",
      "text/plain": [
       "<IPython.core.display.Image object>"
      ]
     },
     "metadata": {},
     "output_type": "display_data"
    }
   ],
   "source": [
    "fig.show()"
   ]
  }
 ],
 "metadata": {
  "kernelspec": {
   "display_name": "Python 3",
   "language": "python",
   "name": "python3"
  },
  "language_info": {
   "codemirror_mode": {
    "name": "ipython",
    "version": 3
   },
   "file_extension": ".py",
   "mimetype": "text/x-python",
   "name": "python",
   "nbconvert_exporter": "python",
   "pygments_lexer": "ipython3",
   "version": "3.6.9"
  }
 },
 "nbformat": 4,
 "nbformat_minor": 4
}
