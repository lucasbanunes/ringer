{
 "cells": [
  {
   "cell_type": "markdown",
   "id": "b1f8efa7-2a4a-4186-abc7-751df2d70fab",
   "metadata": {
    "tags": []
   },
   "source": [
    "## Imports and Declarations"
   ]
  },
  {
   "cell_type": "code",
   "execution_count": 1,
   "id": "d1d36e4a-cb73-4f84-9706-40fb74dd3f7f",
   "metadata": {},
   "outputs": [
    {
     "name": "stdout",
     "output_type": "stream",
     "text": [
      "Welcome to JupyROOT 6.16/00\n",
      "Using all sub packages with ROOT dependence\n"
     ]
    }
   ],
   "source": [
    "import os\n",
    "import sys\n",
    "import logging\n",
    "from datetime import datetime\n",
    "from kolmov import crossval_table, get_color_fader, fit_table\n",
    "from saphyra.core import ReferenceReader\n",
    "import numpy as np\n",
    "import pandas as pd\n",
    "import collections\n",
    "import matplotlib\n",
    "import matplotlib.pyplot as plt\n",
    "from pprint import pprint\n",
    "from copy import deepcopy\n",
    "from argparse import ArgumentParser\n",
    "from tensorflow import keras\n",
    "from collections import OrderedDict"
   ]
  },
  {
   "cell_type": "code",
   "execution_count": 2,
   "id": "299055ce-0448-4b11-afbc-454c8cdf0534",
   "metadata": {},
   "outputs": [],
   "source": [
    "RINGS_LAYERS = OrderedDict(\n",
    "    presample = list(range(0,8)),\n",
    "    em1 = list(range(8,72)),\n",
    "    em2 = list(range(72, 80)),\n",
    "    em3 = list(range(80,88)),\n",
    "    had1 = list(range(88,92)),\n",
    "    had2 = list(range(92,96)),\n",
    "    had3 = list(range(96,100)),\n",
    ")\n",
    "\n",
    "def create_op_dict(op):\n",
    "    d = {\n",
    "              op+'_pd_ref'    : \"reference/\"+op+\"_cutbased/pd_ref#0\",\n",
    "              op+'_fa_ref'    : \"reference/\"+op+\"_cutbased/fa_ref#0\",\n",
    "              op+'_sp_ref'    : \"reference/\"+op+\"_cutbased/sp_ref\",\n",
    "              op+'_pd_val'    : \"reference/\"+op+\"_cutbased/pd_val#0\",\n",
    "              op+'_fa_val'    : \"reference/\"+op+\"_cutbased/fa_val#0\",\n",
    "              op+'_sp_val'    : \"reference/\"+op+\"_cutbased/sp_val\",\n",
    "              op+'_pd_op'     : \"reference/\"+op+\"_cutbased/pd_op#0\",\n",
    "              op+'_fa_op'     : \"reference/\"+op+\"_cutbased/fa_op#0\",\n",
    "              op+'_sp_op'     : \"reference/\"+op+\"_cutbased/sp_op\",\n",
    "\n",
    "              # Counts\n",
    "              op+'_pd_ref_passed'    : \"reference/\"+op+\"_cutbased/pd_ref#1\",\n",
    "              op+'_fa_ref_passed'    : \"reference/\"+op+\"_cutbased/fa_ref#1\",\n",
    "              op+'_pd_ref_total'     : \"reference/\"+op+\"_cutbased/pd_ref#2\",\n",
    "              op+'_fa_ref_total'     : \"reference/\"+op+\"_cutbased/fa_ref#2\",\n",
    "              op+'_pd_val_passed'    : \"reference/\"+op+\"_cutbased/pd_val#1\",\n",
    "              op+'_fa_val_passed'    : \"reference/\"+op+\"_cutbased/fa_val#1\",\n",
    "              op+'_pd_val_total'     : \"reference/\"+op+\"_cutbased/pd_val#2\",\n",
    "              op+'_fa_val_total'     : \"reference/\"+op+\"_cutbased/fa_val#2\",\n",
    "              op+'_pd_op_passed'     : \"reference/\"+op+\"_cutbased/pd_op#1\",\n",
    "              op+'_fa_op_passed'     : \"reference/\"+op+\"_cutbased/fa_op#1\",\n",
    "              op+'_pd_op_total'      : \"reference/\"+op+\"_cutbased/pd_op#2\",\n",
    "              op+'_fa_op_total'      : \"reference/\"+op+\"_cutbased/fa_op#2\",\n",
    "    }\n",
    "    return d"
   ]
  },
  {
   "cell_type": "code",
   "execution_count": 3,
   "id": "97652d4a-78d5-497c-9636-6dc6a9f23883",
   "metadata": {},
   "outputs": [],
   "source": [
    "def generator(path):\n",
    "        \n",
    "    def norm1( data ):\n",
    "        norms = np.abs( data.sum(axis=1) )\n",
    "        norms[norms==0] = 1\n",
    "        return data/norms[:,None]\n",
    "\n",
    "    from Gaugi import load\n",
    "    import numpy as np\n",
    "    d = load(path)\n",
    "    data = norm1(d['data'][:,1:101])\n",
    "    \n",
    "    target =  d['target']\n",
    "    avgmu = d['data'][:, 0]\n",
    "    data_rings = list()\n",
    "    for layer_name, layer_idxs in RINGS_LAYERS.items():\n",
    "        data_rings.append(data[:,layer_idxs])\n",
    "\n",
    "    return data_rings, target, avgmu\n",
    "\n",
    "def add_extra_bin_models(best_models: list):\n",
    "    best_models.append(list())\n",
    "    for eta in range(5):\n",
    "        best_models[5].append({key: deepcopy(value) for key, value in best_models[4][eta].items() if key != 'model'})\n",
    "        cloned_model = keras.models.clone_model(best_models[4][eta]['model'])\n",
    "        cloned_model.set_weights(best_models[4][eta]['model'].get_weights())\n",
    "        best_models[5][-1]['model'] = cloned_model\n",
    "        best_models[5][-1]['etBinIdx'] = 5\n",
    "        best_models[5][-1]['etBin'][0] = 100\n",
    "        best_models[4][eta]['etBin'][-1] = 100"
   ]
  },
  {
   "cell_type": "markdown",
   "id": "449dffb3-454f-442e-94ce-ef9d188e9a42",
   "metadata": {
    "tags": []
   },
   "source": [
    "## Arguments"
   ]
  },
  {
   "cell_type": "code",
   "execution_count": 4,
   "id": "833ae72f-546f-48c6-bf92-973920d5c853",
   "metadata": {},
   "outputs": [],
   "source": [
    "dataset = \"data17_13TeV.AllPeriods.sgn.probes_lhmedium_EGAM1.bkg.VProbes_EGAM7.GRL_v97.30bins\"\n",
    "model_path = \"/home/lucas.nunes/workspace/ringer_tunings/versions/vInception/v2/jobs_dev01/output\"\n",
    "output_dir = \"/home/lucas.nunes/workspace/ringer_tunings/versions/vInception/v2/jobs_dev01/output_fitted\"\n",
    "extra_bin = True\n",
    "model_version = \"vInceptionPerLayer.100\""
   ]
  },
  {
   "cell_type": "code",
   "execution_count": 5,
   "id": "b7d94391-8cc7-45b2-8d0c-f65c1822dcd5",
   "metadata": {},
   "outputs": [],
   "source": [
    "etbins = [15, 20, 30, 40, 50, 1000000]\n",
    "n_ets = len(etbins)-1\n",
    "etabins = [0.0, 0.8, 1.37, 1.54, 2.37, 2.50]\n",
    "n_etas = len(etabins)-1\n",
    "if not os.path.exists(output_dir):\n",
    "    os.makedirs(output_dir)"
   ]
  },
  {
   "cell_type": "code",
   "execution_count": 6,
   "id": "575d31b7-6658-48c9-99c2-81f43e4203a6",
   "metadata": {},
   "outputs": [],
   "source": [
    "start_time = datetime.today().strftime('%Y_%m_%d_%H_%M_%S')\n",
    "log_name = 'decision_threshold_fit_log'\n",
    "logger = logging.getLogger(log_name)\n",
    "logger.setLevel(logging.INFO)\n",
    "log_filename = f'{start_time}_{log_name}_pid_{os.getpid()}.log'\n",
    "file_handler = logging.FileHandler(log_filename, mode='a+')\n",
    "stdout_handler = logging.StreamHandler(sys.stdout)\n",
    "formatter = logging.Formatter('%(asctime)s;%(message)s')\n",
    "file_handler.setFormatter(formatter)\n",
    "stdout_handler.setFormatter(formatter)\n",
    "logger.addHandler(file_handler)\n",
    "logger.addHandler(stdout_handler)"
   ]
  },
  {
   "cell_type": "code",
   "execution_count": 7,
   "id": "8e1efb5b-6d9e-4723-9841-2c427723f55e",
   "metadata": {},
   "outputs": [],
   "source": [
    "tuned_info = collections.OrderedDict( {\n",
    "              # validation\n",
    "              \"max_sp_val\"      : 'summary/max_sp_val',\n",
    "              \"max_sp_pd_val\"   : 'summary/max_sp_pd_val#0',\n",
    "              \"max_sp_fa_val\"   : 'summary/max_sp_fa_val#0',\n",
    "              # Operation\n",
    "              \"max_sp_op\"       : 'summary/max_sp_op',\n",
    "              \"max_sp_pd_op\"    : 'summary/max_sp_pd_op#0',\n",
    "              \"max_sp_fa_op\"    : 'summary/max_sp_fa_op#0',\n",
    "              } )\n",
    "\n",
    "tuned_info.update(create_op_dict('tight'))\n",
    "tuned_info.update(create_op_dict('medium'))\n",
    "tuned_info.update(create_op_dict('loose'))\n",
    "tuned_info.update(create_op_dict('vloose'))"
   ]
  },
  {
   "cell_type": "markdown",
   "id": "fe85d23b-53df-4769-8ee6-1bf776a3f9a4",
   "metadata": {
    "tags": []
   },
   "source": [
    "## Reading tunings and selecting the best ones"
   ]
  },
  {
   "cell_type": "code",
   "execution_count": 8,
   "id": "278e8d0d-f388-414d-bac5-ac033e7fd432",
   "metadata": {},
   "outputs": [
    {
     "name": "stdout",
     "output_type": "stream",
     "text": [
      "2023-03-05 17:15:06,274;Reading crossval table\n",
      "2023-03-05 17:15:23,768;Dumped crossval table\n",
      "2023-03-05 17:15:23,818;Dumped best inits table\n",
      "2023-03-05 17:15:23,829;Dumped best sorts table\n",
      "2023-03-05 17:15:29,140;Loaded best models\n",
      "2023-03-05 17:15:29,143;Adding extra bin to models\n",
      "2023-03-05 17:15:30,144;Added extra bin to models\n",
      "2023-03-05 17:15:06,550 | Py.crossval_table                       INFO Reading file for vInceptionPerLayer.100 tag from /home/lucas.nunes/workspace/ringer_tunings/versions/vInception/v2/jobs_dev01/output\n",
      "2023-03-05 17:15:06,550 | Py.crossval_table                       INFO There are 1250 files for this task...\n",
      "2023-03-05 17:15:06,550 | Py.crossval_table                       INFO Filling the table... \n",
      "2023-03-05 17:15:23,654 | Py.crossval_table                       INFO End of fill step, a pandas DataFrame was created...\n"
     ]
    }
   ],
   "source": [
    "logger.info('Reading crossval table')\n",
    "cv  = crossval_table( tuned_info, etbins = etbins , etabins = etabins )\n",
    "cv.fill(model_path, model_version)\n",
    "cv.table().to_csv(os.path.join(output_dir, 'cross_val_table.csv'))\n",
    "logger.info('Dumped crossval table')\n",
    "best_inits = cv.filter_inits(\"max_sp_val\")  #Selects best the best modelo from each init from each fold\n",
    "best_inits.to_csv(os.path.join(output_dir, 'best_inits_table.csv'))\n",
    "logger.info('Dumped best inits table')\n",
    "best_sorts = cv.filter_sorts( best_inits , 'max_sp_op') #Selects the best init from all folds\n",
    "best_sorts.to_csv(os.path.join(output_dir, 'best_sorts.csv'))\n",
    "logger.info('Dumped best sorts table')\n",
    "best_models = cv.get_best_models(best_sorts, remove_last=True)  #Loads the best models and removes the activation layer\n",
    "logger.info('Loaded best models')\n",
    "if extra_bin:\n",
    "    logger.info('Adding extra bin to models')\n",
    "    add_extra_bin_models(best_models)\n",
    "    logger.info('Added extra bin to models')"
   ]
  },
  {
   "cell_type": "code",
   "execution_count": 9,
   "id": "680ffacb-41de-423b-b11d-a91012c360d9",
   "metadata": {},
   "outputs": [
    {
     "name": "stdout",
     "output_type": "stream",
     "text": [
      "5\n",
      "5\n",
      "5\n",
      "5\n",
      "5\n",
      "5\n"
     ]
    }
   ],
   "source": [
    "for et_row in best_models:\n",
    "    print(len(et_row))"
   ]
  },
  {
   "cell_type": "markdown",
   "id": "8ce11807-5fe8-412a-88f8-fa92d9cc11b8",
   "metadata": {
    "tags": []
   },
   "source": [
    "## Loading reference files"
   ]
  },
  {
   "cell_type": "code",
   "execution_count": 10,
   "id": "7c436529-8322-422a-aea2-ba710645a03f",
   "metadata": {
    "tags": []
   },
   "outputs": [
    {
     "name": "stdout",
     "output_type": "stream",
     "text": [
      "2023-03-05 17:15:30,173;Loading reference for et bin:0 eta bin:0 name tight_cutbased\n",
      "2023-03-05 17:15:30,176;Loading reference for et bin:0 eta bin:0 name medium_cutbased\n",
      "2023-03-05 17:15:30,179;Loading reference for et bin:0 eta bin:0 name loose_cutbased\n",
      "2023-03-05 17:15:30,181;Loading reference for et bin:0 eta bin:0 name vloose_cutbased\n",
      "2023-03-05 17:15:30,183;Loading reference for et bin:0 eta bin:1 name tight_cutbased\n",
      "2023-03-05 17:15:30,186;Loading reference for et bin:0 eta bin:1 name medium_cutbased\n",
      "2023-03-05 17:15:30,189;Loading reference for et bin:0 eta bin:1 name loose_cutbased\n",
      "2023-03-05 17:15:30,191;Loading reference for et bin:0 eta bin:1 name vloose_cutbased\n",
      "2023-03-05 17:15:30,194;Loading reference for et bin:0 eta bin:2 name tight_cutbased\n",
      "2023-03-05 17:15:30,197;Loading reference for et bin:0 eta bin:2 name medium_cutbased\n",
      "2023-03-05 17:15:30,198;Loading reference for et bin:0 eta bin:2 name loose_cutbased\n",
      "2023-03-05 17:15:30,201;Loading reference for et bin:0 eta bin:2 name vloose_cutbased\n",
      "2023-03-05 17:15:30,203;Loading reference for et bin:0 eta bin:3 name tight_cutbased\n",
      "2023-03-05 17:15:30,206;Loading reference for et bin:0 eta bin:3 name medium_cutbased\n",
      "2023-03-05 17:15:30,209;Loading reference for et bin:0 eta bin:3 name loose_cutbased\n",
      "2023-03-05 17:15:30,211;Loading reference for et bin:0 eta bin:3 name vloose_cutbased\n",
      "2023-03-05 17:15:30,214;Loading reference for et bin:0 eta bin:4 name tight_cutbased\n",
      "2023-03-05 17:15:30,217;Loading reference for et bin:0 eta bin:4 name medium_cutbased\n",
      "2023-03-05 17:15:30,219;Loading reference for et bin:0 eta bin:4 name loose_cutbased\n",
      "2023-03-05 17:15:30,221;Loading reference for et bin:0 eta bin:4 name vloose_cutbased\n",
      "2023-03-05 17:15:30,223;Loading reference for et bin:1 eta bin:0 name tight_cutbased\n",
      "2023-03-05 17:15:30,226;Loading reference for et bin:1 eta bin:0 name medium_cutbased\n",
      "2023-03-05 17:15:30,228;Loading reference for et bin:1 eta bin:0 name loose_cutbased\n",
      "2023-03-05 17:15:30,230;Loading reference for et bin:1 eta bin:0 name vloose_cutbased\n",
      "2023-03-05 17:15:30,232;Loading reference for et bin:1 eta bin:1 name tight_cutbased\n",
      "2023-03-05 17:15:30,234;Loading reference for et bin:1 eta bin:1 name medium_cutbased\n",
      "2023-03-05 17:15:30,236;Loading reference for et bin:1 eta bin:1 name loose_cutbased\n",
      "2023-03-05 17:15:30,237;Loading reference for et bin:1 eta bin:1 name vloose_cutbased\n",
      "2023-03-05 17:15:30,239;Loading reference for et bin:1 eta bin:2 name tight_cutbased\n",
      "2023-03-05 17:15:30,242;Loading reference for et bin:1 eta bin:2 name medium_cutbased\n",
      "2023-03-05 17:15:30,243;Loading reference for et bin:1 eta bin:2 name loose_cutbased\n",
      "2023-03-05 17:15:30,245;Loading reference for et bin:1 eta bin:2 name vloose_cutbased\n",
      "2023-03-05 17:15:30,247;Loading reference for et bin:1 eta bin:3 name tight_cutbased\n",
      "2023-03-05 17:15:30,249;Loading reference for et bin:1 eta bin:3 name medium_cutbased\n",
      "2023-03-05 17:15:30,250;Loading reference for et bin:1 eta bin:3 name loose_cutbased\n",
      "2023-03-05 17:15:30,252;Loading reference for et bin:1 eta bin:3 name vloose_cutbased\n",
      "2023-03-05 17:15:30,254;Loading reference for et bin:1 eta bin:4 name tight_cutbased\n",
      "2023-03-05 17:15:30,257;Loading reference for et bin:1 eta bin:4 name medium_cutbased\n",
      "2023-03-05 17:15:30,258;Loading reference for et bin:1 eta bin:4 name loose_cutbased\n",
      "2023-03-05 17:15:30,260;Loading reference for et bin:1 eta bin:4 name vloose_cutbased\n",
      "2023-03-05 17:15:30,261;Loading reference for et bin:2 eta bin:0 name tight_cutbased\n",
      "2023-03-05 17:15:30,264;Loading reference for et bin:2 eta bin:0 name medium_cutbased\n",
      "2023-03-05 17:15:30,265;Loading reference for et bin:2 eta bin:0 name loose_cutbased\n",
      "2023-03-05 17:15:30,267;Loading reference for et bin:2 eta bin:0 name vloose_cutbased\n",
      "2023-03-05 17:15:30,269;Loading reference for et bin:2 eta bin:1 name tight_cutbased\n",
      "2023-03-05 17:15:30,271;Loading reference for et bin:2 eta bin:1 name medium_cutbased\n",
      "2023-03-05 17:15:30,273;Loading reference for et bin:2 eta bin:1 name loose_cutbased\n",
      "2023-03-05 17:15:30,274;Loading reference for et bin:2 eta bin:1 name vloose_cutbased\n",
      "2023-03-05 17:15:30,276;Loading reference for et bin:2 eta bin:2 name tight_cutbased\n",
      "2023-03-05 17:15:30,279;Loading reference for et bin:2 eta bin:2 name medium_cutbased\n",
      "2023-03-05 17:15:30,280;Loading reference for et bin:2 eta bin:2 name loose_cutbased\n",
      "2023-03-05 17:15:30,282;Loading reference for et bin:2 eta bin:2 name vloose_cutbased\n",
      "2023-03-05 17:15:30,284;Loading reference for et bin:2 eta bin:3 name tight_cutbased\n",
      "2023-03-05 17:15:30,287;Loading reference for et bin:2 eta bin:3 name medium_cutbased\n",
      "2023-03-05 17:15:30,289;Loading reference for et bin:2 eta bin:3 name loose_cutbased\n",
      "2023-03-05 17:15:30,290;Loading reference for et bin:2 eta bin:3 name vloose_cutbased\n",
      "2023-03-05 17:15:30,291;Loading reference for et bin:2 eta bin:4 name tight_cutbased\n",
      "2023-03-05 17:15:30,293;Loading reference for et bin:2 eta bin:4 name medium_cutbased\n",
      "2023-03-05 17:15:30,295;Loading reference for et bin:2 eta bin:4 name loose_cutbased\n",
      "2023-03-05 17:15:30,297;Loading reference for et bin:2 eta bin:4 name vloose_cutbased\n",
      "2023-03-05 17:15:30,298;Loading reference for et bin:3 eta bin:0 name tight_cutbased\n",
      "2023-03-05 17:15:30,301;Loading reference for et bin:3 eta bin:0 name medium_cutbased\n",
      "2023-03-05 17:15:30,302;Loading reference for et bin:3 eta bin:0 name loose_cutbased\n",
      "2023-03-05 17:15:30,308;Loading reference for et bin:3 eta bin:0 name vloose_cutbased\n",
      "2023-03-05 17:15:30,309;Loading reference for et bin:3 eta bin:1 name tight_cutbased\n",
      "2023-03-05 17:15:30,311;Loading reference for et bin:3 eta bin:1 name medium_cutbased\n",
      "2023-03-05 17:15:30,312;Loading reference for et bin:3 eta bin:1 name loose_cutbased\n",
      "2023-03-05 17:15:30,314;Loading reference for et bin:3 eta bin:1 name vloose_cutbased\n",
      "2023-03-05 17:15:30,315;Loading reference for et bin:3 eta bin:2 name tight_cutbased\n",
      "2023-03-05 17:15:30,317;Loading reference for et bin:3 eta bin:2 name medium_cutbased\n",
      "2023-03-05 17:15:30,318;Loading reference for et bin:3 eta bin:2 name loose_cutbased\n",
      "2023-03-05 17:15:30,320;Loading reference for et bin:3 eta bin:2 name vloose_cutbased\n",
      "2023-03-05 17:15:30,321;Loading reference for et bin:3 eta bin:3 name tight_cutbased\n",
      "2023-03-05 17:15:30,323;Loading reference for et bin:3 eta bin:3 name medium_cutbased\n",
      "2023-03-05 17:15:30,324;Loading reference for et bin:3 eta bin:3 name loose_cutbased\n",
      "2023-03-05 17:15:30,428;Loading reference for et bin:3 eta bin:3 name vloose_cutbased\n",
      "2023-03-05 17:15:30,432;Loading reference for et bin:3 eta bin:4 name tight_cutbased\n",
      "2023-03-05 17:15:30,436;Loading reference for et bin:3 eta bin:4 name medium_cutbased\n",
      "2023-03-05 17:15:30,439;Loading reference for et bin:3 eta bin:4 name loose_cutbased\n",
      "2023-03-05 17:15:30,442;Loading reference for et bin:3 eta bin:4 name vloose_cutbased\n",
      "2023-03-05 17:15:30,444;Loading reference for et bin:4 eta bin:0 name tight_cutbased\n",
      "2023-03-05 17:15:30,448;Loading reference for et bin:4 eta bin:0 name medium_cutbased\n",
      "2023-03-05 17:15:30,451;Loading reference for et bin:4 eta bin:0 name loose_cutbased\n",
      "2023-03-05 17:15:30,454;Loading reference for et bin:4 eta bin:0 name vloose_cutbased\n",
      "2023-03-05 17:15:30,458;Loading reference for et bin:4 eta bin:1 name tight_cutbased\n",
      "2023-03-05 17:15:30,462;Loading reference for et bin:4 eta bin:1 name medium_cutbased\n",
      "2023-03-05 17:15:30,465;Loading reference for et bin:4 eta bin:1 name loose_cutbased\n",
      "2023-03-05 17:15:30,469;Loading reference for et bin:4 eta bin:1 name vloose_cutbased\n",
      "2023-03-05 17:15:30,472;Loading reference for et bin:4 eta bin:2 name tight_cutbased\n",
      "2023-03-05 17:15:30,475;Loading reference for et bin:4 eta bin:2 name medium_cutbased\n",
      "2023-03-05 17:15:30,479;Loading reference for et bin:4 eta bin:2 name loose_cutbased\n",
      "2023-03-05 17:15:30,482;Loading reference for et bin:4 eta bin:2 name vloose_cutbased\n",
      "2023-03-05 17:15:30,485;Loading reference for et bin:4 eta bin:3 name tight_cutbased\n",
      "2023-03-05 17:15:30,488;Loading reference for et bin:4 eta bin:3 name medium_cutbased\n",
      "2023-03-05 17:15:30,490;Loading reference for et bin:4 eta bin:3 name loose_cutbased\n",
      "2023-03-05 17:15:30,494;Loading reference for et bin:4 eta bin:3 name vloose_cutbased\n",
      "2023-03-05 17:15:30,498;Loading reference for et bin:4 eta bin:4 name tight_cutbased\n",
      "2023-03-05 17:15:30,502;Loading reference for et bin:4 eta bin:4 name medium_cutbased\n",
      "2023-03-05 17:15:30,504;Loading reference for et bin:4 eta bin:4 name loose_cutbased\n",
      "2023-03-05 17:15:30,506;Loading reference for et bin:4 eta bin:4 name vloose_cutbased\n",
      "2023-03-05 17:15:30,509;Loading reference for et bin:5 eta bin:0 name tight_cutbased\n",
      "2023-03-05 17:15:30,513;Loading reference for et bin:5 eta bin:0 name medium_cutbased\n",
      "2023-03-05 17:15:30,516;Loading reference for et bin:5 eta bin:0 name loose_cutbased\n",
      "2023-03-05 17:15:30,518;Loading reference for et bin:5 eta bin:0 name vloose_cutbased\n",
      "2023-03-05 17:15:30,520;Loading reference for et bin:5 eta bin:1 name tight_cutbased\n",
      "2023-03-05 17:15:30,522;Loading reference for et bin:5 eta bin:1 name medium_cutbased\n",
      "2023-03-05 17:15:30,524;Loading reference for et bin:5 eta bin:1 name loose_cutbased\n",
      "2023-03-05 17:15:30,525;Loading reference for et bin:5 eta bin:1 name vloose_cutbased\n",
      "2023-03-05 17:15:30,527;Loading reference for et bin:5 eta bin:2 name tight_cutbased\n",
      "2023-03-05 17:15:30,530;Loading reference for et bin:5 eta bin:2 name medium_cutbased\n",
      "2023-03-05 17:15:30,532;Loading reference for et bin:5 eta bin:2 name loose_cutbased\n",
      "2023-03-05 17:15:30,538;Loading reference for et bin:5 eta bin:2 name vloose_cutbased\n",
      "2023-03-05 17:15:30,539;Loading reference for et bin:5 eta bin:3 name tight_cutbased\n",
      "2023-03-05 17:15:30,541;Loading reference for et bin:5 eta bin:3 name medium_cutbased\n",
      "2023-03-05 17:15:30,542;Loading reference for et bin:5 eta bin:3 name loose_cutbased\n",
      "2023-03-05 17:15:30,544;Loading reference for et bin:5 eta bin:3 name vloose_cutbased\n",
      "2023-03-05 17:15:30,545;Loading reference for et bin:5 eta bin:4 name tight_cutbased\n",
      "2023-03-05 17:15:30,547;Loading reference for et bin:5 eta bin:4 name medium_cutbased\n",
      "2023-03-05 17:15:30,549;Loading reference for et bin:5 eta bin:4 name loose_cutbased\n",
      "2023-03-05 17:15:30,550;Loading reference for et bin:5 eta bin:4 name vloose_cutbased\n"
     ]
    }
   ],
   "source": [
    "homepath = os.path.expanduser('~')\n",
    "datapath = os.path.join(homepath, 'data', dataset)\n",
    "refpath = os.path.join(datapath, 'references')\n",
    "ref_filepath = os.path.join(refpath, dataset + '_et{ET}_eta{ETA}.ref.pic.gz')\n",
    "ref_ets = n_ets+1 if extra_bin else n_ets\n",
    "ref_matrix = [[ {} for eta in range(n_etas)] for et in range(ref_ets)]\n",
    "references = ['tight_cutbased', 'medium_cutbased' , 'loose_cutbased', 'vloose_cutbased']\n",
    "for et_bin in range(ref_ets):\n",
    "    for eta_bin in range(n_etas):\n",
    "        for name in references:\n",
    "            logger.info(f'Loading reference for et bin:{et_bin} eta bin:{eta_bin} name {name}')\n",
    "            refObj = ReferenceReader().load(ref_filepath.format(ET=et_bin,ETA=eta_bin))\n",
    "            _pd = refObj.getSgnPassed(name)/refObj.getSgnTotal(name)\n",
    "            fa = refObj.getBkgPassed(name)/refObj.getBkgTotal(name)\n",
    "            ref_matrix[et_bin][eta_bin][name] = {'pd':_pd, 'fa':fa, 'pd_epsilon':0}"
   ]
  },
  {
   "cell_type": "markdown",
   "id": "211011b8-c11a-4ba1-b31b-09412d5380e7",
   "metadata": {
    "tags": []
   },
   "source": [
    "## Fitting thresholds"
   ]
  },
  {
   "cell_type": "code",
   "execution_count": 11,
   "id": "0b602dde-373d-4d8b-b529-ecf882e2658a",
   "metadata": {},
   "outputs": [
    {
     "data": {
      "text/plain": [
       "(6, 6, 6, 116)"
      ]
     },
     "execution_count": 11,
     "metadata": {},
     "output_type": "execute_result"
    }
   ],
   "source": [
    "fit_etbins = etbins.copy()\n",
    "fit_etabins = etabins.copy()\n",
    "if extra_bin:\n",
    "    fit_etbins.insert(-1, 100)\n",
    "data_filepath = os.path.join(datapath, dataset + '_et{ET}_eta{ETA}.npz')\n",
    "paths = [[ data_filepath.format(ET=et,ETA=eta) for eta in range(len(fit_etabins)-1)] for et in range(len(fit_etbins)-1)]\n",
    "ct  = fit_table(generator, fit_etbins , fit_etabins, 0.02, 0.5, 16, 60, xmin_percentage=0.05, xmax_percentage=99.95)\n",
    "fit_name = f'correction_{model_version}_{dataset}'\n",
    "len(paths), len(best_models), len(ref_matrix), len(fit_name)"
   ]
  },
  {
   "cell_type": "code",
   "execution_count": null,
   "id": "882cd1b7-c2d7-46da-9bcb-a8997dbeaa62",
   "metadata": {
    "tags": []
   },
   "outputs": [
    {
     "name": "stdout",
     "output_type": "stream",
     "text": [
      "2023-03-05 17:15:30,577;Starting fitting thresholds\n",
      "\n",
      "Applying ATLAS style settings...\n",
      "Fitting... |------------------------------------------------------------| 0/30\r"
     ]
    },
    {
     "name": "stderr",
     "output_type": "stream",
     "text": [
      "/usr/local/lib/python3.6/dist-packages/tensorflow/python/data/ops/dataset_ops.py:3350: UserWarning: Even though the tf.config.experimental_run_functions_eagerly option is set, this option does not apply to tf.data functions. tf.data functions are still traced and executed as graphs.\n",
      "  \"Even though the tf.config.experimental_run_functions_eagerly \"\n"
     ]
    },
    {
     "name": "stdout",
     "output_type": "stream",
     "text": [
      "Fitting... |####################################------------------------| 18/30\r"
     ]
    }
   ],
   "source": [
    "logger.info('Starting fitting thresholds')\n",
    "ct.fill(paths, best_models, ref_matrix, fit_name)\n",
    "logger.info('Finished fitting thresholds')\n",
    "fit_table = ct.table()\n",
    "fit_table.to_csv(os.path.join(output_dir, 'threshold_table.csv'))\n",
    "logger.info('Dumped fitting table')\n",
    "ct.dump_beamer_table(ct.table(), best_models, f'{dataset} {model_version} tuning', \n",
    "    fit_name + '.pdf')\n",
    "logger.info('Dumped beamer table')"
   ]
  },
  {
   "cell_type": "code",
   "execution_count": null,
   "id": "92a6666e-674c-4d06-9390-ff2c37f35125",
   "metadata": {
    "tags": []
   },
   "outputs": [],
   "source": [
    "best_models[0][0]"
   ]
  },
  {
   "cell_type": "markdown",
   "id": "50c84c6d-48c6-4e3a-8a43-5591698ddca9",
   "metadata": {
    "tags": []
   },
   "source": [
    "## Exporting"
   ]
  },
  {
   "cell_type": "code",
   "execution_count": null,
   "id": "b412c0aa-e7f3-4749-b458-85fac530ed96",
   "metadata": {},
   "outputs": [],
   "source": [
    "config_name_format = 'ElectronRinger{op}TriggerConfig.conf'\n",
    "for idx, op in enumerate(['Tight','Medium','Loose','VeryLoose']):\n",
    "    logger.info(f'Exporting model {op}')\n",
    "    model_name_format = f'data17_13TeV_EGAM1_probes_lhmedium_EGAM7_vetolhvloose.model_{model_version}.electron{op}' + '.et%d_eta%d'\n",
    "    config_name_format = f'ElectronRinger{op}TriggerConfig.conf'\n",
    "    ct.export(best_models, \n",
    "              model_name_format, \n",
    "              config_name_format, \n",
    "              references[idx], \n",
    "              to_onnx='new')\n",
    "logger.info('Finished execution')"
   ]
  }
 ],
 "metadata": {
  "kernelspec": {
   "display_name": "Python 3",
   "language": "python",
   "name": "python3"
  },
  "language_info": {
   "codemirror_mode": {
    "name": "ipython",
    "version": 3
   },
   "file_extension": ".py",
   "mimetype": "text/x-python",
   "name": "python",
   "nbconvert_exporter": "python",
   "pygments_lexer": "ipython3",
   "version": "3.6.9"
  }
 },
 "nbformat": 4,
 "nbformat_minor": 5
}
