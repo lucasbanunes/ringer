{
 "cells": [
  {
   "cell_type": "code",
   "execution_count": 1,
   "id": "taken-positive",
   "metadata": {},
   "outputs": [
    {
     "name": "stdout",
     "output_type": "stream",
     "text": [
      "Welcome to JupyROOT 6.16/00\n",
      "Using all sub packages with ROOT dependence\n",
      "INFO: Pandarallel will run on 20 workers.\n",
      "INFO: Pandarallel will use Memory file system to transfer data between the main process and workers.\n"
     ]
    }
   ],
   "source": [
    "from Gaugi import load as gaugi_load\n",
    "from kepler.pandas.readers import load as kepler_load\n",
    "\n",
    "import pandas as pd\n",
    "import numpy as np\n",
    "import os"
   ]
  },
  {
   "cell_type": "code",
   "execution_count": 2,
   "id": "scientific-encounter",
   "metadata": {},
   "outputs": [],
   "source": [
    "def load_as_df(filepath: str) -> pd.DataFrame:\n",
    "    data = dict(np.load(filepath))\n",
    "    df_data = pd.DataFrame(data['data'], columns=data['features'])\n",
    "    df_target = pd.DataFrame(data['target'], columns=['target'])\n",
    "    df = pd.concat([df_data, df_target], axis=1)\n",
    "    return df"
   ]
  },
  {
   "cell_type": "code",
   "execution_count": 3,
   "id": "92c4b63e-4acc-49e1-b2dc-9a2ca2bacebe",
   "metadata": {},
   "outputs": [],
   "source": [
    "def get_ref(data: pd.DataFrame, metric:str, criteria: str):\n",
    "    target = 1 if metric=='pd' else 0\n",
    "    offline_approved = data[f'el_lh{criteria}'] == target\n",
    "    cutbased_approved = data[triger_criterias[criteria]] == target\n",
    "    res = {\n",
    "        'total': offline_approved.sum(),\n",
    "        'passed': (offline_approved & cutbased_approved).sum()\n",
    "    }\n",
    "    res[metric] = res['passed']/res['total']                        \n",
    "    return res"
   ]
  },
  {
   "cell_type": "code",
   "execution_count": 4,
   "id": "differential-youth",
   "metadata": {},
   "outputs": [],
   "source": [
    "et=4\n",
    "eta=0\n",
    "dataset = 'data17_13TeV.AllPeriods.sgn.probes_lhmedium_EGAM1.bkg.VProbes_EGAM7.GRL_v97'\n",
    "loose_dataset = 'data17_13TeV.AllPeriods.sgn.probes_lhvloose_EGAM1.bkg.vprobes_vlhvloose_EGAM7.GRL_v97.25bins'\n",
    "homepath = os.path.expanduser('~')\n",
    "datapath = os.path.join(homepath, 'data', dataset)\n",
    "loose_datapath = os.path.join(homepath, 'data', loose_dataset)\n",
    "filepath = os.path.join(datapath, dataset + '_et{et}_eta{eta}.npz')\n",
    "refpath = os.path.join(datapath, 'references')\n",
    "reffilepath = os.path.join(refpath, dataset + '_et{et}_eta{eta}.ref.pic.gz')\n",
    "loose_filepath = os.path.join(loose_datapath, loose_dataset + '_et{et}_eta{eta}.npz')"
   ]
  },
  {
   "cell_type": "code",
   "execution_count": 5,
   "id": "severe-elevation",
   "metadata": {},
   "outputs": [
    {
     "data": {
      "text/plain": [
       "{'tight': 'T0HLTElectronT2CaloTight',\n",
       " 'medium': 'T0HLTElectronT2CaloMedium',\n",
       " 'loose': 'T0HLTElectronT2CaloLoose',\n",
       " 'vloose': 'T0HLTElectronT2CaloVLoose'}"
      ]
     },
     "execution_count": 5,
     "metadata": {},
     "output_type": "execute_result"
    }
   ],
   "source": [
    "criterias = ['tight', 'medium', 'loose', 'vloose']\n",
    "l2calo_trigers = ['T0HLTElectronT2CaloTight', 'T0HLTElectronT2CaloMedium', 'T0HLTElectronT2CaloLoose', 'T0HLTElectronT2CaloVLoose']\n",
    "triger_criterias = {key: value for key, value in zip(criterias, l2calo_trigers)}\n",
    "triger_criterias"
   ]
  },
  {
   "cell_type": "code",
   "execution_count": 6,
   "id": "romance-tomato",
   "metadata": {},
   "outputs": [
    {
     "data": {
      "text/plain": [
       "{'class': 'Reference_v1',\n",
       " '__module': 'saphyra.readers.versions.Reference_v1',\n",
       " 'etBinIdx': array(4),\n",
       " 'etBins': array([1.5e+01, 2.0e+01, 3.0e+01, 4.0e+01, 5.0e+01, 1.0e+06]),\n",
       " '__version': 1,\n",
       " 'bkgRef': OrderedDict([('tight_cutbased',\n",
       "               {'total': 3769656,\n",
       "                'passed': 763817.0,\n",
       "                'reference': 'T0HLTElectronT2CaloTight'}),\n",
       "              ('medium_cutbased',\n",
       "               {'total': 3769656,\n",
       "                'passed': 925500.0,\n",
       "                'reference': 'T0HLTElectronT2CaloMedium'}),\n",
       "              ('loose_cutbased',\n",
       "               {'total': 3769656,\n",
       "                'passed': 3444525.0,\n",
       "                'reference': 'T0HLTElectronT2CaloLoose'}),\n",
       "              ('vloose_cutbased',\n",
       "               {'total': 3769656,\n",
       "                'passed': 3481839.0,\n",
       "                'reference': 'T0HLTElectronT2CaloVLoose'})]),\n",
       " 'etaBinIdx': array(4),\n",
       " 'etaBins': array([0.  , 0.8 , 1.37, 1.54, 2.37, 2.5 ]),\n",
       " 'sgnRef': OrderedDict([('tight_cutbased',\n",
       "               {'total': 1650658,\n",
       "                'passed': 1644484.0,\n",
       "                'reference': 'T0HLTElectronT2CaloTight'}),\n",
       "              ('medium_cutbased',\n",
       "               {'total': 1650658,\n",
       "                'passed': 1646125.0,\n",
       "                'reference': 'T0HLTElectronT2CaloMedium'}),\n",
       "              ('loose_cutbased',\n",
       "               {'total': 1650658,\n",
       "                'passed': 1650172.0,\n",
       "                'reference': 'T0HLTElectronT2CaloLoose'}),\n",
       "              ('vloose_cutbased',\n",
       "               {'total': 1650658,\n",
       "                'passed': 1650261.0,\n",
       "                'reference': 'T0HLTElectronT2CaloVLoose'})])}"
      ]
     },
     "execution_count": 6,
     "metadata": {},
     "output_type": "execute_result"
    }
   ],
   "source": [
    "ref = gaugi_load(reffilepath.format(et=et, eta=eta))\n",
    "ref_total = ref['bkgRef']['medium_cutbased']['total'] + ref['sgnRef']['medium_cutbased']['total']\n",
    "ref"
   ]
  },
  {
   "cell_type": "code",
   "execution_count": 7,
   "id": "downtown-court",
   "metadata": {},
   "outputs": [
    {
     "name": "stdout",
     "output_type": "stream",
     "text": [
      "(5469197, 155)\n",
      "int16\n",
      "float32\n",
      "float32\n",
      "float32\n",
      "float32\n",
      "float32\n",
      "float32\n",
      "float32\n",
      "float32\n"
     ]
    }
   ],
   "source": [
    "# Al the targets where 1 or 0 with floats, casted them to ints to avoid possible float comparision error\n",
    "medium_data = load_as_df(filepath.format(et=et, eta=eta))\n",
    "medium_total = medium_data.shape[0]\n",
    "print(medium_data.shape)\n",
    "print(medium_data['target'].dtype)\n",
    "print(medium_data['el_lhtight'].dtype)\n",
    "medium_data['el_lhtight'] = medium_data['el_lhtight'].astype('int16')\n",
    "print(medium_data['el_lhmedium'].dtype)\n",
    "medium_data['el_lhmedium'] = medium_data['el_lhmedium'].astype('int16')\n",
    "print(medium_data['el_lhloose'].dtype)\n",
    "medium_data['el_lhloose'] = medium_data['el_lhloose'].astype('int16')\n",
    "print(medium_data['el_lhvloose'].dtype)\n",
    "medium_data['el_lhvloose'] = medium_data['el_lhvloose'].astype('int16')\n",
    "print(medium_data[triger_criterias['tight']].dtype)\n",
    "medium_data[triger_criterias['tight']] = medium_data[triger_criterias['tight']].astype('int16')\n",
    "print(medium_data[triger_criterias['medium']].dtype)\n",
    "medium_data[triger_criterias['medium']] = medium_data[triger_criterias['medium']].astype('int16')\n",
    "print(medium_data[triger_criterias['loose']].dtype)\n",
    "medium_data[triger_criterias['loose']] = medium_data[triger_criterias['loose']].astype('int16')\n",
    "print(medium_data[triger_criterias['vloose']].dtype)\n",
    "medium_data[triger_criterias['vloose']] = medium_data[triger_criterias['vloose']].astype('int16')"
   ]
  },
  {
   "cell_type": "code",
   "execution_count": 17,
   "id": "boring-butler",
   "metadata": {
    "tags": []
   },
   "outputs": [
    {
     "name": "stdout",
     "output_type": "stream",
     "text": [
      "avgmu\n",
      "L2Calo_et\n",
      "L2Calo_eta\n",
      "L2Calo_phi\n",
      "L2Calo_reta\n",
      "L2Calo_ehad1\n",
      "L2Calo_eratio\n",
      "L2Calo_f1\n",
      "L2Calo_f3\n",
      "L2Calo_weta2\n",
      "L2Calo_wstot\n",
      "L2Calo_e2tsts1\n",
      "L2Electron_hastrack\n",
      "L2Electron_pt\n",
      "L2Electron_eta\n",
      "L2Electron_phi\n",
      "L2Electron_caloEta\n",
      "L2Electron_trkClusDeta\n",
      "L2Electron_trkClusDphi\n",
      "L2Electron_etOverPt\n",
      "et\n",
      "eta\n",
      "phi\n",
      "rhad1\n",
      "rhad\n",
      "f3\n",
      "weta2\n",
      "rphi\n",
      "reta\n",
      "wtots1\n",
      "eratio\n",
      "f1\n",
      "hastrack\n",
      "numberOfBLayerHits\n",
      "numberOfPixelHits\n",
      "numberOfTRTHits\n",
      "d0\n",
      "d0significance\n",
      "eProbabilityHT\n",
      "trans_TRT_PID\n",
      "deltaEta1\n",
      "deltaPhi2\n",
      "deltaPhi2Rescaled\n",
      "DeltaPOverP\n",
      "deltaR\n",
      "eeMass\n",
      "el_lhtight\n",
      "el_lhmedium\n",
      "el_lhloose\n",
      "el_lhvloose\n",
      "T0HLTElectronT2CaloTight\n",
      "T0HLTElectronT2CaloMedium\n",
      "T0HLTElectronT2CaloLoose\n",
      "T0HLTElectronT2CaloVLoose\n",
      "target\n"
     ]
    }
   ],
   "source": [
    "for col in medium_data.columns:\n",
    "    if not col.startswith('L2Calo_ring'):\n",
    "        print(col)"
   ]
  },
  {
   "cell_type": "code",
   "execution_count": 8,
   "id": "fiscal-spelling",
   "metadata": {},
   "outputs": [
    {
     "data": {
      "text/plain": [
       "(True, True, False, False)"
      ]
     },
     "execution_count": 8,
     "metadata": {},
     "output_type": "execute_result"
    }
   ],
   "source": [
    "((medium_data['target'] == medium_data['el_lhtight']).all(), \n",
    "(medium_data['target'] == medium_data['el_lhmedium']).all(), \n",
    "(medium_data['target'] == medium_data['el_lhloose']).all(), \n",
    "(medium_data['target'] == medium_data['el_lhvloose']).all())"
   ]
  },
  {
   "cell_type": "code",
   "execution_count": 9,
   "id": "running-output",
   "metadata": {},
   "outputs": [
    {
     "data": {
      "text/plain": [
       "(False, False, False, False)"
      ]
     },
     "execution_count": 9,
     "metadata": {},
     "output_type": "execute_result"
    }
   ],
   "source": [
    "((medium_data['target'] == medium_data[triger_criterias['tight']]).all(), \n",
    " (medium_data['target'] == medium_data[triger_criterias['medium']]).all(), \n",
    " (medium_data['target'] == medium_data[triger_criterias['loose']]).all(), \n",
    " (medium_data['target'] == medium_data[triger_criterias['vloose']]).all())"
   ]
  },
  {
   "cell_type": "code",
   "execution_count": 10,
   "id": "brown-reader",
   "metadata": {},
   "outputs": [
    {
     "name": "stderr",
     "output_type": "stream",
     "text": [
      "/usr/local/lib/python3.6/dist-packages/ipykernel_launcher.py:9: RuntimeWarning: invalid value encountered in long_scalars\n",
      "  if __name__ == '__main__':\n",
      "/usr/local/lib/python3.6/dist-packages/ipykernel_launcher.py:9: RuntimeWarning: invalid value encountered in long_scalars\n",
      "  if __name__ == '__main__':\n"
     ]
    },
    {
     "data": {
      "text/plain": [
       "{'tight': {'total': 1699541, 'passed': 1693200, 'pd': 0.9962689926280096},\n",
       " 'medium': {'total': 1699541, 'passed': 1694888, 'pd': 0.9972622019710028},\n",
       " 'loose': {'total': 0, 'passed': 0, 'pd': nan},\n",
       " 'vloose': {'total': 0, 'passed': 0, 'pd': nan}}"
      ]
     },
     "execution_count": 10,
     "metadata": {},
     "output_type": "execute_result"
    }
   ],
   "source": [
    "medium_data_pds = {criteria: get_ref(medium_data, 'pd', criteria) for criteria in criterias}\n",
    "medium_data_pds"
   ]
  },
  {
   "cell_type": "code",
   "execution_count": 11,
   "id": "9265a07a-14ae-4f23-adeb-6fc052c9037d",
   "metadata": {},
   "outputs": [
    {
     "data": {
      "text/plain": [
       "{'tight': {'total': 3769656, 'passed': 3005839, 'fa': 0.7973775325918333},\n",
       " 'medium': {'total': 3769656, 'passed': 2844156, 'fa': 0.7544868815616067},\n",
       " 'loose': {'total': 5469197, 'passed': 325630, 'fa': 0.05953890488859699},\n",
       " 'vloose': {'total': 5469197, 'passed': 288226, 'fa': 0.05269987531990528}}"
      ]
     },
     "execution_count": 11,
     "metadata": {},
     "output_type": "execute_result"
    }
   ],
   "source": [
    "medium_data_fas = {criteria: get_ref(medium_data, 'fa', criteria) for criteria in criterias}\n",
    "medium_data_fas"
   ]
  },
  {
   "cell_type": "code",
   "execution_count": 12,
   "id": "alleged-albania",
   "metadata": {},
   "outputs": [
    {
     "data": {
      "text/plain": [
       "(5469197, 155)"
      ]
     },
     "execution_count": 12,
     "metadata": {},
     "output_type": "execute_result"
    }
   ],
   "source": [
    "# Utilizando o filtro fornecido pelo Micael. Isso indica que o data medium já é o filtro aplicado sobre vloose (Acredito que seja sobre o vloose)\n",
    "filtered_medium =  medium_data.loc[((medium_data['target'] == 1)&(medium_data['el_lhmedium'] == 1)) | ((medium_data['target'] != 1)&(medium_data['el_lhvloose'] !=1))]\n",
    "filtered_medium_total = filtered_medium.shape[0]\n",
    "filtered_medium.shape"
   ]
  },
  {
   "cell_type": "code",
   "execution_count": 13,
   "id": "5e158451-6cd1-4073-a8be-0b5223aaa5a0",
   "metadata": {},
   "outputs": [
    {
     "name": "stderr",
     "output_type": "stream",
     "text": [
      "/usr/local/lib/python3.6/dist-packages/ipykernel_launcher.py:9: RuntimeWarning: invalid value encountered in long_scalars\n",
      "  if __name__ == '__main__':\n",
      "/usr/local/lib/python3.6/dist-packages/ipykernel_launcher.py:9: RuntimeWarning: invalid value encountered in long_scalars\n",
      "  if __name__ == '__main__':\n"
     ]
    },
    {
     "data": {
      "text/plain": [
       "{'tight': {'total': 1699541, 'passed': 1693200, 'pd': 0.9962689926280096},\n",
       " 'medium': {'total': 1699541, 'passed': 1694888, 'pd': 0.9972622019710028},\n",
       " 'loose': {'total': 0, 'passed': 0, 'pd': nan},\n",
       " 'vloose': {'total': 0, 'passed': 0, 'pd': nan}}"
      ]
     },
     "execution_count": 13,
     "metadata": {},
     "output_type": "execute_result"
    }
   ],
   "source": [
    "filtered_medium_data_pds = {criteria: get_ref(filtered_medium, 'pd', criteria) for criteria in criterias}\n",
    "filtered_medium_data_pds"
   ]
  },
  {
   "cell_type": "code",
   "execution_count": 14,
   "id": "0e8659fc-54f2-4128-aafe-8e2f13f18e39",
   "metadata": {},
   "outputs": [
    {
     "data": {
      "text/plain": [
       "{'tight': {'total': 3769656, 'passed': 3005839, 'fa': 0.7973775325918333},\n",
       " 'medium': {'total': 3769656, 'passed': 2844156, 'fa': 0.7544868815616067},\n",
       " 'loose': {'total': 5469197, 'passed': 325630, 'fa': 0.05953890488859699},\n",
       " 'vloose': {'total': 5469197, 'passed': 288226, 'fa': 0.05269987531990528}}"
      ]
     },
     "execution_count": 14,
     "metadata": {},
     "output_type": "execute_result"
    }
   ],
   "source": [
    "filtered_medium_data_fas = {criteria: get_ref(filtered_medium, 'fa', criteria) for criteria in criterias}\n",
    "filtered_medium_data_fas"
   ]
  },
  {
   "cell_type": "code",
   "execution_count": 15,
   "id": "golden-questionnaire",
   "metadata": {},
   "outputs": [
    {
     "data": {
      "text/plain": [
       "(True, True, False, False)"
      ]
     },
     "execution_count": 15,
     "metadata": {},
     "output_type": "execute_result"
    }
   ],
   "source": [
    "((filtered_medium['target'] == filtered_medium['el_lhtight']).all(), \n",
    "(filtered_medium['target'] == filtered_medium['el_lhmedium']).all(), \n",
    "(filtered_medium['target'] == filtered_medium['el_lhloose']).all(), \n",
    "(filtered_medium['target'] == filtered_medium['el_lhvloose']).all())"
   ]
  },
  {
   "cell_type": "code",
   "execution_count": 16,
   "id": "tracked-mining",
   "metadata": {},
   "outputs": [
    {
     "data": {
      "text/plain": [
       "(False, False, False, False)"
      ]
     },
     "execution_count": 16,
     "metadata": {},
     "output_type": "execute_result"
    }
   ],
   "source": [
    "((filtered_medium['target'] == filtered_medium[triger_criterias['tight']]).all(), \n",
    " (filtered_medium['target'] == filtered_medium[triger_criterias['medium']]).all(), \n",
    " (filtered_medium['target'] == filtered_medium[triger_criterias['loose']]).all(), \n",
    " (filtered_medium['target'] == filtered_medium[triger_criterias['vloose']]).all())"
   ]
  },
  {
   "cell_type": "code",
   "execution_count": 18,
   "id": "unauthorized-harmony",
   "metadata": {
    "tags": []
   },
   "outputs": [
    {
     "data": {
      "text/plain": [
       "(5599840, 216)"
      ]
     },
     "execution_count": 18,
     "metadata": {},
     "output_type": "execute_result"
    }
   ],
   "source": [
    "vloose_data = kepler_load(loose_filepath.format(et=et, eta=eta))\n",
    "vloose_total = vloose_data.shape[0]\n",
    "vloose_data.shape"
   ]
  },
  {
   "cell_type": "code",
   "execution_count": 19,
   "id": "parallel-factor",
   "metadata": {
    "tags": []
   },
   "outputs": [
    {
     "name": "stdout",
     "output_type": "stream",
     "text": [
      "RunNumber\n",
      "avgmu\n",
      "trig_L2_cl_et\n",
      "trig_L2_cl_eta\n",
      "trig_L2_cl_phi\n",
      "trig_L2_cl_reta\n",
      "trig_L2_cl_ehad1\n",
      "trig_L2_cl_eratio\n",
      "trig_L2_cl_f1\n",
      "trig_L2_cl_f3\n",
      "trig_L2_cl_weta2\n",
      "trig_L2_cl_wstot\n",
      "trig_L2_cl_e2tsts1\n",
      "trig_L2_el_hastrack\n",
      "trig_L2_el_pt\n",
      "trig_L2_el_eta\n",
      "trig_L2_el_phi\n",
      "trig_L2_el_caloEta\n",
      "trig_L2_el_trkClusDeta\n",
      "trig_L2_el_trkClusDphi\n",
      "trig_L2_el_etOverPt\n",
      "trig_EF_cl_hascluster\n",
      "trig_EF_cl_et\n",
      "trig_EF_cl_eta\n",
      "trig_EF_cl_etaBE2\n",
      "trig_EF_cl_phi\n",
      "trig_EF_el_hascand\n",
      "trig_EF_el_et\n",
      "trig_EF_el_eta\n",
      "trig_EF_el_etaBE2\n",
      "trig_EF_el_phi\n",
      "trig_EF_el_rhad1\n",
      "trig_EF_el_rhad\n",
      "trig_EF_el_f3\n",
      "trig_EF_el_weta2\n",
      "trig_EF_el_rphi\n",
      "trig_EF_el_reta\n",
      "trig_EF_el_wtots1\n",
      "trig_EF_el_eratio\n",
      "trig_EF_el_f1\n",
      "trig_EF_el_hastrack\n",
      "trig_EF_el_deltaEta1\n",
      "trig_EF_el_deltaPhi2\n",
      "trig_EF_el_deltaPhi2Rescaled\n",
      "trig_EF_el_lhtight\n",
      "trig_EF_el_lhmedium\n",
      "trig_EF_el_lhloose\n",
      "trig_EF_el_lhvloose\n",
      "el_et\n",
      "el_eta\n",
      "el_etaBE2\n",
      "el_phi\n",
      "el_rhad1\n",
      "el_rhad\n",
      "el_f3\n",
      "el_weta2\n",
      "el_rphi\n",
      "el_reta\n",
      "el_wtots1\n",
      "el_eratio\n",
      "el_f1\n",
      "el_hastrack\n",
      "el_numberOfBLayerHits\n",
      "el_numberOfPixelHits\n",
      "el_numberOfTRTHits\n",
      "el_d0\n",
      "el_d0significance\n",
      "el_eProbabilityHT\n",
      "el_trans_TRT_PID\n",
      "el_deltaEta1\n",
      "el_deltaPhi2\n",
      "el_deltaPhi2Rescaled\n",
      "el_deltaPOverP\n",
      "el_lhtight\n",
      "el_lhmedium\n",
      "el_lhloose\n",
      "el_lhvloose\n",
      "trig_EF_el_lhtight_ivarloose\n",
      "el_TaP_Mass\n",
      "el_TaP_deltaR\n",
      "L1_EM3\n",
      "L1_EM7\n",
      "L1_EM15VH\n",
      "L1_EM15VHI\n",
      "L1_EM20VH\n",
      "L1_EM20VHI\n",
      "L1_EM22VH\n",
      "L1_EM22VHI\n",
      "L1_EM24VHI\n",
      "trig_L2_cl_lhvloose_et0to12\n",
      "trig_L2_cl_lhvloose_et12to20\n",
      "trig_L2_cl_lhvloose_et22toInf\n",
      "trig_L2_cl_lhloose_et0to12\n",
      "trig_L2_cl_lhloose_et12to20\n",
      "trig_L2_cl_lhloose_et22toInf\n",
      "trig_L2_cl_lhmedium_et0to12\n",
      "trig_L2_cl_lhmedium_et12to20\n",
      "trig_L2_cl_lhmedium_et22toInf\n",
      "trig_L2_cl_lhtight_et0to12\n",
      "trig_L2_cl_lhtight_et12to20\n",
      "trig_L2_cl_lhtight_et22toInf\n",
      "trig_L2_el_cut_pt0to15\n",
      "trig_L2_el_cut_pt15to20\n",
      "trig_L2_el_cut_pt20to50\n",
      "trig_L2_el_cut_pt50toInf\n",
      "TDT__L1Calo__e28_lhtight_nod0_ivarloose\n",
      "TDT__L2Calo__e28_lhtight_nod0_ivarloose\n",
      "TDT__L2__e28_lhtight_nod0_ivarloose\n",
      "TDT__EFCalo__e28_lhtight_nod0_ivarloose\n",
      "TDT__HLT__e28_lhtight_nod0_ivarloose\n",
      "TDT__L1Calo__e28_lhtight_nod0_noringer_ivarloose\n",
      "TDT__L2Calo__e28_lhtight_nod0_noringer_ivarloose\n",
      "TDT__L2__e28_lhtight_nod0_noringer_ivarloose\n",
      "TDT__EFCalo__e28_lhtight_nod0_noringer_ivarloose\n",
      "TDT__HLT__e28_lhtight_nod0_noringer_ivarloose\n",
      "target\n"
     ]
    }
   ],
   "source": [
    "for col in vloose_data.columns:\n",
    "    if not col.startswith('trig_L2_cl_ring'):\n",
    "        print(col)"
   ]
  },
  {
   "cell_type": "code",
   "execution_count": 20,
   "id": "015a94f2-be8f-41b0-9eea-607c300d3dc0",
   "metadata": {},
   "outputs": [
    {
     "data": {
      "text/plain": [
       "0    True\n",
       "1    True\n",
       "2    True\n",
       "3    True\n",
       "4    True\n",
       "Name: trig_L2_cl_lhvloose_et0to12, dtype: bool"
      ]
     },
     "execution_count": 20,
     "metadata": {},
     "output_type": "execute_result"
    }
   ],
   "source": [
    "vloose_data['trig_L2_cl_lhvloose_et0to12'].head()"
   ]
  },
  {
   "cell_type": "code",
   "execution_count": 21,
   "id": "03453d01-293c-4642-a041-15fac165f567",
   "metadata": {},
   "outputs": [
    {
     "data": {
      "text/plain": [
       "array([ True, False])"
      ]
     },
     "execution_count": 21,
     "metadata": {},
     "output_type": "execute_result"
    }
   ],
   "source": [
    "vloose_data['trig_L2_cl_lhvloose_et0to12'].unique()"
   ]
  },
  {
   "cell_type": "code",
   "execution_count": 22,
   "id": "89af5c30-26dd-4306-bfe6-f06513c76e03",
   "metadata": {},
   "outputs": [
    {
     "data": {
      "text/plain": [
       "0    True\n",
       "1    True\n",
       "2    True\n",
       "3    True\n",
       "4    True\n",
       "Name: trig_L2_cl_lhvloose_et12to20, dtype: bool"
      ]
     },
     "execution_count": 22,
     "metadata": {},
     "output_type": "execute_result"
    }
   ],
   "source": [
    "vloose_data['trig_L2_cl_lhvloose_et12to20'].head()"
   ]
  },
  {
   "cell_type": "code",
   "execution_count": 23,
   "id": "9a45f939-aff2-4710-8e74-8dee2f75ec86",
   "metadata": {},
   "outputs": [
    {
     "data": {
      "text/plain": [
       "array([ True, False])"
      ]
     },
     "execution_count": 23,
     "metadata": {},
     "output_type": "execute_result"
    }
   ],
   "source": [
    "vloose_data['trig_L2_cl_lhvloose_et12to20'].unique()"
   ]
  },
  {
   "cell_type": "code",
   "execution_count": 24,
   "id": "8e608048-8b34-45ef-acd5-1c49ae9bd40e",
   "metadata": {},
   "outputs": [
    {
     "data": {
      "text/plain": [
       "(False, True)"
      ]
     },
     "execution_count": 24,
     "metadata": {},
     "output_type": "execute_result"
    }
   ],
   "source": [
    "is_equal = (vloose_data['trig_L2_cl_lhvloose_et0to12'] == vloose_data['trig_L2_cl_lhvloose_et12to20'])\n",
    "is_equal.all(), is_equal.any()"
   ]
  },
  {
   "cell_type": "code",
   "execution_count": 25,
   "id": "empty-veteran",
   "metadata": {},
   "outputs": [
    {
     "data": {
      "text/plain": [
       "(False, False, False, True)"
      ]
     },
     "execution_count": 25,
     "metadata": {},
     "output_type": "execute_result"
    }
   ],
   "source": [
    "((vloose_data['target'] == vloose_data['el_lhtight']).all(), \n",
    "(vloose_data['target'] == vloose_data['el_lhmedium']).all(), \n",
    "(vloose_data['target'] == vloose_data['el_lhloose']).all(), \n",
    "(vloose_data['target'] == vloose_data['el_lhvloose']).all())"
   ]
  },
  {
   "cell_type": "code",
   "execution_count": 26,
   "id": "stunning-commander",
   "metadata": {},
   "outputs": [
    {
     "data": {
      "text/plain": [
       "(5469055, 216)"
      ]
     },
     "execution_count": 26,
     "metadata": {},
     "output_type": "execute_result"
    }
   ],
   "source": [
    "filtered_vloose = vloose_data.loc[((vloose_data.target == 1)&(vloose_data.el_lhmedium == 1)) | ((vloose_data.target != 1)&(vloose_data.el_lhvloose !=1))]\n",
    "filtered_vloose_total = filtered_vloose.shape[0]\n",
    "filtered_vloose.shape"
   ]
  },
  {
   "cell_type": "code",
   "execution_count": 27,
   "id": "treated-blend",
   "metadata": {},
   "outputs": [
    {
     "data": {
      "text/plain": [
       "(False, True, True, True)"
      ]
     },
     "execution_count": 27,
     "metadata": {},
     "output_type": "execute_result"
    }
   ],
   "source": [
    "((filtered_vloose['target'] == filtered_vloose['el_lhtight']).all(), \n",
    "(filtered_vloose['target'] == filtered_vloose['el_lhmedium']).all(), \n",
    "(filtered_vloose['target'] == filtered_vloose['el_lhloose']).all(), \n",
    "(filtered_vloose['target'] == filtered_vloose['el_lhvloose']).all())"
   ]
  },
  {
   "cell_type": "code",
   "execution_count": 28,
   "id": "major-hunter",
   "metadata": {},
   "outputs": [
    {
     "data": {
      "text/plain": [
       "(5420314, 5469197, 5469197, 5599840, 5469055)"
      ]
     },
     "execution_count": 28,
     "metadata": {},
     "output_type": "execute_result"
    }
   ],
   "source": [
    "ref_total, medium_total, filtered_medium_total, vloose_total, filtered_vloose_total"
   ]
  }
 ],
 "metadata": {
  "kernelspec": {
   "display_name": "Python 3",
   "language": "python",
   "name": "python3"
  },
  "language_info": {
   "codemirror_mode": {
    "name": "ipython",
    "version": 3
   },
   "file_extension": ".py",
   "mimetype": "text/x-python",
   "name": "python",
   "nbconvert_exporter": "python",
   "pygments_lexer": "ipython3",
   "version": "3.6.9"
  }
 },
 "nbformat": 4,
 "nbformat_minor": 5
}
