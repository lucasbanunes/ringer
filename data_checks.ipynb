{
 "cells": [
  {
   "cell_type": "code",
   "execution_count": 1,
   "id": "meaning-ballot",
   "metadata": {},
   "outputs": [
    {
     "name": "stdout",
     "output_type": "stream",
     "text": [
      "Welcome to JupyROOT 6.16/00\n",
      "Using all sub packages with ROOT dependence\n",
      "INFO: Pandarallel will run on 8 workers.\n",
      "INFO: Pandarallel will use Memory file system to transfer data between the main process and workers.\n"
     ]
    }
   ],
   "source": [
    "from Gaugi import load as gaugi_load\n",
    "from kepler.pandas.readers import load as kepler_load\n",
    "\n",
    "import pandas as pd\n",
    "import numpy as np\n",
    "import os\n",
    "from itertools import product\n",
    "import json"
   ]
  },
  {
   "cell_type": "markdown",
   "id": "charitable-shore",
   "metadata": {},
   "source": [
    "## Parameters"
   ]
  },
  {
   "cell_type": "code",
   "execution_count": 2,
   "id": "liberal-composition",
   "metadata": {},
   "outputs": [
    {
     "data": {
      "text/plain": [
       "{'tight': 'T0HLTElectronT2CaloTight',\n",
       " 'medium': 'T0HLTElectronT2CaloMedium',\n",
       " 'loose': 'T0HLTElectronT2CaloLoose',\n",
       " 'vloose': 'T0HLTElectronT2CaloVLoose'}"
      ]
     },
     "execution_count": 2,
     "metadata": {},
     "output_type": "execute_result"
    }
   ],
   "source": [
    "criterias = ['tight', 'medium', 'loose', 'vloose']\n",
    "perfomance_metrics=['pd', 'fr']\n",
    "l2calo_trigers = ['T0HLTElectronT2CaloTight', 'T0HLTElectronT2CaloMedium', 'T0HLTElectronT2CaloLoose', 'T0HLTElectronT2CaloVLoose']\n",
    "ref_keys = ['sgnRef', 'bkgRef']\n",
    "metrics_ref_keys = {metric: ref_key for metric, ref_key in zip(perfomance_metrics, ref_keys)}\n",
    "triger_criterias = {key: value for key, value in zip(criterias, l2calo_trigers)}\n",
    "triger_criterias"
   ]
  },
  {
   "cell_type": "code",
   "execution_count": 3,
   "id": "white-rhythm",
   "metadata": {},
   "outputs": [],
   "source": [
    "# Al the labels were 1 or 0 with floats, casted them to ints to avoid possible float comparision error\n",
    "def load_as_df(filepath: str) -> pd.DataFrame:\n",
    "    data = dict(np.load(filepath))\n",
    "    df_data = pd.DataFrame(data['data'], columns=data['features'])\n",
    "    df_target = pd.DataFrame(data['target'], columns=['target'])\n",
    "    df = pd.concat([df_data, df_target], axis=1)\n",
    "    return df"
   ]
  },
  {
   "cell_type": "code",
   "execution_count": 4,
   "id": "bb986c70-cada-4f08-81ea-34b2719368b9",
   "metadata": {},
   "outputs": [],
   "source": [
    "def get_values_from_ref(ref: dict, et:int, eta:int):\n",
    "    values = []\n",
    "    for metric, ref_key in metrics_ref_keys.items():\n",
    "        for criteria in criterias:\n",
    "            criteria_dict = ref[ref_key][f'{criteria}_cutbased']\n",
    "            values.append([iet, ieta, 'ref', f'{criteria}_{ref_key}_passed', int(criteria_dict['passed'])])\n",
    "            values.append([iet, ieta, 'ref', f'{criteria}_{ref_key}_total', int(criteria_dict['total'])])\n",
    "            metric_value = criteria_dict['passed']/criteria_dict['total'] if criteria_dict['total'] != 0 else -1\n",
    "            values.append([iet, ieta, 'ref', f'{criteria}_{metric}', metric_value])\n",
    "    # values = pd.DataFrame(values, columns = ['data', 'criteria', 'metric', 'value'])\n",
    "    return values"
   ]
  },
  {
   "cell_type": "code",
   "execution_count": 5,
   "id": "e1f6e52e-7d0f-4cfb-85ef-846c8b5489c6",
   "metadata": {},
   "outputs": [],
   "source": [
    "def get_values_from_data(data: pd.DataFrame, data_name: str, et:int, eta:int, fix_offline: bool = False):\n",
    "    values = []\n",
    "    for metric, ref_key in metrics_ref_keys.items():\n",
    "        for criteria in criterias:\n",
    "            criteria_dict = get_metric(data, metric, criteria, fix_offline)\n",
    "            values.append([iet, ieta, data_name, f'{criteria}_{ref_key}_passed', int(criteria_dict['passed'])])\n",
    "            values.append([iet, ieta, data_name, f'{criteria}_{ref_key}_total', int(criteria_dict['total'])])\n",
    "            metric_value = criteria_dict['passed']/criteria_dict['total'] if criteria_dict['total'] != 0 else -1\n",
    "            values.append([iet, ieta, data_name, f'{criteria}_{metric}', metric_value])\n",
    "    # values.append([data_name, '',  'n_samples', data.shape[0]])\n",
    "    # values = pd.DataFrame(values, columns = ['data', 'criteria', 'metric', 'value'])\n",
    "    return values"
   ]
  },
  {
   "cell_type": "code",
   "execution_count": 6,
   "id": "three-clerk",
   "metadata": {},
   "outputs": [],
   "source": [
    "def get_metric(data: pd.DataFrame, metric:str, criteria: str, fix_offline: bool = False):\n",
    "    target = 1 if metric=='pd' else 0\n",
    "    offline_col = 'el_lhtight' if fix_offline else f'el_lh{criteria}'\n",
    "    offline_approved = data[offline_col] == target\n",
    "    cutbased_approved = data[triger_criterias[criteria]] == 1\n",
    "    res = {\n",
    "        'total': int(offline_approved.sum()),\n",
    "        'passed': int((offline_approved & cutbased_approved).sum())\n",
    "    }\n",
    "    res[metric] = res['passed']/res['total'] if res['total'] != 0 else None                        \n",
    "    return res"
   ]
  },
  {
   "cell_type": "code",
   "execution_count": 7,
   "id": "legendary-jefferson",
   "metadata": {},
   "outputs": [],
   "source": [
    "dataset = 'data17_13TeV.AllPeriods.sgn.probes_lhmedium_EGAM1.bkg.VProbes_EGAM7.GRL_v97'\n",
    "loose_dataset = 'data17_13TeV.AllPeriods.sgn.probes_lhvloose_EGAM1.bkg.vprobes_vlhvloose_EGAM7.GRL_v97.25bins'\n",
    "homepath = os.path.expanduser('~')\n",
    "datapath = os.path.join(homepath, 'data', dataset)\n",
    "loose_datapath = os.path.join(homepath, 'data', loose_dataset)\n",
    "filepath = os.path.join(datapath, dataset + '_et{et}_eta{eta}.npz')\n",
    "refpath = os.path.join(datapath, 'references')\n",
    "reffilepath = os.path.join(refpath, dataset + '_et{et}_eta{eta}.ref.pic.gz')\n",
    "loose_filepath = os.path.join(loose_datapath, loose_dataset + '_et{et}_eta{eta}.npz')\n",
    "output_dir = os.path.join(datapath, 'ref_analysis')\n",
    "json_outputpath = os.path.join(output_dir, 'ref{type}_et{et}_eta{eta}.json')\n",
    "if not os.path.exists(output_dir):\n",
    "    os.makedirs(output_dir)"
   ]
  },
  {
   "cell_type": "markdown",
   "id": "criminal-horse",
   "metadata": {
    "tags": []
   },
   "source": [
    "## Computing reference values"
   ]
  },
  {
   "cell_type": "code",
   "execution_count": 10,
   "id": "789371a3-7f80-4e20-94b9-037a8f26f016",
   "metadata": {},
   "outputs": [
    {
     "name": "stdout",
     "output_type": "stream",
     "text": [
      "Processing et 0 and eta 0\n",
      "Reading data\n",
      "Computing infos\n",
      "Computing metrics\n",
      "Processing et 0 and eta 1\n",
      "Reading data\n",
      "Computing infos\n",
      "Computing metrics\n",
      "Processing et 0 and eta 2\n",
      "Reading data\n",
      "Computing infos\n",
      "Computing metrics\n",
      "Processing et 0 and eta 3\n",
      "Reading data\n",
      "Computing infos\n",
      "Computing metrics\n",
      "Processing et 0 and eta 4\n",
      "Reading data\n",
      "Computing infos\n",
      "Computing metrics\n",
      "Processing et 1 and eta 0\n",
      "Reading data\n",
      "Computing infos\n",
      "Computing metrics\n",
      "Processing et 1 and eta 1\n",
      "Reading data\n",
      "Computing infos\n",
      "Computing metrics\n",
      "Processing et 1 and eta 2\n",
      "Reading data\n",
      "Computing infos\n",
      "Computing metrics\n",
      "Processing et 1 and eta 3\n",
      "Reading data\n",
      "Computing infos\n",
      "Computing metrics\n",
      "Processing et 1 and eta 4\n",
      "Reading data\n",
      "Computing infos\n",
      "Computing metrics\n",
      "Processing et 2 and eta 0\n",
      "Reading data\n",
      "Computing infos\n",
      "Computing metrics\n",
      "Processing et 2 and eta 1\n",
      "Reading data\n",
      "Computing infos\n",
      "Computing metrics\n",
      "Processing et 2 and eta 2\n",
      "Reading data\n",
      "Computing infos\n",
      "Computing metrics\n",
      "Processing et 2 and eta 3\n",
      "Reading data\n",
      "Computing infos\n",
      "Computing metrics\n",
      "Processing et 2 and eta 4\n",
      "Reading data\n",
      "Computing infos\n",
      "Computing metrics\n",
      "Processing et 3 and eta 0\n",
      "Reading data\n",
      "Computing infos\n",
      "Computing metrics\n",
      "Processing et 3 and eta 1\n",
      "Reading data\n",
      "Computing infos\n",
      "Computing metrics\n",
      "Processing et 3 and eta 2\n",
      "Reading data\n",
      "Computing infos\n",
      "Computing metrics\n",
      "Processing et 3 and eta 3\n",
      "Reading data\n",
      "Computing infos\n",
      "Computing metrics\n",
      "Processing et 3 and eta 4\n",
      "Reading data\n",
      "Computing infos\n",
      "Computing metrics\n",
      "Processing et 4 and eta 0\n",
      "Reading data\n",
      "Computing infos\n",
      "Computing metrics\n",
      "Processing et 4 and eta 1\n",
      "Reading data\n",
      "Computing infos\n",
      "Computing metrics\n",
      "Processing et 4 and eta 2\n",
      "Reading data\n",
      "Computing infos\n",
      "Computing metrics\n",
      "Processing et 4 and eta 3\n",
      "Reading data\n",
      "Computing infos\n",
      "Computing metrics\n",
      "Processing et 4 and eta 4\n",
      "Reading data\n",
      "Computing infos\n",
      "Computing metrics\n",
      "Finished\n"
     ]
    }
   ],
   "source": [
    "n_ets = 5\n",
    "n_etas = 5\n",
    "data_types = ['original', 'no_filter', 'el_lhmedium_jet_lhvloose', 'no_filter_jet_lhtight_fixed', 'filtered_el_lhmedium_jet_lhtight']\n",
    "metrics_per_bin = np.empty((n_ets,n_etas), dtype=object)\n",
    "data_infos = list()\n",
    "for iet, ieta in product(range(n_ets), range(n_etas)):\n",
    "# for iet, ieta in zip([4],[0]):\n",
    "    \n",
    "    print(f'Processing et {iet} and eta {ieta}')\n",
    "    print('Reading data')\n",
    "    ref = gaugi_load(reffilepath.format(et=iet, eta=ieta))\n",
    "    medium_data = load_as_df(filepath.format(et=iet, eta=ieta))\n",
    "    vloose_data = kepler_load(loose_filepath.format(et=iet, eta=ieta))\n",
    "    print('Computing infos')\n",
    "    data_infos.append([iet, ieta, 'medium_data', 'n_samples', medium_data.shape[0]])\n",
    "    data_infos.append([iet, ieta, 'vloose_data', 'n_samples', vloose_data.shape[0]])\n",
    "    data_infos.append([iet, ieta, 'medium_data', 'target_equal_tight', (medium_data['target'] == medium_data['el_lhtight']).all()])\n",
    "    data_infos.append([iet, ieta, 'medium_data', 'target_equal_medium', (medium_data['target'] == medium_data['el_lhmedium']).all()])\n",
    "    data_infos.append([iet, ieta, 'medium_data', 'target_equal_loose', (medium_data['target'] == medium_data['el_lhloose']).all()])\n",
    "    data_infos.append([iet, ieta, 'medium_data', 'target_equal_vloose', (medium_data['target'] == medium_data['el_lhvloose']).all()])\n",
    "    data_infos.append([iet, ieta, 'vloose_data', 'target_equal_tight', (vloose_data['target'] == vloose_data['el_lhtight']).all()])\n",
    "    data_infos.append([iet, ieta, 'vloose_data', 'target_equal_medium', (vloose_data['target'] == vloose_data['el_lhmedium']).all()])\n",
    "    data_infos.append([iet, ieta, 'vloose_data', 'target_equal_loose', (vloose_data['target'] == vloose_data['el_lhloose']).all()])\n",
    "    data_infos.append([iet, ieta, 'vloose_data', 'target_equal_vloose', (vloose_data['target'] == vloose_data['el_lhvloose']).all()])\n",
    "    data_infos.append([iet, ieta, 'medium_data', 'tight_equal_zero', (medium_data['el_lhtight'] == 0).all()])\n",
    "    data_infos.append([iet, ieta, 'medium_data', 'medium_equal_zero', (medium_data['el_lhmedium'] == 0).all()])\n",
    "    data_infos.append([iet, ieta, 'medium_data', 'loose_equal_zero', (medium_data['el_lhloose'] == 0).all()])\n",
    "    data_infos.append([iet, ieta, 'medium_data', 'vloose_equal_zero', (medium_data['el_lhvloose'] == 0).all()])\n",
    "    data_infos.append([iet, ieta, 'vloose_data', 'tight_equal_zero', (vloose_data['el_lhtight'] == 0).all()])\n",
    "    data_infos.append([iet, ieta, 'vloose_data', 'medium_equal_zero', (vloose_data['el_lhmedium'] == 0).all()])\n",
    "    data_infos.append([iet, ieta, 'vloose_data', 'loose_equal_zero', (vloose_data['el_lhloose'] == 0).all()])\n",
    "    data_infos.append([iet, ieta, 'vloose_data', 'vloose_equal_zero', (vloose_data['el_lhvloose'] == 0).all()])\n",
    "    \n",
    "    print('Computing metrics')\n",
    "    for data_type in data_types:\n",
    "        if data_type == 'original':\n",
    "            data_infos.extend(get_values_from_ref(ref, iet, ieta))\n",
    "        elif data_type == 'no_filter':\n",
    "            data_infos.extend(get_values_from_data(medium_data, data_type, iet, ieta))\n",
    "        elif data_type == 'el_lhmedium_jet_lhvloose':\n",
    "            filtered_medium =  medium_data.loc[((medium_data['target'] == 1)&(medium_data['el_lhmedium'] == 1)) | ((medium_data['target'] != 1)&(medium_data['el_lhvloose'] !=1))]\n",
    "            data_infos.extend(get_values_from_data(filtered_medium, data_type, iet, ieta))\n",
    "            try:\n",
    "                are_equal = (medium_data == filtered_medium).all().all()\n",
    "            except ValueError:\n",
    "                are_equal = False\n",
    "            data_infos.append([iet, ieta, '', 'medium_equal_filter', are_equal])\n",
    "            data_infos.append([iet, ieta, 'filtered_medium', 'filtered_samples', filtered_medium.shape[0]])\n",
    "        elif data_type == 'no_filter_jet_lhtight_fixed':\n",
    "            data_infos.extend(get_values_from_data(medium_data, data_type, iet, ieta, True))\n",
    "        elif data_type == 'filtered_el_lhmedium_jet_lhtight':\n",
    "            filtered_medium =  medium_data.loc[((medium_data['target'] == 1)&(medium_data['el_lhmedium'] == 1)) | ((medium_data['target'] != 1)&(medium_data['el_lhtight'] !=1))]\n",
    "            data_infos.extend(get_values_from_data(filtered_medium, data_type, iet, ieta))\n",
    "        else:\n",
    "            raise ValueError(f'Treatment for filter {data_type} not found')\n",
    "    \n",
    "    # bin_values = pd.concat(all_values, axis=0, ignore_index=True)\n",
    "    # bin_values['et'] = iet\n",
    "    # bin_values['eta'] = ieta\n",
    "    # metrics_per_bin[iet, ieta] =  bin_values\n",
    "\n",
    "data_infos = pd.DataFrame(data_infos, columns = ['et', 'eta', 'data', 'metric', 'value'])\n",
    "data_infos.to_csv('data_infos.csv')\n",
    "print('Finished')"
   ]
  },
  {
   "cell_type": "code",
   "execution_count": 11,
   "id": "e0fb6186-04d8-486d-8875-2329be7a4ccf",
   "metadata": {},
   "outputs": [
    {
     "data": {
      "text/html": [
       "<div>\n",
       "<style scoped>\n",
       "    .dataframe tbody tr th:only-of-type {\n",
       "        vertical-align: middle;\n",
       "    }\n",
       "\n",
       "    .dataframe tbody tr th {\n",
       "        vertical-align: top;\n",
       "    }\n",
       "\n",
       "    .dataframe thead th {\n",
       "        text-align: right;\n",
       "    }\n",
       "</style>\n",
       "<table border=\"1\" class=\"dataframe\">\n",
       "  <thead>\n",
       "    <tr style=\"text-align: right;\">\n",
       "      <th></th>\n",
       "      <th>et</th>\n",
       "      <th>eta</th>\n",
       "      <th>data</th>\n",
       "      <th>metric</th>\n",
       "      <th>value</th>\n",
       "    </tr>\n",
       "  </thead>\n",
       "  <tbody>\n",
       "    <tr>\n",
       "      <th>0</th>\n",
       "      <td>0</td>\n",
       "      <td>0</td>\n",
       "      <td>medium_data</td>\n",
       "      <td>n_samples</td>\n",
       "      <td>420458</td>\n",
       "    </tr>\n",
       "    <tr>\n",
       "      <th>1</th>\n",
       "      <td>0</td>\n",
       "      <td>0</td>\n",
       "      <td>vloose_data</td>\n",
       "      <td>n_samples</td>\n",
       "      <td>470186</td>\n",
       "    </tr>\n",
       "    <tr>\n",
       "      <th>2</th>\n",
       "      <td>0</td>\n",
       "      <td>0</td>\n",
       "      <td>medium_data</td>\n",
       "      <td>target_equal_tight</td>\n",
       "      <td>True</td>\n",
       "    </tr>\n",
       "    <tr>\n",
       "      <th>3</th>\n",
       "      <td>0</td>\n",
       "      <td>0</td>\n",
       "      <td>medium_data</td>\n",
       "      <td>target_equal_medium</td>\n",
       "      <td>True</td>\n",
       "    </tr>\n",
       "    <tr>\n",
       "      <th>4</th>\n",
       "      <td>0</td>\n",
       "      <td>0</td>\n",
       "      <td>medium_data</td>\n",
       "      <td>target_equal_loose</td>\n",
       "      <td>False</td>\n",
       "    </tr>\n",
       "    <tr>\n",
       "      <th>...</th>\n",
       "      <td>...</td>\n",
       "      <td>...</td>\n",
       "      <td>...</td>\n",
       "      <td>...</td>\n",
       "      <td>...</td>\n",
       "    </tr>\n",
       "    <tr>\n",
       "      <th>3495</th>\n",
       "      <td>4</td>\n",
       "      <td>4</td>\n",
       "      <td>filtered_el_lhmedium_jet_lhtight</td>\n",
       "      <td>loose_bkgRef_total</td>\n",
       "      <td>183567</td>\n",
       "    </tr>\n",
       "    <tr>\n",
       "      <th>3496</th>\n",
       "      <td>4</td>\n",
       "      <td>4</td>\n",
       "      <td>filtered_el_lhmedium_jet_lhtight</td>\n",
       "      <td>loose_fr</td>\n",
       "      <td>0.869917</td>\n",
       "    </tr>\n",
       "    <tr>\n",
       "      <th>3497</th>\n",
       "      <td>4</td>\n",
       "      <td>4</td>\n",
       "      <td>filtered_el_lhmedium_jet_lhtight</td>\n",
       "      <td>vloose_bkgRef_passed</td>\n",
       "      <td>161187</td>\n",
       "    </tr>\n",
       "    <tr>\n",
       "      <th>3498</th>\n",
       "      <td>4</td>\n",
       "      <td>4</td>\n",
       "      <td>filtered_el_lhmedium_jet_lhtight</td>\n",
       "      <td>vloose_bkgRef_total</td>\n",
       "      <td>183567</td>\n",
       "    </tr>\n",
       "    <tr>\n",
       "      <th>3499</th>\n",
       "      <td>4</td>\n",
       "      <td>4</td>\n",
       "      <td>filtered_el_lhmedium_jet_lhtight</td>\n",
       "      <td>vloose_fr</td>\n",
       "      <td>0.878083</td>\n",
       "    </tr>\n",
       "  </tbody>\n",
       "</table>\n",
       "<p>3500 rows × 5 columns</p>\n",
       "</div>"
      ],
      "text/plain": [
       "      et  eta                              data                metric  \\\n",
       "0      0    0                       medium_data             n_samples   \n",
       "1      0    0                       vloose_data             n_samples   \n",
       "2      0    0                       medium_data    target_equal_tight   \n",
       "3      0    0                       medium_data   target_equal_medium   \n",
       "4      0    0                       medium_data    target_equal_loose   \n",
       "...   ..  ...                               ...                   ...   \n",
       "3495   4    4  filtered_el_lhmedium_jet_lhtight    loose_bkgRef_total   \n",
       "3496   4    4  filtered_el_lhmedium_jet_lhtight              loose_fr   \n",
       "3497   4    4  filtered_el_lhmedium_jet_lhtight  vloose_bkgRef_passed   \n",
       "3498   4    4  filtered_el_lhmedium_jet_lhtight   vloose_bkgRef_total   \n",
       "3499   4    4  filtered_el_lhmedium_jet_lhtight             vloose_fr   \n",
       "\n",
       "         value  \n",
       "0       420458  \n",
       "1       470186  \n",
       "2         True  \n",
       "3         True  \n",
       "4        False  \n",
       "...        ...  \n",
       "3495    183567  \n",
       "3496  0.869917  \n",
       "3497    161187  \n",
       "3498    183567  \n",
       "3499  0.878083  \n",
       "\n",
       "[3500 rows x 5 columns]"
      ]
     },
     "execution_count": 11,
     "metadata": {},
     "output_type": "execute_result"
    }
   ],
   "source": [
    "data_infos"
   ]
  },
  {
   "cell_type": "code",
   "execution_count": null,
   "id": "4b7fa78f-cd6b-45be-b681-342cb40a3e06",
   "metadata": {},
   "outputs": [],
   "source": [
    "data_infos.shape"
   ]
  },
  {
   "cell_type": "markdown",
   "id": "fiscal-natural",
   "metadata": {},
   "source": [
    "## Loading specific data"
   ]
  },
  {
   "cell_type": "markdown",
   "id": "d1287b70-a324-482f-983b-5de214835af3",
   "metadata": {
    "jp-MarkdownHeadingCollapsed": true,
    "tags": []
   },
   "source": [
    "### Medium"
   ]
  },
  {
   "cell_type": "code",
   "execution_count": 18,
   "id": "ignored-arlington",
   "metadata": {},
   "outputs": [
    {
     "data": {
      "text/plain": [
       "5469197"
      ]
     },
     "execution_count": 18,
     "metadata": {},
     "output_type": "execute_result"
    }
   ],
   "source": [
    "et=4\n",
    "eta=0\n",
    "medium_data = load_as_df(filepath.format(et=et, eta=eta))\n",
    "medium_total = medium_data.shape[0]\n",
    "medium_total"
   ]
  },
  {
   "cell_type": "code",
   "execution_count": 50,
   "id": "beneficial-carry",
   "metadata": {
    "tags": []
   },
   "outputs": [
    {
     "data": {
      "text/plain": [
       "array(['DeltaPOverP', 'L2Calo_e2tsts1', 'L2Calo_ehad1', 'L2Calo_eratio',\n",
       "       'L2Calo_et', 'L2Calo_eta', 'L2Calo_f1', 'L2Calo_f3', 'L2Calo_phi',\n",
       "       'L2Calo_reta', 'L2Calo_weta2', 'L2Calo_wstot',\n",
       "       'L2Electron_caloEta', 'L2Electron_etOverPt', 'L2Electron_eta',\n",
       "       'L2Electron_hastrack', 'L2Electron_phi', 'L2Electron_pt',\n",
       "       'L2Electron_trkClusDeta', 'L2Electron_trkClusDphi',\n",
       "       'T0HLTElectronT2CaloLoose', 'T0HLTElectronT2CaloMedium',\n",
       "       'T0HLTElectronT2CaloTight', 'T0HLTElectronT2CaloVLoose', 'avgmu',\n",
       "       'd0', 'd0significance', 'deltaEta1', 'deltaPhi2',\n",
       "       'deltaPhi2Rescaled', 'deltaR', 'eProbabilityHT', 'eeMass',\n",
       "       'el_lhloose', 'el_lhmedium', 'el_lhtight', 'el_lhvloose', 'eratio',\n",
       "       'et', 'eta', 'f1', 'f3', 'hastrack', 'numberOfBLayerHits',\n",
       "       'numberOfPixelHits', 'numberOfTRTHits', 'phi', 'reta', 'rhad',\n",
       "       'rhad1', 'rphi', 'target', 'trans_TRT_PID', 'weta2', 'wtots1'],\n",
       "      dtype='<U25')"
      ]
     },
     "execution_count": 50,
     "metadata": {},
     "output_type": "execute_result"
    }
   ],
   "source": [
    "medium_data_cols = np.sort([col for col in medium_data.columns if not col.startswith('L2Calo_ring')])\n",
    "medium_data_cols"
   ]
  },
  {
   "cell_type": "code",
   "execution_count": 41,
   "id": "pleasant-calculator",
   "metadata": {},
   "outputs": [
    {
     "data": {
      "text/plain": [
       "((5469197, 155), True)"
      ]
     },
     "execution_count": 41,
     "metadata": {},
     "output_type": "execute_result"
    }
   ],
   "source": [
    "# Utilizando o filtro fornecido pelo Micael. Isso indica que o data medium já é o filtro aplicado sobre vloose (Acredito que seja sobre o vloose)\n",
    "filtered_medium =  medium_data.loc[((medium_data['target'] == 1)&(medium_data['el_lhmedium'] == 1)) | ((medium_data['target'] != 1)&(medium_data['el_lhvloose'] !=1))]\n",
    "filtered_medium_total = filtered_medium.shape[0]\n",
    "filtered_medium.shape, (filtered_medium == medium_data).all().all()"
   ]
  },
  {
   "cell_type": "code",
   "execution_count": 15,
   "id": "fourth-sender",
   "metadata": {},
   "outputs": [
    {
     "data": {
      "text/plain": [
       "(True, True, False, False)"
      ]
     },
     "execution_count": 15,
     "metadata": {},
     "output_type": "execute_result"
    }
   ],
   "source": [
    "((medium_data['target'] == medium_data['el_lhtight']).all(), \n",
    "(medium_data['target'] == medium_data['el_lhmedium']).all(), \n",
    "(medium_data['target'] == medium_data['el_lhloose']).all(), \n",
    "(medium_data['target'] == medium_data['el_lhvloose']).all())"
   ]
  },
  {
   "cell_type": "code",
   "execution_count": 38,
   "id": "sought-strap",
   "metadata": {},
   "outputs": [
    {
     "data": {
      "text/plain": [
       "(False, False, True, True)"
      ]
     },
     "execution_count": 38,
     "metadata": {},
     "output_type": "execute_result"
    }
   ],
   "source": [
    "((medium_data['el_lhtight']==0).all(),\n",
    "(medium_data['el_lhmedium']==0).all(),\n",
    "(medium_data['el_lhloose']==0).all(),\n",
    "(medium_data['el_lhvloose']==0).all())"
   ]
  },
  {
   "cell_type": "code",
   "execution_count": 16,
   "id": "fitted-neighbor",
   "metadata": {},
   "outputs": [
    {
     "data": {
      "text/plain": [
       "(False, False, False, False)"
      ]
     },
     "execution_count": 16,
     "metadata": {},
     "output_type": "execute_result"
    }
   ],
   "source": [
    "((medium_data['target'] == medium_data[triger_criterias['tight']]).all(), \n",
    " (medium_data['target'] == medium_data[triger_criterias['medium']]).all(), \n",
    " (medium_data['target'] == medium_data[triger_criterias['loose']]).all(), \n",
    " (medium_data['target'] == medium_data[triger_criterias['vloose']]).all())"
   ]
  },
  {
   "cell_type": "code",
   "execution_count": 19,
   "id": "facial-astronomy",
   "metadata": {
    "tags": []
   },
   "outputs": [
    {
     "data": {
      "text/plain": [
       "(5599840, 216)"
      ]
     },
     "execution_count": 19,
     "metadata": {},
     "output_type": "execute_result"
    }
   ],
   "source": [
    "vloose_data = kepler_load(loose_filepath.format(et=et, eta=eta))\n",
    "vloose_total = vloose_data.shape[0]\n",
    "vloose_data.shape"
   ]
  },
  {
   "cell_type": "markdown",
   "id": "fbd31864-da25-402e-8e5f-a106e36bd269",
   "metadata": {
    "jp-MarkdownHeadingCollapsed": true,
    "tags": []
   },
   "source": [
    "### VLoose"
   ]
  },
  {
   "cell_type": "code",
   "execution_count": 49,
   "id": "offshore-imperial",
   "metadata": {
    "tags": []
   },
   "outputs": [
    {
     "data": {
      "text/plain": [
       "array(['L1_EM15VH', 'L1_EM15VHI', 'L1_EM20VH', 'L1_EM20VHI', 'L1_EM22VH',\n",
       "       'L1_EM22VHI', 'L1_EM24VHI', 'L1_EM3', 'L1_EM7', 'RunNumber',\n",
       "       'TDT__EFCalo__e28_lhtight_nod0_ivarloose',\n",
       "       'TDT__EFCalo__e28_lhtight_nod0_noringer_ivarloose',\n",
       "       'TDT__HLT__e28_lhtight_nod0_ivarloose',\n",
       "       'TDT__HLT__e28_lhtight_nod0_noringer_ivarloose',\n",
       "       'TDT__L1Calo__e28_lhtight_nod0_ivarloose',\n",
       "       'TDT__L1Calo__e28_lhtight_nod0_noringer_ivarloose',\n",
       "       'TDT__L2Calo__e28_lhtight_nod0_ivarloose',\n",
       "       'TDT__L2Calo__e28_lhtight_nod0_noringer_ivarloose',\n",
       "       'TDT__L2__e28_lhtight_nod0_ivarloose',\n",
       "       'TDT__L2__e28_lhtight_nod0_noringer_ivarloose', 'avgmu',\n",
       "       'el_TaP_Mass', 'el_TaP_deltaR', 'el_d0', 'el_d0significance',\n",
       "       'el_deltaEta1', 'el_deltaPOverP', 'el_deltaPhi2',\n",
       "       'el_deltaPhi2Rescaled', 'el_eProbabilityHT', 'el_eratio', 'el_et',\n",
       "       'el_eta', 'el_etaBE2', 'el_f1', 'el_f3', 'el_hastrack',\n",
       "       'el_lhloose', 'el_lhmedium', 'el_lhtight', 'el_lhvloose',\n",
       "       'el_numberOfBLayerHits', 'el_numberOfPixelHits',\n",
       "       'el_numberOfTRTHits', 'el_phi', 'el_reta', 'el_rhad', 'el_rhad1',\n",
       "       'el_rphi', 'el_trans_TRT_PID', 'el_weta2', 'el_wtots1', 'target',\n",
       "       'trig_EF_cl_et', 'trig_EF_cl_eta', 'trig_EF_cl_etaBE2',\n",
       "       'trig_EF_cl_hascluster', 'trig_EF_cl_phi', 'trig_EF_el_deltaEta1',\n",
       "       'trig_EF_el_deltaPhi2', 'trig_EF_el_deltaPhi2Rescaled',\n",
       "       'trig_EF_el_eratio', 'trig_EF_el_et', 'trig_EF_el_eta',\n",
       "       'trig_EF_el_etaBE2', 'trig_EF_el_f1', 'trig_EF_el_f3',\n",
       "       'trig_EF_el_hascand', 'trig_EF_el_hastrack', 'trig_EF_el_lhloose',\n",
       "       'trig_EF_el_lhmedium', 'trig_EF_el_lhtight',\n",
       "       'trig_EF_el_lhtight_ivarloose', 'trig_EF_el_lhvloose',\n",
       "       'trig_EF_el_phi', 'trig_EF_el_reta', 'trig_EF_el_rhad',\n",
       "       'trig_EF_el_rhad1', 'trig_EF_el_rphi', 'trig_EF_el_weta2',\n",
       "       'trig_EF_el_wtots1', 'trig_L2_cl_e2tsts1', 'trig_L2_cl_ehad1',\n",
       "       'trig_L2_cl_eratio', 'trig_L2_cl_et', 'trig_L2_cl_eta',\n",
       "       'trig_L2_cl_f1', 'trig_L2_cl_f3', 'trig_L2_cl_lhloose_et0to12',\n",
       "       'trig_L2_cl_lhloose_et12to20', 'trig_L2_cl_lhloose_et22toInf',\n",
       "       'trig_L2_cl_lhmedium_et0to12', 'trig_L2_cl_lhmedium_et12to20',\n",
       "       'trig_L2_cl_lhmedium_et22toInf', 'trig_L2_cl_lhtight_et0to12',\n",
       "       'trig_L2_cl_lhtight_et12to20', 'trig_L2_cl_lhtight_et22toInf',\n",
       "       'trig_L2_cl_lhvloose_et0to12', 'trig_L2_cl_lhvloose_et12to20',\n",
       "       'trig_L2_cl_lhvloose_et22toInf', 'trig_L2_cl_phi',\n",
       "       'trig_L2_cl_reta', 'trig_L2_cl_weta2', 'trig_L2_cl_wstot',\n",
       "       'trig_L2_el_caloEta', 'trig_L2_el_cut_pt0to15',\n",
       "       'trig_L2_el_cut_pt15to20', 'trig_L2_el_cut_pt20to50',\n",
       "       'trig_L2_el_cut_pt50toInf', 'trig_L2_el_etOverPt',\n",
       "       'trig_L2_el_eta', 'trig_L2_el_hastrack', 'trig_L2_el_phi',\n",
       "       'trig_L2_el_pt', 'trig_L2_el_trkClusDeta',\n",
       "       'trig_L2_el_trkClusDphi'], dtype='<U48')"
      ]
     },
     "execution_count": 49,
     "metadata": {},
     "output_type": "execute_result"
    }
   ],
   "source": [
    "vloose_data_cols = np.sort([col for col in vloose_data.columns if not col.startswith('trig_L2_cl_ring')])\n",
    "vloose_data_cols"
   ]
  },
  {
   "cell_type": "code",
   "execution_count": 22,
   "id": "serial-advocate",
   "metadata": {},
   "outputs": [
    {
     "data": {
      "text/plain": [
       "0    True\n",
       "1    True\n",
       "2    True\n",
       "3    True\n",
       "4    True\n",
       "Name: trig_L2_cl_lhvloose_et12to20, dtype: bool"
      ]
     },
     "execution_count": 22,
     "metadata": {},
     "output_type": "execute_result"
    }
   ],
   "source": [
    "vloose_data['trig_L2_cl_lhvloose_et12to20'].head()"
   ]
  },
  {
   "cell_type": "code",
   "execution_count": 23,
   "id": "pregnant-croatia",
   "metadata": {},
   "outputs": [
    {
     "data": {
      "text/plain": [
       "array([ True, False])"
      ]
     },
     "execution_count": 23,
     "metadata": {},
     "output_type": "execute_result"
    }
   ],
   "source": [
    "vloose_data['trig_L2_cl_lhvloose_et12to20'].unique()"
   ]
  },
  {
   "cell_type": "code",
   "execution_count": 24,
   "id": "olive-spank",
   "metadata": {},
   "outputs": [
    {
     "data": {
      "text/plain": [
       "(False, True)"
      ]
     },
     "execution_count": 24,
     "metadata": {},
     "output_type": "execute_result"
    }
   ],
   "source": [
    "is_equal = (vloose_data['trig_L2_cl_lhvloose_et0to12'] == vloose_data['trig_L2_cl_lhvloose_et12to20'])\n",
    "is_equal.all(), is_equal.any()"
   ]
  },
  {
   "cell_type": "code",
   "execution_count": 25,
   "id": "informational-turkish",
   "metadata": {},
   "outputs": [
    {
     "data": {
      "text/plain": [
       "(False, False, False, True)"
      ]
     },
     "execution_count": 25,
     "metadata": {},
     "output_type": "execute_result"
    }
   ],
   "source": [
    "((vloose_data['target'] == vloose_data['el_lhtight']).all(), \n",
    "(vloose_data['target'] == vloose_data['el_lhmedium']).all(), \n",
    "(vloose_data['target'] == vloose_data['el_lhloose']).all(), \n",
    "(vloose_data['target'] == vloose_data['el_lhvloose']).all())"
   ]
  },
  {
   "cell_type": "code",
   "execution_count": 44,
   "id": "homeless-bundle",
   "metadata": {},
   "outputs": [
    {
     "data": {
      "text/plain": [
       "(5469055, 216)"
      ]
     },
     "execution_count": 44,
     "metadata": {},
     "output_type": "execute_result"
    }
   ],
   "source": [
    "filtered_vloose = vloose_data.loc[((vloose_data.target == 1)&(vloose_data.el_lhmedium == 1)) | ((vloose_data.target != 1)&(vloose_data.el_lhvloose !=1))]\n",
    "filtered_vloose_total = filtered_vloose.shape[0]\n",
    "filtered_vloose.shape"
   ]
  },
  {
   "cell_type": "code",
   "execution_count": 45,
   "id": "corporate-spread",
   "metadata": {},
   "outputs": [
    {
     "data": {
      "text/plain": [
       "(5420314, 5469197, 5599840, 5469055)"
      ]
     },
     "execution_count": 45,
     "metadata": {},
     "output_type": "execute_result"
    }
   ],
   "source": [
    "ref_total = ref_matrix[et, eta]['bkgRef']['tight_cutbased']['total'] + ref_matrix[et, eta]['sgnRef']['tight_cutbased']['total']\n",
    "ref_total, medium_total, vloose_total, filtered_vloose_total"
   ]
  }
 ],
 "metadata": {
  "kernelspec": {
   "display_name": "Python 3",
   "language": "python",
   "name": "python3"
  },
  "language_info": {
   "codemirror_mode": {
    "name": "ipython",
    "version": 3
   },
   "file_extension": ".py",
   "mimetype": "text/x-python",
   "name": "python",
   "nbconvert_exporter": "python",
   "pygments_lexer": "ipython3",
   "version": "3.6.9"
  }
 },
 "nbformat": 4,
 "nbformat_minor": 5
}
