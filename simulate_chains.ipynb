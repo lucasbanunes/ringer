{
 "cells": [
  {
   "cell_type": "markdown",
   "id": "1af00a9f",
   "metadata": {},
   "source": [
    "## Setup"
   ]
  },
  {
   "cell_type": "code",
   "execution_count": 1,
   "id": "e38233d2-be92-4298-9845-71458a5175f2",
   "metadata": {},
   "outputs": [
    {
     "name": "stdout",
     "output_type": "stream",
     "text": [
      "Welcome to JupyROOT 6.16/00\n",
      "Using all sub packages with ROOT dependence\n"
     ]
    }
   ],
   "source": [
    "from kepler.pandas.menu       import ElectronSequence as Chain\n",
    "from kepler.pandas.readers    import load, load_in_loop\n",
    "from kepler.pandas.decorators import RingerDecorator\n",
    "from typing import List\n",
    "from itertools import product\n",
    "import rootplotlib as rpl\n",
    "import mplhep as hep\n",
    "import ROOT\n",
    "ROOT.gStyle.SetOptStat(0);\n",
    "import numpy as np\n",
    "import pandas as pd\n",
    "import glob\n",
    "import os\n",
    "import logging\n",
    "import matplotlib.pyplot as plt\n",
    "plt.style.use(hep.style.ROOT)\n",
    "import warnings\n",
    "warnings.filterwarnings('ignore')\n",
    "from collections import defaultdict\n",
    "from copy import deepcopy\n",
    "from argparse import ArgumentParser\n",
    "import json\n",
    "from Gaugi import GeV\n",
    "from datetime import datetime\n",
    "\n",
    "from packages.generators import ring_percentages, RingGenerator\n",
    "from packages.plotting import make_plot_fig, var_infos, val_label_map\n",
    "from packages.utils import get_logger"
   ]
  },
  {
   "cell_type": "code",
   "execution_count": 2,
   "id": "c86ebe2d-0870-4651-903c-ccfc05c81962",
   "metadata": {
    "tags": []
   },
   "outputs": [],
   "source": [
    "drop_cols = drop_columns = [\n",
    "                    'RunNumber', \n",
    "                    'trig_L2_cl_e2tsts1',\n",
    "                    'trig_L2_el_hastrack',\n",
    "                    'trig_L2_el_eta',\n",
    "                    'trig_L2_el_phi',\n",
    "                    'trig_L2_el_caloEta',\n",
    "                    'trig_L2_el_trkClusDeta',\n",
    "                    'trig_L2_el_trkClusDphi',\n",
    "                    'trig_L2_el_etOverPt',\n",
    "                    'trig_EF_cl_hascluster',\n",
    "                    'trig_EF_cl_eta',\n",
    "                    'trig_EF_cl_etaBE2',\n",
    "                    'trig_EF_cl_phi',     \n",
    "                    'trig_EF_el_hascand',\n",
    "                    'trig_EF_el_eta',\n",
    "                    'trig_EF_el_etaBE2',\n",
    "                    'trig_EF_el_phi',\n",
    "                    'trig_EF_el_rhad1',\n",
    "                    'trig_EF_el_rhad',\n",
    "                    'trig_EF_el_f3',\n",
    "                    'trig_EF_el_weta2',\n",
    "                    'trig_EF_el_rphi',\n",
    "                    'trig_EF_el_reta',\n",
    "                    'trig_EF_el_wtots1',\n",
    "                    'trig_EF_el_eratio',\n",
    "                    'trig_EF_el_f1',\n",
    "                    'trig_EF_el_hastrack',\n",
    "                    'trig_EF_el_deltaEta1',\n",
    "                    'trig_EF_el_deltaPhi2',\n",
    "                    'trig_EF_el_deltaPhi2Rescaled',\n",
    "                    'el_etaBE2',\n",
    "                    'el_numberOfBLayerHits',\n",
    "                    'el_numberOfPixelHits',\n",
    "                    'el_numberOfTRTHits',\n",
    "                    'el_trans_TRT_PID',\n",
    "                    'el_deltaPhi2',\n",
    "                    'el_TaP_Mass',\n",
    "                ]\n",
    "\n",
    "l1seeds_per_energy = {\n",
    "    24: 'L1_EM22VHI',\n",
    "    26: 'L1_EM22VHI',\n",
    "    60: 'L1_EM24VHI',\n",
    "    140: 'L1_EM24VHI'\n",
    "}\n",
    "\n",
    "criteria_conf_names = {\n",
    "    'tight': 'ElectronRingerTightTriggerConfig.conf',\n",
    "    'medium': 'ElectronRingerMediumTriggerConfig.conf',\n",
    "    'loose': 'ElectronRingerLooseTriggerConfig.conf',\n",
    "    'vloose': 'ElectronRingerVeryLooseTriggerConfig.conf'\n",
    "}\n",
    "\n",
    "energy_chains = {\n",
    "     24: 'e24_lhtight_nod0_{strategy}_ivarloose',\n",
    "     26: 'e26_lhtight_nod0_{strategy}_ivarloose',\n",
    "     60: 'e60_lhmedium_nod0_{strategy}_L1EM24VHI',\n",
    "     140: 'e140_lhloose_nod0_{strategy}'\n",
    "}\n",
    "\n",
    "trigger_steps = ['L2Calo', 'L2', 'EFCalo', 'HLT']\n",
    "\n",
    "et_bins = [15, 20, 30, 40, 50, 1000000]\n",
    "et_bins_idxs = range(len(et_bins)-1)\n",
    "eta_bins = [0.0, 0.8, 1.37, 1.54, 2.37, 2.50]\n",
    "eta_bins_idxs = range(len(eta_bins)-1)"
   ]
  },
  {
   "cell_type": "markdown",
   "id": "b812a2b1",
   "metadata": {},
   "source": [
    "## Parameters"
   ]
  },
  {
   "cell_type": "code",
   "execution_count": 3,
   "id": "f6b46bbe-df8b-4924-86c4-ef46d8bf3ec4",
   "metadata": {},
   "outputs": [],
   "source": [
    "HOME_PATH = os.path.expanduser('~')\n",
    "datasetpath = os.path.join(HOME_PATH, \n",
    "    'data/mc16_13TeV.302236_309995_341330.sgn.boosted_probes.WZ_llqq_plus_radion_ZZ_llqq_plus_ggH3000.merge.25bins.v2')\n",
    "\n",
    "modelpaths = [\n",
    "    'tunings/TrigL2_20180125_v8'\n",
    "    # 'tunings/TrigL2_20210907_v12 (v8.1-2)',\n",
    "    # 'tunings/TrigL2_20220704_v20',\n",
    "    # 'tunings/TrigL2_20220802_v20.1'\n",
    "    # 'tunings/TrigL2_20210306_v9'\n",
    "]\n",
    "\n",
    "cutbased = True\n",
    "\n",
    "chain_names = [\n",
    "    'e24_lhtight_nod0_{strategy}_ivarloose',\n",
    "    'e26_lhtight_nod0_{strategy}_ivarloose',\n",
    "    'e60_lhmedium_nod0_{strategy}_L1EM24VHI',\n",
    "    'e140_lhloose_nod0_{strategy}'\n",
    "]\n",
    "\n",
    "dev = True\n",
    "log = False\n",
    "\n",
    "# Initializing logger\n",
    "simulation_logger = get_logger('simulate_chains', file=log)"
   ]
  },
  {
   "cell_type": "markdown",
   "id": "e4ecc71d",
   "metadata": {},
   "source": [
    "## Building Decorators"
   ]
  },
  {
   "cell_type": "code",
   "execution_count": 4,
   "id": "f5cc6f54-3368-45c7-ba0d-3d8c65f2df77",
   "metadata": {},
   "outputs": [
    {
     "name": "stderr",
     "output_type": "stream",
     "text": [
      "2022-08-31 10:54:05,701 - Building decorators\n",
      "2022-08-31 10:54:05,716 - Building decorator for tunings/TrigL2_20180125_v8/ElectronRingerTightTriggerConfig.conf. Version: v8\n",
      "2022-08-31 10:54:06,939 - Building decorator for tunings/TrigL2_20180125_v8/ElectronRingerMediumTriggerConfig.conf. Version: v8\n",
      "2022-08-31 10:54:07,581 - Building decorator for tunings/TrigL2_20180125_v8/ElectronRingerLooseTriggerConfig.conf. Version: v8\n",
      "2022-08-31 10:54:08,259 - Building decorator for tunings/TrigL2_20180125_v8/ElectronRingerVeryLooseTriggerConfig.conf. Version: v8\n"
     ]
    },
    {
     "name": "stdout",
     "output_type": "stream",
     "text": [
      "2022-08-31 10:54:05,717 | Py.RingerDecorator                      INFO Reading... tunings/TrigL2_20180125_v8/ElectronRingerTightTriggerConfig.conf\n",
      "2022-08-31 10:54:06,941 | Py.RingerDecorator                      INFO Reading... tunings/TrigL2_20180125_v8/ElectronRingerMediumTriggerConfig.conf\n",
      "2022-08-31 10:54:07,583 | Py.RingerDecorator                      INFO Reading... tunings/TrigL2_20180125_v8/ElectronRingerLooseTriggerConfig.conf\n",
      "2022-08-31 10:54:08,261 | Py.RingerDecorator                      INFO Reading... tunings/TrigL2_20180125_v8/ElectronRingerVeryLooseTriggerConfig.conf\n"
     ]
    },
    {
     "name": "stderr",
     "output_type": "stream",
     "text": [
      "2022-08-31 10:54:05.762540: I tensorflow/stream_executor/platform/default/dso_loader.cc:48] Successfully opened dynamic library libcuda.so.1\n",
      "2022-08-31 10:54:05.786032: E tensorflow/stream_executor/cuda/cuda_driver.cc:314] failed call to cuInit: UNKNOWN ERROR (-1)\n",
      "2022-08-31 10:54:05.786113: I tensorflow/stream_executor/cuda/cuda_diagnostics.cc:156] kernel driver does not appear to be running on this host (caloba53): /proc/driver/nvidia/version does not exist\n",
      "2022-08-31 10:54:05.788328: I tensorflow/core/platform/cpu_feature_guard.cc:142] This TensorFlow binary is optimized with oneAPI Deep Neural Network Library (oneDNN)to use the following CPU instructions in performance-critical operations:  AVX2 AVX512F FMA\n",
      "To enable them in other operations, rebuild TensorFlow with the appropriate compiler flags.\n",
      "2022-08-31 10:54:05.869968: I tensorflow/core/platform/profile_utils/cpu_utils.cc:104] CPU Frequency: 2400000000 Hz\n",
      "2022-08-31 10:54:05.878247: I tensorflow/compiler/xla/service/service.cc:168] XLA service 0x8b81450 initialized for platform Host (this does not guarantee that XLA will be used). Devices:\n",
      "2022-08-31 10:54:05.878296: I tensorflow/compiler/xla/service/service.cc:176]   StreamExecutor device (0): Host, Default Version\n"
     ]
    }
   ],
   "source": [
    "simulation_logger.info('Building decorators')\n",
    "decorators = list()\n",
    "trigger_strategies = ['noringer'] if cutbased else list()\n",
    "strategy_cols = defaultdict(list)\n",
    "for modelpath, criterion in product(modelpaths, criteria_conf_names.keys()):\n",
    "    conf_name = criteria_conf_names[criterion]\n",
    "    confpath = os.path.join(modelpath, conf_name)\n",
    "    env = ROOT.TEnv(confpath)\n",
    "    ringer_version = env.GetValue(\"__version__\", '')\n",
    "    ringer_name = f'ringer_{ringer_version}'\n",
    "    strat_criterion = f'{ringer_name}_{criterion}'\n",
    "    simulation_logger.info(f'Building decorator for {confpath}. Version: {ringer_version}')\n",
    "    decorator = RingerDecorator(strat_criterion, confpath, RingGenerator(ring_percentages[ringer_version]))\n",
    "    decorators.append(decorator)\n",
    "    strategy_cols[ringer_name].append(strat_criterion)\n",
    "    strategy_cols[ringer_name].append(strat_criterion + '_output')\n",
    "    if not ringer_name in trigger_strategies:\n",
    "        trigger_strategies.append(ringer_name)"
   ]
  },
  {
   "cell_type": "markdown",
   "id": "323bf0a0",
   "metadata": {},
   "source": [
    "## Building Chains"
   ]
  },
  {
   "cell_type": "code",
   "execution_count": 5,
   "id": "6e87926d-1e45-4cfa-91ad-a588e2c6af03",
   "metadata": {
    "tags": []
   },
   "outputs": [
    {
     "name": "stderr",
     "output_type": "stream",
     "text": [
      "2022-08-31 10:54:08,776 - Building chains\n",
      "2022-08-31 10:54:08,778 - Building chain: HLT_e24_lhtight_nod0_noringer_ivarloose model: noringer_tight\n",
      "2022-08-31 10:54:08,781 - Building chain: HLT_e24_lhtight_nod0_ringer_v8_ivarloose model: ringer_v8_tight\n",
      "2022-08-31 10:54:08,782 - Building chain: HLT_e26_lhtight_nod0_noringer_ivarloose model: noringer_tight\n",
      "2022-08-31 10:54:08,783 - Building chain: HLT_e26_lhtight_nod0_ringer_v8_ivarloose model: ringer_v8_tight\n",
      "2022-08-31 10:54:08,789 - Building chain: HLT_e60_lhmedium_nod0_noringer_L1EM24VHI model: noringer_medium\n",
      "2022-08-31 10:54:08,791 - Building chain: HLT_e60_lhmedium_nod0_ringer_v8_L1EM24VHI model: ringer_v8_medium\n",
      "2022-08-31 10:54:08,792 - Building chain: HLT_e140_lhloose_nod0_noringer model: noringer_loose\n",
      "2022-08-31 10:54:08,793 - Building chain: HLT_e140_lhloose_nod0_ringer_v8 model: ringer_v8_loose\n"
     ]
    },
    {
     "name": "stdout",
     "output_type": "stream",
     "text": [
      "OrderedDict([('L1Seed', 'L1_EM22VHI'),\n",
      "             ('L2Calo', (21000.0, 'trig_L2_cl_lhtight_et22toInf')),\n",
      "             ('L2', 'trig_L2_el_cut_pt20to50'),\n",
      "             ('EFCalo', 24000.0),\n",
      "             ('HLT', (24000.0, 'trig_EF_el_lhtight_ivarloose'))])\n",
      "OrderedDict([('L1Seed', 'L1_EM22VHI'),\n",
      "             ('L2Calo', (21000.0, 'ringer_v8_tight')),\n",
      "             ('L2', 'trig_L2_el_cut_pt20to50'),\n",
      "             ('EFCalo', 24000.0),\n",
      "             ('HLT', (24000.0, 'trig_EF_el_lhtight_ivarloose'))])\n",
      "OrderedDict([('L1Seed', 'L1_EM22VHI'),\n",
      "             ('L2Calo', (23000.0, 'trig_L2_cl_lhtight_et22toInf')),\n",
      "             ('L2', 'trig_L2_el_cut_pt20to50'),\n",
      "             ('EFCalo', 26000.0),\n",
      "             ('HLT', (26000.0, 'trig_EF_el_lhtight_ivarloose'))])\n",
      "OrderedDict([('L1Seed', 'L1_EM22VHI'),\n",
      "             ('L2Calo', (23000.0, 'ringer_v8_tight')),\n",
      "             ('L2', 'trig_L2_el_cut_pt20to50'),\n",
      "             ('EFCalo', 26000.0),\n",
      "             ('HLT', (26000.0, 'trig_EF_el_lhtight_ivarloose'))])\n",
      "OrderedDict([('L1Seed', 'L1_EM24VHI'),\n",
      "             ('L2Calo', (57000.0, 'trig_L2_cl_lhmedium_et22toInf')),\n",
      "             ('L2', 'trig_L2_el_cut_pt50toInf'),\n",
      "             ('EFCalo', 60000.0),\n",
      "             ('HLT', (60000.0, 'trig_EF_el_lhmedium'))])\n",
      "OrderedDict([('L1Seed', 'L1_EM24VHI'),\n",
      "             ('L2Calo', (57000.0, 'ringer_v8_medium')),\n",
      "             ('L2', 'trig_L2_el_cut_pt50toInf'),\n",
      "             ('EFCalo', 60000.0),\n",
      "             ('HLT', (60000.0, 'trig_EF_el_lhmedium'))])\n",
      "OrderedDict([('L1Seed', 'L1_EM24VHI'),\n",
      "             ('L2Calo', (137000.0, 'trig_L2_cl_lhloose_et22toInf')),\n",
      "             ('L2', 'trig_L2_el_cut_pt50toInf'),\n",
      "             ('EFCalo', 140000.0),\n",
      "             ('HLT', (140000.0, 'trig_EF_el_lhloose'))])\n",
      "OrderedDict([('L1Seed', 'L1_EM24VHI'),\n",
      "             ('L2Calo', (137000.0, 'ringer_v8_loose')),\n",
      "             ('L2', 'trig_L2_el_cut_pt50toInf'),\n",
      "             ('EFCalo', 140000.0),\n",
      "             ('HLT', (140000.0, 'trig_EF_el_lhloose'))])\n"
     ]
    }
   ],
   "source": [
    "simulation_logger.info('Building chains')\n",
    "chains = list()\n",
    "step_chain_names = list()\n",
    "for chain_name, strategy in product(chain_names, trigger_strategies):\n",
    "    spliited_chain_name = chain_name.split('_')\n",
    "    criterion = spliited_chain_name[1].replace('lh', '')\n",
    "    step_chain_name = f'HLT_{chain_name.format(strategy=strategy)}'\n",
    "    step_chain_names.append(step_chain_name)\n",
    "    strategy_cols[strategy].append(step_chain_name)\n",
    "    for trigger_step in trigger_steps:\n",
    "        if trigger_step != 'HLT':\n",
    "            lower_chain = step_chain_name.replace('HLT', trigger_step)\n",
    "            step_chain_names.append(lower_chain)\n",
    "            strategy_cols[strategy].append(lower_chain)\n",
    "    energy = int(spliited_chain_name[0][1:])\n",
    "    l1seed = l1seeds_per_energy[energy]\n",
    "    l2calo_column = f'{strategy}_{criterion}'\n",
    "    simulation_logger.info(f'Building chain: {step_chain_name} model: {l2calo_column}')\n",
    "    if strategy == 'noringer':\n",
    "        chain = Chain(step_chain_name, L1Seed=l1seed)\n",
    "    else:\n",
    "        chain = Chain(step_chain_name, L1Seed=l1seed, l2calo_column=l2calo_column)\n",
    "    chains.append(chain)"
   ]
  },
  {
   "cell_type": "markdown",
   "id": "cb701ff2",
   "metadata": {},
   "source": [
    "## Simulating"
   ]
  },
  {
   "cell_type": "code",
   "execution_count": 6,
   "id": "ae672e06-b092-4be6-a5b5-f8ec9659b43f",
   "metadata": {
    "tags": []
   },
   "outputs": [
    {
     "name": "stderr",
     "output_type": "stream",
     "text": [
      "2022-08-31 10:54:17,583 - Simulating\n",
      "2022-08-31 10:54:17,589 - glob_path: /home/lbarranunes/data/mc16_13TeV.302236_309995_341330.sgn.boosted_probes.WZ_llqq_plus_radion_ZZ_llqq_plus_ggH3000.merge.25bins.v2/*et4_eta0.npz\n",
      "Reading files...: 100%|██████████| 1/1 [00:00<00:00,  1.85it/s]\n"
     ]
    }
   ],
   "source": [
    "simulation_logger.info('Simulating')\n",
    "filename_end = '*et4_eta0.npz' if dev else '*.npz'    #If dev, load only a part of the dataset\n",
    "datafiles = glob.glob(os.path.join(datasetpath, filename_end))  \n",
    "simulation_logger.info(f'glob_path: {os.path.join(datasetpath, filename_end)}')\n",
    "data = load_in_loop(datafiles)"
   ]
  },
  {
   "cell_type": "code",
   "execution_count": 8,
   "id": "029e6f47-07d1-4a8f-b610-0a1a75ea21d7",
   "metadata": {},
   "outputs": [
    {
     "name": "stdout",
     "output_type": "stream",
     "text": [
      "RunNumber\n",
      "avgmu\n",
      "trig_L2_cl_et\n",
      "trig_L2_cl_eta\n",
      "trig_L2_cl_phi\n",
      "trig_L2_cl_reta\n",
      "trig_L2_cl_ehad1\n",
      "trig_L2_cl_eratio\n",
      "trig_L2_cl_f1\n",
      "trig_L2_cl_f3\n",
      "trig_L2_cl_weta2\n",
      "trig_L2_cl_wstot\n",
      "trig_L2_cl_e2tsts1\n",
      "trig_L2_cl_ring_0\n",
      "trig_L2_cl_ring_1\n",
      "trig_L2_cl_ring_2\n",
      "trig_L2_cl_ring_3\n",
      "trig_L2_cl_ring_4\n",
      "trig_L2_cl_ring_5\n",
      "trig_L2_cl_ring_6\n",
      "trig_L2_cl_ring_7\n",
      "trig_L2_cl_ring_8\n",
      "trig_L2_cl_ring_9\n",
      "trig_L2_cl_ring_10\n",
      "trig_L2_cl_ring_11\n",
      "trig_L2_cl_ring_12\n",
      "trig_L2_cl_ring_13\n",
      "trig_L2_cl_ring_14\n",
      "trig_L2_cl_ring_15\n",
      "trig_L2_cl_ring_16\n",
      "trig_L2_cl_ring_17\n",
      "trig_L2_cl_ring_18\n",
      "trig_L2_cl_ring_19\n",
      "trig_L2_cl_ring_20\n",
      "trig_L2_cl_ring_21\n",
      "trig_L2_cl_ring_22\n",
      "trig_L2_cl_ring_23\n",
      "trig_L2_cl_ring_24\n",
      "trig_L2_cl_ring_25\n",
      "trig_L2_cl_ring_26\n",
      "trig_L2_cl_ring_27\n",
      "trig_L2_cl_ring_28\n",
      "trig_L2_cl_ring_29\n",
      "trig_L2_cl_ring_30\n",
      "trig_L2_cl_ring_31\n",
      "trig_L2_cl_ring_32\n",
      "trig_L2_cl_ring_33\n",
      "trig_L2_cl_ring_34\n",
      "trig_L2_cl_ring_35\n",
      "trig_L2_cl_ring_36\n",
      "trig_L2_cl_ring_37\n",
      "trig_L2_cl_ring_38\n",
      "trig_L2_cl_ring_39\n",
      "trig_L2_cl_ring_40\n",
      "trig_L2_cl_ring_41\n",
      "trig_L2_cl_ring_42\n",
      "trig_L2_cl_ring_43\n",
      "trig_L2_cl_ring_44\n",
      "trig_L2_cl_ring_45\n",
      "trig_L2_cl_ring_46\n",
      "trig_L2_cl_ring_47\n",
      "trig_L2_cl_ring_48\n",
      "trig_L2_cl_ring_49\n",
      "trig_L2_cl_ring_50\n",
      "trig_L2_cl_ring_51\n",
      "trig_L2_cl_ring_52\n",
      "trig_L2_cl_ring_53\n",
      "trig_L2_cl_ring_54\n",
      "trig_L2_cl_ring_55\n",
      "trig_L2_cl_ring_56\n",
      "trig_L2_cl_ring_57\n",
      "trig_L2_cl_ring_58\n",
      "trig_L2_cl_ring_59\n",
      "trig_L2_cl_ring_60\n",
      "trig_L2_cl_ring_61\n",
      "trig_L2_cl_ring_62\n",
      "trig_L2_cl_ring_63\n",
      "trig_L2_cl_ring_64\n",
      "trig_L2_cl_ring_65\n",
      "trig_L2_cl_ring_66\n",
      "trig_L2_cl_ring_67\n",
      "trig_L2_cl_ring_68\n",
      "trig_L2_cl_ring_69\n",
      "trig_L2_cl_ring_70\n",
      "trig_L2_cl_ring_71\n",
      "trig_L2_cl_ring_72\n",
      "trig_L2_cl_ring_73\n",
      "trig_L2_cl_ring_74\n",
      "trig_L2_cl_ring_75\n",
      "trig_L2_cl_ring_76\n",
      "trig_L2_cl_ring_77\n",
      "trig_L2_cl_ring_78\n",
      "trig_L2_cl_ring_79\n",
      "trig_L2_cl_ring_80\n",
      "trig_L2_cl_ring_81\n",
      "trig_L2_cl_ring_82\n",
      "trig_L2_cl_ring_83\n",
      "trig_L2_cl_ring_84\n",
      "trig_L2_cl_ring_85\n",
      "trig_L2_cl_ring_86\n",
      "trig_L2_cl_ring_87\n",
      "trig_L2_cl_ring_88\n",
      "trig_L2_cl_ring_89\n",
      "trig_L2_cl_ring_90\n",
      "trig_L2_cl_ring_91\n",
      "trig_L2_cl_ring_92\n",
      "trig_L2_cl_ring_93\n",
      "trig_L2_cl_ring_94\n",
      "trig_L2_cl_ring_95\n",
      "trig_L2_cl_ring_96\n",
      "trig_L2_cl_ring_97\n",
      "trig_L2_cl_ring_98\n",
      "trig_L2_cl_ring_99\n",
      "trig_L2_el_hastrack\n",
      "trig_L2_el_pt\n",
      "trig_L2_el_eta\n",
      "trig_L2_el_phi\n",
      "trig_L2_el_caloEta\n",
      "trig_L2_el_trkClusDeta\n",
      "trig_L2_el_trkClusDphi\n",
      "trig_L2_el_etOverPt\n",
      "trig_EF_cl_hascluster\n",
      "trig_EF_cl_et\n",
      "trig_EF_cl_eta\n",
      "trig_EF_cl_etaBE2\n",
      "trig_EF_cl_phi\n",
      "trig_EF_el_hascand\n",
      "trig_EF_el_et\n",
      "trig_EF_el_eta\n",
      "trig_EF_el_etaBE2\n",
      "trig_EF_el_phi\n",
      "trig_EF_el_rhad1\n",
      "trig_EF_el_rhad\n",
      "trig_EF_el_f3\n",
      "trig_EF_el_weta2\n",
      "trig_EF_el_rphi\n",
      "trig_EF_el_reta\n",
      "trig_EF_el_wtots1\n",
      "trig_EF_el_eratio\n",
      "trig_EF_el_f1\n",
      "trig_EF_el_hastrack\n",
      "trig_EF_el_deltaEta1\n",
      "trig_EF_el_deltaPhi2\n",
      "trig_EF_el_deltaPhi2Rescaled\n",
      "trig_EF_el_lhtight\n",
      "trig_EF_el_lhmedium\n",
      "trig_EF_el_lhloose\n",
      "trig_EF_el_lhvloose\n",
      "el_et\n",
      "el_eta\n",
      "el_etaBE2\n",
      "el_phi\n",
      "el_rhad1\n",
      "el_rhad\n",
      "el_f3\n",
      "el_weta2\n",
      "el_rphi\n",
      "el_reta\n",
      "el_wtots1\n",
      "el_eratio\n",
      "el_f1\n",
      "el_hastrack\n",
      "el_numberOfBLayerHits\n",
      "el_numberOfPixelHits\n",
      "el_numberOfTRTHits\n",
      "el_d0\n",
      "el_d0significance\n",
      "el_eProbabilityHT\n",
      "el_trans_TRT_PID\n",
      "el_deltaEta1\n",
      "el_deltaPhi2\n",
      "el_deltaPhi2Rescaled\n",
      "el_deltaPOverP\n",
      "el_lhtight\n",
      "el_lhmedium\n",
      "el_lhloose\n",
      "el_lhvloose\n",
      "trig_EF_el_lhtight_ivarloose\n",
      "el_TaP_Mass\n",
      "el_TaP_deltaR\n",
      "L1_EM3\n",
      "L1_EM7\n",
      "L1_EM15VH\n",
      "L1_EM15VHI\n",
      "L1_EM20VH\n",
      "L1_EM20VHI\n",
      "L1_EM22VH\n",
      "L1_EM22VHI\n",
      "L1_EM24VHI\n",
      "trig_L2_cl_lhvloose_et0to12\n",
      "trig_L2_cl_lhvloose_et12to20\n",
      "trig_L2_cl_lhvloose_et22toInf\n",
      "trig_L2_cl_lhloose_et0to12\n",
      "trig_L2_cl_lhloose_et12to20\n",
      "trig_L2_cl_lhloose_et22toInf\n",
      "trig_L2_cl_lhmedium_et0to12\n",
      "trig_L2_cl_lhmedium_et12to20\n",
      "trig_L2_cl_lhmedium_et22toInf\n",
      "trig_L2_cl_lhtight_et0to12\n",
      "trig_L2_cl_lhtight_et12to20\n",
      "trig_L2_cl_lhtight_et22toInf\n",
      "trig_L2_el_cut_pt0to15\n",
      "trig_L2_el_cut_pt15to20\n",
      "trig_L2_el_cut_pt20to50\n",
      "trig_L2_el_cut_pt50toInf\n",
      "target\n"
     ]
    }
   ],
   "source": [
    "for col in data.columns:\n",
    "    print(col)"
   ]
  },
  {
   "cell_type": "code",
   "execution_count": null,
   "id": "a176a9f4-0038-4086-9493-627ef71f53e7",
   "metadata": {},
   "outputs": [],
   "source": [
    "selection_cols"
   ]
  },
  {
   "cell_type": "markdown",
   "id": "8e1b2e85",
   "metadata": {},
   "source": [
    "## Saving data"
   ]
  },
  {
   "cell_type": "code",
   "execution_count": 8,
   "id": "99da56c2-5d7e-4aee-8514-db77232eb099",
   "metadata": {},
   "outputs": [
    {
     "name": "stderr",
     "output_type": "stream",
     "text": [
      "2022-08-30 09:27:01,312 - Saving_data\n"
     ]
    }
   ],
   "source": [
    "simulation_logger.info('Saving_data')\n",
    "output_dir = os.path.join(datasetpath, 'simulated_chains')\n",
    "save_cols = [f'el_lh{criterion}' for criterion in criteria_conf_names.keys()]\n",
    "save_cols += ['trig_L2_el_pt', 'avgmu', 'el_et', 'el_eta', 'el_TaP_deltaR']\n",
    "save_cols += ['target']\n",
    "last_strat = None"
   ]
  },
  {
   "cell_type": "code",
   "execution_count": 10,
   "id": "5b50206e-e27e-4b8b-8bc6-a2c696411bdd",
   "metadata": {},
   "outputs": [
    {
     "data": {
      "text/plain": [
       "['HLT_e24_lhtight_nod0_noringer_ivarloose',\n",
       " 'L2Calo_e24_lhtight_nod0_noringer_ivarloose',\n",
       " 'L2_e24_lhtight_nod0_noringer_ivarloose',\n",
       " 'EFCalo_e24_lhtight_nod0_noringer_ivarloose',\n",
       " 'HLT_e26_lhtight_nod0_noringer_ivarloose',\n",
       " 'L2Calo_e26_lhtight_nod0_noringer_ivarloose',\n",
       " 'L2_e26_lhtight_nod0_noringer_ivarloose',\n",
       " 'EFCalo_e26_lhtight_nod0_noringer_ivarloose',\n",
       " 'HLT_e60_lhmedium_nod0_noringer_L1EM24VHI',\n",
       " 'L2Calo_e60_lhmedium_nod0_noringer_L1EM24VHI',\n",
       " 'L2_e60_lhmedium_nod0_noringer_L1EM24VHI',\n",
       " 'EFCalo_e60_lhmedium_nod0_noringer_L1EM24VHI',\n",
       " 'HLT_e140_lhloose_nod0_noringer',\n",
       " 'L2Calo_e140_lhloose_nod0_noringer',\n",
       " 'L2_e140_lhloose_nod0_noringer',\n",
       " 'EFCalo_e140_lhloose_nod0_noringer']"
      ]
     },
     "execution_count": 10,
     "metadata": {},
     "output_type": "execute_result"
    }
   ],
   "source": [
    "strategy_cols['noringer']"
   ]
  },
  {
   "cell_type": "code",
   "execution_count": 9,
   "id": "1bd551bf-b4ea-46bf-89b3-9d4fc7813f10",
   "metadata": {
    "collapsed": true,
    "jupyter": {
     "outputs_hidden": true
    },
    "tags": []
   },
   "outputs": [
    {
     "name": "stderr",
     "output_type": "stream",
     "text": [
      "2022-08-30 09:27:01,334 - Generating ringer_v8_et0_eta0\n",
      "2022-08-30 09:27:01,382 - Saving: ringer_v8_et0_eta0\n",
      "2022-08-30 09:27:01,487 - Generating ringer_v8_et0_eta1\n",
      "2022-08-30 09:27:01,492 - Saving: ringer_v8_et0_eta1\n",
      "2022-08-30 09:27:01,535 - Generating ringer_v8_et0_eta2\n",
      "2022-08-30 09:27:01,539 - Saving: ringer_v8_et0_eta2\n",
      "2022-08-30 09:27:01,580 - Generating ringer_v8_et0_eta3\n",
      "2022-08-30 09:27:01,583 - Saving: ringer_v8_et0_eta3\n",
      "2022-08-30 09:27:01,624 - Generating ringer_v8_et0_eta4\n",
      "2022-08-30 09:27:01,627 - Saving: ringer_v8_et0_eta4\n",
      "2022-08-30 09:27:01,667 - Generating ringer_v8_et1_eta0\n",
      "2022-08-30 09:27:01,671 - Saving: ringer_v8_et1_eta0\n",
      "2022-08-30 09:27:01,715 - Generating ringer_v8_et1_eta1\n",
      "2022-08-30 09:27:01,719 - Saving: ringer_v8_et1_eta1\n",
      "2022-08-30 09:27:01,762 - Generating ringer_v8_et1_eta2\n",
      "2022-08-30 09:27:01,766 - Saving: ringer_v8_et1_eta2\n",
      "2022-08-30 09:27:01,809 - Generating ringer_v8_et1_eta3\n",
      "2022-08-30 09:27:01,813 - Saving: ringer_v8_et1_eta3\n",
      "2022-08-30 09:27:01,856 - Generating ringer_v8_et1_eta4\n",
      "2022-08-30 09:27:01,860 - Saving: ringer_v8_et1_eta4\n",
      "2022-08-30 09:27:01,900 - Generating ringer_v8_et2_eta0\n",
      "2022-08-30 09:27:01,904 - Saving: ringer_v8_et2_eta0\n",
      "2022-08-30 09:27:01,945 - Generating ringer_v8_et2_eta1\n",
      "2022-08-30 09:27:01,948 - Saving: ringer_v8_et2_eta1\n",
      "2022-08-30 09:27:01,993 - Generating ringer_v8_et2_eta2\n",
      "2022-08-30 09:27:01,997 - Saving: ringer_v8_et2_eta2\n",
      "2022-08-30 09:27:02,039 - Generating ringer_v8_et2_eta3\n",
      "2022-08-30 09:27:02,043 - Saving: ringer_v8_et2_eta3\n",
      "2022-08-30 09:27:02,086 - Generating ringer_v8_et2_eta4\n",
      "2022-08-30 09:27:02,089 - Saving: ringer_v8_et2_eta4\n",
      "2022-08-30 09:27:02,132 - Generating ringer_v8_et3_eta0\n",
      "2022-08-30 09:27:02,136 - Saving: ringer_v8_et3_eta0\n",
      "2022-08-30 09:27:02,177 - Generating ringer_v8_et3_eta1\n",
      "2022-08-30 09:27:02,181 - Saving: ringer_v8_et3_eta1\n",
      "2022-08-30 09:27:02,224 - Generating ringer_v8_et3_eta2\n",
      "2022-08-30 09:27:02,228 - Saving: ringer_v8_et3_eta2\n",
      "2022-08-30 09:27:02,272 - Generating ringer_v8_et3_eta3\n",
      "2022-08-30 09:27:02,277 - Saving: ringer_v8_et3_eta3\n",
      "2022-08-30 09:27:02,321 - Generating ringer_v8_et3_eta4\n",
      "2022-08-30 09:27:02,324 - Saving: ringer_v8_et3_eta4\n",
      "2022-08-30 09:27:02,368 - Generating ringer_v8_et4_eta0\n",
      "2022-08-30 09:27:02,382 - Saving: ringer_v8_et4_eta0\n",
      "2022-08-30 09:27:02,476 - Generating ringer_v8_et4_eta1\n",
      "2022-08-30 09:27:02,488 - Saving: ringer_v8_et4_eta1\n",
      "2022-08-30 09:27:02,576 - Generating ringer_v8_et4_eta2\n",
      "2022-08-30 09:27:02,583 - Saving: ringer_v8_et4_eta2\n",
      "2022-08-30 09:27:02,635 - Generating ringer_v8_et4_eta3\n",
      "2022-08-30 09:27:02,642 - Saving: ringer_v8_et4_eta3\n",
      "2022-08-30 09:27:02,703 - Generating ringer_v8_et4_eta4\n",
      "2022-08-30 09:27:02,707 - Saving: ringer_v8_et4_eta4\n"
     ]
    }
   ],
   "source": [
    "for strategy, et_bin_idx, eta_bin_idx in product(strategy_cols.keys(), et_bins_idxs, eta_bins_idxs):\n",
    "    outname = f'{strategy}_et{et_bin_idx}_eta{eta_bin_idx}'\n",
    "    simulation_logger.info(f'Generating {outname}')\n",
    "    strategy_out = os.path.join(output_dir, strategy + '.parquet')\n",
    "    if not os.path.exists(strategy_out):\n",
    "        os.makedirs(strategy_out)\n",
    "\n",
    "    selection_cols = strategy_cols[strategy] + save_cols\n",
    "    if last_strat != strategy:\n",
    "        with open(os.path.join(output_dir, f'{strategy}_cols.json'), 'w') as json_file:\n",
    "            json.dump(selection_cols, json_file, indent=4)\n",
    "        last_strat = deepcopy(strategy)\n",
    "\n",
    "    et_min, et_max = et_bins[et_bin_idx:et_bin_idx+2]\n",
    "    eta_min, eta_max = eta_bins[eta_bin_idx:eta_bin_idx+2]\n",
    "    bin_selector = (data['el_et'] >= (et_min*GeV)) & (data['el_et'] < (et_max*GeV))\n",
    "    bin_selector = bin_selector & (data['el_eta'].abs() >= eta_min) & (data['el_eta'].abs() < eta_max)\n",
    "    selected_data = data.loc[bin_selector, selection_cols]\n",
    "\n",
    "    simulation_logger.info(f'Saving: {outname}')\n",
    "    selected_data.to_parquet(os.path.join(strategy_out, outname + '.parquet'))"
   ]
  },
  {
   "cell_type": "markdown",
   "id": "f12e09db",
   "metadata": {},
   "source": [
    "## Loading"
   ]
  },
  {
   "cell_type": "code",
   "execution_count": 13,
   "id": "c366a83e-ba36-40f1-a928-ac51d4236ada",
   "metadata": {
    "tags": []
   },
   "outputs": [
    {
     "name": "stdout",
     "output_type": "stream",
     "text": [
      "Read time: 0:00:00.115821\n"
     ]
    }
   ],
   "source": [
    "start = datetime.now()\n",
    "read_data = pd.read_parquet(os.path.join(HOME_PATH, \n",
    "    '/data/mc16_13TeV.302236_309995_341330.sgn.boosted_probes.WZ_llqq_plus_radion_ZZ_llqq_plus_ggH3000.merge.25bins.v2/simulated_chains/ringer_v8.parquet'))\n",
    "end = datetime.now()\n",
    "print(f'Read time: {end-start}')"
   ]
  },
  {
   "cell_type": "code",
   "execution_count": 12,
   "id": "69b6f482-0725-49a9-a741-506792af2e80",
   "metadata": {
    "tags": []
   },
   "outputs": [
    {
     "name": "stdout",
     "output_type": "stream",
     "text": [
      "ringer_v8_tight\n",
      "ringer_v8_tight_output\n",
      "ringer_v8_medium\n",
      "ringer_v8_medium_output\n",
      "ringer_v8_loose\n",
      "ringer_v8_loose_output\n",
      "ringer_v8_vloose\n",
      "ringer_v8_vloose_output\n",
      "HLT_e24_lhtight_nod0_ringer_v8_ivarloose\n",
      "L2Calo_e24_lhtight_nod0_ringer_v8_ivarloose\n",
      "L2_e24_lhtight_nod0_ringer_v8_ivarloose\n",
      "EFCalo_e24_lhtight_nod0_ringer_v8_ivarloose\n",
      "HLT_e26_lhtight_nod0_ringer_v8_ivarloose\n",
      "L2Calo_e26_lhtight_nod0_ringer_v8_ivarloose\n",
      "L2_e26_lhtight_nod0_ringer_v8_ivarloose\n",
      "EFCalo_e26_lhtight_nod0_ringer_v8_ivarloose\n",
      "HLT_e60_lhmedium_nod0_ringer_v8_L1EM24VHI\n",
      "L2Calo_e60_lhmedium_nod0_ringer_v8_L1EM24VHI\n",
      "L2_e60_lhmedium_nod0_ringer_v8_L1EM24VHI\n",
      "EFCalo_e60_lhmedium_nod0_ringer_v8_L1EM24VHI\n",
      "HLT_e140_lhloose_nod0_ringer_v8\n",
      "L2Calo_e140_lhloose_nod0_ringer_v8\n",
      "L2_e140_lhloose_nod0_ringer_v8\n",
      "EFCalo_e140_lhloose_nod0_ringer_v8\n",
      "el_lhtight\n",
      "el_lhmedium\n",
      "el_lhloose\n",
      "el_lhvloose\n",
      "trig_L2_el_pt\n",
      "avgmu\n",
      "el_et\n",
      "el_eta\n",
      "el_TaP_deltaR\n",
      "target\n"
     ]
    }
   ],
   "source": [
    "for col in read_data.columns:\n",
    "    if not col.startswith('trig_L2_cl_ring'):\n",
    "        print(col)"
   ]
  }
 ],
 "metadata": {
  "kernelspec": {
   "display_name": "Python 3",
   "language": "python",
   "name": "python3"
  },
  "language_info": {
   "codemirror_mode": {
    "name": "ipython",
    "version": 3
   },
   "file_extension": ".py",
   "mimetype": "text/x-python",
   "name": "python",
   "nbconvert_exporter": "python",
   "pygments_lexer": "ipython3",
   "version": "3.6.9"
  }
 },
 "nbformat": 4,
 "nbformat_minor": 5
}
