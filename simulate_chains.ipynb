{
 "cells": [
  {
   "cell_type": "markdown",
   "id": "1af00a9f",
   "metadata": {},
   "source": [
    "## Setup"
   ]
  },
  {
   "cell_type": "code",
   "execution_count": 1,
   "id": "e38233d2-be92-4298-9845-71458a5175f2",
   "metadata": {},
   "outputs": [
    {
     "name": "stdout",
     "output_type": "stream",
     "text": [
      "Welcome to JupyROOT 6.16/00\n",
      "Using all sub packages with ROOT dependence\n"
     ]
    }
   ],
   "source": [
    "from kepler.pandas.menu       import ElectronSequence as Chain\n",
    "from kepler.pandas.readers    import load, load_in_loop\n",
    "from kepler.pandas.decorators import RingerDecorator\n",
    "from typing import List\n",
    "from itertools import product\n",
    "import rootplotlib as rpl\n",
    "import mplhep as hep\n",
    "import ROOT\n",
    "ROOT.gStyle.SetOptStat(0);\n",
    "import numpy as np\n",
    "import pandas as pd\n",
    "import glob\n",
    "import os\n",
    "import logging\n",
    "import matplotlib.pyplot as plt\n",
    "plt.style.use(hep.style.ROOT)\n",
    "import warnings\n",
    "warnings.filterwarnings('ignore')\n",
    "from collections import defaultdict\n",
    "from copy import deepcopy\n",
    "from argparse import ArgumentParser\n",
    "import json\n",
    "from Gaugi import GeV\n",
    "from datetime import datetime\n",
    "\n",
    "from packages.generators import ring_percentages, RingGenerator\n",
    "from packages.plotting import make_plot_fig, var_infos, val_label_map\n",
    "from packages.utils import get_logger"
   ]
  },
  {
   "cell_type": "code",
   "execution_count": 2,
   "id": "c86ebe2d-0870-4651-903c-ccfc05c81962",
   "metadata": {
    "tags": []
   },
   "outputs": [],
   "source": [
    "drop_cols = drop_columns = [\n",
    "                    'RunNumber', \n",
    "                    'trig_L2_cl_e2tsts1',\n",
    "                    'trig_L2_el_hastrack',\n",
    "                    'trig_L2_el_eta',\n",
    "                    'trig_L2_el_phi',\n",
    "                    'trig_L2_el_caloEta',\n",
    "                    'trig_L2_el_trkClusDeta',\n",
    "                    'trig_L2_el_trkClusDphi',\n",
    "                    'trig_L2_el_etOverPt',\n",
    "                    'trig_EF_cl_hascluster',\n",
    "                    'trig_EF_cl_eta',\n",
    "                    'trig_EF_cl_etaBE2',\n",
    "                    'trig_EF_cl_phi',     \n",
    "                    'trig_EF_el_hascand',\n",
    "                    'trig_EF_el_eta',\n",
    "                    'trig_EF_el_etaBE2',\n",
    "                    'trig_EF_el_phi',\n",
    "                    'trig_EF_el_rhad1',\n",
    "                    'trig_EF_el_rhad',\n",
    "                    'trig_EF_el_f3',\n",
    "                    'trig_EF_el_weta2',\n",
    "                    'trig_EF_el_rphi',\n",
    "                    'trig_EF_el_reta',\n",
    "                    'trig_EF_el_wtots1',\n",
    "                    'trig_EF_el_eratio',\n",
    "                    'trig_EF_el_f1',\n",
    "                    'trig_EF_el_hastrack',\n",
    "                    'trig_EF_el_deltaEta1',\n",
    "                    'trig_EF_el_deltaPhi2',\n",
    "                    'trig_EF_el_deltaPhi2Rescaled',\n",
    "                    'el_etaBE2',\n",
    "                    'el_numberOfBLayerHits',\n",
    "                    'el_numberOfPixelHits',\n",
    "                    'el_numberOfTRTHits',\n",
    "                    'el_trans_TRT_PID',\n",
    "                    'el_deltaPhi2',\n",
    "                    'el_TaP_Mass',\n",
    "                ]\n",
    "\n",
    "l1seeds_per_energy = {\n",
    "    24: 'L1_EM22VHI',\n",
    "    26: 'L1_EM22VHI',\n",
    "    60: 'L1_EM24VHI',\n",
    "    140: 'L1_EM24VHI'\n",
    "}\n",
    "\n",
    "criteria_conf_names = {\n",
    "    'tight': 'ElectronRingerTightTriggerConfig.conf',\n",
    "    'medium': 'ElectronRingerMediumTriggerConfig.conf',\n",
    "    'loose': 'ElectronRingerLooseTriggerConfig.conf',\n",
    "    'vloose': 'ElectronRingerVeryLooseTriggerConfig.conf'\n",
    "}\n",
    "\n",
    "energy_chains = {\n",
    "     24: 'e24_lhtight_nod0_{strategy}_ivarloose',\n",
    "     26: 'e26_lhtight_nod0_{strategy}_ivarloose',\n",
    "     60: 'e60_lhmedium_nod0_{strategy}_L1EM24VHI',\n",
    "     140: 'e140_lhloose_nod0_{strategy}'\n",
    "}\n",
    "\n",
    "trigger_steps = ['L2Calo', 'L2', 'EFCalo', 'HLT']\n",
    "\n",
    "et_bins = [15, 20, 30, 40, 50, 1000000]\n",
    "et_bins_idxs = range(len(et_bins)-1)\n",
    "eta_bins = [0.0, 0.8, 1.37, 1.54, 2.37, 2.50]\n",
    "eta_bins_idxs = range(len(eta_bins)-1)"
   ]
  },
  {
   "cell_type": "markdown",
   "id": "b812a2b1",
   "metadata": {},
   "source": [
    "## Parameters"
   ]
  },
  {
   "cell_type": "code",
   "execution_count": 3,
   "id": "f6b46bbe-df8b-4924-86c4-ef46d8bf3ec4",
   "metadata": {},
   "outputs": [],
   "source": [
    "HOME_PATH = os.path.expanduser('~')\n",
    "datasetpath = os.path.join(HOME_PATH, \n",
    "    'data/mc16_13TeV.302236_309995_341330.sgn.boosted_probes.WZ_llqq_plus_radion_ZZ_llqq_plus_ggH3000.merge.25bins.v2')\n",
    "\n",
    "modelpaths = [\n",
    "    'tunings/TrigL2_20180125_v8'\n",
    "    # 'tunings/TrigL2_20210907_v12 (v8.1-2)',\n",
    "    # 'tunings/TrigL2_20220704_v20',\n",
    "    # 'tunings/TrigL2_20220802_v20.1'\n",
    "    # 'tunings/TrigL2_20210306_v9'\n",
    "]\n",
    "\n",
    "cutbased = True\n",
    "\n",
    "chain_names = [\n",
    "    'e24_lhtight_nod0_{strategy}_ivarloose',\n",
    "    'e26_lhtight_nod0_{strategy}_ivarloose',\n",
    "    'e60_lhmedium_nod0_{strategy}_L1EM24VHI',\n",
    "    'e140_lhloose_nod0_{strategy}'\n",
    "]\n",
    "\n",
    "dev = False\n",
    "log = False\n",
    "\n",
    "# Initializing logger\n",
    "simulation_logger = get_logger('simulate_chains', file=log)"
   ]
  },
  {
   "cell_type": "markdown",
   "id": "e4ecc71d",
   "metadata": {},
   "source": [
    "## Building Decorators"
   ]
  },
  {
   "cell_type": "code",
   "execution_count": 4,
   "id": "f5cc6f54-3368-45c7-ba0d-3d8c65f2df77",
   "metadata": {},
   "outputs": [
    {
     "name": "stderr",
     "output_type": "stream",
     "text": [
      "2022-08-30 11:09:23,278 - Building decorators\n",
      "2022-08-30 11:09:23,289 - Building decorator for tunings/TrigL2_20180125_v8/ElectronRingerTightTriggerConfig.conf. Version: v8\n",
      "2022-08-30 11:09:23,718 - Building decorator for tunings/TrigL2_20180125_v8/ElectronRingerMediumTriggerConfig.conf. Version: v8\n",
      "2022-08-30 11:09:24,065 - Building decorator for tunings/TrigL2_20180125_v8/ElectronRingerLooseTriggerConfig.conf. Version: v8\n",
      "2022-08-30 11:09:24,412 - Building decorator for tunings/TrigL2_20180125_v8/ElectronRingerVeryLooseTriggerConfig.conf. Version: v8\n"
     ]
    },
    {
     "name": "stdout",
     "output_type": "stream",
     "text": [
      "2022-08-30 11:09:23,290 | Py.RingerDecorator                      INFO Reading... tunings/TrigL2_20180125_v8/ElectronRingerTightTriggerConfig.conf\n",
      "2022-08-30 11:09:23,719 | Py.RingerDecorator                      INFO Reading... tunings/TrigL2_20180125_v8/ElectronRingerMediumTriggerConfig.conf\n",
      "2022-08-30 11:09:24,067 | Py.RingerDecorator                      INFO Reading... tunings/TrigL2_20180125_v8/ElectronRingerLooseTriggerConfig.conf\n",
      "2022-08-30 11:09:24,413 | Py.RingerDecorator                      INFO Reading... tunings/TrigL2_20180125_v8/ElectronRingerVeryLooseTriggerConfig.conf\n"
     ]
    },
    {
     "name": "stderr",
     "output_type": "stream",
     "text": [
      "2022-08-30 11:09:23.302297: I tensorflow/stream_executor/platform/default/dso_loader.cc:48] Successfully opened dynamic library libcuda.so.1\n",
      "2022-08-30 11:09:23.302332: E tensorflow/stream_executor/cuda/cuda_driver.cc:314] failed call to cuInit: UNKNOWN ERROR (-1)\n",
      "2022-08-30 11:09:23.302354: I tensorflow/stream_executor/cuda/cuda_diagnostics.cc:156] kernel driver does not appear to be running on this host (caloba53): /proc/driver/nvidia/version does not exist\n",
      "2022-08-30 11:09:23.302553: I tensorflow/core/platform/cpu_feature_guard.cc:142] This TensorFlow binary is optimized with oneAPI Deep Neural Network Library (oneDNN)to use the following CPU instructions in performance-critical operations:  AVX2 AVX512F FMA\n",
      "To enable them in other operations, rebuild TensorFlow with the appropriate compiler flags.\n",
      "2022-08-30 11:09:23.333949: I tensorflow/core/platform/profile_utils/cpu_utils.cc:104] CPU Frequency: 2400000000 Hz\n",
      "2022-08-30 11:09:23.341464: I tensorflow/compiler/xla/service/service.cc:168] XLA service 0x9c98aa0 initialized for platform Host (this does not guarantee that XLA will be used). Devices:\n",
      "2022-08-30 11:09:23.341523: I tensorflow/compiler/xla/service/service.cc:176]   StreamExecutor device (0): Host, Default Version\n"
     ]
    }
   ],
   "source": [
    "simulation_logger.info('Building decorators')\n",
    "decorators = list()\n",
    "trigger_strategies = ['noringer'] if cutbased else list()\n",
    "strategy_cols = defaultdict(list)\n",
    "for modelpath, criterion in product(modelpaths, criteria_conf_names.keys()):\n",
    "    conf_name = criteria_conf_names[criterion]\n",
    "    confpath = os.path.join(modelpath, conf_name)\n",
    "    env = ROOT.TEnv(confpath)\n",
    "    ringer_version = env.GetValue(\"__version__\", '')\n",
    "    ringer_name = f'ringer_{ringer_version}'\n",
    "    strat_criterion = f'{ringer_name}_{criterion}'\n",
    "    simulation_logger.info(f'Building decorator for {confpath}. Version: {ringer_version}')\n",
    "    decorator = RingerDecorator(strat_criterion, confpath, RingGenerator(ring_percentages[ringer_version]))\n",
    "    decorators.append(decorator)\n",
    "    strategy_cols[ringer_name].append(strat_criterion)\n",
    "    strategy_cols[ringer_name].append(strat_criterion + '_output')\n",
    "    if not ringer_name in trigger_strategies:\n",
    "        trigger_strategies.append(ringer_name)"
   ]
  },
  {
   "cell_type": "markdown",
   "id": "323bf0a0",
   "metadata": {},
   "source": [
    "## Building Chains"
   ]
  },
  {
   "cell_type": "code",
   "execution_count": 5,
   "id": "6e87926d-1e45-4cfa-91ad-a588e2c6af03",
   "metadata": {
    "collapsed": true,
    "jupyter": {
     "outputs_hidden": true
    },
    "tags": []
   },
   "outputs": [
    {
     "name": "stderr",
     "output_type": "stream",
     "text": [
      "2022-08-30 11:09:24,782 - Building chains\n",
      "2022-08-30 11:09:24,783 - Building chain: HLT_e24_lhtight_nod0_noringer_ivarloose model: noringer_tight\n",
      "2022-08-30 11:09:24,785 - Building chain: HLT_e24_lhtight_nod0_ringer_v8_ivarloose model: ringer_v8_tight\n",
      "2022-08-30 11:09:24,786 - Building chain: HLT_e26_lhtight_nod0_noringer_ivarloose model: noringer_tight\n",
      "2022-08-30 11:09:24,787 - Building chain: HLT_e26_lhtight_nod0_ringer_v8_ivarloose model: ringer_v8_tight\n",
      "2022-08-30 11:09:24,789 - Building chain: HLT_e60_lhmedium_nod0_noringer_L1EM24VHI model: noringer_medium\n",
      "2022-08-30 11:09:24,797 - Building chain: HLT_e60_lhmedium_nod0_ringer_v8_L1EM24VHI model: ringer_v8_medium\n",
      "2022-08-30 11:09:24,798 - Building chain: HLT_e140_lhloose_nod0_noringer model: noringer_loose\n",
      "2022-08-30 11:09:24,799 - Building chain: HLT_e140_lhloose_nod0_ringer_v8 model: ringer_v8_loose\n"
     ]
    },
    {
     "name": "stdout",
     "output_type": "stream",
     "text": [
      "OrderedDict([('L1Seed', 'L1_EM22VHI'),\n",
      "             ('L2Calo', (21000.0, 'trig_L2_cl_lhtight_et22toInf')),\n",
      "             ('L2', 'trig_L2_el_cut_pt20to50'),\n",
      "             ('EFCalo', 24000.0),\n",
      "             ('HLT', (24000.0, 'trig_EF_el_lhtight_ivarloose'))])\n",
      "OrderedDict([('L1Seed', 'L1_EM22VHI'),\n",
      "             ('L2Calo', (21000.0, 'ringer_v8_tight')),\n",
      "             ('L2', 'trig_L2_el_cut_pt20to50'),\n",
      "             ('EFCalo', 24000.0),\n",
      "             ('HLT', (24000.0, 'trig_EF_el_lhtight_ivarloose'))])\n",
      "OrderedDict([('L1Seed', 'L1_EM22VHI'),\n",
      "             ('L2Calo', (23000.0, 'trig_L2_cl_lhtight_et22toInf')),\n",
      "             ('L2', 'trig_L2_el_cut_pt20to50'),\n",
      "             ('EFCalo', 26000.0),\n",
      "             ('HLT', (26000.0, 'trig_EF_el_lhtight_ivarloose'))])\n",
      "OrderedDict([('L1Seed', 'L1_EM22VHI'),\n",
      "             ('L2Calo', (23000.0, 'ringer_v8_tight')),\n",
      "             ('L2', 'trig_L2_el_cut_pt20to50'),\n",
      "             ('EFCalo', 26000.0),\n",
      "             ('HLT', (26000.0, 'trig_EF_el_lhtight_ivarloose'))])\n",
      "OrderedDict([('L1Seed', 'L1_EM24VHI'),\n",
      "             ('L2Calo', (57000.0, 'trig_L2_cl_lhmedium_et22toInf')),\n",
      "             ('L2', 'trig_L2_el_cut_pt50toInf'),\n",
      "             ('EFCalo', 60000.0),\n",
      "             ('HLT', (60000.0, 'trig_EF_el_lhmedium'))])\n",
      "OrderedDict([('L1Seed', 'L1_EM24VHI'),\n",
      "             ('L2Calo', (57000.0, 'ringer_v8_medium')),\n",
      "             ('L2', 'trig_L2_el_cut_pt50toInf'),\n",
      "             ('EFCalo', 60000.0),\n",
      "             ('HLT', (60000.0, 'trig_EF_el_lhmedium'))])\n",
      "OrderedDict([('L1Seed', 'L1_EM24VHI'),\n",
      "             ('L2Calo', (137000.0, 'trig_L2_cl_lhloose_et22toInf')),\n",
      "             ('L2', 'trig_L2_el_cut_pt50toInf'),\n",
      "             ('EFCalo', 140000.0),\n",
      "             ('HLT', (140000.0, 'trig_EF_el_lhloose'))])\n",
      "OrderedDict([('L1Seed', 'L1_EM24VHI'),\n",
      "             ('L2Calo', (137000.0, 'ringer_v8_loose')),\n",
      "             ('L2', 'trig_L2_el_cut_pt50toInf'),\n",
      "             ('EFCalo', 140000.0),\n",
      "             ('HLT', (140000.0, 'trig_EF_el_lhloose'))])\n"
     ]
    }
   ],
   "source": [
    "simulation_logger.info('Building chains')\n",
    "chains = list()\n",
    "step_chain_names = list()\n",
    "for chain_name, strategy in product(chain_names, trigger_strategies):\n",
    "    spliited_chain_name = chain_name.split('_')\n",
    "    criterion = spliited_chain_name[1].replace('lh', '')\n",
    "    step_chain_name = f'HLT_{chain_name.format(strategy=strategy)}'\n",
    "    step_chain_names.append(step_chain_name)\n",
    "    strategy_cols[strategy].append(step_chain_name)\n",
    "    for trigger_step in trigger_steps:\n",
    "        if trigger_step != 'HLT':\n",
    "            lower_chain = step_chain_name.replace('HLT', trigger_step)\n",
    "            step_chain_names.append(lower_chain)\n",
    "            strategy_cols[strategy].append(lower_chain)\n",
    "    energy = int(spliited_chain_name[0][1:])\n",
    "    l1seed = l1seeds_per_energy[energy]\n",
    "    l2calo_column = f'{strategy}_{criterion}'\n",
    "    simulation_logger.info(f'Building chain: {step_chain_name} model: {l2calo_column}')\n",
    "    if strategy == 'noringer':\n",
    "        chain = Chain(step_chain_name, L1Seed=l1seed)\n",
    "    else:\n",
    "        chain = Chain(step_chain_name, L1Seed=l1seed, l2calo_column=l2calo_column)\n",
    "    chains.append(chain)"
   ]
  },
  {
   "cell_type": "markdown",
   "id": "cb701ff2",
   "metadata": {},
   "source": [
    "## Simulating"
   ]
  },
  {
   "cell_type": "code",
   "execution_count": 6,
   "id": "ae672e06-b092-4be6-a5b5-f8ec9659b43f",
   "metadata": {
    "collapsed": true,
    "jupyter": {
     "outputs_hidden": true
    },
    "tags": []
   },
   "outputs": [
    {
     "name": "stderr",
     "output_type": "stream",
     "text": [
      "2022-08-30 11:09:24,814 - Simulating\n",
      "2022-08-30 11:09:24,817 - glob_path: /home/lbarranunes/data/mc16_13TeV.302236_309995_341330.sgn.boosted_probes.WZ_llqq_plus_radion_ZZ_llqq_plus_ggH3000.merge.25bins.v2/*.npz\n",
      "Reading files...:   4%|▍         | 1/25 [00:00<00:13,  1.73it/s]"
     ]
    },
    {
     "name": "stdout",
     "output_type": "stream",
     "text": [
      "L1_EM22VHI trig_L2_cl_lhtight_et22toInf trig_L2_el_cut_pt20to50 trig_EF_el_lhtight_ivarloose\n",
      "L1_EM22VHI ringer_v8_tight trig_L2_el_cut_pt20to50 trig_EF_el_lhtight_ivarloose\n",
      "L1_EM22VHI trig_L2_cl_lhtight_et22toInf trig_L2_el_cut_pt20to50 trig_EF_el_lhtight_ivarloose\n",
      "L1_EM22VHI ringer_v8_tight trig_L2_el_cut_pt20to50 trig_EF_el_lhtight_ivarloose\n",
      "L1_EM24VHI trig_L2_cl_lhmedium_et22toInf trig_L2_el_cut_pt50toInf trig_EF_el_lhmedium\n",
      "L1_EM24VHI ringer_v8_medium trig_L2_el_cut_pt50toInf trig_EF_el_lhmedium\n",
      "L1_EM24VHI trig_L2_cl_lhloose_et22toInf trig_L2_el_cut_pt50toInf trig_EF_el_lhloose\n",
      "L1_EM24VHI ringer_v8_loose trig_L2_el_cut_pt50toInf trig_EF_el_lhloose\n",
      "WARNING:tensorflow:5 out of the last 5 calls to <function Model.make_predict_function.<locals>.predict_function at 0x7f18140112f0> triggered tf.function retracing. Tracing is expensive and the excessive number of tracings could be due to (1) creating @tf.function repeatedly in a loop, (2) passing tensors with different shapes, (3) passing Python objects instead of tensors. For (1), please define your @tf.function outside of the loop. For (2), @tf.function has experimental_relax_shapes=True option that relaxes argument shapes that can avoid unnecessary retracing. For (3), please refer to https://www.tensorflow.org/tutorials/customization/performance#python_or_tensor_args and https://www.tensorflow.org/api_docs/python/tf/function for  more details.\n",
      "WARNING:tensorflow:6 out of the last 6 calls to <function Model.make_predict_function.<locals>.predict_function at 0x7f1814142510> triggered tf.function retracing. Tracing is expensive and the excessive number of tracings could be due to (1) creating @tf.function repeatedly in a loop, (2) passing tensors with different shapes, (3) passing Python objects instead of tensors. For (1), please define your @tf.function outside of the loop. For (2), @tf.function has experimental_relax_shapes=True option that relaxes argument shapes that can avoid unnecessary retracing. For (3), please refer to https://www.tensorflow.org/tutorials/customization/performance#python_or_tensor_args and https://www.tensorflow.org/api_docs/python/tf/function for  more details.\n",
      "WARNING:tensorflow:7 out of the last 7 calls to <function Model.make_predict_function.<locals>.predict_function at 0x7f181400e7b8> triggered tf.function retracing. Tracing is expensive and the excessive number of tracings could be due to (1) creating @tf.function repeatedly in a loop, (2) passing tensors with different shapes, (3) passing Python objects instead of tensors. For (1), please define your @tf.function outside of the loop. For (2), @tf.function has experimental_relax_shapes=True option that relaxes argument shapes that can avoid unnecessary retracing. For (3), please refer to https://www.tensorflow.org/tutorials/customization/performance#python_or_tensor_args and https://www.tensorflow.org/api_docs/python/tf/function for  more details.\n",
      "WARNING:tensorflow:8 out of the last 8 calls to <function Model.make_predict_function.<locals>.predict_function at 0x7f17f436dea0> triggered tf.function retracing. Tracing is expensive and the excessive number of tracings could be due to (1) creating @tf.function repeatedly in a loop, (2) passing tensors with different shapes, (3) passing Python objects instead of tensors. For (1), please define your @tf.function outside of the loop. For (2), @tf.function has experimental_relax_shapes=True option that relaxes argument shapes that can avoid unnecessary retracing. For (3), please refer to https://www.tensorflow.org/tutorials/customization/performance#python_or_tensor_args and https://www.tensorflow.org/api_docs/python/tf/function for  more details.\n",
      "L1_EM22VHI trig_L2_cl_lhtight_et22toInf trig_L2_el_cut_pt20to50 trig_EF_el_lhtight_ivarloose\n",
      "L1_EM22VHI ringer_v8_tight trig_L2_el_cut_pt20to50 trig_EF_el_lhtight_ivarloose\n",
      "L1_EM22VHI trig_L2_cl_lhtight_et22toInf trig_L2_el_cut_pt20to50 trig_EF_el_lhtight_ivarloose\n",
      "L1_EM22VHI ringer_v8_tight trig_L2_el_cut_pt20to50 trig_EF_el_lhtight_ivarloose\n",
      "L1_EM24VHI trig_L2_cl_lhmedium_et22toInf trig_L2_el_cut_pt50toInf trig_EF_el_lhmedium\n",
      "L1_EM24VHI ringer_v8_medium trig_L2_el_cut_pt50toInf trig_EF_el_lhmedium\n",
      "L1_EM24VHI trig_L2_cl_lhloose_et22toInf trig_L2_el_cut_pt50toInf trig_EF_el_lhloose\n"
     ]
    },
    {
     "name": "stderr",
     "output_type": "stream",
     "text": [
      "Reading files...:   8%|▊         | 2/25 [00:00<00:11,  2.06it/s]"
     ]
    },
    {
     "name": "stdout",
     "output_type": "stream",
     "text": [
      "L1_EM24VHI ringer_v8_loose trig_L2_el_cut_pt50toInf trig_EF_el_lhloose\n",
      "WARNING:tensorflow:9 out of the last 9 calls to <function Model.make_predict_function.<locals>.predict_function at 0x7f17f43c6a60> triggered tf.function retracing. Tracing is expensive and the excessive number of tracings could be due to (1) creating @tf.function repeatedly in a loop, (2) passing tensors with different shapes, (3) passing Python objects instead of tensors. For (1), please define your @tf.function outside of the loop. For (2), @tf.function has experimental_relax_shapes=True option that relaxes argument shapes that can avoid unnecessary retracing. For (3), please refer to https://www.tensorflow.org/tutorials/customization/performance#python_or_tensor_args and https://www.tensorflow.org/api_docs/python/tf/function for  more details.\n",
      "WARNING:tensorflow:10 out of the last 10 calls to <function Model.make_predict_function.<locals>.predict_function at 0x7f17f436df28> triggered tf.function retracing. Tracing is expensive and the excessive number of tracings could be due to (1) creating @tf.function repeatedly in a loop, (2) passing tensors with different shapes, (3) passing Python objects instead of tensors. For (1), please define your @tf.function outside of the loop. For (2), @tf.function has experimental_relax_shapes=True option that relaxes argument shapes that can avoid unnecessary retracing. For (3), please refer to https://www.tensorflow.org/tutorials/customization/performance#python_or_tensor_args and https://www.tensorflow.org/api_docs/python/tf/function for  more details.\n",
      "WARNING:tensorflow:11 out of the last 11 calls to <function Model.make_predict_function.<locals>.predict_function at 0x7f17f4333950> triggered tf.function retracing. Tracing is expensive and the excessive number of tracings could be due to (1) creating @tf.function repeatedly in a loop, (2) passing tensors with different shapes, (3) passing Python objects instead of tensors. For (1), please define your @tf.function outside of the loop. For (2), @tf.function has experimental_relax_shapes=True option that relaxes argument shapes that can avoid unnecessary retracing. For (3), please refer to https://www.tensorflow.org/tutorials/customization/performance#python_or_tensor_args and https://www.tensorflow.org/api_docs/python/tf/function for  more details.\n",
      "WARNING:tensorflow:11 out of the last 11 calls to <function Model.make_predict_function.<locals>.predict_function at 0x7f17f43590d0> triggered tf.function retracing. Tracing is expensive and the excessive number of tracings could be due to (1) creating @tf.function repeatedly in a loop, (2) passing tensors with different shapes, (3) passing Python objects instead of tensors. For (1), please define your @tf.function outside of the loop. For (2), @tf.function has experimental_relax_shapes=True option that relaxes argument shapes that can avoid unnecessary retracing. For (3), please refer to https://www.tensorflow.org/tutorials/customization/performance#python_or_tensor_args and https://www.tensorflow.org/api_docs/python/tf/function for  more details.\n",
      "L1_EM22VHI trig_L2_cl_lhtight_et22toInf trig_L2_el_cut_pt20to50 trig_EF_el_lhtight_ivarloose\n",
      "L1_EM22VHI ringer_v8_tight trig_L2_el_cut_pt20to50 trig_EF_el_lhtight_ivarloose\n",
      "L1_EM22VHI trig_L2_cl_lhtight_et22toInf trig_L2_el_cut_pt20to50 trig_EF_el_lhtight_ivarloose\n",
      "L1_EM22VHI ringer_v8_tight trig_L2_el_cut_pt20to50 trig_EF_el_lhtight_ivarloose\n"
     ]
    },
    {
     "name": "stderr",
     "output_type": "stream",
     "text": [
      "Reading files...:  12%|█▏        | 3/25 [00:01<00:10,  2.11it/s]"
     ]
    },
    {
     "name": "stdout",
     "output_type": "stream",
     "text": [
      "L1_EM24VHI trig_L2_cl_lhmedium_et22toInf trig_L2_el_cut_pt50toInf trig_EF_el_lhmedium\n",
      "L1_EM24VHI ringer_v8_medium trig_L2_el_cut_pt50toInf trig_EF_el_lhmedium\n",
      "L1_EM24VHI trig_L2_cl_lhloose_et22toInf trig_L2_el_cut_pt50toInf trig_EF_el_lhloose\n",
      "L1_EM24VHI ringer_v8_loose trig_L2_el_cut_pt50toInf trig_EF_el_lhloose\n",
      "WARNING:tensorflow:11 out of the last 11 calls to <function Model.make_predict_function.<locals>.predict_function at 0x7f1814038950> triggered tf.function retracing. Tracing is expensive and the excessive number of tracings could be due to (1) creating @tf.function repeatedly in a loop, (2) passing tensors with different shapes, (3) passing Python objects instead of tensors. For (1), please define your @tf.function outside of the loop. For (2), @tf.function has experimental_relax_shapes=True option that relaxes argument shapes that can avoid unnecessary retracing. For (3), please refer to https://www.tensorflow.org/tutorials/customization/performance#python_or_tensor_args and https://www.tensorflow.org/api_docs/python/tf/function for  more details.\n",
      "WARNING:tensorflow:11 out of the last 11 calls to <function Model.make_predict_function.<locals>.predict_function at 0x7f17f43338c8> triggered tf.function retracing. Tracing is expensive and the excessive number of tracings could be due to (1) creating @tf.function repeatedly in a loop, (2) passing tensors with different shapes, (3) passing Python objects instead of tensors. For (1), please define your @tf.function outside of the loop. For (2), @tf.function has experimental_relax_shapes=True option that relaxes argument shapes that can avoid unnecessary retracing. For (3), please refer to https://www.tensorflow.org/tutorials/customization/performance#python_or_tensor_args and https://www.tensorflow.org/api_docs/python/tf/function for  more details.\n",
      "WARNING:tensorflow:11 out of the last 11 calls to <function Model.make_predict_function.<locals>.predict_function at 0x7f17f4306ae8> triggered tf.function retracing. Tracing is expensive and the excessive number of tracings could be due to (1) creating @tf.function repeatedly in a loop, (2) passing tensors with different shapes, (3) passing Python objects instead of tensors. For (1), please define your @tf.function outside of the loop. For (2), @tf.function has experimental_relax_shapes=True option that relaxes argument shapes that can avoid unnecessary retracing. For (3), please refer to https://www.tensorflow.org/tutorials/customization/performance#python_or_tensor_args and https://www.tensorflow.org/api_docs/python/tf/function for  more details.\n",
      "WARNING:tensorflow:11 out of the last 11 calls to <function Model.make_predict_function.<locals>.predict_function at 0x7f17f42ab268> triggered tf.function retracing. Tracing is expensive and the excessive number of tracings could be due to (1) creating @tf.function repeatedly in a loop, (2) passing tensors with different shapes, (3) passing Python objects instead of tensors. For (1), please define your @tf.function outside of the loop. For (2), @tf.function has experimental_relax_shapes=True option that relaxes argument shapes that can avoid unnecessary retracing. For (3), please refer to https://www.tensorflow.org/tutorials/customization/performance#python_or_tensor_args and https://www.tensorflow.org/api_docs/python/tf/function for  more details.\n",
      "L1_EM22VHI trig_L2_cl_lhtight_et22toInf trig_L2_el_cut_pt20to50 trig_EF_el_lhtight_ivarloose\n",
      "L1_EM22VHI ringer_v8_tight trig_L2_el_cut_pt20to50 trig_EF_el_lhtight_ivarloose\n",
      "L1_EM22VHI trig_L2_cl_lhtight_et22toInf trig_L2_el_cut_pt20to50 trig_EF_el_lhtight_ivarloose\n",
      "L1_EM22VHI ringer_v8_tight trig_L2_el_cut_pt20to50 trig_EF_el_lhtight_ivarloose\n",
      "L1_EM24VHI trig_L2_cl_lhmedium_et22toInf trig_L2_el_cut_pt50toInf trig_EF_el_lhmedium\n",
      "L1_EM24VHI ringer_v8_medium trig_L2_el_cut_pt50toInf trig_EF_el_lhmedium\n"
     ]
    },
    {
     "name": "stderr",
     "output_type": "stream",
     "text": [
      "Reading files...:  16%|█▌        | 4/25 [00:01<00:09,  2.16it/s]"
     ]
    },
    {
     "name": "stdout",
     "output_type": "stream",
     "text": [
      "L1_EM24VHI trig_L2_cl_lhloose_et22toInf trig_L2_el_cut_pt50toInf trig_EF_el_lhloose\n",
      "L1_EM24VHI ringer_v8_loose trig_L2_el_cut_pt50toInf trig_EF_el_lhloose\n",
      "WARNING:tensorflow:11 out of the last 11 calls to <function Model.make_predict_function.<locals>.predict_function at 0x7f17f4306bf8> triggered tf.function retracing. Tracing is expensive and the excessive number of tracings could be due to (1) creating @tf.function repeatedly in a loop, (2) passing tensors with different shapes, (3) passing Python objects instead of tensors. For (1), please define your @tf.function outside of the loop. For (2), @tf.function has experimental_relax_shapes=True option that relaxes argument shapes that can avoid unnecessary retracing. For (3), please refer to https://www.tensorflow.org/tutorials/customization/performance#python_or_tensor_args and https://www.tensorflow.org/api_docs/python/tf/function for  more details.\n",
      "WARNING:tensorflow:11 out of the last 11 calls to <function Model.make_predict_function.<locals>.predict_function at 0x7f17f433c730> triggered tf.function retracing. Tracing is expensive and the excessive number of tracings could be due to (1) creating @tf.function repeatedly in a loop, (2) passing tensors with different shapes, (3) passing Python objects instead of tensors. For (1), please define your @tf.function outside of the loop. For (2), @tf.function has experimental_relax_shapes=True option that relaxes argument shapes that can avoid unnecessary retracing. For (3), please refer to https://www.tensorflow.org/tutorials/customization/performance#python_or_tensor_args and https://www.tensorflow.org/api_docs/python/tf/function for  more details.\n",
      "WARNING:tensorflow:11 out of the last 11 calls to <function Model.make_predict_function.<locals>.predict_function at 0x7f17f42d4c80> triggered tf.function retracing. Tracing is expensive and the excessive number of tracings could be due to (1) creating @tf.function repeatedly in a loop, (2) passing tensors with different shapes, (3) passing Python objects instead of tensors. For (1), please define your @tf.function outside of the loop. For (2), @tf.function has experimental_relax_shapes=True option that relaxes argument shapes that can avoid unnecessary retracing. For (3), please refer to https://www.tensorflow.org/tutorials/customization/performance#python_or_tensor_args and https://www.tensorflow.org/api_docs/python/tf/function for  more details.\n",
      "WARNING:tensorflow:11 out of the last 11 calls to <function Model.make_predict_function.<locals>.predict_function at 0x7f17f427a510> triggered tf.function retracing. Tracing is expensive and the excessive number of tracings could be due to (1) creating @tf.function repeatedly in a loop, (2) passing tensors with different shapes, (3) passing Python objects instead of tensors. For (1), please define your @tf.function outside of the loop. For (2), @tf.function has experimental_relax_shapes=True option that relaxes argument shapes that can avoid unnecessary retracing. For (3), please refer to https://www.tensorflow.org/tutorials/customization/performance#python_or_tensor_args and https://www.tensorflow.org/api_docs/python/tf/function for  more details.\n",
      "L1_EM22VHI trig_L2_cl_lhtight_et22toInf trig_L2_el_cut_pt20to50 trig_EF_el_lhtight_ivarloose\n",
      "L1_EM22VHI ringer_v8_tight trig_L2_el_cut_pt20to50 trig_EF_el_lhtight_ivarloose\n",
      "L1_EM22VHI trig_L2_cl_lhtight_et22toInf trig_L2_el_cut_pt20to50 trig_EF_el_lhtight_ivarloose\n",
      "L1_EM22VHI ringer_v8_tight trig_L2_el_cut_pt20to50 trig_EF_el_lhtight_ivarloose\n",
      "L1_EM24VHI trig_L2_cl_lhmedium_et22toInf trig_L2_el_cut_pt50toInf trig_EF_el_lhmedium\n",
      "L1_EM24VHI ringer_v8_medium trig_L2_el_cut_pt50toInf trig_EF_el_lhmedium\n"
     ]
    },
    {
     "name": "stderr",
     "output_type": "stream",
     "text": [
      "Reading files...:  20%|██        | 5/25 [00:02<00:09,  2.18it/s]"
     ]
    },
    {
     "name": "stdout",
     "output_type": "stream",
     "text": [
      "L1_EM24VHI trig_L2_cl_lhloose_et22toInf trig_L2_el_cut_pt50toInf trig_EF_el_lhloose\n",
      "L1_EM24VHI ringer_v8_loose trig_L2_el_cut_pt50toInf trig_EF_el_lhloose\n",
      "WARNING:tensorflow:11 out of the last 11 calls to <function Model.make_predict_function.<locals>.predict_function at 0x7f17f42d4840> triggered tf.function retracing. Tracing is expensive and the excessive number of tracings could be due to (1) creating @tf.function repeatedly in a loop, (2) passing tensors with different shapes, (3) passing Python objects instead of tensors. For (1), please define your @tf.function outside of the loop. For (2), @tf.function has experimental_relax_shapes=True option that relaxes argument shapes that can avoid unnecessary retracing. For (3), please refer to https://www.tensorflow.org/tutorials/customization/performance#python_or_tensor_args and https://www.tensorflow.org/api_docs/python/tf/function for  more details.\n",
      "WARNING:tensorflow:11 out of the last 11 calls to <function Model.make_predict_function.<locals>.predict_function at 0x7f17f427a598> triggered tf.function retracing. Tracing is expensive and the excessive number of tracings could be due to (1) creating @tf.function repeatedly in a loop, (2) passing tensors with different shapes, (3) passing Python objects instead of tensors. For (1), please define your @tf.function outside of the loop. For (2), @tf.function has experimental_relax_shapes=True option that relaxes argument shapes that can avoid unnecessary retracing. For (3), please refer to https://www.tensorflow.org/tutorials/customization/performance#python_or_tensor_args and https://www.tensorflow.org/api_docs/python/tf/function for  more details.\n",
      "WARNING:tensorflow:11 out of the last 11 calls to <function Model.make_predict_function.<locals>.predict_function at 0x7f17f422ae18> triggered tf.function retracing. Tracing is expensive and the excessive number of tracings could be due to (1) creating @tf.function repeatedly in a loop, (2) passing tensors with different shapes, (3) passing Python objects instead of tensors. For (1), please define your @tf.function outside of the loop. For (2), @tf.function has experimental_relax_shapes=True option that relaxes argument shapes that can avoid unnecessary retracing. For (3), please refer to https://www.tensorflow.org/tutorials/customization/performance#python_or_tensor_args and https://www.tensorflow.org/api_docs/python/tf/function for  more details.\n",
      "WARNING:tensorflow:11 out of the last 11 calls to <function Model.make_predict_function.<locals>.predict_function at 0x7f17f424b6a8> triggered tf.function retracing. Tracing is expensive and the excessive number of tracings could be due to (1) creating @tf.function repeatedly in a loop, (2) passing tensors with different shapes, (3) passing Python objects instead of tensors. For (1), please define your @tf.function outside of the loop. For (2), @tf.function has experimental_relax_shapes=True option that relaxes argument shapes that can avoid unnecessary retracing. For (3), please refer to https://www.tensorflow.org/tutorials/customization/performance#python_or_tensor_args and https://www.tensorflow.org/api_docs/python/tf/function for  more details.\n",
      "L1_EM22VHI trig_L2_cl_lhtight_et22toInf trig_L2_el_cut_pt20to50 trig_EF_el_lhtight_ivarloose\n",
      "L1_EM22VHI ringer_v8_tight trig_L2_el_cut_pt20to50 trig_EF_el_lhtight_ivarloose\n",
      "L1_EM22VHI trig_L2_cl_lhtight_et22toInf trig_L2_el_cut_pt20to50 trig_EF_el_lhtight_ivarloose\n",
      "L1_EM22VHI ringer_v8_tight trig_L2_el_cut_pt20to50 trig_EF_el_lhtight_ivarloose\n",
      "L1_EM24VHI trig_L2_cl_lhmedium_et22toInf trig_L2_el_cut_pt50toInf trig_EF_el_lhmedium\n",
      "L1_EM24VHI ringer_v8_medium trig_L2_el_cut_pt50toInf trig_EF_el_lhmedium\n"
     ]
    },
    {
     "name": "stderr",
     "output_type": "stream",
     "text": [
      "Reading files...:  24%|██▍       | 6/25 [00:02<00:08,  2.22it/s]"
     ]
    },
    {
     "name": "stdout",
     "output_type": "stream",
     "text": [
      "L1_EM24VHI trig_L2_cl_lhloose_et22toInf trig_L2_el_cut_pt50toInf trig_EF_el_lhloose\n",
      "L1_EM24VHI ringer_v8_loose trig_L2_el_cut_pt50toInf trig_EF_el_lhloose\n",
      "WARNING:tensorflow:11 out of the last 11 calls to <function Model.make_predict_function.<locals>.predict_function at 0x7f17f422a620> triggered tf.function retracing. Tracing is expensive and the excessive number of tracings could be due to (1) creating @tf.function repeatedly in a loop, (2) passing tensors with different shapes, (3) passing Python objects instead of tensors. For (1), please define your @tf.function outside of the loop. For (2), @tf.function has experimental_relax_shapes=True option that relaxes argument shapes that can avoid unnecessary retracing. For (3), please refer to https://www.tensorflow.org/tutorials/customization/performance#python_or_tensor_args and https://www.tensorflow.org/api_docs/python/tf/function for  more details.\n",
      "WARNING:tensorflow:11 out of the last 11 calls to <function Model.make_predict_function.<locals>.predict_function at 0x7f17f424b7b8> triggered tf.function retracing. Tracing is expensive and the excessive number of tracings could be due to (1) creating @tf.function repeatedly in a loop, (2) passing tensors with different shapes, (3) passing Python objects instead of tensors. For (1), please define your @tf.function outside of the loop. For (2), @tf.function has experimental_relax_shapes=True option that relaxes argument shapes that can avoid unnecessary retracing. For (3), please refer to https://www.tensorflow.org/tutorials/customization/performance#python_or_tensor_args and https://www.tensorflow.org/api_docs/python/tf/function for  more details.\n",
      "WARNING:tensorflow:11 out of the last 11 calls to <function Model.make_predict_function.<locals>.predict_function at 0x7f17f41f0ea0> triggered tf.function retracing. Tracing is expensive and the excessive number of tracings could be due to (1) creating @tf.function repeatedly in a loop, (2) passing tensors with different shapes, (3) passing Python objects instead of tensors. For (1), please define your @tf.function outside of the loop. For (2), @tf.function has experimental_relax_shapes=True option that relaxes argument shapes that can avoid unnecessary retracing. For (3), please refer to https://www.tensorflow.org/tutorials/customization/performance#python_or_tensor_args and https://www.tensorflow.org/api_docs/python/tf/function for  more details.\n",
      "WARNING:tensorflow:11 out of the last 11 calls to <function Model.make_predict_function.<locals>.predict_function at 0x7f17f421e840> triggered tf.function retracing. Tracing is expensive and the excessive number of tracings could be due to (1) creating @tf.function repeatedly in a loop, (2) passing tensors with different shapes, (3) passing Python objects instead of tensors. For (1), please define your @tf.function outside of the loop. For (2), @tf.function has experimental_relax_shapes=True option that relaxes argument shapes that can avoid unnecessary retracing. For (3), please refer to https://www.tensorflow.org/tutorials/customization/performance#python_or_tensor_args and https://www.tensorflow.org/api_docs/python/tf/function for  more details.\n",
      "L1_EM22VHI trig_L2_cl_lhtight_et22toInf trig_L2_el_cut_pt20to50 trig_EF_el_lhtight_ivarloose\n",
      "L1_EM22VHI ringer_v8_tight trig_L2_el_cut_pt20to50 trig_EF_el_lhtight_ivarloose\n",
      "L1_EM22VHI trig_L2_cl_lhtight_et22toInf trig_L2_el_cut_pt20to50 trig_EF_el_lhtight_ivarloose\n",
      "L1_EM22VHI ringer_v8_tight trig_L2_el_cut_pt20to50 trig_EF_el_lhtight_ivarloose\n",
      "L1_EM24VHI trig_L2_cl_lhmedium_et22toInf trig_L2_el_cut_pt50toInf trig_EF_el_lhmedium\n"
     ]
    },
    {
     "name": "stderr",
     "output_type": "stream",
     "text": [
      "Reading files...:  28%|██▊       | 7/25 [00:03<00:08,  2.22it/s]"
     ]
    },
    {
     "name": "stdout",
     "output_type": "stream",
     "text": [
      "L1_EM24VHI ringer_v8_medium trig_L2_el_cut_pt50toInf trig_EF_el_lhmedium\n",
      "L1_EM24VHI trig_L2_cl_lhloose_et22toInf trig_L2_el_cut_pt50toInf trig_EF_el_lhloose\n",
      "L1_EM24VHI ringer_v8_loose trig_L2_el_cut_pt50toInf trig_EF_el_lhloose\n",
      "WARNING:tensorflow:11 out of the last 11 calls to <function Model.make_predict_function.<locals>.predict_function at 0x7f17f42d4950> triggered tf.function retracing. Tracing is expensive and the excessive number of tracings could be due to (1) creating @tf.function repeatedly in a loop, (2) passing tensors with different shapes, (3) passing Python objects instead of tensors. For (1), please define your @tf.function outside of the loop. For (2), @tf.function has experimental_relax_shapes=True option that relaxes argument shapes that can avoid unnecessary retracing. For (3), please refer to https://www.tensorflow.org/tutorials/customization/performance#python_or_tensor_args and https://www.tensorflow.org/api_docs/python/tf/function for  more details.\n",
      "WARNING:tensorflow:11 out of the last 11 calls to <function Model.make_predict_function.<locals>.predict_function at 0x7f17f421e488> triggered tf.function retracing. Tracing is expensive and the excessive number of tracings could be due to (1) creating @tf.function repeatedly in a loop, (2) passing tensors with different shapes, (3) passing Python objects instead of tensors. For (1), please define your @tf.function outside of the loop. For (2), @tf.function has experimental_relax_shapes=True option that relaxes argument shapes that can avoid unnecessary retracing. For (3), please refer to https://www.tensorflow.org/tutorials/customization/performance#python_or_tensor_args and https://www.tensorflow.org/api_docs/python/tf/function for  more details.\n",
      "WARNING:tensorflow:11 out of the last 11 calls to <function Model.make_predict_function.<locals>.predict_function at 0x7f17f424d0d0> triggered tf.function retracing. Tracing is expensive and the excessive number of tracings could be due to (1) creating @tf.function repeatedly in a loop, (2) passing tensors with different shapes, (3) passing Python objects instead of tensors. For (1), please define your @tf.function outside of the loop. For (2), @tf.function has experimental_relax_shapes=True option that relaxes argument shapes that can avoid unnecessary retracing. For (3), please refer to https://www.tensorflow.org/tutorials/customization/performance#python_or_tensor_args and https://www.tensorflow.org/api_docs/python/tf/function for  more details.\n",
      "WARNING:tensorflow:11 out of the last 11 calls to <function Model.make_predict_function.<locals>.predict_function at 0x7f17f41729d8> triggered tf.function retracing. Tracing is expensive and the excessive number of tracings could be due to (1) creating @tf.function repeatedly in a loop, (2) passing tensors with different shapes, (3) passing Python objects instead of tensors. For (1), please define your @tf.function outside of the loop. For (2), @tf.function has experimental_relax_shapes=True option that relaxes argument shapes that can avoid unnecessary retracing. For (3), please refer to https://www.tensorflow.org/tutorials/customization/performance#python_or_tensor_args and https://www.tensorflow.org/api_docs/python/tf/function for  more details.\n",
      "L1_EM22VHI trig_L2_cl_lhtight_et22toInf trig_L2_el_cut_pt20to50 trig_EF_el_lhtight_ivarloose\n",
      "L1_EM22VHI ringer_v8_tight trig_L2_el_cut_pt20to50 trig_EF_el_lhtight_ivarloose\n",
      "L1_EM22VHI trig_L2_cl_lhtight_et22toInf trig_L2_el_cut_pt20to50 trig_EF_el_lhtight_ivarloose\n",
      "L1_EM22VHI ringer_v8_tight trig_L2_el_cut_pt20to50 trig_EF_el_lhtight_ivarloose\n",
      "L1_EM24VHI trig_L2_cl_lhmedium_et22toInf trig_L2_el_cut_pt50toInf trig_EF_el_lhmedium\n",
      "L1_EM24VHI ringer_v8_medium trig_L2_el_cut_pt50toInf trig_EF_el_lhmedium\n",
      "L1_EM24VHI trig_L2_cl_lhloose_et22toInf trig_L2_el_cut_pt50toInf trig_EF_el_lhloose\n"
     ]
    },
    {
     "name": "stderr",
     "output_type": "stream",
     "text": [
      "Reading files...:  32%|███▏      | 8/25 [00:03<00:07,  2.26it/s]"
     ]
    },
    {
     "name": "stdout",
     "output_type": "stream",
     "text": [
      "L1_EM24VHI ringer_v8_loose trig_L2_el_cut_pt50toInf trig_EF_el_lhloose\n",
      "WARNING:tensorflow:11 out of the last 11 calls to <function Model.make_predict_function.<locals>.predict_function at 0x7f17f41c5c80> triggered tf.function retracing. Tracing is expensive and the excessive number of tracings could be due to (1) creating @tf.function repeatedly in a loop, (2) passing tensors with different shapes, (3) passing Python objects instead of tensors. For (1), please define your @tf.function outside of the loop. For (2), @tf.function has experimental_relax_shapes=True option that relaxes argument shapes that can avoid unnecessary retracing. For (3), please refer to https://www.tensorflow.org/tutorials/customization/performance#python_or_tensor_args and https://www.tensorflow.org/api_docs/python/tf/function for  more details.\n",
      "WARNING:tensorflow:11 out of the last 11 calls to <function Model.make_predict_function.<locals>.predict_function at 0x7f17f424aea0> triggered tf.function retracing. Tracing is expensive and the excessive number of tracings could be due to (1) creating @tf.function repeatedly in a loop, (2) passing tensors with different shapes, (3) passing Python objects instead of tensors. For (1), please define your @tf.function outside of the loop. For (2), @tf.function has experimental_relax_shapes=True option that relaxes argument shapes that can avoid unnecessary retracing. For (3), please refer to https://www.tensorflow.org/tutorials/customization/performance#python_or_tensor_args and https://www.tensorflow.org/api_docs/python/tf/function for  more details.\n",
      "WARNING:tensorflow:11 out of the last 11 calls to <function Model.make_predict_function.<locals>.predict_function at 0x7f17f417a268> triggered tf.function retracing. Tracing is expensive and the excessive number of tracings could be due to (1) creating @tf.function repeatedly in a loop, (2) passing tensors with different shapes, (3) passing Python objects instead of tensors. For (1), please define your @tf.function outside of the loop. For (2), @tf.function has experimental_relax_shapes=True option that relaxes argument shapes that can avoid unnecessary retracing. For (3), please refer to https://www.tensorflow.org/tutorials/customization/performance#python_or_tensor_args and https://www.tensorflow.org/api_docs/python/tf/function for  more details.\n",
      "WARNING:tensorflow:11 out of the last 11 calls to <function Model.make_predict_function.<locals>.predict_function at 0x7f17f4149b70> triggered tf.function retracing. Tracing is expensive and the excessive number of tracings could be due to (1) creating @tf.function repeatedly in a loop, (2) passing tensors with different shapes, (3) passing Python objects instead of tensors. For (1), please define your @tf.function outside of the loop. For (2), @tf.function has experimental_relax_shapes=True option that relaxes argument shapes that can avoid unnecessary retracing. For (3), please refer to https://www.tensorflow.org/tutorials/customization/performance#python_or_tensor_args and https://www.tensorflow.org/api_docs/python/tf/function for  more details.\n",
      "L1_EM22VHI trig_L2_cl_lhtight_et22toInf trig_L2_el_cut_pt20to50 trig_EF_el_lhtight_ivarloose\n",
      "L1_EM22VHI ringer_v8_tight trig_L2_el_cut_pt20to50 trig_EF_el_lhtight_ivarloose\n",
      "L1_EM22VHI trig_L2_cl_lhtight_et22toInf trig_L2_el_cut_pt20to50 trig_EF_el_lhtight_ivarloose\n",
      "L1_EM22VHI ringer_v8_tight trig_L2_el_cut_pt20to50 trig_EF_el_lhtight_ivarloose\n",
      "L1_EM24VHI trig_L2_cl_lhmedium_et22toInf trig_L2_el_cut_pt50toInf trig_EF_el_lhmedium\n",
      "L1_EM24VHI ringer_v8_medium trig_L2_el_cut_pt50toInf trig_EF_el_lhmedium\n"
     ]
    },
    {
     "name": "stderr",
     "output_type": "stream",
     "text": [
      "Reading files...:  36%|███▌      | 9/25 [00:04<00:07,  2.26it/s]"
     ]
    },
    {
     "name": "stdout",
     "output_type": "stream",
     "text": [
      "L1_EM24VHI trig_L2_cl_lhloose_et22toInf trig_L2_el_cut_pt50toInf trig_EF_el_lhloose\n",
      "L1_EM24VHI ringer_v8_loose trig_L2_el_cut_pt50toInf trig_EF_el_lhloose\n",
      "WARNING:tensorflow:11 out of the last 11 calls to <function Model.make_predict_function.<locals>.predict_function at 0x7f17f424a9d8> triggered tf.function retracing. Tracing is expensive and the excessive number of tracings could be due to (1) creating @tf.function repeatedly in a loop, (2) passing tensors with different shapes, (3) passing Python objects instead of tensors. For (1), please define your @tf.function outside of the loop. For (2), @tf.function has experimental_relax_shapes=True option that relaxes argument shapes that can avoid unnecessary retracing. For (3), please refer to https://www.tensorflow.org/tutorials/customization/performance#python_or_tensor_args and https://www.tensorflow.org/api_docs/python/tf/function for  more details.\n",
      "WARNING:tensorflow:11 out of the last 11 calls to <function Model.make_predict_function.<locals>.predict_function at 0x7f17f41491e0> triggered tf.function retracing. Tracing is expensive and the excessive number of tracings could be due to (1) creating @tf.function repeatedly in a loop, (2) passing tensors with different shapes, (3) passing Python objects instead of tensors. For (1), please define your @tf.function outside of the loop. For (2), @tf.function has experimental_relax_shapes=True option that relaxes argument shapes that can avoid unnecessary retracing. For (3), please refer to https://www.tensorflow.org/tutorials/customization/performance#python_or_tensor_args and https://www.tensorflow.org/api_docs/python/tf/function for  more details.\n",
      "WARNING:tensorflow:11 out of the last 11 calls to <function Model.make_predict_function.<locals>.predict_function at 0x7f17f4179510> triggered tf.function retracing. Tracing is expensive and the excessive number of tracings could be due to (1) creating @tf.function repeatedly in a loop, (2) passing tensors with different shapes, (3) passing Python objects instead of tensors. For (1), please define your @tf.function outside of the loop. For (2), @tf.function has experimental_relax_shapes=True option that relaxes argument shapes that can avoid unnecessary retracing. For (3), please refer to https://www.tensorflow.org/tutorials/customization/performance#python_or_tensor_args and https://www.tensorflow.org/api_docs/python/tf/function for  more details.\n",
      "WARNING:tensorflow:11 out of the last 11 calls to <function Model.make_predict_function.<locals>.predict_function at 0x7f17f4115d08> triggered tf.function retracing. Tracing is expensive and the excessive number of tracings could be due to (1) creating @tf.function repeatedly in a loop, (2) passing tensors with different shapes, (3) passing Python objects instead of tensors. For (1), please define your @tf.function outside of the loop. For (2), @tf.function has experimental_relax_shapes=True option that relaxes argument shapes that can avoid unnecessary retracing. For (3), please refer to https://www.tensorflow.org/tutorials/customization/performance#python_or_tensor_args and https://www.tensorflow.org/api_docs/python/tf/function for  more details.\n",
      "L1_EM22VHI trig_L2_cl_lhtight_et22toInf trig_L2_el_cut_pt20to50 trig_EF_el_lhtight_ivarloose\n",
      "L1_EM22VHI ringer_v8_tight trig_L2_el_cut_pt20to50 trig_EF_el_lhtight_ivarloose\n",
      "L1_EM22VHI trig_L2_cl_lhtight_et22toInf trig_L2_el_cut_pt20to50 trig_EF_el_lhtight_ivarloose\n",
      "L1_EM22VHI ringer_v8_tight trig_L2_el_cut_pt20to50 trig_EF_el_lhtight_ivarloose\n",
      "L1_EM24VHI trig_L2_cl_lhmedium_et22toInf trig_L2_el_cut_pt50toInf trig_EF_el_lhmedium\n",
      "L1_EM24VHI ringer_v8_medium trig_L2_el_cut_pt50toInf trig_EF_el_lhmedium\n"
     ]
    },
    {
     "name": "stderr",
     "output_type": "stream",
     "text": [
      "Reading files...:  40%|████      | 10/25 [00:04<00:06,  2.27it/s]"
     ]
    },
    {
     "name": "stdout",
     "output_type": "stream",
     "text": [
      "L1_EM24VHI trig_L2_cl_lhloose_et22toInf trig_L2_el_cut_pt50toInf trig_EF_el_lhloose\n",
      "L1_EM24VHI ringer_v8_loose trig_L2_el_cut_pt50toInf trig_EF_el_lhloose\n",
      "WARNING:tensorflow:11 out of the last 11 calls to <function Model.make_predict_function.<locals>.predict_function at 0x7f17f41497b8> triggered tf.function retracing. Tracing is expensive and the excessive number of tracings could be due to (1) creating @tf.function repeatedly in a loop, (2) passing tensors with different shapes, (3) passing Python objects instead of tensors. For (1), please define your @tf.function outside of the loop. For (2), @tf.function has experimental_relax_shapes=True option that relaxes argument shapes that can avoid unnecessary retracing. For (3), please refer to https://www.tensorflow.org/tutorials/customization/performance#python_or_tensor_args and https://www.tensorflow.org/api_docs/python/tf/function for  more details.\n",
      "WARNING:tensorflow:11 out of the last 11 calls to <function Model.make_predict_function.<locals>.predict_function at 0x7f17f40bdae8> triggered tf.function retracing. Tracing is expensive and the excessive number of tracings could be due to (1) creating @tf.function repeatedly in a loop, (2) passing tensors with different shapes, (3) passing Python objects instead of tensors. For (1), please define your @tf.function outside of the loop. For (2), @tf.function has experimental_relax_shapes=True option that relaxes argument shapes that can avoid unnecessary retracing. For (3), please refer to https://www.tensorflow.org/tutorials/customization/performance#python_or_tensor_args and https://www.tensorflow.org/api_docs/python/tf/function for  more details.\n",
      "WARNING:tensorflow:11 out of the last 11 calls to <function Model.make_predict_function.<locals>.predict_function at 0x7f17f414e6a8> triggered tf.function retracing. Tracing is expensive and the excessive number of tracings could be due to (1) creating @tf.function repeatedly in a loop, (2) passing tensors with different shapes, (3) passing Python objects instead of tensors. For (1), please define your @tf.function outside of the loop. For (2), @tf.function has experimental_relax_shapes=True option that relaxes argument shapes that can avoid unnecessary retracing. For (3), please refer to https://www.tensorflow.org/tutorials/customization/performance#python_or_tensor_args and https://www.tensorflow.org/api_docs/python/tf/function for  more details.\n",
      "WARNING:tensorflow:11 out of the last 11 calls to <function Model.make_predict_function.<locals>.predict_function at 0x7f17f40e3ea0> triggered tf.function retracing. Tracing is expensive and the excessive number of tracings could be due to (1) creating @tf.function repeatedly in a loop, (2) passing tensors with different shapes, (3) passing Python objects instead of tensors. For (1), please define your @tf.function outside of the loop. For (2), @tf.function has experimental_relax_shapes=True option that relaxes argument shapes that can avoid unnecessary retracing. For (3), please refer to https://www.tensorflow.org/tutorials/customization/performance#python_or_tensor_args and https://www.tensorflow.org/api_docs/python/tf/function for  more details.\n",
      "L1_EM22VHI trig_L2_cl_lhtight_et22toInf trig_L2_el_cut_pt20to50 trig_EF_el_lhtight_ivarloose\n",
      "L1_EM22VHI ringer_v8_tight trig_L2_el_cut_pt20to50 trig_EF_el_lhtight_ivarloose\n",
      "L1_EM22VHI trig_L2_cl_lhtight_et22toInf trig_L2_el_cut_pt20to50 trig_EF_el_lhtight_ivarloose\n",
      "L1_EM22VHI ringer_v8_tight trig_L2_el_cut_pt20to50 trig_EF_el_lhtight_ivarloose\n"
     ]
    },
    {
     "name": "stderr",
     "output_type": "stream",
     "text": [
      "Reading files...:  44%|████▍     | 11/25 [00:05<00:06,  2.24it/s]"
     ]
    },
    {
     "name": "stdout",
     "output_type": "stream",
     "text": [
      "L1_EM24VHI trig_L2_cl_lhmedium_et22toInf trig_L2_el_cut_pt50toInf trig_EF_el_lhmedium\n",
      "L1_EM24VHI ringer_v8_medium trig_L2_el_cut_pt50toInf trig_EF_el_lhmedium\n",
      "L1_EM24VHI trig_L2_cl_lhloose_et22toInf trig_L2_el_cut_pt50toInf trig_EF_el_lhloose\n",
      "L1_EM24VHI ringer_v8_loose trig_L2_el_cut_pt50toInf trig_EF_el_lhloose\n",
      "WARNING:tensorflow:11 out of the last 11 calls to <function Model.make_predict_function.<locals>.predict_function at 0x7f17f4191ae8> triggered tf.function retracing. Tracing is expensive and the excessive number of tracings could be due to (1) creating @tf.function repeatedly in a loop, (2) passing tensors with different shapes, (3) passing Python objects instead of tensors. For (1), please define your @tf.function outside of the loop. For (2), @tf.function has experimental_relax_shapes=True option that relaxes argument shapes that can avoid unnecessary retracing. For (3), please refer to https://www.tensorflow.org/tutorials/customization/performance#python_or_tensor_args and https://www.tensorflow.org/api_docs/python/tf/function for  more details.\n",
      "WARNING:tensorflow:11 out of the last 11 calls to <function Model.make_predict_function.<locals>.predict_function at 0x7f17f414e7b8> triggered tf.function retracing. Tracing is expensive and the excessive number of tracings could be due to (1) creating @tf.function repeatedly in a loop, (2) passing tensors with different shapes, (3) passing Python objects instead of tensors. For (1), please define your @tf.function outside of the loop. For (2), @tf.function has experimental_relax_shapes=True option that relaxes argument shapes that can avoid unnecessary retracing. For (3), please refer to https://www.tensorflow.org/tutorials/customization/performance#python_or_tensor_args and https://www.tensorflow.org/api_docs/python/tf/function for  more details.\n",
      "WARNING:tensorflow:11 out of the last 11 calls to <function Model.make_predict_function.<locals>.predict_function at 0x7f17f4156840> triggered tf.function retracing. Tracing is expensive and the excessive number of tracings could be due to (1) creating @tf.function repeatedly in a loop, (2) passing tensors with different shapes, (3) passing Python objects instead of tensors. For (1), please define your @tf.function outside of the loop. For (2), @tf.function has experimental_relax_shapes=True option that relaxes argument shapes that can avoid unnecessary retracing. For (3), please refer to https://www.tensorflow.org/tutorials/customization/performance#python_or_tensor_args and https://www.tensorflow.org/api_docs/python/tf/function for  more details.\n",
      "WARNING:tensorflow:11 out of the last 11 calls to <function Model.make_predict_function.<locals>.predict_function at 0x7f17f403af28> triggered tf.function retracing. Tracing is expensive and the excessive number of tracings could be due to (1) creating @tf.function repeatedly in a loop, (2) passing tensors with different shapes, (3) passing Python objects instead of tensors. For (1), please define your @tf.function outside of the loop. For (2), @tf.function has experimental_relax_shapes=True option that relaxes argument shapes that can avoid unnecessary retracing. For (3), please refer to https://www.tensorflow.org/tutorials/customization/performance#python_or_tensor_args and https://www.tensorflow.org/api_docs/python/tf/function for  more details.\n",
      "L1_EM22VHI trig_L2_cl_lhtight_et22toInf trig_L2_el_cut_pt20to50 trig_EF_el_lhtight_ivarloose\n",
      "L1_EM22VHI ringer_v8_tight trig_L2_el_cut_pt20to50 trig_EF_el_lhtight_ivarloose\n",
      "L1_EM22VHI trig_L2_cl_lhtight_et22toInf trig_L2_el_cut_pt20to50 trig_EF_el_lhtight_ivarloose\n",
      "L1_EM22VHI ringer_v8_tight trig_L2_el_cut_pt20to50 trig_EF_el_lhtight_ivarloose\n",
      "L1_EM24VHI trig_L2_cl_lhmedium_et22toInf trig_L2_el_cut_pt50toInf trig_EF_el_lhmedium\n",
      "L1_EM24VHI ringer_v8_medium trig_L2_el_cut_pt50toInf trig_EF_el_lhmedium\n",
      "L1_EM24VHI trig_L2_cl_lhloose_et22toInf trig_L2_el_cut_pt50toInf trig_EF_el_lhloose\n"
     ]
    },
    {
     "name": "stderr",
     "output_type": "stream",
     "text": [
      "Reading files...:  48%|████▊     | 12/25 [00:05<00:05,  2.23it/s]"
     ]
    },
    {
     "name": "stdout",
     "output_type": "stream",
     "text": [
      "L1_EM24VHI ringer_v8_loose trig_L2_el_cut_pt50toInf trig_EF_el_lhloose\n",
      "WARNING:tensorflow:11 out of the last 11 calls to <function Model.make_predict_function.<locals>.predict_function at 0x7f17f4156620> triggered tf.function retracing. Tracing is expensive and the excessive number of tracings could be due to (1) creating @tf.function repeatedly in a loop, (2) passing tensors with different shapes, (3) passing Python objects instead of tensors. For (1), please define your @tf.function outside of the loop. For (2), @tf.function has experimental_relax_shapes=True option that relaxes argument shapes that can avoid unnecessary retracing. For (3), please refer to https://www.tensorflow.org/tutorials/customization/performance#python_or_tensor_args and https://www.tensorflow.org/api_docs/python/tf/function for  more details.\n",
      "WARNING:tensorflow:11 out of the last 11 calls to <function Model.make_predict_function.<locals>.predict_function at 0x7f17f405bea0> triggered tf.function retracing. Tracing is expensive and the excessive number of tracings could be due to (1) creating @tf.function repeatedly in a loop, (2) passing tensors with different shapes, (3) passing Python objects instead of tensors. For (1), please define your @tf.function outside of the loop. For (2), @tf.function has experimental_relax_shapes=True option that relaxes argument shapes that can avoid unnecessary retracing. For (3), please refer to https://www.tensorflow.org/tutorials/customization/performance#python_or_tensor_args and https://www.tensorflow.org/api_docs/python/tf/function for  more details.\n",
      "WARNING:tensorflow:11 out of the last 11 calls to <function Model.make_predict_function.<locals>.predict_function at 0x7f17cc7d19d8> triggered tf.function retracing. Tracing is expensive and the excessive number of tracings could be due to (1) creating @tf.function repeatedly in a loop, (2) passing tensors with different shapes, (3) passing Python objects instead of tensors. For (1), please define your @tf.function outside of the loop. For (2), @tf.function has experimental_relax_shapes=True option that relaxes argument shapes that can avoid unnecessary retracing. For (3), please refer to https://www.tensorflow.org/tutorials/customization/performance#python_or_tensor_args and https://www.tensorflow.org/api_docs/python/tf/function for  more details.\n",
      "WARNING:tensorflow:11 out of the last 11 calls to <function Model.make_predict_function.<locals>.predict_function at 0x7f17cc780268> triggered tf.function retracing. Tracing is expensive and the excessive number of tracings could be due to (1) creating @tf.function repeatedly in a loop, (2) passing tensors with different shapes, (3) passing Python objects instead of tensors. For (1), please define your @tf.function outside of the loop. For (2), @tf.function has experimental_relax_shapes=True option that relaxes argument shapes that can avoid unnecessary retracing. For (3), please refer to https://www.tensorflow.org/tutorials/customization/performance#python_or_tensor_args and https://www.tensorflow.org/api_docs/python/tf/function for  more details.\n",
      "L1_EM22VHI trig_L2_cl_lhtight_et22toInf trig_L2_el_cut_pt20to50 trig_EF_el_lhtight_ivarloose\n",
      "L1_EM22VHI ringer_v8_tight trig_L2_el_cut_pt20to50 trig_EF_el_lhtight_ivarloose\n",
      "L1_EM22VHI trig_L2_cl_lhtight_et22toInf trig_L2_el_cut_pt20to50 trig_EF_el_lhtight_ivarloose\n",
      "L1_EM22VHI ringer_v8_tight trig_L2_el_cut_pt20to50 trig_EF_el_lhtight_ivarloose\n",
      "L1_EM24VHI trig_L2_cl_lhmedium_et22toInf trig_L2_el_cut_pt50toInf trig_EF_el_lhmedium\n",
      "L1_EM24VHI ringer_v8_medium trig_L2_el_cut_pt50toInf trig_EF_el_lhmedium\n",
      "L1_EM24VHI trig_L2_cl_lhloose_et22toInf trig_L2_el_cut_pt50toInf trig_EF_el_lhloose\n",
      "L1_EM24VHI ringer_v8_loose trig_L2_el_cut_pt50toInf"
     ]
    },
    {
     "name": "stderr",
     "output_type": "stream",
     "text": [
      "Reading files...:  52%|█████▏    | 13/25 [00:05<00:05,  2.27it/s]"
     ]
    },
    {
     "name": "stdout",
     "output_type": "stream",
     "text": [
      " trig_EF_el_lhloose\n",
      "WARNING:tensorflow:11 out of the last 11 calls to <function Model.make_predict_function.<locals>.predict_function at 0x7f17cc7dad08> triggered tf.function retracing. Tracing is expensive and the excessive number of tracings could be due to (1) creating @tf.function repeatedly in a loop, (2) passing tensors with different shapes, (3) passing Python objects instead of tensors. For (1), please define your @tf.function outside of the loop. For (2), @tf.function has experimental_relax_shapes=True option that relaxes argument shapes that can avoid unnecessary retracing. For (3), please refer to https://www.tensorflow.org/tutorials/customization/performance#python_or_tensor_args and https://www.tensorflow.org/api_docs/python/tf/function for  more details.\n",
      "WARNING:tensorflow:11 out of the last 11 calls to <function Model.make_predict_function.<locals>.predict_function at 0x7f17f4156158> triggered tf.function retracing. Tracing is expensive and the excessive number of tracings could be due to (1) creating @tf.function repeatedly in a loop, (2) passing tensors with different shapes, (3) passing Python objects instead of tensors. For (1), please define your @tf.function outside of the loop. For (2), @tf.function has experimental_relax_shapes=True option that relaxes argument shapes that can avoid unnecessary retracing. For (3), please refer to https://www.tensorflow.org/tutorials/customization/performance#python_or_tensor_args and https://www.tensorflow.org/api_docs/python/tf/function for  more details.\n",
      "WARNING:tensorflow:11 out of the last 11 calls to <function Model.make_predict_function.<locals>.predict_function at 0x7f17f404cb70> triggered tf.function retracing. Tracing is expensive and the excessive number of tracings could be due to (1) creating @tf.function repeatedly in a loop, (2) passing tensors with different shapes, (3) passing Python objects instead of tensors. For (1), please define your @tf.function outside of the loop. For (2), @tf.function has experimental_relax_shapes=True option that relaxes argument shapes that can avoid unnecessary retracing. For (3), please refer to https://www.tensorflow.org/tutorials/customization/performance#python_or_tensor_args and https://www.tensorflow.org/api_docs/python/tf/function for  more details.\n",
      "WARNING:tensorflow:11 out of the last 11 calls to <function Model.make_predict_function.<locals>.predict_function at 0x7f17cc74a2f0> triggered tf.function retracing. Tracing is expensive and the excessive number of tracings could be due to (1) creating @tf.function repeatedly in a loop, (2) passing tensors with different shapes, (3) passing Python objects instead of tensors. For (1), please define your @tf.function outside of the loop. For (2), @tf.function has experimental_relax_shapes=True option that relaxes argument shapes that can avoid unnecessary retracing. For (3), please refer to https://www.tensorflow.org/tutorials/customization/performance#python_or_tensor_args and https://www.tensorflow.org/api_docs/python/tf/function for  more details.\n",
      "L1_EM22VHI trig_L2_cl_lhtight_et22toInf trig_L2_el_cut_pt20to50 trig_EF_el_lhtight_ivarloose\n",
      "L1_EM22VHI ringer_v8_tight trig_L2_el_cut_pt20to50 trig_EF_el_lhtight_ivarloose\n",
      "L1_EM22VHI trig_L2_cl_lhtight_et22toInf trig_L2_el_cut_pt20to50 trig_EF_el_lhtight_ivarloose\n",
      "L1_EM22VHI ringer_v8_tight trig_L2_el_cut_pt20to50 trig_EF_el_lhtight_ivarloose\n",
      "L1_EM24VHI trig_L2_cl_lhmedium_et22toInf trig_L2_el_cut_pt50toInf trig_EF_el_lhmedium\n",
      "L1_EM24VHI ringer_v8_medium trig_L2_el_cut_pt50toInf trig_EF_el_lhmedium\n",
      "L1_EM24VHI trig_L2_cl_lhloose_et22toInf trig_L2_el_cut_pt50toInf trig_EF_el_lhloose\n"
     ]
    },
    {
     "name": "stderr",
     "output_type": "stream",
     "text": [
      "Reading files...:  56%|█████▌    | 14/25 [00:06<00:04,  2.28it/s]"
     ]
    },
    {
     "name": "stdout",
     "output_type": "stream",
     "text": [
      "L1_EM24VHI ringer_v8_loose trig_L2_el_cut_pt50toInf trig_EF_el_lhloose\n",
      "WARNING:tensorflow:11 out of the last 11 calls to <function Model.make_predict_function.<locals>.predict_function at 0x7f17f404c158> triggered tf.function retracing. Tracing is expensive and the excessive number of tracings could be due to (1) creating @tf.function repeatedly in a loop, (2) passing tensors with different shapes, (3) passing Python objects instead of tensors. For (1), please define your @tf.function outside of the loop. For (2), @tf.function has experimental_relax_shapes=True option that relaxes argument shapes that can avoid unnecessary retracing. For (3), please refer to https://www.tensorflow.org/tutorials/customization/performance#python_or_tensor_args and https://www.tensorflow.org/api_docs/python/tf/function for  more details.\n",
      "WARNING:tensorflow:11 out of the last 11 calls to <function Model.make_predict_function.<locals>.predict_function at 0x7f17cc74a048> triggered tf.function retracing. Tracing is expensive and the excessive number of tracings could be due to (1) creating @tf.function repeatedly in a loop, (2) passing tensors with different shapes, (3) passing Python objects instead of tensors. For (1), please define your @tf.function outside of the loop. For (2), @tf.function has experimental_relax_shapes=True option that relaxes argument shapes that can avoid unnecessary retracing. For (3), please refer to https://www.tensorflow.org/tutorials/customization/performance#python_or_tensor_args and https://www.tensorflow.org/api_docs/python/tf/function for  more details.\n",
      "WARNING:tensorflow:11 out of the last 11 calls to <function Model.make_predict_function.<locals>.predict_function at 0x7f17cc771d08> triggered tf.function retracing. Tracing is expensive and the excessive number of tracings could be due to (1) creating @tf.function repeatedly in a loop, (2) passing tensors with different shapes, (3) passing Python objects instead of tensors. For (1), please define your @tf.function outside of the loop. For (2), @tf.function has experimental_relax_shapes=True option that relaxes argument shapes that can avoid unnecessary retracing. For (3), please refer to https://www.tensorflow.org/tutorials/customization/performance#python_or_tensor_args and https://www.tensorflow.org/api_docs/python/tf/function for  more details.\n",
      "WARNING:tensorflow:11 out of the last 11 calls to <function Model.make_predict_function.<locals>.predict_function at 0x7f17cc719598> triggered tf.function retracing. Tracing is expensive and the excessive number of tracings could be due to (1) creating @tf.function repeatedly in a loop, (2) passing tensors with different shapes, (3) passing Python objects instead of tensors. For (1), please define your @tf.function outside of the loop. For (2), @tf.function has experimental_relax_shapes=True option that relaxes argument shapes that can avoid unnecessary retracing. For (3), please refer to https://www.tensorflow.org/tutorials/customization/performance#python_or_tensor_args and https://www.tensorflow.org/api_docs/python/tf/function for  more details.\n",
      "L1_EM22VHI trig_L2_cl_lhtight_et22toInf trig_L2_el_cut_pt20to50 trig_EF_el_lhtight_ivarloose\n",
      "L1_EM22VHI ringer_v8_tight trig_L2_el_cut_pt20to50 trig_EF_el_lhtight_ivarloose\n",
      "L1_EM22VHI trig_L2_cl_lhtight_et22toInf trig_L2_el_cut_pt20to50 trig_EF_el_lhtight_ivarloose\n",
      "L1_EM22VHI ringer_v8_tight trig_L2_el_cut_pt20to50 trig_EF_el_lhtight_ivarloose\n",
      "L1_EM24VHI trig_L2_cl_lhmedium_et22toInf trig_L2_el_cut_pt50toInf trig_EF_el_lhmedium\n",
      "L1_EM24VHI ringer_v8_medium trig_L2_el_cut_pt50toInf trig_EF_el_lhmedium\n",
      "L1_EM24VHI trig_L2_cl_lhloose_et22toInf trig_L2_el_cut_pt50toInf trig_EF_el_lhloose\n"
     ]
    },
    {
     "name": "stderr",
     "output_type": "stream",
     "text": [
      "Reading files...:  60%|██████    | 15/25 [00:06<00:04,  2.30it/s]"
     ]
    },
    {
     "name": "stdout",
     "output_type": "stream",
     "text": [
      "L1_EM24VHI ringer_v8_loose trig_L2_el_cut_pt50toInf trig_EF_el_lhloose\n",
      "WARNING:tensorflow:11 out of the last 11 calls to <function Model.make_predict_function.<locals>.predict_function at 0x7f17cc771c80> triggered tf.function retracing. Tracing is expensive and the excessive number of tracings could be due to (1) creating @tf.function repeatedly in a loop, (2) passing tensors with different shapes, (3) passing Python objects instead of tensors. For (1), please define your @tf.function outside of the loop. For (2), @tf.function has experimental_relax_shapes=True option that relaxes argument shapes that can avoid unnecessary retracing. For (3), please refer to https://www.tensorflow.org/tutorials/customization/performance#python_or_tensor_args and https://www.tensorflow.org/api_docs/python/tf/function for  more details.\n",
      "WARNING:tensorflow:11 out of the last 11 calls to <function Model.make_predict_function.<locals>.predict_function at 0x7f17cc7b09d8> triggered tf.function retracing. Tracing is expensive and the excessive number of tracings could be due to (1) creating @tf.function repeatedly in a loop, (2) passing tensors with different shapes, (3) passing Python objects instead of tensors. For (1), please define your @tf.function outside of the loop. For (2), @tf.function has experimental_relax_shapes=True option that relaxes argument shapes that can avoid unnecessary retracing. For (3), please refer to https://www.tensorflow.org/tutorials/customization/performance#python_or_tensor_args and https://www.tensorflow.org/api_docs/python/tf/function for  more details.\n",
      "WARNING:tensorflow:11 out of the last 11 calls to <function Model.make_predict_function.<locals>.predict_function at 0x7f17cc6caea0> triggered tf.function retracing. Tracing is expensive and the excessive number of tracings could be due to (1) creating @tf.function repeatedly in a loop, (2) passing tensors with different shapes, (3) passing Python objects instead of tensors. For (1), please define your @tf.function outside of the loop. For (2), @tf.function has experimental_relax_shapes=True option that relaxes argument shapes that can avoid unnecessary retracing. For (3), please refer to https://www.tensorflow.org/tutorials/customization/performance#python_or_tensor_args and https://www.tensorflow.org/api_docs/python/tf/function for  more details.\n",
      "WARNING:tensorflow:11 out of the last 11 calls to <function Model.make_predict_function.<locals>.predict_function at 0x7f17cc6e6730> triggered tf.function retracing. Tracing is expensive and the excessive number of tracings could be due to (1) creating @tf.function repeatedly in a loop, (2) passing tensors with different shapes, (3) passing Python objects instead of tensors. For (1), please define your @tf.function outside of the loop. For (2), @tf.function has experimental_relax_shapes=True option that relaxes argument shapes that can avoid unnecessary retracing. For (3), please refer to https://www.tensorflow.org/tutorials/customization/performance#python_or_tensor_args and https://www.tensorflow.org/api_docs/python/tf/function for  more details.\n",
      "L1_EM22VHI trig_L2_cl_lhtight_et22toInf trig_L2_el_cut_pt20to50 trig_EF_el_lhtight_ivarloose\n",
      "L1_EM22VHI ringer_v8_tight trig_L2_el_cut_pt20to50 trig_EF_el_lhtight_ivarloose\n",
      "L1_EM22VHI trig_L2_cl_lhtight_et22toInf trig_L2_el_cut_pt20to50 trig_EF_el_lhtight_ivarloose\n",
      "L1_EM22VHI ringer_v8_tight trig_L2_el_cut_pt20to50 trig_EF_el_lhtight_ivarloose\n",
      "L1_EM24VHI trig_L2_cl_lhmedium_et22toInf trig_L2_el_cut_pt50toInf trig_EF_el_lhmedium\n",
      "L1_EM24VHI ringer_v8_medium trig_L2_el_cut_pt50toInf trig_EF_el_lhmedium\n",
      "L1_EM24VHI trig_L2_cl_lhloose_et22toInf trig_L2_el_cut_pt50toInf trig_EF_el_lhloose\n"
     ]
    },
    {
     "name": "stderr",
     "output_type": "stream",
     "text": [
      "Reading files...:  64%|██████▍   | 16/25 [00:07<00:03,  2.31it/s]"
     ]
    },
    {
     "name": "stdout",
     "output_type": "stream",
     "text": [
      "L1_EM24VHI ringer_v8_loose trig_L2_el_cut_pt50toInf trig_EF_el_lhloose\n",
      "WARNING:tensorflow:11 out of the last 11 calls to <function Model.make_predict_function.<locals>.predict_function at 0x7f17cc6ca268> triggered tf.function retracing. Tracing is expensive and the excessive number of tracings could be due to (1) creating @tf.function repeatedly in a loop, (2) passing tensors with different shapes, (3) passing Python objects instead of tensors. For (1), please define your @tf.function outside of the loop. For (2), @tf.function has experimental_relax_shapes=True option that relaxes argument shapes that can avoid unnecessary retracing. For (3), please refer to https://www.tensorflow.org/tutorials/customization/performance#python_or_tensor_args and https://www.tensorflow.org/api_docs/python/tf/function for  more details.\n",
      "WARNING:tensorflow:11 out of the last 11 calls to <function Model.make_predict_function.<locals>.predict_function at 0x7f17cc704d90> triggered tf.function retracing. Tracing is expensive and the excessive number of tracings could be due to (1) creating @tf.function repeatedly in a loop, (2) passing tensors with different shapes, (3) passing Python objects instead of tensors. For (1), please define your @tf.function outside of the loop. For (2), @tf.function has experimental_relax_shapes=True option that relaxes argument shapes that can avoid unnecessary retracing. For (3), please refer to https://www.tensorflow.org/tutorials/customization/performance#python_or_tensor_args and https://www.tensorflow.org/api_docs/python/tf/function for  more details.\n",
      "WARNING:tensorflow:11 out of the last 11 calls to <function Model.make_predict_function.<locals>.predict_function at 0x7f17cc690f28> triggered tf.function retracing. Tracing is expensive and the excessive number of tracings could be due to (1) creating @tf.function repeatedly in a loop, (2) passing tensors with different shapes, (3) passing Python objects instead of tensors. For (1), please define your @tf.function outside of the loop. For (2), @tf.function has experimental_relax_shapes=True option that relaxes argument shapes that can avoid unnecessary retracing. For (3), please refer to https://www.tensorflow.org/tutorials/customization/performance#python_or_tensor_args and https://www.tensorflow.org/api_docs/python/tf/function for  more details.\n",
      "WARNING:tensorflow:11 out of the last 11 calls to <function Model.make_predict_function.<locals>.predict_function at 0x7f17cc63e8c8> triggered tf.function retracing. Tracing is expensive and the excessive number of tracings could be due to (1) creating @tf.function repeatedly in a loop, (2) passing tensors with different shapes, (3) passing Python objects instead of tensors. For (1), please define your @tf.function outside of the loop. For (2), @tf.function has experimental_relax_shapes=True option that relaxes argument shapes that can avoid unnecessary retracing. For (3), please refer to https://www.tensorflow.org/tutorials/customization/performance#python_or_tensor_args and https://www.tensorflow.org/api_docs/python/tf/function for  more details.\n",
      "L1_EM22VHI trig_L2_cl_lhtight_et22toInf trig_L2_el_cut_pt20to50 trig_EF_el_lhtight_ivarloose\n",
      "L1_EM22VHI ringer_v8_tight trig_L2_el_cut_pt20to50 trig_EF_el_lhtight_ivarloose\n",
      "L1_EM22VHI trig_L2_cl_lhtight_et22toInf trig_L2_el_cut_pt20to50 trig_EF_el_lhtight_ivarloose\n"
     ]
    },
    {
     "name": "stderr",
     "output_type": "stream",
     "text": [
      "Reading files...:  68%|██████▊   | 17/25 [00:07<00:03,  2.31it/s]"
     ]
    },
    {
     "name": "stdout",
     "output_type": "stream",
     "text": [
      "L1_EM22VHI ringer_v8_tight trig_L2_el_cut_pt20to50 trig_EF_el_lhtight_ivarloose\n",
      "L1_EM24VHI trig_L2_cl_lhmedium_et22toInf trig_L2_el_cut_pt50toInf trig_EF_el_lhmedium\n",
      "L1_EM24VHI ringer_v8_medium trig_L2_el_cut_pt50toInf trig_EF_el_lhmedium\n",
      "L1_EM24VHI trig_L2_cl_lhloose_et22toInf trig_L2_el_cut_pt50toInf trig_EF_el_lhloose\n",
      "L1_EM24VHI ringer_v8_loose trig_L2_el_cut_pt50toInf trig_EF_el_lhloose\n",
      "WARNING:tensorflow:11 out of the last 11 calls to <function Model.make_predict_function.<locals>.predict_function at 0x7f17cc6908c8> triggered tf.function retracing. Tracing is expensive and the excessive number of tracings could be due to (1) creating @tf.function repeatedly in a loop, (2) passing tensors with different shapes, (3) passing Python objects instead of tensors. For (1), please define your @tf.function outside of the loop. For (2), @tf.function has experimental_relax_shapes=True option that relaxes argument shapes that can avoid unnecessary retracing. For (3), please refer to https://www.tensorflow.org/tutorials/customization/performance#python_or_tensor_args and https://www.tensorflow.org/api_docs/python/tf/function for  more details.\n",
      "WARNING:tensorflow:11 out of the last 11 calls to <function Model.make_predict_function.<locals>.predict_function at 0x7f17cc704d08> triggered tf.function retracing. Tracing is expensive and the excessive number of tracings could be due to (1) creating @tf.function repeatedly in a loop, (2) passing tensors with different shapes, (3) passing Python objects instead of tensors. For (1), please define your @tf.function outside of the loop. For (2), @tf.function has experimental_relax_shapes=True option that relaxes argument shapes that can avoid unnecessary retracing. For (3), please refer to https://www.tensorflow.org/tutorials/customization/performance#python_or_tensor_args and https://www.tensorflow.org/api_docs/python/tf/function for  more details.\n",
      "WARNING:tensorflow:11 out of the last 11 calls to <function Model.make_predict_function.<locals>.predict_function at 0x7f17cc6f0158> triggered tf.function retracing. Tracing is expensive and the excessive number of tracings could be due to (1) creating @tf.function repeatedly in a loop, (2) passing tensors with different shapes, (3) passing Python objects instead of tensors. For (1), please define your @tf.function outside of the loop. For (2), @tf.function has experimental_relax_shapes=True option that relaxes argument shapes that can avoid unnecessary retracing. For (3), please refer to https://www.tensorflow.org/tutorials/customization/performance#python_or_tensor_args and https://www.tensorflow.org/api_docs/python/tf/function for  more details.\n",
      "WARNING:tensorflow:11 out of the last 11 calls to <function Model.make_predict_function.<locals>.predict_function at 0x7f17cc616a60> triggered tf.function retracing. Tracing is expensive and the excessive number of tracings could be due to (1) creating @tf.function repeatedly in a loop, (2) passing tensors with different shapes, (3) passing Python objects instead of tensors. For (1), please define your @tf.function outside of the loop. For (2), @tf.function has experimental_relax_shapes=True option that relaxes argument shapes that can avoid unnecessary retracing. For (3), please refer to https://www.tensorflow.org/tutorials/customization/performance#python_or_tensor_args and https://www.tensorflow.org/api_docs/python/tf/function for  more details.\n",
      "L1_EM22VHI trig_L2_cl_lhtight_et22toInf trig_L2_el_cut_pt20to50 trig_EF_el_lhtight_ivarloose\n",
      "L1_EM22VHI ringer_v8_tight trig_L2_el_cut_pt20to50 trig_EF_el_lhtight_ivarloose\n",
      "L1_EM22VHI trig_L2_cl_lhtight_et22toInf trig_L2_el_cut_pt20to50 trig_EF_el_lhtight_ivarloose\n",
      "L1_EM22VHI ringer_v8_tight trig_L2_el_cut_pt20to50 trig_EF_el_lhtight_ivarloose\n",
      "L1_EM24VHI trig_L2_cl_lhmedium_et22toInf trig_L2_el_cut_pt50toInf trig_EF_el_lhmedium\n",
      "L1_EM24VHI ringer_v8_medium trig_L2_el_cut_pt50toInf trig_EF_el_lhmedium\n",
      "L1_EM24VHI trig_L2_cl_lhloose_et22toInf trig_L2_el_cut_pt50toInf trig_EF_el_lhloose\n"
     ]
    },
    {
     "name": "stderr",
     "output_type": "stream",
     "text": [
      "Reading files...:  72%|███████▏  | 18/25 [00:08<00:03,  2.32it/s]"
     ]
    },
    {
     "name": "stdout",
     "output_type": "stream",
     "text": [
      "L1_EM24VHI ringer_v8_loose trig_L2_el_cut_pt50toInf trig_EF_el_lhloose\n",
      "WARNING:tensorflow:11 out of the last 11 calls to <function Model.make_predict_function.<locals>.predict_function at 0x7f17cc666d90> triggered tf.function retracing. Tracing is expensive and the excessive number of tracings could be due to (1) creating @tf.function repeatedly in a loop, (2) passing tensors with different shapes, (3) passing Python objects instead of tensors. For (1), please define your @tf.function outside of the loop. For (2), @tf.function has experimental_relax_shapes=True option that relaxes argument shapes that can avoid unnecessary retracing. For (3), please refer to https://www.tensorflow.org/tutorials/customization/performance#python_or_tensor_args and https://www.tensorflow.org/api_docs/python/tf/function for  more details.\n",
      "WARNING:tensorflow:11 out of the last 11 calls to <function Model.make_predict_function.<locals>.predict_function at 0x7f17cc690bf8> triggered tf.function retracing. Tracing is expensive and the excessive number of tracings could be due to (1) creating @tf.function repeatedly in a loop, (2) passing tensors with different shapes, (3) passing Python objects instead of tensors. For (1), please define your @tf.function outside of the loop. For (2), @tf.function has experimental_relax_shapes=True option that relaxes argument shapes that can avoid unnecessary retracing. For (3), please refer to https://www.tensorflow.org/tutorials/customization/performance#python_or_tensor_args and https://www.tensorflow.org/api_docs/python/tf/function for  more details.\n",
      "WARNING:tensorflow:11 out of the last 11 calls to <function Model.make_predict_function.<locals>.predict_function at 0x7f17cc62d2f0> triggered tf.function retracing. Tracing is expensive and the excessive number of tracings could be due to (1) creating @tf.function repeatedly in a loop, (2) passing tensors with different shapes, (3) passing Python objects instead of tensors. For (1), please define your @tf.function outside of the loop. For (2), @tf.function has experimental_relax_shapes=True option that relaxes argument shapes that can avoid unnecessary retracing. For (3), please refer to https://www.tensorflow.org/tutorials/customization/performance#python_or_tensor_args and https://www.tensorflow.org/api_docs/python/tf/function for  more details.\n",
      "WARNING:tensorflow:11 out of the last 11 calls to <function Model.make_predict_function.<locals>.predict_function at 0x7f17cc5e9bf8> triggered tf.function retracing. Tracing is expensive and the excessive number of tracings could be due to (1) creating @tf.function repeatedly in a loop, (2) passing tensors with different shapes, (3) passing Python objects instead of tensors. For (1), please define your @tf.function outside of the loop. For (2), @tf.function has experimental_relax_shapes=True option that relaxes argument shapes that can avoid unnecessary retracing. For (3), please refer to https://www.tensorflow.org/tutorials/customization/performance#python_or_tensor_args and https://www.tensorflow.org/api_docs/python/tf/function for  more details.\n",
      "L1_EM22VHI trig_L2_cl_lhtight_et22toInf trig_L2_el_cut_pt20to50 trig_EF_el_lhtight_ivarloose\n",
      "L1_EM22VHI ringer_v8_tight trig_L2_el_cut_pt20to50 trig_EF_el_lhtight_ivarloose\n",
      "L1_EM22VHI trig_L2_cl_lhtight_et22toInf trig_L2_el_cut_pt20to50 trig_EF_el_lhtight_ivarloose\n",
      "L1_EM22VHI ringer_v8_tight trig_L2_el_cut_pt20to50 trig_EF_el_lhtight_ivarloose\n",
      "L1_EM24VHI trig_L2_cl_lhmedium_et22toInf trig_L2_el_cut_pt50toInf trig_EF_el_lhmedium\n",
      "L1_EM24VHI ringer_v8_medium"
     ]
    },
    {
     "name": "stderr",
     "output_type": "stream",
     "text": [
      "Reading files...:  76%|███████▌  | 19/25 [00:08<00:02,  2.28it/s]"
     ]
    },
    {
     "name": "stdout",
     "output_type": "stream",
     "text": [
      " trig_L2_el_cut_pt50toInf trig_EF_el_lhmedium\n",
      "L1_EM24VHI trig_L2_cl_lhloose_et22toInf trig_L2_el_cut_pt50toInf trig_EF_el_lhloose\n",
      "L1_EM24VHI ringer_v8_loose trig_L2_el_cut_pt50toInf trig_EF_el_lhloose\n",
      "WARNING:tensorflow:11 out of the last 11 calls to <function Model.make_predict_function.<locals>.predict_function at 0x7f17cc6f2158> triggered tf.function retracing. Tracing is expensive and the excessive number of tracings could be due to (1) creating @tf.function repeatedly in a loop, (2) passing tensors with different shapes, (3) passing Python objects instead of tensors. For (1), please define your @tf.function outside of the loop. For (2), @tf.function has experimental_relax_shapes=True option that relaxes argument shapes that can avoid unnecessary retracing. For (3), please refer to https://www.tensorflow.org/tutorials/customization/performance#python_or_tensor_args and https://www.tensorflow.org/api_docs/python/tf/function for  more details.\n",
      "WARNING:tensorflow:11 out of the last 11 calls to <function Model.make_predict_function.<locals>.predict_function at 0x7f17cc62d400> triggered tf.function retracing. Tracing is expensive and the excessive number of tracings could be due to (1) creating @tf.function repeatedly in a loop, (2) passing tensors with different shapes, (3) passing Python objects instead of tensors. For (1), please define your @tf.function outside of the loop. For (2), @tf.function has experimental_relax_shapes=True option that relaxes argument shapes that can avoid unnecessary retracing. For (3), please refer to https://www.tensorflow.org/tutorials/customization/performance#python_or_tensor_args and https://www.tensorflow.org/api_docs/python/tf/function for  more details.\n",
      "WARNING:tensorflow:11 out of the last 11 calls to <function Model.make_predict_function.<locals>.predict_function at 0x7f17cc5a4598> triggered tf.function retracing. Tracing is expensive and the excessive number of tracings could be due to (1) creating @tf.function repeatedly in a loop, (2) passing tensors with different shapes, (3) passing Python objects instead of tensors. For (1), please define your @tf.function outside of the loop. For (2), @tf.function has experimental_relax_shapes=True option that relaxes argument shapes that can avoid unnecessary retracing. For (3), please refer to https://www.tensorflow.org/tutorials/customization/performance#python_or_tensor_args and https://www.tensorflow.org/api_docs/python/tf/function for  more details.\n",
      "WARNING:tensorflow:11 out of the last 11 calls to <function Model.make_predict_function.<locals>.predict_function at 0x7f17cc5b8d90> triggered tf.function retracing. Tracing is expensive and the excessive number of tracings could be due to (1) creating @tf.function repeatedly in a loop, (2) passing tensors with different shapes, (3) passing Python objects instead of tensors. For (1), please define your @tf.function outside of the loop. For (2), @tf.function has experimental_relax_shapes=True option that relaxes argument shapes that can avoid unnecessary retracing. For (3), please refer to https://www.tensorflow.org/tutorials/customization/performance#python_or_tensor_args and https://www.tensorflow.org/api_docs/python/tf/function for  more details.\n",
      "L1_EM22VHI trig_L2_cl_lhtight_et22toInf trig_L2_el_cut_pt20to50 trig_EF_el_lhtight_ivarloose\n",
      "L1_EM22VHI ringer_v8_tight trig_L2_el_cut_pt20to50 trig_EF_el_lhtight_ivarloose\n",
      "L1_EM22VHI trig_L2_cl_lhtight_et22toInf trig_L2_el_cut_pt20to50 trig_EF_el_lhtight_ivarloose\n",
      "L1_EM22VHI ringer_v8_tight trig_L2_el_cut_pt20to50 trig_EF_el_lhtight_ivarloose\n",
      "L1_EM24VHI trig_L2_cl_lhmedium_et22toInf trig_L2_el_cut_pt50toInf trig_EF_el_lhmedium\n",
      "L1_EM24VHI ringer_v8_medium trig_L2_el_cut_pt50toInf trig_EF_el_lhmedium\n",
      "L1_EM24VHI trig_L2_cl_lhloose_et22toInf trig_L2_el_cut_pt50toInf trig_EF_el_lhloose\n"
     ]
    },
    {
     "name": "stderr",
     "output_type": "stream",
     "text": [
      "Reading files...:  80%|████████  | 20/25 [00:08<00:02,  2.28it/s]"
     ]
    },
    {
     "name": "stdout",
     "output_type": "stream",
     "text": [
      "L1_EM24VHI ringer_v8_loose trig_L2_el_cut_pt50toInf trig_EF_el_lhloose\n",
      "WARNING:tensorflow:11 out of the last 11 calls to <function Model.make_predict_function.<locals>.predict_function at 0x7f17cc666f28> triggered tf.function retracing. Tracing is expensive and the excessive number of tracings could be due to (1) creating @tf.function repeatedly in a loop, (2) passing tensors with different shapes, (3) passing Python objects instead of tensors. For (1), please define your @tf.function outside of the loop. For (2), @tf.function has experimental_relax_shapes=True option that relaxes argument shapes that can avoid unnecessary retracing. For (3), please refer to https://www.tensorflow.org/tutorials/customization/performance#python_or_tensor_args and https://www.tensorflow.org/api_docs/python/tf/function for  more details.\n"
     ]
    },
    {
     "name": "stderr",
     "output_type": "stream",
     "text": [
      "Reading files...:  84%|████████▍ | 21/25 [00:10<00:02,  1.41it/s]"
     ]
    },
    {
     "name": "stdout",
     "output_type": "stream",
     "text": [
      "L1_EM22VHI trig_L2_cl_lhtight_et22toInf trig_L2_el_cut_pt20to50 trig_EF_el_lhtight_ivarloose\n",
      "L1_EM22VHI ringer_v8_tight trig_L2_el_cut_pt20to50 trig_EF_el_lhtight_ivarloose\n",
      "L1_EM22VHI trig_L2_cl_lhtight_et22toInf trig_L2_el_cut_pt20to50 trig_EF_el_lhtight_ivarloose\n",
      "L1_EM22VHI ringer_v8_tight trig_L2_el_cut_pt20to50 trig_EF_el_lhtight_ivarloose\n",
      "L1_EM24VHI trig_L2_cl_lhmedium_et22toInf trig_L2_el_cut_pt50toInf trig_EF_el_lhmedium\n",
      "L1_EM24VHI ringer_v8_medium trig_L2_el_cut_pt50toInf trig_EF_el_lhmedium\n",
      "L1_EM24VHI trig_L2_cl_lhloose_et22toInf trig_L2_el_cut_pt50toInf trig_EF_el_lhloose\n",
      "L1_EM24VHI ringer_v8_loose trig_L2_el_cut_pt50toInf trig_EF_el_lhloose\n"
     ]
    },
    {
     "name": "stderr",
     "output_type": "stream",
     "text": [
      "Reading files...:  88%|████████▊ | 22/25 [00:11<00:02,  1.29it/s]"
     ]
    },
    {
     "name": "stdout",
     "output_type": "stream",
     "text": [
      "L1_EM22VHI trig_L2_cl_lhtight_et22toInf trig_L2_el_cut_pt20to50 trig_EF_el_lhtight_ivarloose\n",
      "L1_EM22VHI ringer_v8_tight trig_L2_el_cut_pt20to50 trig_EF_el_lhtight_ivarloose\n",
      "L1_EM22VHI trig_L2_cl_lhtight_et22toInf trig_L2_el_cut_pt20to50 trig_EF_el_lhtight_ivarloose\n",
      "L1_EM22VHI ringer_v8_tight trig_L2_el_cut_pt20to50 trig_EF_el_lhtight_ivarloose\n",
      "L1_EM24VHI trig_L2_cl_lhmedium_et22toInf trig_L2_el_cut_pt50toInf trig_EF_el_lhmedium\n",
      "L1_EM24VHI ringer_v8_medium trig_L2_el_cut_pt50toInf trig_EF_el_lhmedium\n",
      "L1_EM24VHI trig_L2_cl_lhloose_et22toInf trig_L2_el_cut_pt50toInf trig_EF_el_lhloose\n",
      "L1_EM24VHI ringer_v8_loose trig_L2_el_cut_pt50toInf trig_EF_el_lhloose\n"
     ]
    },
    {
     "name": "stderr",
     "output_type": "stream",
     "text": [
      "Reading files...:  92%|█████████▏| 23/25 [00:11<00:01,  1.45it/s]"
     ]
    },
    {
     "name": "stdout",
     "output_type": "stream",
     "text": [
      "L1_EM22VHI trig_L2_cl_lhtight_et22toInf trig_L2_el_cut_pt20to50 trig_EF_el_lhtight_ivarloose\n",
      "L1_EM22VHI ringer_v8_tight trig_L2_el_cut_pt20to50 trig_EF_el_lhtight_ivarloose\n",
      "L1_EM22VHI trig_L2_cl_lhtight_et22toInf trig_L2_el_cut_pt20to50 trig_EF_el_lhtight_ivarloose\n",
      "L1_EM22VHI ringer_v8_tight trig_L2_el_cut_pt20to50 trig_EF_el_lhtight_ivarloose\n",
      "L1_EM24VHI trig_L2_cl_lhmedium_et22toInf trig_L2_el_cut_pt50toInf trig_EF_el_lhmedium\n",
      "L1_EM24VHI ringer_v8_medium trig_L2_el_cut_pt50toInf trig_EF_el_lhmedium\n",
      "L1_EM24VHI trig_L2_cl_lhloose_et22toInf trig_L2_el_cut_pt50toInf trig_EF_el_lhloose\n",
      "L1_EM24VHI ringer_v8_loose trig_L2_el_cut_pt50toInf trig_EF_el_lhloose\n"
     ]
    },
    {
     "name": "stderr",
     "output_type": "stream",
     "text": [
      "Reading files...:  96%|█████████▌| 24/25 [00:12<00:00,  1.45it/s]"
     ]
    },
    {
     "name": "stdout",
     "output_type": "stream",
     "text": [
      "L1_EM22VHI trig_L2_cl_lhtight_et22toInf trig_L2_el_cut_pt20to50 trig_EF_el_lhtight_ivarloose\n",
      "L1_EM22VHI ringer_v8_tight trig_L2_el_cut_pt20to50 trig_EF_el_lhtight_ivarloose\n",
      "L1_EM22VHI trig_L2_cl_lhtight_et22toInf trig_L2_el_cut_pt20to50 trig_EF_el_lhtight_ivarloose\n",
      "L1_EM22VHI ringer_v8_tight trig_L2_el_cut_pt20to50 trig_EF_el_lhtight_ivarloose\n",
      "L1_EM24VHI trig_L2_cl_lhmedium_et22toInf trig_L2_el_cut_pt50toInf trig_EF_el_lhmedium\n",
      "L1_EM24VHI ringer_v8_medium trig_L2_el_cut_pt50toInf trig_EF_el_lhmedium\n",
      "L1_EM24VHI trig_L2_cl_lhloose_et22toInf trig_L2_el_cut_pt50toInf trig_EF_el_lhloose\n",
      "L1_EM24VHI ringer_v8_loose trig_L2_el_cut_pt50toInf trig_EF_el_lhloose\n",
      "WARNING:tensorflow:5 out of the last 15 calls to <function Model.make_predict_function.<locals>.predict_function at 0x7f17cc3ec620> triggered tf.function retracing. Tracing is expensive and the excessive number of tracings could be due to (1) creating @tf.function repeatedly in a loop, (2) passing tensors with different shapes, (3) passing Python objects instead of tensors. For (1), please define your @tf.function outside of the loop. For (2), @tf.function has experimental_relax_shapes=True option that relaxes argument shapes that can avoid unnecessary retracing. For (3), please refer to https://www.tensorflow.org/tutorials/customization/performance#python_or_tensor_args and https://www.tensorflow.org/api_docs/python/tf/function for  more details.\n"
     ]
    },
    {
     "name": "stderr",
     "output_type": "stream",
     "text": [
      "Reading files...: 100%|██████████| 25/25 [00:12<00:00,  1.95it/s]"
     ]
    },
    {
     "name": "stdout",
     "output_type": "stream",
     "text": [
      "L1_EM22VHI trig_L2_cl_lhtight_et22toInf trig_L2_el_cut_pt20to50 trig_EF_el_lhtight_ivarloose\n",
      "L1_EM22VHI ringer_v8_tight trig_L2_el_cut_pt20to50 trig_EF_el_lhtight_ivarloose\n",
      "L1_EM22VHI trig_L2_cl_lhtight_et22toInf trig_L2_el_cut_pt20to50 trig_EF_el_lhtight_ivarloose\n",
      "L1_EM22VHI ringer_v8_tight trig_L2_el_cut_pt20to50 trig_EF_el_lhtight_ivarloose\n",
      "L1_EM24VHI trig_L2_cl_lhmedium_et22toInf trig_L2_el_cut_pt50toInf trig_EF_el_lhmedium\n",
      "L1_EM24VHI ringer_v8_medium trig_L2_el_cut_pt50toInf trig_EF_el_lhmedium\n",
      "L1_EM24VHI trig_L2_cl_lhloose_et22toInf trig_L2_el_cut_pt50toInf trig_EF_el_lhloose\n",
      "L1_EM24VHI ringer_v8_loose trig_L2_el_cut_pt50toInf trig_EF_el_lhloose\n"
     ]
    },
    {
     "name": "stderr",
     "output_type": "stream",
     "text": [
      "\n"
     ]
    }
   ],
   "source": [
    "simulation_logger.info('Simulating')\n",
    "filename_end = '*et4_eta0.npz' if dev else '*.npz'    #If dev, load only a part of the dataset\n",
    "datafiles = glob.glob(os.path.join(datasetpath, filename_end))  \n",
    "simulation_logger.info(f'glob_path: {os.path.join(datasetpath, filename_end)}')\n",
    "data = load_in_loop(datafiles, drop_columns=drop_cols, decorators=decorators, chains=chains)"
   ]
  },
  {
   "cell_type": "code",
   "execution_count": 7,
   "id": "029e6f47-07d1-4a8f-b610-0a1a75ea21d7",
   "metadata": {},
   "outputs": [
    {
     "data": {
      "text/html": [
       "<div>\n",
       "<style scoped>\n",
       "    .dataframe tbody tr th:only-of-type {\n",
       "        vertical-align: middle;\n",
       "    }\n",
       "\n",
       "    .dataframe tbody tr th {\n",
       "        vertical-align: top;\n",
       "    }\n",
       "\n",
       "    .dataframe thead th {\n",
       "        text-align: right;\n",
       "    }\n",
       "</style>\n",
       "<table border=\"1\" class=\"dataframe\">\n",
       "  <thead>\n",
       "    <tr style=\"text-align: right;\">\n",
       "      <th></th>\n",
       "      <th>avgmu</th>\n",
       "      <th>trig_L2_cl_et</th>\n",
       "      <th>trig_L2_cl_eta</th>\n",
       "      <th>trig_L2_cl_phi</th>\n",
       "      <th>trig_L2_cl_reta</th>\n",
       "      <th>trig_L2_cl_ehad1</th>\n",
       "      <th>trig_L2_cl_eratio</th>\n",
       "      <th>trig_L2_cl_f1</th>\n",
       "      <th>trig_L2_cl_f3</th>\n",
       "      <th>trig_L2_cl_weta2</th>\n",
       "      <th>...</th>\n",
       "      <th>L1Calo_e140_lhloose_nod0_noringer</th>\n",
       "      <th>L2Calo_e140_lhloose_nod0_noringer</th>\n",
       "      <th>L2_e140_lhloose_nod0_noringer</th>\n",
       "      <th>EFCalo_e140_lhloose_nod0_noringer</th>\n",
       "      <th>HLT_e140_lhloose_nod0_noringer</th>\n",
       "      <th>L1Calo_e140_lhloose_nod0_ringer_v8</th>\n",
       "      <th>L2Calo_e140_lhloose_nod0_ringer_v8</th>\n",
       "      <th>L2_e140_lhloose_nod0_ringer_v8</th>\n",
       "      <th>EFCalo_e140_lhloose_nod0_ringer_v8</th>\n",
       "      <th>HLT_e140_lhloose_nod0_ringer_v8</th>\n",
       "    </tr>\n",
       "  </thead>\n",
       "  <tbody>\n",
       "    <tr>\n",
       "      <th>0</th>\n",
       "      <td>55.490002</td>\n",
       "      <td>17387.986328</td>\n",
       "      <td>-0.334400</td>\n",
       "      <td>-0.708965</td>\n",
       "      <td>0.925877</td>\n",
       "      <td>1626.380493</td>\n",
       "      <td>0.982229</td>\n",
       "      <td>0.286768</td>\n",
       "      <td>0.004404</td>\n",
       "      <td>0.010177</td>\n",
       "      <td>...</td>\n",
       "      <td>False</td>\n",
       "      <td>False</td>\n",
       "      <td>False</td>\n",
       "      <td>False</td>\n",
       "      <td>False</td>\n",
       "      <td>False</td>\n",
       "      <td>False</td>\n",
       "      <td>False</td>\n",
       "      <td>False</td>\n",
       "      <td>False</td>\n",
       "    </tr>\n",
       "    <tr>\n",
       "      <th>1</th>\n",
       "      <td>25.490000</td>\n",
       "      <td>18339.359375</td>\n",
       "      <td>-0.029264</td>\n",
       "      <td>1.975188</td>\n",
       "      <td>0.988089</td>\n",
       "      <td>-184.739105</td>\n",
       "      <td>0.816197</td>\n",
       "      <td>0.085186</td>\n",
       "      <td>0.008879</td>\n",
       "      <td>0.009084</td>\n",
       "      <td>...</td>\n",
       "      <td>False</td>\n",
       "      <td>False</td>\n",
       "      <td>False</td>\n",
       "      <td>False</td>\n",
       "      <td>False</td>\n",
       "      <td>False</td>\n",
       "      <td>False</td>\n",
       "      <td>False</td>\n",
       "      <td>False</td>\n",
       "      <td>False</td>\n",
       "    </tr>\n",
       "    <tr>\n",
       "      <th>2</th>\n",
       "      <td>44.490002</td>\n",
       "      <td>19970.226562</td>\n",
       "      <td>0.278382</td>\n",
       "      <td>-2.358062</td>\n",
       "      <td>0.935216</td>\n",
       "      <td>-161.464890</td>\n",
       "      <td>0.890477</td>\n",
       "      <td>0.466089</td>\n",
       "      <td>-0.000920</td>\n",
       "      <td>0.011774</td>\n",
       "      <td>...</td>\n",
       "      <td>False</td>\n",
       "      <td>False</td>\n",
       "      <td>False</td>\n",
       "      <td>False</td>\n",
       "      <td>False</td>\n",
       "      <td>False</td>\n",
       "      <td>False</td>\n",
       "      <td>False</td>\n",
       "      <td>False</td>\n",
       "      <td>False</td>\n",
       "    </tr>\n",
       "    <tr>\n",
       "      <th>3</th>\n",
       "      <td>44.490002</td>\n",
       "      <td>17113.560547</td>\n",
       "      <td>0.618808</td>\n",
       "      <td>1.590098</td>\n",
       "      <td>0.962935</td>\n",
       "      <td>-130.190170</td>\n",
       "      <td>0.948033</td>\n",
       "      <td>0.320025</td>\n",
       "      <td>0.001840</td>\n",
       "      <td>0.009567</td>\n",
       "      <td>...</td>\n",
       "      <td>False</td>\n",
       "      <td>False</td>\n",
       "      <td>False</td>\n",
       "      <td>False</td>\n",
       "      <td>False</td>\n",
       "      <td>False</td>\n",
       "      <td>False</td>\n",
       "      <td>False</td>\n",
       "      <td>False</td>\n",
       "      <td>False</td>\n",
       "    </tr>\n",
       "    <tr>\n",
       "      <th>4</th>\n",
       "      <td>27.500000</td>\n",
       "      <td>18358.531250</td>\n",
       "      <td>-0.192658</td>\n",
       "      <td>1.274844</td>\n",
       "      <td>0.670090</td>\n",
       "      <td>5028.686035</td>\n",
       "      <td>0.138930</td>\n",
       "      <td>0.270767</td>\n",
       "      <td>0.011920</td>\n",
       "      <td>0.017711</td>\n",
       "      <td>...</td>\n",
       "      <td>False</td>\n",
       "      <td>False</td>\n",
       "      <td>False</td>\n",
       "      <td>False</td>\n",
       "      <td>False</td>\n",
       "      <td>False</td>\n",
       "      <td>False</td>\n",
       "      <td>False</td>\n",
       "      <td>False</td>\n",
       "      <td>False</td>\n",
       "    </tr>\n",
       "    <tr>\n",
       "      <th>...</th>\n",
       "      <td>...</td>\n",
       "      <td>...</td>\n",
       "      <td>...</td>\n",
       "      <td>...</td>\n",
       "      <td>...</td>\n",
       "      <td>...</td>\n",
       "      <td>...</td>\n",
       "      <td>...</td>\n",
       "      <td>...</td>\n",
       "      <td>...</td>\n",
       "      <td>...</td>\n",
       "      <td>...</td>\n",
       "      <td>...</td>\n",
       "      <td>...</td>\n",
       "      <td>...</td>\n",
       "      <td>...</td>\n",
       "      <td>...</td>\n",
       "      <td>...</td>\n",
       "      <td>...</td>\n",
       "      <td>...</td>\n",
       "      <td>...</td>\n",
       "    </tr>\n",
       "    <tr>\n",
       "      <th>78909</th>\n",
       "      <td>27.500000</td>\n",
       "      <td>128075.187500</td>\n",
       "      <td>-2.438052</td>\n",
       "      <td>-1.904484</td>\n",
       "      <td>0.943132</td>\n",
       "      <td>941.269287</td>\n",
       "      <td>98.999992</td>\n",
       "      <td>0.135097</td>\n",
       "      <td>0.003572</td>\n",
       "      <td>0.012791</td>\n",
       "      <td>...</td>\n",
       "      <td>True</td>\n",
       "      <td>False</td>\n",
       "      <td>False</td>\n",
       "      <td>False</td>\n",
       "      <td>False</td>\n",
       "      <td>True</td>\n",
       "      <td>False</td>\n",
       "      <td>False</td>\n",
       "      <td>False</td>\n",
       "      <td>False</td>\n",
       "    </tr>\n",
       "    <tr>\n",
       "      <th>78910</th>\n",
       "      <td>28.490000</td>\n",
       "      <td>185787.984375</td>\n",
       "      <td>2.409801</td>\n",
       "      <td>-0.867196</td>\n",
       "      <td>0.935138</td>\n",
       "      <td>661.861816</td>\n",
       "      <td>0.987012</td>\n",
       "      <td>0.090264</td>\n",
       "      <td>0.006514</td>\n",
       "      <td>0.011028</td>\n",
       "      <td>...</td>\n",
       "      <td>True</td>\n",
       "      <td>True</td>\n",
       "      <td>True</td>\n",
       "      <td>True</td>\n",
       "      <td>True</td>\n",
       "      <td>True</td>\n",
       "      <td>True</td>\n",
       "      <td>True</td>\n",
       "      <td>True</td>\n",
       "      <td>True</td>\n",
       "    </tr>\n",
       "    <tr>\n",
       "      <th>78911</th>\n",
       "      <td>40.500000</td>\n",
       "      <td>209329.828125</td>\n",
       "      <td>2.445210</td>\n",
       "      <td>-0.194242</td>\n",
       "      <td>0.947895</td>\n",
       "      <td>-980.814575</td>\n",
       "      <td>98.999992</td>\n",
       "      <td>0.151062</td>\n",
       "      <td>0.003450</td>\n",
       "      <td>0.011621</td>\n",
       "      <td>...</td>\n",
       "      <td>True</td>\n",
       "      <td>True</td>\n",
       "      <td>True</td>\n",
       "      <td>True</td>\n",
       "      <td>True</td>\n",
       "      <td>True</td>\n",
       "      <td>True</td>\n",
       "      <td>True</td>\n",
       "      <td>True</td>\n",
       "      <td>True</td>\n",
       "    </tr>\n",
       "    <tr>\n",
       "      <th>78912</th>\n",
       "      <td>25.500000</td>\n",
       "      <td>450941.250000</td>\n",
       "      <td>-2.381941</td>\n",
       "      <td>-1.859414</td>\n",
       "      <td>0.941024</td>\n",
       "      <td>2041.526855</td>\n",
       "      <td>0.981410</td>\n",
       "      <td>0.096922</td>\n",
       "      <td>0.006910</td>\n",
       "      <td>0.011279</td>\n",
       "      <td>...</td>\n",
       "      <td>True</td>\n",
       "      <td>True</td>\n",
       "      <td>True</td>\n",
       "      <td>True</td>\n",
       "      <td>False</td>\n",
       "      <td>True</td>\n",
       "      <td>True</td>\n",
       "      <td>True</td>\n",
       "      <td>True</td>\n",
       "      <td>False</td>\n",
       "    </tr>\n",
       "    <tr>\n",
       "      <th>78913</th>\n",
       "      <td>25.500000</td>\n",
       "      <td>450941.250000</td>\n",
       "      <td>-2.381941</td>\n",
       "      <td>-1.859414</td>\n",
       "      <td>0.941024</td>\n",
       "      <td>2041.526855</td>\n",
       "      <td>0.981410</td>\n",
       "      <td>0.096922</td>\n",
       "      <td>0.006910</td>\n",
       "      <td>0.011279</td>\n",
       "      <td>...</td>\n",
       "      <td>True</td>\n",
       "      <td>True</td>\n",
       "      <td>True</td>\n",
       "      <td>True</td>\n",
       "      <td>True</td>\n",
       "      <td>True</td>\n",
       "      <td>True</td>\n",
       "      <td>True</td>\n",
       "      <td>True</td>\n",
       "      <td>True</td>\n",
       "    </tr>\n",
       "  </tbody>\n",
       "</table>\n",
       "<p>78914 rows × 217 columns</p>\n",
       "</div>"
      ],
      "text/plain": [
       "           avgmu  trig_L2_cl_et  trig_L2_cl_eta  trig_L2_cl_phi  \\\n",
       "0      55.490002   17387.986328       -0.334400       -0.708965   \n",
       "1      25.490000   18339.359375       -0.029264        1.975188   \n",
       "2      44.490002   19970.226562        0.278382       -2.358062   \n",
       "3      44.490002   17113.560547        0.618808        1.590098   \n",
       "4      27.500000   18358.531250       -0.192658        1.274844   \n",
       "...          ...            ...             ...             ...   \n",
       "78909  27.500000  128075.187500       -2.438052       -1.904484   \n",
       "78910  28.490000  185787.984375        2.409801       -0.867196   \n",
       "78911  40.500000  209329.828125        2.445210       -0.194242   \n",
       "78912  25.500000  450941.250000       -2.381941       -1.859414   \n",
       "78913  25.500000  450941.250000       -2.381941       -1.859414   \n",
       "\n",
       "       trig_L2_cl_reta  trig_L2_cl_ehad1  trig_L2_cl_eratio  trig_L2_cl_f1  \\\n",
       "0             0.925877       1626.380493           0.982229       0.286768   \n",
       "1             0.988089       -184.739105           0.816197       0.085186   \n",
       "2             0.935216       -161.464890           0.890477       0.466089   \n",
       "3             0.962935       -130.190170           0.948033       0.320025   \n",
       "4             0.670090       5028.686035           0.138930       0.270767   \n",
       "...                ...               ...                ...            ...   \n",
       "78909         0.943132        941.269287          98.999992       0.135097   \n",
       "78910         0.935138        661.861816           0.987012       0.090264   \n",
       "78911         0.947895       -980.814575          98.999992       0.151062   \n",
       "78912         0.941024       2041.526855           0.981410       0.096922   \n",
       "78913         0.941024       2041.526855           0.981410       0.096922   \n",
       "\n",
       "       trig_L2_cl_f3  trig_L2_cl_weta2  ...  \\\n",
       "0           0.004404          0.010177  ...   \n",
       "1           0.008879          0.009084  ...   \n",
       "2          -0.000920          0.011774  ...   \n",
       "3           0.001840          0.009567  ...   \n",
       "4           0.011920          0.017711  ...   \n",
       "...              ...               ...  ...   \n",
       "78909       0.003572          0.012791  ...   \n",
       "78910       0.006514          0.011028  ...   \n",
       "78911       0.003450          0.011621  ...   \n",
       "78912       0.006910          0.011279  ...   \n",
       "78913       0.006910          0.011279  ...   \n",
       "\n",
       "       L1Calo_e140_lhloose_nod0_noringer  L2Calo_e140_lhloose_nod0_noringer  \\\n",
       "0                                  False                              False   \n",
       "1                                  False                              False   \n",
       "2                                  False                              False   \n",
       "3                                  False                              False   \n",
       "4                                  False                              False   \n",
       "...                                  ...                                ...   \n",
       "78909                               True                              False   \n",
       "78910                               True                               True   \n",
       "78911                               True                               True   \n",
       "78912                               True                               True   \n",
       "78913                               True                               True   \n",
       "\n",
       "       L2_e140_lhloose_nod0_noringer  EFCalo_e140_lhloose_nod0_noringer  \\\n",
       "0                              False                              False   \n",
       "1                              False                              False   \n",
       "2                              False                              False   \n",
       "3                              False                              False   \n",
       "4                              False                              False   \n",
       "...                              ...                                ...   \n",
       "78909                          False                              False   \n",
       "78910                           True                               True   \n",
       "78911                           True                               True   \n",
       "78912                           True                               True   \n",
       "78913                           True                               True   \n",
       "\n",
       "       HLT_e140_lhloose_nod0_noringer  L1Calo_e140_lhloose_nod0_ringer_v8  \\\n",
       "0                               False                               False   \n",
       "1                               False                               False   \n",
       "2                               False                               False   \n",
       "3                               False                               False   \n",
       "4                               False                               False   \n",
       "...                               ...                                 ...   \n",
       "78909                           False                                True   \n",
       "78910                            True                                True   \n",
       "78911                            True                                True   \n",
       "78912                           False                                True   \n",
       "78913                            True                                True   \n",
       "\n",
       "       L2Calo_e140_lhloose_nod0_ringer_v8  L2_e140_lhloose_nod0_ringer_v8  \\\n",
       "0                                   False                           False   \n",
       "1                                   False                           False   \n",
       "2                                   False                           False   \n",
       "3                                   False                           False   \n",
       "4                                   False                           False   \n",
       "...                                   ...                             ...   \n",
       "78909                               False                           False   \n",
       "78910                                True                            True   \n",
       "78911                                True                            True   \n",
       "78912                                True                            True   \n",
       "78913                                True                            True   \n",
       "\n",
       "       EFCalo_e140_lhloose_nod0_ringer_v8  HLT_e140_lhloose_nod0_ringer_v8  \n",
       "0                                   False                            False  \n",
       "1                                   False                            False  \n",
       "2                                   False                            False  \n",
       "3                                   False                            False  \n",
       "4                                   False                            False  \n",
       "...                                   ...                              ...  \n",
       "78909                               False                            False  \n",
       "78910                                True                             True  \n",
       "78911                                True                             True  \n",
       "78912                                True                            False  \n",
       "78913                                True                             True  \n",
       "\n",
       "[78914 rows x 217 columns]"
      ]
     },
     "execution_count": 7,
     "metadata": {},
     "output_type": "execute_result"
    }
   ],
   "source": [
    "data"
   ]
  },
  {
   "cell_type": "code",
   "execution_count": null,
   "id": "a176a9f4-0038-4086-9493-627ef71f53e7",
   "metadata": {},
   "outputs": [],
   "source": [
    "selection_cols"
   ]
  },
  {
   "cell_type": "markdown",
   "id": "8e1b2e85",
   "metadata": {},
   "source": [
    "## Saving data"
   ]
  },
  {
   "cell_type": "code",
   "execution_count": 8,
   "id": "99da56c2-5d7e-4aee-8514-db77232eb099",
   "metadata": {},
   "outputs": [
    {
     "name": "stderr",
     "output_type": "stream",
     "text": [
      "2022-08-30 09:27:01,312 - Saving_data\n"
     ]
    }
   ],
   "source": [
    "simulation_logger.info('Saving_data')\n",
    "output_dir = os.path.join(datasetpath, 'simulated_chains')\n",
    "save_cols = [f'el_lh{criterion}' for criterion in criteria_conf_names.keys()]\n",
    "save_cols += ['trig_L2_el_pt', 'avgmu', 'el_et', 'el_eta', 'el_TaP_deltaR']\n",
    "save_cols += ['target']\n",
    "last_strat = None"
   ]
  },
  {
   "cell_type": "code",
   "execution_count": 10,
   "id": "5b50206e-e27e-4b8b-8bc6-a2c696411bdd",
   "metadata": {},
   "outputs": [
    {
     "data": {
      "text/plain": [
       "['HLT_e24_lhtight_nod0_noringer_ivarloose',\n",
       " 'L2Calo_e24_lhtight_nod0_noringer_ivarloose',\n",
       " 'L2_e24_lhtight_nod0_noringer_ivarloose',\n",
       " 'EFCalo_e24_lhtight_nod0_noringer_ivarloose',\n",
       " 'HLT_e26_lhtight_nod0_noringer_ivarloose',\n",
       " 'L2Calo_e26_lhtight_nod0_noringer_ivarloose',\n",
       " 'L2_e26_lhtight_nod0_noringer_ivarloose',\n",
       " 'EFCalo_e26_lhtight_nod0_noringer_ivarloose',\n",
       " 'HLT_e60_lhmedium_nod0_noringer_L1EM24VHI',\n",
       " 'L2Calo_e60_lhmedium_nod0_noringer_L1EM24VHI',\n",
       " 'L2_e60_lhmedium_nod0_noringer_L1EM24VHI',\n",
       " 'EFCalo_e60_lhmedium_nod0_noringer_L1EM24VHI',\n",
       " 'HLT_e140_lhloose_nod0_noringer',\n",
       " 'L2Calo_e140_lhloose_nod0_noringer',\n",
       " 'L2_e140_lhloose_nod0_noringer',\n",
       " 'EFCalo_e140_lhloose_nod0_noringer']"
      ]
     },
     "execution_count": 10,
     "metadata": {},
     "output_type": "execute_result"
    }
   ],
   "source": [
    "strategy_cols['noringer']"
   ]
  },
  {
   "cell_type": "code",
   "execution_count": 9,
   "id": "1bd551bf-b4ea-46bf-89b3-9d4fc7813f10",
   "metadata": {
    "collapsed": true,
    "jupyter": {
     "outputs_hidden": true
    },
    "tags": []
   },
   "outputs": [
    {
     "name": "stderr",
     "output_type": "stream",
     "text": [
      "2022-08-30 09:27:01,334 - Generating ringer_v8_et0_eta0\n",
      "2022-08-30 09:27:01,382 - Saving: ringer_v8_et0_eta0\n",
      "2022-08-30 09:27:01,487 - Generating ringer_v8_et0_eta1\n",
      "2022-08-30 09:27:01,492 - Saving: ringer_v8_et0_eta1\n",
      "2022-08-30 09:27:01,535 - Generating ringer_v8_et0_eta2\n",
      "2022-08-30 09:27:01,539 - Saving: ringer_v8_et0_eta2\n",
      "2022-08-30 09:27:01,580 - Generating ringer_v8_et0_eta3\n",
      "2022-08-30 09:27:01,583 - Saving: ringer_v8_et0_eta3\n",
      "2022-08-30 09:27:01,624 - Generating ringer_v8_et0_eta4\n",
      "2022-08-30 09:27:01,627 - Saving: ringer_v8_et0_eta4\n",
      "2022-08-30 09:27:01,667 - Generating ringer_v8_et1_eta0\n",
      "2022-08-30 09:27:01,671 - Saving: ringer_v8_et1_eta0\n",
      "2022-08-30 09:27:01,715 - Generating ringer_v8_et1_eta1\n",
      "2022-08-30 09:27:01,719 - Saving: ringer_v8_et1_eta1\n",
      "2022-08-30 09:27:01,762 - Generating ringer_v8_et1_eta2\n",
      "2022-08-30 09:27:01,766 - Saving: ringer_v8_et1_eta2\n",
      "2022-08-30 09:27:01,809 - Generating ringer_v8_et1_eta3\n",
      "2022-08-30 09:27:01,813 - Saving: ringer_v8_et1_eta3\n",
      "2022-08-30 09:27:01,856 - Generating ringer_v8_et1_eta4\n",
      "2022-08-30 09:27:01,860 - Saving: ringer_v8_et1_eta4\n",
      "2022-08-30 09:27:01,900 - Generating ringer_v8_et2_eta0\n",
      "2022-08-30 09:27:01,904 - Saving: ringer_v8_et2_eta0\n",
      "2022-08-30 09:27:01,945 - Generating ringer_v8_et2_eta1\n",
      "2022-08-30 09:27:01,948 - Saving: ringer_v8_et2_eta1\n",
      "2022-08-30 09:27:01,993 - Generating ringer_v8_et2_eta2\n",
      "2022-08-30 09:27:01,997 - Saving: ringer_v8_et2_eta2\n",
      "2022-08-30 09:27:02,039 - Generating ringer_v8_et2_eta3\n",
      "2022-08-30 09:27:02,043 - Saving: ringer_v8_et2_eta3\n",
      "2022-08-30 09:27:02,086 - Generating ringer_v8_et2_eta4\n",
      "2022-08-30 09:27:02,089 - Saving: ringer_v8_et2_eta4\n",
      "2022-08-30 09:27:02,132 - Generating ringer_v8_et3_eta0\n",
      "2022-08-30 09:27:02,136 - Saving: ringer_v8_et3_eta0\n",
      "2022-08-30 09:27:02,177 - Generating ringer_v8_et3_eta1\n",
      "2022-08-30 09:27:02,181 - Saving: ringer_v8_et3_eta1\n",
      "2022-08-30 09:27:02,224 - Generating ringer_v8_et3_eta2\n",
      "2022-08-30 09:27:02,228 - Saving: ringer_v8_et3_eta2\n",
      "2022-08-30 09:27:02,272 - Generating ringer_v8_et3_eta3\n",
      "2022-08-30 09:27:02,277 - Saving: ringer_v8_et3_eta3\n",
      "2022-08-30 09:27:02,321 - Generating ringer_v8_et3_eta4\n",
      "2022-08-30 09:27:02,324 - Saving: ringer_v8_et3_eta4\n",
      "2022-08-30 09:27:02,368 - Generating ringer_v8_et4_eta0\n",
      "2022-08-30 09:27:02,382 - Saving: ringer_v8_et4_eta0\n",
      "2022-08-30 09:27:02,476 - Generating ringer_v8_et4_eta1\n",
      "2022-08-30 09:27:02,488 - Saving: ringer_v8_et4_eta1\n",
      "2022-08-30 09:27:02,576 - Generating ringer_v8_et4_eta2\n",
      "2022-08-30 09:27:02,583 - Saving: ringer_v8_et4_eta2\n",
      "2022-08-30 09:27:02,635 - Generating ringer_v8_et4_eta3\n",
      "2022-08-30 09:27:02,642 - Saving: ringer_v8_et4_eta3\n",
      "2022-08-30 09:27:02,703 - Generating ringer_v8_et4_eta4\n",
      "2022-08-30 09:27:02,707 - Saving: ringer_v8_et4_eta4\n"
     ]
    }
   ],
   "source": [
    "for strategy, et_bin_idx, eta_bin_idx in product(strategy_cols.keys(), et_bins_idxs, eta_bins_idxs):\n",
    "    outname = f'{strategy}_et{et_bin_idx}_eta{eta_bin_idx}'\n",
    "    simulation_logger.info(f'Generating {outname}')\n",
    "    strategy_out = os.path.join(output_dir, strategy + '.parquet')\n",
    "    if not os.path.exists(strategy_out):\n",
    "        os.makedirs(strategy_out)\n",
    "\n",
    "    selection_cols = strategy_cols[strategy] + save_cols\n",
    "    if last_strat != strategy:\n",
    "        with open(os.path.join(output_dir, f'{strategy}_cols.json'), 'w') as json_file:\n",
    "            json.dump(selection_cols, json_file, indent=4)\n",
    "        last_strat = deepcopy(strategy)\n",
    "\n",
    "    et_min, et_max = et_bins[et_bin_idx:et_bin_idx+2]\n",
    "    eta_min, eta_max = eta_bins[eta_bin_idx:eta_bin_idx+2]\n",
    "    bin_selector = (data['el_et'] >= (et_min*GeV)) & (data['el_et'] < (et_max*GeV))\n",
    "    bin_selector = bin_selector & (data['el_eta'].abs() >= eta_min) & (data['el_eta'].abs() < eta_max)\n",
    "    selected_data = data.loc[bin_selector, selection_cols]\n",
    "\n",
    "    simulation_logger.info(f'Saving: {outname}')\n",
    "    selected_data.to_parquet(os.path.join(strategy_out, outname + '.parquet'))"
   ]
  },
  {
   "cell_type": "markdown",
   "id": "f12e09db",
   "metadata": {},
   "source": [
    "## Loading"
   ]
  },
  {
   "cell_type": "code",
   "execution_count": 13,
   "id": "c366a83e-ba36-40f1-a928-ac51d4236ada",
   "metadata": {
    "tags": []
   },
   "outputs": [
    {
     "name": "stdout",
     "output_type": "stream",
     "text": [
      "Read time: 0:00:00.115821\n"
     ]
    }
   ],
   "source": [
    "start = datetime.now()\n",
    "read_data = pd.read_parquet(os.path.join(HOME_PATH, \n",
    "    '/data/mc16_13TeV.302236_309995_341330.sgn.boosted_probes.WZ_llqq_plus_radion_ZZ_llqq_plus_ggH3000.merge.25bins.v2/simulated_chains/ringer_v8.parquet'))\n",
    "end = datetime.now()\n",
    "print(f'Read time: {end-start}')"
   ]
  },
  {
   "cell_type": "code",
   "execution_count": 12,
   "id": "69b6f482-0725-49a9-a741-506792af2e80",
   "metadata": {
    "tags": []
   },
   "outputs": [
    {
     "name": "stdout",
     "output_type": "stream",
     "text": [
      "ringer_v8_tight\n",
      "ringer_v8_tight_output\n",
      "ringer_v8_medium\n",
      "ringer_v8_medium_output\n",
      "ringer_v8_loose\n",
      "ringer_v8_loose_output\n",
      "ringer_v8_vloose\n",
      "ringer_v8_vloose_output\n",
      "HLT_e24_lhtight_nod0_ringer_v8_ivarloose\n",
      "L2Calo_e24_lhtight_nod0_ringer_v8_ivarloose\n",
      "L2_e24_lhtight_nod0_ringer_v8_ivarloose\n",
      "EFCalo_e24_lhtight_nod0_ringer_v8_ivarloose\n",
      "HLT_e26_lhtight_nod0_ringer_v8_ivarloose\n",
      "L2Calo_e26_lhtight_nod0_ringer_v8_ivarloose\n",
      "L2_e26_lhtight_nod0_ringer_v8_ivarloose\n",
      "EFCalo_e26_lhtight_nod0_ringer_v8_ivarloose\n",
      "HLT_e60_lhmedium_nod0_ringer_v8_L1EM24VHI\n",
      "L2Calo_e60_lhmedium_nod0_ringer_v8_L1EM24VHI\n",
      "L2_e60_lhmedium_nod0_ringer_v8_L1EM24VHI\n",
      "EFCalo_e60_lhmedium_nod0_ringer_v8_L1EM24VHI\n",
      "HLT_e140_lhloose_nod0_ringer_v8\n",
      "L2Calo_e140_lhloose_nod0_ringer_v8\n",
      "L2_e140_lhloose_nod0_ringer_v8\n",
      "EFCalo_e140_lhloose_nod0_ringer_v8\n",
      "el_lhtight\n",
      "el_lhmedium\n",
      "el_lhloose\n",
      "el_lhvloose\n",
      "trig_L2_el_pt\n",
      "avgmu\n",
      "el_et\n",
      "el_eta\n",
      "el_TaP_deltaR\n",
      "target\n"
     ]
    }
   ],
   "source": [
    "for col in read_data.columns:\n",
    "    if not col.startswith('trig_L2_cl_ring'):\n",
    "        print(col)"
   ]
  }
 ],
 "metadata": {
  "kernelspec": {
   "display_name": "Python 3",
   "language": "python",
   "name": "python3"
  },
  "language_info": {
   "codemirror_mode": {
    "name": "ipython",
    "version": 3
   },
   "file_extension": ".py",
   "mimetype": "text/x-python",
   "name": "python",
   "nbconvert_exporter": "python",
   "pygments_lexer": "ipython3",
   "version": "3.6.9"
  }
 },
 "nbformat": 4,
 "nbformat_minor": 5
}
