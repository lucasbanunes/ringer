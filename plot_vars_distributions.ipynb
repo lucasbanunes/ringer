{
 "cells": [
  {
   "cell_type": "markdown",
   "metadata": {
    "tags": []
   },
   "source": [
    "## Setup"
   ]
  },
  {
   "cell_type": "code",
   "execution_count": 1,
   "metadata": {},
   "outputs": [
    {
     "name": "stdout",
     "output_type": "stream",
     "text": [
      "Welcome to JupyROOT 6.16/00\n",
      "Using all sub packages with ROOT dependence\n"
     ]
    }
   ],
   "source": [
    "from itertools import product\n",
    "import mplhep as hep\n",
    "import ROOT\n",
    "ROOT.gStyle.SetOptStat(0);\n",
    "import pandas as pd\n",
    "import numpy as np\n",
    "import os\n",
    "import matplotlib.pyplot as plt\n",
    "from Gaugi import GeV\n",
    "plt.style.use(hep.style.ROOT)\n",
    "import warnings\n",
    "warnings.filterwarnings('ignore')\n",
    "from argparse import ArgumentParser\n",
    "from typing import List\n",
    "import joblib\n",
    "import seaborn as sns\n",
    "from matplotlib import rcParams\n",
    "\n",
    "# figure size in inches\n",
    "rcParams['figure.figsize'] = 15,10\n",
    "%matplotlib inline\n",
    "\n",
    "from packages.plotting import var_infos, plot_distribution\n",
    "import packages.utils as utils\n",
    "from packages.constants import CRITERIA_CONF_NAMES, HOME_PATH"
   ]
  },
  {
   "cell_type": "code",
   "execution_count": 10,
   "metadata": {},
   "outputs": [
    {
     "ename": "ValueError",
     "evalue": "could not convert string to float: 'None'",
     "output_type": "error",
     "traceback": [
      "\u001b[0;31m---------------------------------------------------------------------------\u001b[0m",
      "\u001b[0;31mValueError\u001b[0m                                Traceback (most recent call last)",
      "\u001b[0;32m<ipython-input-10-c7464cffce6a>\u001b[0m in \u001b[0;36m<module>\u001b[0;34m\u001b[0m\n\u001b[0;32m----> 1\u001b[0;31m \u001b[0mfloat\u001b[0m\u001b[0;34m(\u001b[0m\u001b[0;34m'None'\u001b[0m\u001b[0;34m)\u001b[0m\u001b[0;34m\u001b[0m\u001b[0;34m\u001b[0m\u001b[0m\n\u001b[0m",
      "\u001b[0;31mValueError\u001b[0m: could not convert string to float: 'None'"
     ]
    }
   ],
   "source": [
    "float('None')"
   ]
  },
  {
   "cell_type": "code",
   "execution_count": 2,
   "metadata": {},
   "outputs": [],
   "source": [
    "def joint_plots(data, x, y, et_cut=None, ylim=None,\n",
    "                      xlim=None, xlabel=None, ylabel=None, data_label=None, criterion=None,\n",
    "                      title=None, cmap=None, marg_color=None, figsize=None):\n",
    "    if (data_label is not None) and (data_label != 'all') and (criterion is not None):\n",
    "        data_labeling_func = utils.LABEL_UTILITIES[data_label]\n",
    "        data = data[data_labeling_func(data, f'el_lh{criterion}')]\n",
    "    if et_cut is not None:\n",
    "        data = data[data[var_infos['et']['l2_calo_col']] < et_cut]\n",
    "    jplot = sns.jointplot(data=data, x=x, y=y, kind='hist', \n",
    "                  marginal_kws=dict(thresh=0, color=marg_color),\n",
    "                  marginal_ticks=True, xlim=xlim, ylim=ylim,\n",
    "                  joint_kws=dict(thresh=0, cmap=cmap, cbar=True, cbar_kws=dict(orientation=\"vertical\")))\n",
    "    \n",
    "    plt.subplots_adjust(left=0.1, right=0.8, top=0.9, bottom=0.1)\n",
    "    # get the current positions of the joint ax and the ax for the marginal x\n",
    "    pos_joint_ax = jplot.ax_joint.get_position()\n",
    "    pos_marg_x_ax = jplot.ax_marg_x.get_position()\n",
    "    pos_marg_y_ax = jplot.ax_marg_y.get_position()\n",
    "    # reposition the joint ax so it has the same width as the marginal x ax\n",
    "    jplot.ax_joint.set_position([pos_joint_ax.x0, pos_joint_ax.y0, pos_marg_x_ax.width, pos_joint_ax.height])\n",
    "    # reposition the colorbar using new x positions and y positions of the joint ax\n",
    "    \n",
    "    if xlabel is not None:\n",
    "        jplot.ax_joint.set_xlabel(xlabel)\n",
    "    if ylabel is not None:\n",
    "        jplot.ax_joint.set_ylabel(ylabel)\n",
    "    \n",
    "    jplot.figure.axes[-1].set_position([.83, pos_joint_ax.y0, .07, pos_joint_ax.height])\n",
    "    jplot.figure.patch.set_facecolor('white')\n",
    "    jplot.figure.suptitle(title, fontsize='xx-large')\n",
    "    if figsize is not None:\n",
    "        jplot.figure.set_figwidth(figsize[0])\n",
    "        jplot.figure.set_figheight(figsize[1])\n",
    "    jplot.figure.text(0.7, 0.9, f'Samples:\\n{len(data)}', fontsize=14,\n",
    "                        verticalalignment='top', wrap=True)\n",
    "    jplot.figure.tight_layout()\n",
    "    return jplot"
   ]
  },
  {
   "cell_type": "markdown",
   "metadata": {
    "tags": []
   },
   "source": [
    "## Parameters"
   ]
  },
  {
   "cell_type": "code",
   "execution_count": 3,
   "metadata": {},
   "outputs": [],
   "source": [
    "# DATASETS\n",
    "# boosted: mc16_13TeV.302236_309995_341330.sgn.boosted_probes.WZ_llqq_plus_radion_ZZ_llqq_plus_ggH3000.merge.25bins.v2\n",
    "# data17: data17_13TeV.AllPeriods.sgn.probes_lhvloose_EGAM1.bkg.vprobes_vlhvloose_EGAM7.GRL_v97.25bins\n",
    "\n",
    "# MODELS'\n",
    "# tunings/TrigL2_20180125_v8\n",
    "# tunings/TrigL2_20210907_v12 (v8.1-2)\n",
    "# tunings/TrigL2_20210306_v10\n",
    "# tunings/TrigL2_20220822_v10.1\n",
    "# tunings/TrigL2_20220704_v20\n",
    "# tunings/TrigL2_20220802_v20.1\n",
    "\n",
    "# VARS: et eta mu pt dr\n",
    "\n",
    "datasetpath = os.path.join(HOME_PATH, \n",
    "   'data/mc16_13TeV.302236_309995_341330.sgn.boosted_probes.WZ_llqq_plus_radion_ZZ_llqq_plus_ggH3000.merge.25bins.v2')\n",
    "\n",
    "modelpaths = [\n",
    "    'tunings/TrigL2_20180125_v8'\n",
    "    #'tunings/TrigL2_20210907_v12 (v8.1-2)',\n",
    "    #'tunings/TrigL2_20220704_v20',\n",
    "    #'tunings/TrigL2_20220802_v20.1',\n",
    "    #'tunings/TrigL2_20210306_v10',\n",
    "    #'tunings/TrigL2_20220822_v10.1'\n",
    "]\n",
    "\n",
    "output_dir = 'analysis/jointplot_test'\n",
    "plot_vars = ['dr']#['et', 'eta', 'pt', 'mu', 'dr']\n",
    "data_labels = ['electron']\n",
    "criteria = ['tight'] #list(CRITERIA_CONF_NAMES.keys())\n",
    "et_cut=300.0\n",
    "\n",
    "dev = False\n",
    "log = False\n",
    "\n",
    "# Initializing logger\n",
    "plot_logger = utils.get_logger('plot_vars_distributions', file=log)"
   ]
  },
  {
   "cell_type": "markdown",
   "metadata": {
    "tags": []
   },
   "source": [
    "## Getting models"
   ]
  },
  {
   "cell_type": "code",
   "execution_count": 4,
   "metadata": {},
   "outputs": [
    {
     "name": "stderr",
     "output_type": "stream",
     "text": [
      "2022-09-02 11:28:57,666 - Getting models\n"
     ]
    }
   ],
   "source": [
    "plot_logger.info('Getting models')\n",
    "trigger_strategies = []\n",
    "aux_conf_name = CRITERIA_CONF_NAMES['tight']\n",
    "for modelpath in modelpaths:\n",
    "    confpath = os.path.join(modelpath, aux_conf_name)\n",
    "    env = ROOT.TEnv(confpath)\n",
    "    ringer_version = env.GetValue(\"__version__\", '')\n",
    "    ringer_name = f'ringer_{ringer_version}'\n",
    "    trigger_strategies.append(ringer_name)"
   ]
  },
  {
   "cell_type": "markdown",
   "metadata": {},
   "source": [
    "## Plotting"
   ]
  },
  {
   "cell_type": "code",
   "execution_count": 5,
   "metadata": {
    "tags": []
   },
   "outputs": [
    {
     "name": "stderr",
     "output_type": "stream",
     "text": [
      "2022-09-02 11:28:57,714 - Loading: ringer_v8.parquet\n",
      "2022-09-02 11:28:57,977 - Plotting electron tight var dr for ringer_v8\n"
     ]
    },
    {
     "data": {
      "image/png": "[encoded data removed]",
      "text/plain": [
       "<Figure size 1080x720 with 4 Axes>"
      ]
     },
     "metadata": {},
     "output_type": "display_data"
    }
   ],
   "source": [
    "plots = dict()\n",
    "xlims = dict(pt=(0,300), et=(0,300), dr=(0,0.6), mu=(0,100), eta=(-2.5,2.5))\n",
    "ylims = dict(pt=(-25,25), et=(-20,20), dr=(-10,10), mu=(-20,20), eta=(-20,20))\n",
    "for trig_strat in trigger_strategies:\n",
    "    plots[trig_strat] = dict()\n",
    "    parquet_file = trig_strat + '.parquet'\n",
    "    chainpath = os.path.join(datasetpath, 'simulated_chains', parquet_file)\n",
    "    if dev:\n",
    "        chainpath = os.path.join(chainpath, f'{trig_strat}_et4_eta4.parquet')\n",
    "    plot_logger.info(f'Loading: {parquet_file}')\n",
    "    data = pd.read_parquet(chainpath)\n",
    "    # Casting variables to GeV (They come in MeV)\n",
    "    data[var_infos['pt']['col']] = data[var_infos['pt']['col']]/GeV\n",
    "    data[var_infos['et']['col']] = data[var_infos['et']['col']]/GeV\n",
    "    data[var_infos['et']['l2_calo_col']] = data[var_infos['et']['l2_calo_col']]/GeV\n",
    "    for var, data_label, criterion in product(plot_vars, data_labels, criteria):\n",
    "        plot_logger.info(f'Plotting {data_label} {criterion} var {var} for {trig_strat}')\n",
    "        strat_name = trig_strat.capitalize().replace('_', ' ')\n",
    "        text_label = var_infos[var][\"label\"].replace('#', '\\\\')\n",
    "\n",
    "        if data_label == 'electron':\n",
    "            title = fr'{strat_name} Output x ${text_label}$ el_lh{criterion} approved'\n",
    "        elif data_label == 'jet':\n",
    "            title = fr'{strat_name} Output x ${text_label}$ el_lh{criterion} reproved'\n",
    "        elif data_label == 'all':\n",
    "            title = fr'{strat_name} Output x ${text_label}$'\n",
    "\n",
    "        if type(et_cut) is float:\n",
    "            et_cut = round(et_cut, 2)\n",
    "            title += f' with $E_T < {et_cut} GeV$'\n",
    "\n",
    "        jplot = plot_distribution(data, y=f'{trig_strat}_{criterion}_output', x=var_infos[var]['col'], ylim=ylims[var],\n",
    "                                    data_label=data_label, criterion=criterion, xlabel=fr'${text_label}$', xlim=xlims[var],\n",
    "                                    ylabel=f'{trig_strat.capitalize().replace(\"_\", \" \")} Output', et_cut=et_cut,\n",
    "                                    title = title, cmap=\"icefire_r\", marg_color='black', figsize=(15,10))\n",
    "        # jplot.ax_joint.text(0.05, 0.95, f'Samples: {len(data)}', transform=fig.axes[0].transAxes, fontsize=14,\n",
    "        #                     verticalalignment='top', bbox=dict(boxstyle='round', facecolor='wheat', alpha=0.5))\n",
    "        plot_output_dir = os.path.join(output_dir, f'output_distributions_{data_label}', var)\n",
    "        plot_name = f'{var}_{trig_strat}_{data_label}_{criterion}_distribution_et_cut_{et_cut}'\n",
    "        if not os.path.exists(plot_output_dir):\n",
    "            os.makedirs(plot_output_dir)\n",
    "        jplot.figure.savefig(os.path.join(plot_output_dir, plot_name + '.png'), transparent=False, facecolor='white', dpi=300)\n",
    "        #joblib.dump((fig, axes), os.path.join(plot_output_dir, plot_name + '.joblib'))\n",
    "        #plots[trig_strat][plot_name] = (fig, axes)"
   ]
  },
  {
   "cell_type": "code",
   "execution_count": 6,
   "metadata": {},
   "outputs": [],
   "source": [
    "plt.close('all')"
   ]
  },
  {
   "cell_type": "code",
   "execution_count": 7,
   "metadata": {},
   "outputs": [
    {
     "name": "stderr",
     "output_type": "stream",
     "text": [
      "2022-09-02 11:29:00,934 - Finished\n"
     ]
    }
   ],
   "source": [
    "plot_logger.info('Finished')"
   ]
  }
 ],
 "metadata": {
  "kernelspec": {
   "display_name": "Python 3",
   "language": "python",
   "name": "python3"
  },
  "language_info": {
   "codemirror_mode": {
    "name": "ipython",
    "version": 3
   },
   "file_extension": ".py",
   "mimetype": "text/x-python",
   "name": "python",
   "nbconvert_exporter": "python",
   "pygments_lexer": "ipython3",
   "version": "3.6.9"
  },
  "vscode": {
   "interpreter": {
    "hash": "916dbcbb3f70747c44a77c7bcd40155683ae19c65e1c03b4aa3499c5328201f1"
   }
  }
 },
 "nbformat": 4,
 "nbformat_minor": 4
}
