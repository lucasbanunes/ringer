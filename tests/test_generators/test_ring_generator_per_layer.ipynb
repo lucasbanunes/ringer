{
 "cells": [
  {
   "cell_type": "code",
   "execution_count": 1,
   "id": "1164b36f-8d6d-442c-8880-d5db2f168cd9",
   "metadata": {},
   "outputs": [],
   "source": [
    "import os\n",
    "import sys\n",
    "import pandas as pd\n",
    "import numpy as np\n",
    "\n",
    "home_path = os.path.expanduser(\"~\")\n",
    "ringer_path = os.path.join(home_path, \"workspace\", \"ringer\")\n",
    "sys.path.append(ringer_path)\n",
    "from ringer.generators import RingGeneratorPerLayer\n",
    "from ringer.constants import RINGS_PER_LAYERS_STR, RING_COL_NAME"
   ]
  },
  {
   "cell_type": "code",
   "execution_count": 2,
   "id": "f59bd93e-2c3a-426e-9dae-a6171edd799b",
   "metadata": {},
   "outputs": [],
   "source": [
    "all_rings = np.concatenate([layer_rings for layer_rings in RINGS_PER_LAYERS_STR.values()])\n",
    "columns = [RING_COL_NAME.format(ring_num=i) for i in range(120)]\n",
    "rings_data = pd.DataFrame(\n",
    "    np.random.uniform(-2, 10000, size=(1000, len(columns))),\n",
    "    columns=columns\n",
    " )"
   ]
  },
  {
   "cell_type": "code",
   "execution_count": 3,
   "id": "b0e5a654-b564-41cb-b9c6-945aa34f8506",
   "metadata": {},
   "outputs": [],
   "source": [
    "generator = RingGeneratorPerLayer()\n",
    "generated_rings = generator(rings_data)"
   ]
  },
  {
   "cell_type": "code",
   "execution_count": 4,
   "id": "752b2f33-e9d4-4517-a72a-15c9bfe30b85",
   "metadata": {},
   "outputs": [
    {
     "data": {
      "text/plain": [
       "True"
      ]
     },
     "execution_count": 4,
     "metadata": {},
     "output_type": "execute_result"
    }
   ],
   "source": [
    "len(generated_rings) == len(RINGS_PER_LAYERS_STR)"
   ]
  },
  {
   "cell_type": "code",
   "execution_count": 5,
   "id": "8d172706-f85f-47b1-a3c1-32c294077d57",
   "metadata": {},
   "outputs": [
    {
     "name": "stdout",
     "output_type": "stream",
     "text": [
      "presample has equal_size: True\n",
      "em1 has equal_size: True\n",
      "em2 has equal_size: True\n",
      "em3 has equal_size: True\n",
      "had1 has equal_size: True\n",
      "had2 has equal_size: True\n",
      "had3 has equal_size: True\n"
     ]
    }
   ],
   "source": [
    "for i, (layer, layer_idx) in enumerate(RINGS_PER_LAYERS_STR.items()):\n",
    "    generated_layer = generated_rings[i]\n",
    "    is_equal_size = generated_layer.shape == (len(rings_data), len(layer_idx))\n",
    "    print(f\"{layer} has equal_size: {is_equal_size}\")"
   ]
  }
 ],
 "metadata": {
  "kernelspec": {
   "display_name": "Python 3",
   "language": "python",
   "name": "python3"
  },
  "language_info": {
   "codemirror_mode": {
    "name": "ipython",
    "version": 3
   },
   "file_extension": ".py",
   "mimetype": "text/x-python",
   "name": "python",
   "nbconvert_exporter": "python",
   "pygments_lexer": "ipython3",
   "version": "3.6.9"
  }
 },
 "nbformat": 4,
 "nbformat_minor": 5
}
