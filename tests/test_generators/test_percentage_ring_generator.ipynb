{
 "cells": [
  {
   "cell_type": "code",
   "execution_count": 1,
   "id": "c8a814b1-6e2b-4f4f-bd82-a8d7b3f1f75b",
   "metadata": {},
   "outputs": [],
   "source": [
    "import os\n",
    "import sys\n",
    "import numpy as np\n",
    "\n",
    "home_path = os.path.expanduser(\"~\")\n",
    "ringer_path = os.path.join(home_path, \"workspace\", \"ringer\")\n",
    "sys.path.append(ringer_path)\n",
    "from ringer.generators import PercentageRingGenerator\n",
    "from ringer.constants import RINGS_PER_LAYERS"
   ]
  },
  {
   "cell_type": "code",
   "execution_count": 2,
   "id": "ed519b08-b07a-4a4b-9a3e-1ffc388244be",
   "metadata": {},
   "outputs": [
    {
     "data": {
      "text/plain": [
       "True"
      ]
     },
     "execution_count": 2,
     "metadata": {},
     "output_type": "execute_result"
    }
   ],
   "source": [
    "generator = PercentageRingGenerator()\n",
    "rings_data = np.random.uniform(-2, 10000, size=(1000, 100))\n",
    "generated_rings = generator(rings_data)\n",
    "is_correct = rings_data.shape == generated_rings.shape\n",
    "is_correct"
   ]
  },
  {
   "cell_type": "code",
   "execution_count": 3,
   "id": "82fb7499-7d10-454c-aa72-b7401a1b9ef2",
   "metadata": {},
   "outputs": [
    {
     "data": {
      "text/plain": [
       "True"
      ]
     },
     "execution_count": 3,
     "metadata": {},
     "output_type": "execute_result"
    }
   ],
   "source": [
    "generator = PercentageRingGenerator(ring_percentage=.5)\n",
    "rings_data = np.random.uniform(-2, 10000, size=(1000, 100))\n",
    "generated_rings = generator(rings_data)\n",
    "have_same_n_lines = rings_data.shape[0] == generated_rings.shape[0]\n",
    "have_correct_n_cols = generated_rings.shape[1] == (rings_data.shape[1]/2)\n",
    "is_correct = have_same_n_lines and have_correct_n_cols\n",
    "is_correct"
   ]
  }
 ],
 "metadata": {
  "kernelspec": {
   "display_name": "Python 3",
   "language": "python",
   "name": "python3"
  },
  "language_info": {
   "codemirror_mode": {
    "name": "ipython",
    "version": 3
   },
   "file_extension": ".py",
   "mimetype": "text/x-python",
   "name": "python",
   "nbconvert_exporter": "python",
   "pygments_lexer": "ipython3",
   "version": "3.6.9"
  }
 },
 "nbformat": 4,
 "nbformat_minor": 5
}
