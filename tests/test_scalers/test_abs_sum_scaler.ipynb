{
 "cells": [
  {
   "cell_type": "code",
   "execution_count": 1,
   "id": "cda0fcbd-1613-4ab0-aa97-eb1a6b1938a2",
   "metadata": {},
   "outputs": [],
   "source": [
    "import os\n",
    "import sys\n",
    "import numpy as np\n",
    "\n",
    "home_path = os.path.expanduser(\"~\")\n",
    "ringer_path = os.path.join(home_path, \"workspace\", \"ringer\")\n",
    "sys.path.append(ringer_path)\n",
    "from ringer.scalers import AbsSumScaler"
   ]
  },
  {
   "cell_type": "markdown",
   "id": "20b5c788-6ea9-46b1-a824-b838cb150b03",
   "metadata": {},
   "source": [
    "## First test"
   ]
  },
  {
   "cell_type": "code",
   "execution_count": 3,
   "id": "16d5247d-855c-4ede-8901-99483bc04706",
   "metadata": {},
   "outputs": [
    {
     "data": {
      "text/plain": [
       "True"
      ]
     },
     "execution_count": 3,
     "metadata": {},
     "output_type": "execute_result"
    }
   ],
   "source": [
    "scaler = AbsSumScaler()\n",
    "X = np.arange(10).reshape(2,5)\n",
    "scales = np.array([10, 35]).reshape(-1,1)\n",
    "X_scaled_correct = X/scales\n",
    "X_scaled = scaler.fit_transform(X)\n",
    "is_correct = (X_scaled == X_scaled_correct).all()\n",
    "is_correct"
   ]
  },
  {
   "cell_type": "markdown",
   "id": "8e927839-ff28-4d72-bf3c-ea4fad7b85df",
   "metadata": {},
   "source": [
    "## Second test"
   ]
  },
  {
   "cell_type": "code",
   "execution_count": 4,
   "id": "683b6e2c-5a93-483f-a2e6-9d4de1f788f6",
   "metadata": {},
   "outputs": [
    {
     "data": {
      "text/plain": [
       "True"
      ]
     },
     "execution_count": 4,
     "metadata": {},
     "output_type": "execute_result"
    }
   ],
   "source": [
    "scaler = AbsSumScaler()\n",
    "X = np.arange(10).reshape(2,5)\n",
    "X[X==1] = -9\n",
    "scales = np.array([1, 35]).reshape(-1,1)\n",
    "X_scaled_correct = X/scales\n",
    "X_scaled = scaler.fit_transform(X)\n",
    "is_correct = (X_scaled == X_scaled_correct).all()\n",
    "is_correct"
   ]
  }
 ],
 "metadata": {
  "kernelspec": {
   "display_name": "Python 3",
   "language": "python",
   "name": "python3"
  },
  "language_info": {
   "codemirror_mode": {
    "name": "ipython",
    "version": 3
   },
   "file_extension": ".py",
   "mimetype": "text/x-python",
   "name": "python",
   "nbconvert_exporter": "python",
   "pygments_lexer": "ipython3",
   "version": "3.6.9"
  }
 },
 "nbformat": 4,
 "nbformat_minor": 5
}
