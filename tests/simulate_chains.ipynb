{
 "cells": [
  {
   "cell_type": "markdown",
   "id": "1af00a9f",
   "metadata": {},
   "source": [
    "## Setup"
   ]
  },
  {
   "cell_type": "code",
   "execution_count": 1,
   "id": "e38233d2-be92-4298-9845-71458a5175f2",
   "metadata": {
    "tags": []
   },
   "outputs": [
    {
     "name": "stdout",
     "output_type": "stream",
     "text": [
      "Welcome to JupyROOT 6.16/00\n",
      "Using all sub packages with ROOT dependence\n"
     ]
    }
   ],
   "source": [
    "from kepler.pandas.menu       import ElectronSequence as Chain\n",
    "from kepler.pandas.readers    import load, load_in_loop\n",
    "from kepler.pandas.decorators import RingerDecorator\n",
    "from typing import List\n",
    "from itertools import product\n",
    "import rootplotlib as rpl\n",
    "import mplhep as hep\n",
    "import ROOT\n",
    "ROOT.gStyle.SetOptStat(0);\n",
    "import numpy as np\n",
    "import pandas as pd\n",
    "import glob\n",
    "import os\n",
    "import logging\n",
    "import matplotlib.pyplot as plt\n",
    "plt.style.use(hep.style.ROOT)\n",
    "import warnings\n",
    "warnings.filterwarnings('ignore')\n",
    "from collections import defaultdict\n",
    "from copy import deepcopy\n",
    "from argparse import ArgumentParser\n",
    "import json\n",
    "from Gaugi import GeV\n",
    "\n",
    "from ringer.generators import ringer_generators\n",
    "from ringer.utils import get_logger\n",
    "from ringer.constants import DROP_COLS, L1SEEDS_PER_ENERGY, CRITERIA_CONF_NAMES, ENERGY_CHAINS, TRIG_STEPS\n",
    "from ringer.data import NamedDatasetLoader"
   ]
  },
  {
   "cell_type": "markdown",
   "id": "b812a2b1",
   "metadata": {},
   "source": [
    "## Parameters"
   ]
  },
  {
   "cell_type": "code",
   "execution_count": 2,
   "id": "f6b46bbe-df8b-4924-86c4-ef46d8bf3ec4",
   "metadata": {},
   "outputs": [],
   "source": [
    "HOME_PATH = os.path.expanduser('~')\n",
    "et_bins = [15, 20, 30, 40, 50, 1000000]\n",
    "eta_bins = [0.0, 0.8, 1.37, 1.54, 2.37, 2.50]\n",
    "chain_choices = list(ENERGY_CHAINS.keys())\n",
    "et_choices = list(range(len(et_bins)-1))\n",
    "eta_choices = list(range(len(eta_bins)-1))\n",
    "dataset = \"2017_vloose\"\n",
    "modelpaths = [\n",
    "    \"/home/lucas.nunes/workspace/tunings/TrigL2_20180125_v8\"\n",
    "]\n",
    "dev = True\n",
    "cutbased= True\n",
    "log = False\n",
    "ets = et_choices\n",
    "etas = eta_choices\n",
    "chain_names = chain_choices\n",
    "chain_names = [ENERGY_CHAINS[energy] for energy in chain_names]\n",
    "\n",
    "# Initializing logger\n",
    "simulation_logger = get_logger('simulate_chains', file=log)"
   ]
  },
  {
   "cell_type": "markdown",
   "id": "e4ecc71d",
   "metadata": {},
   "source": [
    "## Building Decorators"
   ]
  },
  {
   "cell_type": "code",
   "execution_count": 3,
   "id": "f5cc6f54-3368-45c7-ba0d-3d8c65f2df77",
   "metadata": {
    "tags": []
   },
   "outputs": [
    {
     "name": "stderr",
     "output_type": "stream",
     "text": [
      "2023-02-27 13:48:17,719 - Building decorators\n",
      "2023-02-27 13:48:17,730 - Building decorator for /home/lucas.nunes/workspace/tunings/TrigL2_20180125_v8/ElectronRingerTightTriggerConfig.conf. Version: v8\n",
      "2023-02-27 13:48:18,213 - Building decorator for /home/lucas.nunes/workspace/tunings/TrigL2_20180125_v8/ElectronRingerMediumTriggerConfig.conf. Version: v8\n",
      "2023-02-27 13:48:18,646 - Building decorator for /home/lucas.nunes/workspace/tunings/TrigL2_20180125_v8/ElectronRingerLooseTriggerConfig.conf. Version: v8\n",
      "2023-02-27 13:48:19,085 - Building decorator for /home/lucas.nunes/workspace/tunings/TrigL2_20180125_v8/ElectronRingerVeryLooseTriggerConfig.conf. Version: v8\n"
     ]
    },
    {
     "name": "stdout",
     "output_type": "stream",
     "text": [
      "2023-02-27 13:48:17,733 | Py.RingerDecorator                      INFO Reading... /home/lucas.nunes/workspace/tunings/TrigL2_20180125_v8/ElectronRingerTightTriggerConfig.conf\n",
      "2023-02-27 13:48:18,216 | Py.RingerDecorator                      INFO Reading... /home/lucas.nunes/workspace/tunings/TrigL2_20180125_v8/ElectronRingerMediumTriggerConfig.conf\n",
      "2023-02-27 13:48:18,649 | Py.RingerDecorator                      INFO Reading... /home/lucas.nunes/workspace/tunings/TrigL2_20180125_v8/ElectronRingerLooseTriggerConfig.conf\n",
      "2023-02-27 13:48:19,088 | Py.RingerDecorator                      INFO Reading... /home/lucas.nunes/workspace/tunings/TrigL2_20180125_v8/ElectronRingerVeryLooseTriggerConfig.conf\n"
     ]
    },
    {
     "name": "stderr",
     "output_type": "stream",
     "text": [
      "2023-02-27 13:48:17.745277: I tensorflow/stream_executor/platform/default/dso_loader.cc:48] Successfully opened dynamic library libcuda.so.1\n",
      "2023-02-27 13:48:17.745347: E tensorflow/stream_executor/cuda/cuda_driver.cc:314] failed call to cuInit: UNKNOWN ERROR (-1)\n",
      "2023-02-27 13:48:17.745381: I tensorflow/stream_executor/cuda/cuda_diagnostics.cc:156] kernel driver does not appear to be running on this host (caloba14): /proc/driver/nvidia/version does not exist\n",
      "2023-02-27 13:48:17.745728: I tensorflow/core/platform/cpu_feature_guard.cc:142] This TensorFlow binary is optimized with oneAPI Deep Neural Network Library (oneDNN)to use the following CPU instructions in performance-critical operations:  AVX2 AVX512F FMA\n",
      "To enable them in other operations, rebuild TensorFlow with the appropriate compiler flags.\n",
      "2023-02-27 13:48:17.755439: I tensorflow/core/platform/profile_utils/cpu_utils.cc:104] CPU Frequency: 2194840000 Hz\n",
      "2023-02-27 13:48:17.755564: I tensorflow/compiler/xla/service/service.cc:168] XLA service 0xa0e43f0 initialized for platform Host (this does not guarantee that XLA will be used). Devices:\n",
      "2023-02-27 13:48:17.755574: I tensorflow/compiler/xla/service/service.cc:176]   StreamExecutor device (0): Host, Default Version\n"
     ]
    }
   ],
   "source": [
    "simulation_logger.info('Building decorators')\n",
    "decorators = list()\n",
    "strategy_cols = defaultdict(list)\n",
    "if cutbased:\n",
    "    strategy_cols[\"noringer\"] = list()\n",
    "for modelpath, criterion in product(modelpaths, CRITERIA_CONF_NAMES.keys()):\n",
    "    conf_name = CRITERIA_CONF_NAMES[criterion]\n",
    "    confpath = os.path.join(modelpath, conf_name)\n",
    "    env = ROOT.TEnv(confpath)\n",
    "    ringer_version = env.GetValue(\"__version__\", '')\n",
    "    if ringer_version == 'should_be_filled':\n",
    "        raise ValueError(f'The model from {modelpath} does not have a version. Please fill it. Version found: {ringer_version}')\n",
    "    ringer_name = f'ringer_{ringer_version}'\n",
    "    strat_criterion = f'{ringer_name}_{criterion}'\n",
    "    simulation_logger.info(f'Building decorator for {confpath}. Version: {ringer_version}')\n",
    "    decorator = RingerDecorator(strat_criterion, confpath, ringer_generators[ringer_version])\n",
    "    decorators.append(decorator)\n",
    "    strategy_cols[ringer_name].append(strat_criterion)\n",
    "    strategy_cols[ringer_name].append(strat_criterion + '_output')"
   ]
  },
  {
   "cell_type": "code",
   "execution_count": 4,
   "id": "6e75fe9a-bc08-477a-83f3-a76b884c8593",
   "metadata": {},
   "outputs": [
    {
     "data": {
      "text/plain": [
       "defaultdict(list,\n",
       "            {'noringer': [],\n",
       "             'ringer_v8': ['ringer_v8_tight',\n",
       "              'ringer_v8_tight_output',\n",
       "              'ringer_v8_medium',\n",
       "              'ringer_v8_medium_output',\n",
       "              'ringer_v8_loose',\n",
       "              'ringer_v8_loose_output',\n",
       "              'ringer_v8_vloose',\n",
       "              'ringer_v8_vloose_output']})"
      ]
     },
     "execution_count": 4,
     "metadata": {},
     "output_type": "execute_result"
    }
   ],
   "source": [
    "strategy_cols"
   ]
  },
  {
   "cell_type": "markdown",
   "id": "323bf0a0",
   "metadata": {},
   "source": [
    "## Building Chains"
   ]
  },
  {
   "cell_type": "code",
   "execution_count": 5,
   "id": "6e87926d-1e45-4cfa-91ad-a588e2c6af03",
   "metadata": {
    "tags": []
   },
   "outputs": [
    {
     "name": "stderr",
     "output_type": "stream",
     "text": [
      "2023-02-27 13:44:44,430 - Building chains\n",
      "2023-02-27 13:44:44,433 - Building chain: HLT_e24_lhtight_nod0_noringer_ivarloose model: noringer_tight\n",
      "2023-02-27 13:44:44,435 - Building chain: HLT_e24_lhtight_nod0_ringer_v8_ivarloose model: ringer_v8_tight\n",
      "2023-02-27 13:44:44,437 - Building chain: HLT_e26_lhtight_nod0_noringer_ivarloose model: noringer_tight\n",
      "2023-02-27 13:44:44,441 - Building chain: HLT_e26_lhtight_nod0_ringer_v8_ivarloose model: ringer_v8_tight\n",
      "2023-02-27 13:44:44,442 - Building chain: HLT_e60_lhmedium_nod0_noringer_L1EM24VHI model: noringer_medium\n",
      "2023-02-27 13:44:44,443 - Building chain: HLT_e60_lhmedium_nod0_ringer_v8_L1EM24VHI model: ringer_v8_medium\n",
      "2023-02-27 13:44:44,444 - Building chain: HLT_e140_lhloose_nod0_noringer model: noringer_loose\n",
      "2023-02-27 13:44:44,445 - Building chain: HLT_e140_lhloose_nod0_ringer_v8 model: ringer_v8_loose\n"
     ]
    },
    {
     "name": "stdout",
     "output_type": "stream",
     "text": [
      "OrderedDict([('L1Seed', 'L1_EM22VHI'),\n",
      "             ('L2Calo', (21000.0, 'trig_L2_cl_lhtight_et22toInf')),\n",
      "             ('L2', 'trig_L2_el_cut_pt20to50'),\n",
      "             ('EFCalo', 24000.0),\n",
      "             ('HLT', (24000.0, 'trig_EF_el_lhtight_ivarloose'))])\n",
      "OrderedDict([('L1Seed', 'L1_EM22VHI'),\n",
      "             ('L2Calo', (21000.0, 'ringer_v8_tight')),\n",
      "             ('L2', 'trig_L2_el_cut_pt20to50'),\n",
      "             ('EFCalo', 24000.0),\n",
      "             ('HLT', (24000.0, 'trig_EF_el_lhtight_ivarloose'))])\n",
      "OrderedDict([('L1Seed', 'L1_EM22VHI'),\n",
      "             ('L2Calo', (23000.0, 'trig_L2_cl_lhtight_et22toInf')),\n",
      "             ('L2', 'trig_L2_el_cut_pt20to50'),\n",
      "             ('EFCalo', 26000.0),\n",
      "             ('HLT', (26000.0, 'trig_EF_el_lhtight_ivarloose'))])\n",
      "OrderedDict([('L1Seed', 'L1_EM22VHI'),\n",
      "             ('L2Calo', (23000.0, 'ringer_v8_tight')),\n",
      "             ('L2', 'trig_L2_el_cut_pt20to50'),\n",
      "             ('EFCalo', 26000.0),\n",
      "             ('HLT', (26000.0, 'trig_EF_el_lhtight_ivarloose'))])\n",
      "OrderedDict([('L1Seed', 'L1_EM24VHI'),\n",
      "             ('L2Calo', (57000.0, 'trig_L2_cl_lhmedium_et22toInf')),\n",
      "             ('L2', 'trig_L2_el_cut_pt50toInf'),\n",
      "             ('EFCalo', 60000.0),\n",
      "             ('HLT', (60000.0, 'trig_EF_el_lhmedium'))])\n",
      "OrderedDict([('L1Seed', 'L1_EM24VHI'),\n",
      "             ('L2Calo', (57000.0, 'ringer_v8_medium')),\n",
      "             ('L2', 'trig_L2_el_cut_pt50toInf'),\n",
      "             ('EFCalo', 60000.0),\n",
      "             ('HLT', (60000.0, 'trig_EF_el_lhmedium'))])\n",
      "OrderedDict([('L1Seed', 'L1_EM24VHI'),\n",
      "             ('L2Calo', (137000.0, 'trig_L2_cl_lhloose_et22toInf')),\n",
      "             ('L2', 'trig_L2_el_cut_pt50toInf'),\n",
      "             ('EFCalo', 140000.0),\n",
      "             ('HLT', (140000.0, 'trig_EF_el_lhloose'))])\n",
      "OrderedDict([('L1Seed', 'L1_EM24VHI'),\n",
      "             ('L2Calo', (137000.0, 'ringer_v8_loose')),\n",
      "             ('L2', 'trig_L2_el_cut_pt50toInf'),\n",
      "             ('EFCalo', 140000.0),\n",
      "             ('HLT', (140000.0, 'trig_EF_el_lhloose'))])\n"
     ]
    }
   ],
   "source": [
    "simulation_logger.info('Building chains')\n",
    "chains = list()\n",
    "step_chain_names = list()\n",
    "for chain_name, strategy in product(chain_names, trigger_strategies):\n",
    "    spliited_chain_name = chain_name.split('_')\n",
    "    criterion = spliited_chain_name[1].replace('lh', '')\n",
    "    step_chain_name = f'HLT_{chain_name.format(strategy=strategy)}'\n",
    "    step_chain_names.append(step_chain_name)\n",
    "    strategy_cols[strategy].append(step_chain_name)\n",
    "    for trigger_step in TRIG_STEPS:\n",
    "        if trigger_step != 'HLT':\n",
    "            lower_chain = step_chain_name.replace('HLT', trigger_step)\n",
    "            step_chain_names.append(lower_chain)\n",
    "            strategy_cols[strategy].append(lower_chain)\n",
    "    energy = int(spliited_chain_name[0][1:])\n",
    "    l1seed = L1SEEDS_PER_ENERGY[energy]\n",
    "    l2calo_column = f'{strategy}_{criterion}'\n",
    "    simulation_logger.info(f'Building chain: {step_chain_name} model: {l2calo_column}')\n",
    "    if strategy == 'noringer':\n",
    "        chain = Chain(step_chain_name, L1Seed=l1seed)\n",
    "    else:\n",
    "        chain = Chain(step_chain_name, L1Seed=l1seed, l2calo_column=l2calo_column)\n",
    "    chains.append(chain)"
   ]
  },
  {
   "cell_type": "code",
   "execution_count": 6,
   "id": "500d7aa7-96eb-4d1d-beba-95b7fadb1e6d",
   "metadata": {},
   "outputs": [
    {
     "data": {
      "text/plain": [
       "defaultdict(list,\n",
       "            {'ringer_v8': ['ringer_v8_tight',\n",
       "              'ringer_v8_tight_output',\n",
       "              'ringer_v8_medium',\n",
       "              'ringer_v8_medium_output',\n",
       "              'ringer_v8_loose',\n",
       "              'ringer_v8_loose_output',\n",
       "              'ringer_v8_vloose',\n",
       "              'ringer_v8_vloose_output',\n",
       "              'HLT_e24_lhtight_nod0_ringer_v8_ivarloose',\n",
       "              'L2Calo_e24_lhtight_nod0_ringer_v8_ivarloose',\n",
       "              'L2_e24_lhtight_nod0_ringer_v8_ivarloose',\n",
       "              'EFCalo_e24_lhtight_nod0_ringer_v8_ivarloose',\n",
       "              'HLT_e26_lhtight_nod0_ringer_v8_ivarloose',\n",
       "              'L2Calo_e26_lhtight_nod0_ringer_v8_ivarloose',\n",
       "              'L2_e26_lhtight_nod0_ringer_v8_ivarloose',\n",
       "              'EFCalo_e26_lhtight_nod0_ringer_v8_ivarloose',\n",
       "              'HLT_e60_lhmedium_nod0_ringer_v8_L1EM24VHI',\n",
       "              'L2Calo_e60_lhmedium_nod0_ringer_v8_L1EM24VHI',\n",
       "              'L2_e60_lhmedium_nod0_ringer_v8_L1EM24VHI',\n",
       "              'EFCalo_e60_lhmedium_nod0_ringer_v8_L1EM24VHI',\n",
       "              'HLT_e140_lhloose_nod0_ringer_v8',\n",
       "              'L2Calo_e140_lhloose_nod0_ringer_v8',\n",
       "              'L2_e140_lhloose_nod0_ringer_v8',\n",
       "              'EFCalo_e140_lhloose_nod0_ringer_v8'],\n",
       "             'noringer': ['HLT_e24_lhtight_nod0_noringer_ivarloose',\n",
       "              'L2Calo_e24_lhtight_nod0_noringer_ivarloose',\n",
       "              'L2_e24_lhtight_nod0_noringer_ivarloose',\n",
       "              'EFCalo_e24_lhtight_nod0_noringer_ivarloose',\n",
       "              'HLT_e26_lhtight_nod0_noringer_ivarloose',\n",
       "              'L2Calo_e26_lhtight_nod0_noringer_ivarloose',\n",
       "              'L2_e26_lhtight_nod0_noringer_ivarloose',\n",
       "              'EFCalo_e26_lhtight_nod0_noringer_ivarloose',\n",
       "              'HLT_e60_lhmedium_nod0_noringer_L1EM24VHI',\n",
       "              'L2Calo_e60_lhmedium_nod0_noringer_L1EM24VHI',\n",
       "              'L2_e60_lhmedium_nod0_noringer_L1EM24VHI',\n",
       "              'EFCalo_e60_lhmedium_nod0_noringer_L1EM24VHI',\n",
       "              'HLT_e140_lhloose_nod0_noringer',\n",
       "              'L2Calo_e140_lhloose_nod0_noringer',\n",
       "              'L2_e140_lhloose_nod0_noringer',\n",
       "              'EFCalo_e140_lhloose_nod0_noringer']})"
      ]
     },
     "execution_count": 6,
     "metadata": {},
     "output_type": "execute_result"
    }
   ],
   "source": [
    "strategy_cols"
   ]
  },
  {
   "cell_type": "markdown",
   "id": "cb701ff2",
   "metadata": {},
   "source": [
    "## Simulating"
   ]
  },
  {
   "cell_type": "code",
   "execution_count": null,
   "id": "ae672e06-b092-4be6-a5b5-f8ec9659b43f",
   "metadata": {
    "collapsed": true,
    "jupyter": {
     "outputs_hidden": true
    },
    "tags": []
   },
   "outputs": [
    {
     "name": "stderr",
     "output_type": "stream",
     "text": [
      "2023-02-27 13:11:39,090 - et 0 eta 0: Loading data_df\n",
      "2023-02-27 13:11:46,036 - et 0 eta 0: Simulating\n"
     ]
    },
    {
     "name": "stdout",
     "output_type": "stream",
     "text": [
      "L1_EM22VHI trig_L2_cl_lhtight_et22toInf trig_L2_el_cut_pt20to50 trig_EF_el_lhtight_ivarloose\n",
      "L1_EM22VHI ringer_v8_tight trig_L2_el_cut_pt20to50 trig_EF_el_lhtight_ivarloose\n",
      "L1_EM22VHI trig_L2_cl_lhtight_et22toInf trig_L2_el_cut_pt20to50 trig_EF_el_lhtight_ivarloose\n",
      "L1_EM22VHI ringer_v8_tight trig_L2_el_cut_pt20to50 trig_EF_el_lhtight_ivarloose\n",
      "L1_EM24VHI trig_L2_cl_lhmedium_et22toInf trig_L2_el_cut_pt50toInf trig_EF_el_lhmedium\n",
      "L1_EM24VHI ringer_v8_medium trig_L2_el_cut_pt50toInf trig_EF_el_lhmedium\n",
      "L1_EM24VHI trig_L2_cl_lhloose_et22toInf trig_L2_el_cut_pt50toInf trig_EF_el_lhloose\n"
     ]
    },
    {
     "name": "stderr",
     "output_type": "stream",
     "text": [
      "2023-02-27 13:11:53,125 - et 0 eta 0: Dumping ringer_v8\n"
     ]
    },
    {
     "name": "stdout",
     "output_type": "stream",
     "text": [
      "L1_EM24VHI ringer_v8_loose trig_L2_el_cut_pt50toInf trig_EF_el_lhloose\n"
     ]
    },
    {
     "name": "stderr",
     "output_type": "stream",
     "text": [
      "2023-02-27 13:11:53,760 - et 0 eta 0: Dumping noringer\n",
      "2023-02-27 13:11:54,052 - et 0 eta 1: Loading data_df\n",
      "2023-02-27 13:11:57,747 - et 0 eta 1: Simulating\n"
     ]
    },
    {
     "name": "stdout",
     "output_type": "stream",
     "text": [
      "L1_EM22VHI trig_L2_cl_lhtight_et22toInf trig_L2_el_cut_pt20to50 trig_EF_el_lhtight_ivarloose\n",
      "L1_EM22VHI ringer_v8_tight trig_L2_el_cut_pt20to50 trig_EF_el_lhtight_ivarloose\n",
      "L1_EM22VHI trig_L2_cl_lhtight_et22toInf trig_L2_el_cut_pt20to50 trig_EF_el_lhtight_ivarloose\n",
      "L1_EM22VHI ringer_v8_tight trig_L2_el_cut_pt20to50 trig_EF_el_lhtight_ivarloose\n",
      "L1_EM24VHI trig_L2_cl_lhmedium_et22toInf trig_L2_el_cut_pt50toInf trig_EF_el_lhmedium\n",
      "L1_EM24VHI ringer_v8_medium trig_L2_el_cut_pt50toInf trig_EF_el_lhmedium\n",
      "L1_EM24VHI trig_L2_cl_lhloose_et22toInf trig_L2_el_cut_pt50toInf trig_EF_el_lhloose\n",
      "L1_EM24VHI ringer_v8_loose trig_L2_el_cut_pt50toInf trig_EF_el_lhloose\n"
     ]
    },
    {
     "name": "stderr",
     "output_type": "stream",
     "text": [
      "2023-02-27 13:12:01,959 - et 0 eta 1: Dumping ringer_v8\n",
      "2023-02-27 13:12:02,681 - et 0 eta 1: Dumping noringer\n",
      "2023-02-27 13:12:02,863 - et 0 eta 2: Loading data_df\n",
      "2023-02-27 13:12:04,101 - et 0 eta 2: Simulating\n",
      "2023-02-27 13:12:05,527 - et 0 eta 2: Dumping ringer_v8\n"
     ]
    },
    {
     "name": "stdout",
     "output_type": "stream",
     "text": [
      "L1_EM22VHI trig_L2_cl_lhtight_et22toInf trig_L2_el_cut_pt20to50 trig_EF_el_lhtight_ivarloose\n",
      "L1_EM22VHI ringer_v8_tight trig_L2_el_cut_pt20to50 trig_EF_el_lhtight_ivarloose\n",
      "L1_EM22VHI trig_L2_cl_lhtight_et22toInf trig_L2_el_cut_pt20to50 trig_EF_el_lhtight_ivarloose\n",
      "L1_EM22VHI ringer_v8_tight trig_L2_el_cut_pt20to50 trig_EF_el_lhtight_ivarloose\n",
      "L1_EM24VHI trig_L2_cl_lhmedium_et22toInf trig_L2_el_cut_pt50toInf trig_EF_el_lhmedium\n",
      "L1_EM24VHI ringer_v8_medium trig_L2_el_cut_pt50toInf trig_EF_el_lhmedium\n",
      "L1_EM24VHI trig_L2_cl_lhloose_et22toInf trig_L2_el_cut_pt50toInf trig_EF_el_lhloose\n",
      "L1_EM24VHI ringer_v8_loose trig_L2_el_cut_pt50toInf trig_EF_el_lhloose\n"
     ]
    },
    {
     "name": "stderr",
     "output_type": "stream",
     "text": [
      "2023-02-27 13:12:05,723 - et 0 eta 2: Dumping noringer\n",
      "2023-02-27 13:12:05,802 - et 0 eta 3: Loading data_df\n",
      "2023-02-27 13:12:10,512 - et 0 eta 3: Simulating\n"
     ]
    },
    {
     "name": "stdout",
     "output_type": "stream",
     "text": [
      "L1_EM22VHI trig_L2_cl_lhtight_et22toInf trig_L2_el_cut_pt20to50 trig_EF_el_lhtight_ivarloose\n",
      "L1_EM22VHI ringer_v8_tight trig_L2_el_cut_pt20to50 trig_EF_el_lhtight_ivarloose\n",
      "L1_EM22VHI trig_L2_cl_lhtight_et22toInf trig_L2_el_cut_pt20to50 trig_EF_el_lhtight_ivarloose\n",
      "L1_EM22VHI ringer_v8_tight trig_L2_el_cut_pt20to50 trig_EF_el_lhtight_ivarloose\n"
     ]
    },
    {
     "name": "stderr",
     "output_type": "stream",
     "text": [
      "2023-02-27 13:12:17,076 - et 0 eta 3: Dumping ringer_v8\n"
     ]
    },
    {
     "name": "stdout",
     "output_type": "stream",
     "text": [
      "L1_EM24VHI trig_L2_cl_lhmedium_et22toInf trig_L2_el_cut_pt50toInf trig_EF_el_lhmedium\n",
      "L1_EM24VHI ringer_v8_medium trig_L2_el_cut_pt50toInf trig_EF_el_lhmedium\n",
      "L1_EM24VHI trig_L2_cl_lhloose_et22toInf trig_L2_el_cut_pt50toInf trig_EF_el_lhloose\n",
      "L1_EM24VHI ringer_v8_loose trig_L2_el_cut_pt50toInf trig_EF_el_lhloose\n"
     ]
    },
    {
     "name": "stderr",
     "output_type": "stream",
     "text": [
      "2023-02-27 13:12:17,673 - et 0 eta 3: Dumping noringer\n",
      "2023-02-27 13:12:17,909 - et 0 eta 4: Loading data_df\n",
      "2023-02-27 13:12:18,464 - et 0 eta 4: Simulating\n",
      "2023-02-27 13:12:19,185 - et 0 eta 4: Dumping ringer_v8\n"
     ]
    },
    {
     "name": "stdout",
     "output_type": "stream",
     "text": [
      "L1_EM22VHI trig_L2_cl_lhtight_et22toInf trig_L2_el_cut_pt20to50 trig_EF_el_lhtight_ivarloose\n",
      "L1_EM22VHI ringer_v8_tight trig_L2_el_cut_pt20to50 trig_EF_el_lhtight_ivarloose\n",
      "L1_EM22VHI trig_L2_cl_lhtight_et22toInf trig_L2_el_cut_pt20to50 trig_EF_el_lhtight_ivarloose\n",
      "L1_EM22VHI ringer_v8_tight trig_L2_el_cut_pt20to50 trig_EF_el_lhtight_ivarloose\n",
      "L1_EM24VHI trig_L2_cl_lhmedium_et22toInf trig_L2_el_cut_pt50toInf trig_EF_el_lhmedium\n",
      "L1_EM24VHI ringer_v8_medium trig_L2_el_cut_pt50toInf trig_EF_el_lhmedium\n",
      "L1_EM24VHI trig_L2_cl_lhloose_et22toInf trig_L2_el_cut_pt50toInf trig_EF_el_lhloose\n",
      "L1_EM24VHI ringer_v8_loose trig_L2_el_cut_pt50toInf trig_EF_el_lhloose\n"
     ]
    },
    {
     "name": "stderr",
     "output_type": "stream",
     "text": [
      "2023-02-27 13:12:19,313 - et 0 eta 4: Dumping noringer\n",
      "2023-02-27 13:12:19,368 - et 1 eta 0: Loading data_df\n",
      "2023-02-27 13:12:34,977 - et 1 eta 0: Simulating\n"
     ]
    },
    {
     "name": "stdout",
     "output_type": "stream",
     "text": [
      "L1_EM22VHI trig_L2_cl_lhtight_et22toInf trig_L2_el_cut_pt20to50 trig_EF_el_lhtight_ivarloose\n",
      "L1_EM22VHI ringer_v8_tight trig_L2_el_cut_pt20to50 trig_EF_el_lhtight_ivarloose\n",
      "L1_EM22VHI trig_L2_cl_lhtight_et22toInf trig_L2_el_cut_pt20to50 trig_EF_el_lhtight_ivarloose\n",
      "L1_EM22VHI ringer_v8_tight trig_L2_el_cut_pt20to50 trig_EF_el_lhtight_ivarloose\n",
      "L1_EM24VHI trig_L2_cl_lhmedium_et22toInf trig_L2_el_cut_pt50toInf trig_EF_el_lhmedium\n",
      "L1_EM24VHI ringer_v8_medium trig_L2_el_cut_pt50toInf trig_EF_el_lhmedium\n",
      "L1_EM24VHI trig_L2_cl_lhloose_et22toInf trig_L2_el_cut_pt50toInf trig_EF_el_lhloose\n",
      "L1_EM24VHI ringer_v8_loose trig_L2_el_cut_pt50toInf trig_EF_el_lhloose\n"
     ]
    },
    {
     "name": "stderr",
     "output_type": "stream",
     "text": [
      "2023-02-27 13:13:06,160 - et 1 eta 0: Dumping ringer_v8\n",
      "2023-02-27 13:13:08,292 - et 1 eta 0: Dumping noringer\n",
      "2023-02-27 13:13:09,113 - et 1 eta 1: Loading data_df\n",
      "2023-02-27 13:13:19,809 - et 1 eta 1: Simulating\n"
     ]
    },
    {
     "name": "stdout",
     "output_type": "stream",
     "text": [
      "L1_EM22VHI trig_L2_cl_lhtight_et22toInf trig_L2_el_cut_pt20to50 trig_EF_el_lhtight_ivarloose\n",
      "L1_EM22VHI ringer_v8_tight trig_L2_el_cut_pt20to50 trig_EF_el_lhtight_ivarloose\n",
      "L1_EM22VHI trig_L2_cl_lhtight_et22toInf trig_L2_el_cut_pt20to50 trig_EF_el_lhtight_ivarloose\n",
      "L1_EM22VHI ringer_v8_tight trig_L2_el_cut_pt20to50 trig_EF_el_lhtight_ivarloose\n",
      "L1_EM24VHI trig_L2_cl_lhmedium_et22toInf trig_L2_el_cut_pt50toInf trig_EF_el_lhmedium\n",
      "L1_EM24VHI ringer_v8_medium trig_L2_el_cut_pt50toInf trig_EF_el_lhmedium\n",
      "L1_EM24VHI trig_L2_cl_lhloose_et22toInf trig_L2_el_cut_pt50toInf trig_EF_el_lhloose\n",
      "L1_EM24VHI ringer_v8_loose trig_L2_el_cut_pt50toInf trig_EF_el_lhloose\n"
     ]
    },
    {
     "name": "stderr",
     "output_type": "stream",
     "text": [
      "2023-02-27 13:13:37,558 - et 1 eta 1: Dumping ringer_v8\n",
      "2023-02-27 13:13:38,915 - et 1 eta 1: Dumping noringer\n",
      "2023-02-27 13:13:39,407 - et 1 eta 2: Loading data_df\n",
      "2023-02-27 13:13:43,455 - et 1 eta 2: Simulating\n"
     ]
    },
    {
     "name": "stdout",
     "output_type": "stream",
     "text": [
      "L1_EM22VHI trig_L2_cl_lhtight_et22toInf trig_L2_el_cut_pt20to50 trig_EF_el_lhtight_ivarloose\n",
      "L1_EM22VHI ringer_v8_tight trig_L2_el_cut_pt20to50 trig_EF_el_lhtight_ivarloose\n",
      "L1_EM22VHI trig_L2_cl_lhtight_et22toInf trig_L2_el_cut_pt20to50 trig_EF_el_lhtight_ivarloose\n",
      "L1_EM22VHI ringer_v8_tight trig_L2_el_cut_pt20to50 trig_EF_el_lhtight_ivarloose\n"
     ]
    },
    {
     "name": "stderr",
     "output_type": "stream",
     "text": [
      "2023-02-27 13:13:48,513 - et 1 eta 2: Dumping ringer_v8\n"
     ]
    },
    {
     "name": "stdout",
     "output_type": "stream",
     "text": [
      "L1_EM24VHI trig_L2_cl_lhmedium_et22toInf trig_L2_el_cut_pt50toInf trig_EF_el_lhmedium\n",
      "L1_EM24VHI ringer_v8_medium trig_L2_el_cut_pt50toInf trig_EF_el_lhmedium\n",
      "L1_EM24VHI trig_L2_cl_lhloose_et22toInf trig_L2_el_cut_pt50toInf trig_EF_el_lhloose\n",
      "L1_EM24VHI ringer_v8_loose trig_L2_el_cut_pt50toInf trig_EF_el_lhloose\n"
     ]
    },
    {
     "name": "stderr",
     "output_type": "stream",
     "text": [
      "2023-02-27 13:13:49,103 - et 1 eta 2: Dumping noringer\n",
      "2023-02-27 13:13:49,311 - et 1 eta 3: Loading data_df\n",
      "2023-02-27 13:14:03,287 - et 1 eta 3: Simulating\n"
     ]
    },
    {
     "name": "stdout",
     "output_type": "stream",
     "text": [
      "L1_EM22VHI trig_L2_cl_lhtight_et22toInf trig_L2_el_cut_pt20to50 trig_EF_el_lhtight_ivarloose\n",
      "L1_EM22VHI ringer_v8_tight trig_L2_el_cut_pt20to50 trig_EF_el_lhtight_ivarloose\n",
      "L1_EM22VHI trig_L2_cl_lhtight_et22toInf trig_L2_el_cut_pt20to50 trig_EF_el_lhtight_ivarloose\n",
      "L1_EM22VHI ringer_v8_tight trig_L2_el_cut_pt20to50 trig_EF_el_lhtight_ivarloose\n",
      "L1_EM24VHI trig_L2_cl_lhmedium_et22toInf trig_L2_el_cut_pt50toInf trig_EF_el_lhmedium\n",
      "L1_EM24VHI ringer_v8_medium trig_L2_el_cut_pt50toInf trig_EF_el_lhmedium\n",
      "L1_EM24VHI trig_L2_cl_lhloose_et22toInf trig_L2_el_cut_pt50toInf trig_EF_el_lhloose\n",
      "L1_EM24VHI ringer_v8_loose trig_L2_el_cut_pt50toInf trig_EF_el_lhloose\n"
     ]
    },
    {
     "name": "stderr",
     "output_type": "stream",
     "text": [
      "2023-02-27 13:14:26,228 - et 1 eta 3: Dumping ringer_v8\n",
      "2023-02-27 13:14:27,991 - et 1 eta 3: Dumping noringer\n",
      "2023-02-27 13:14:28,598 - et 1 eta 4: Loading data_df\n",
      "2023-02-27 13:14:30,049 - et 1 eta 4: Simulating\n",
      "2023-02-27 13:14:31,977 - et 1 eta 4: Dumping ringer_v8\n"
     ]
    },
    {
     "name": "stdout",
     "output_type": "stream",
     "text": [
      "L1_EM22VHI trig_L2_cl_lhtight_et22toInf trig_L2_el_cut_pt20to50 trig_EF_el_lhtight_ivarloose\n",
      "L1_EM22VHI ringer_v8_tight trig_L2_el_cut_pt20to50 trig_EF_el_lhtight_ivarloose\n",
      "L1_EM22VHI trig_L2_cl_lhtight_et22toInf trig_L2_el_cut_pt20to50 trig_EF_el_lhtight_ivarloose\n",
      "L1_EM22VHI ringer_v8_tight trig_L2_el_cut_pt20to50 trig_EF_el_lhtight_ivarloose\n",
      "L1_EM24VHI trig_L2_cl_lhmedium_et22toInf trig_L2_el_cut_pt50toInf trig_EF_el_lhmedium\n",
      "L1_EM24VHI ringer_v8_medium trig_L2_el_cut_pt50toInf trig_EF_el_lhmedium\n",
      "L1_EM24VHI trig_L2_cl_lhloose_et22toInf trig_L2_el_cut_pt50toInf trig_EF_el_lhloose\n",
      "L1_EM24VHI ringer_v8_loose trig_L2_el_cut_pt50toInf trig_EF_el_lhloose\n"
     ]
    },
    {
     "name": "stderr",
     "output_type": "stream",
     "text": [
      "2023-02-27 13:14:32,304 - et 1 eta 4: Dumping noringer\n",
      "2023-02-27 13:14:32,427 - et 2 eta 0: Loading data_df\n",
      "2023-02-27 13:15:07,915 - et 2 eta 0: Simulating\n"
     ]
    }
   ],
   "source": [
    "dataset_loader = NamedDatasetLoader(dataset)\n",
    "data_df_dtypes = dataset_loader.get_data_df_dtypes()\n",
    "data_cols = data_df_dtypes.index\n",
    "load_cols = [col for col in data_cols if col not in DROP_COLS]\n",
    "last_strat = None\n",
    "ibins = product([4], [4]) if dev else product(ets, etas)\n",
    "last_bin = 0 if dev else len(ets)*len(etas) - 1\n",
    "for i, (et_bin_idx, eta_bin_idx) in enumerate(ibins):\n",
    "    start_msg = f'et {et_bin_idx} eta {eta_bin_idx}: '\n",
    "    simulation_logger.info(start_msg + \"Loading data_df\")\n",
    "    data = dataset_loader.load_data_df(load_cols, et_bin_idx, eta_bin_idx)\n",
    "    simulation_logger.info(start_msg + 'Simulating')\n",
    "    for decorator in decorators:\n",
    "        decorator.apply(data)\n",
    "    for chain in chains:\n",
    "        chain.apply(data)\n",
    "\n",
    "    for strategy in strategy_cols.keys():\n",
    "        # Saves the id for future joining if necessary\n",
    "        selection_cols = ['id', \"region_id\"] + strategy_cols[strategy]\n",
    "        selected_data = data[selection_cols]\n",
    "        simulation_logger.info(start_msg + f'Dumping {strategy}')\n",
    "        dataset_loader.dump_strategy_df(selected_data, strategy, et_bin_idx, eta_bin_idx)\n",
    "simulation_logger.info(\"Finished\")"
   ]
  }
 ],
 "metadata": {
  "kernelspec": {
   "display_name": "Python 3",
   "language": "python",
   "name": "python3"
  },
  "language_info": {
   "codemirror_mode": {
    "name": "ipython",
    "version": 3
   },
   "file_extension": ".py",
   "mimetype": "text/x-python",
   "name": "python",
   "nbconvert_exporter": "python",
   "pygments_lexer": "ipython3",
   "version": "3.6.9"
  }
 },
 "nbformat": 4,
 "nbformat_minor": 5
}
